{
 "cells": [
  {
   "cell_type": "code",
   "execution_count": 1,
   "id": "837c3cc5-cf2f-4362-9823-b8fc88bb2f16",
   "metadata": {},
   "outputs": [],
   "source": [
    "import requests\n",
    "import json\n",
    "from datetime import datetime\n",
    "import pandas as pd"
   ]
  },
  {
   "cell_type": "code",
   "execution_count": 2,
   "id": "a3ad38fd-ffa6-4744-a68c-267347a45ab5",
   "metadata": {},
   "outputs": [
    {
     "name": "stdout",
     "output_type": "stream",
     "text": [
      "https://api.acleddata.com/acled/read.csv?key=DzWZ29-TG!L6AgSmhbPG&email=yu.melo@northeastern.edu&country=Brazil|Mexico|Colombia|Argentina|Chile|Uruguay|Jamaica|Costa%20Rica|India|Indonesia|Japan|Philippines|Thailand|South%20Korea|Taiwan|Israel|Mongolia|United%20States|Canada|Germany|United%20Kingdom|France|Italy|Spain|Portugal|Belgium|Austria|Finland|Norway|Sweden|Switzerland|Ireland|Singapore|Netherlands|Denmark|Iceland|Luxembourg|Albania|Bulgaria|Croatia|Czech%20Republic|Estonia|Greece|Hungary|Kosovo|Latvia|Lithuania|Malta|Poland|Romania|Serbia|Slovakia|Slovenia|Australia&event_type=Protests&limit=0&year=2000|2001|2002|2003|2004|2005|2006|2007|2008|2009|2010|2011|2012|2013|2014|2015|2016|2017|2018|2019|2020|2021|2022|2023&fields=event_id_cnty|event_date|event_type|sub_event_type|country|latitude|longitude|location\n"
     ]
    }
   ],
   "source": [
    "# todo: swap this out (not necessary)\n",
    "api_key = 'DzWZ29-TG!L6AgSmhbPG'\n",
    "email = 'yu.melo@northeastern.edu'\n",
    "\n",
    "\n",
    "# Countries: Brazil, Mexico, Colombia, Argentina, Chile, Uruguay, Jamaica, Costa Rica, India, Indonesia, Japan, Philippines, Thailand, South Korea, Taiwan, Israel, Mongolia, United States, Canada, Germany, United Kingdom, France, Italy, Spain, Portugal, Belgium, Austria, Finland, Norway, Sweden, Switzerland, Ireland, Singapore, Netherlands, Denmark, Iceland, Luxembourg, Albania, Bulgaria, Croatia, Czech Republic, Estonia, Greece, Hungary, Kosovo, Latvia, Lithuania, Malta, Poland, Romania, Serbia, Slovakia, Slovenia, Australia\n",
    "countries = 'Brazil|Mexico|Colombia|Argentina|Chile|Uruguay|Jamaica|Costa%20Rica|India|Indonesia|Japan|Philippines|Thailand|South%20Korea|Taiwan|Israel|Mongolia|United%20States|Canada|Germany|United%20Kingdom|France|Italy|Spain|Portugal|Belgium|Austria|Finland|Norway|Sweden|Switzerland|Ireland|Singapore|Netherlands|Denmark|Iceland|Luxembourg|Albania|Bulgaria|Croatia|Czech%20Republic|Estonia|Greece|Hungary|Kosovo|Latvia|Lithuania|Malta|Poland|Romania|Serbia|Slovakia|Slovenia|Australia'\n",
    "countries_worldbank = ['BRA', 'MEX', 'COL', 'ARG', 'CHL', 'URY', 'JAM', 'CRI', 'IND', 'IDN', 'JPN', 'PHL', 'THA', 'KOR', 'TWN', 'ISR', 'MNG', 'USA', 'CAN', 'DEU', 'GBR', 'FRA', 'ITA', 'ESP', 'PRT', 'BEL', 'AUT', 'FIN', 'NOR', 'SWE', 'CHE', 'IRL', 'SGP', 'NLD', 'DNK', 'ISL', 'LUX', 'ALB', 'BGR', 'HRV', 'CZE', 'EST', 'GRC', 'HUN', 'XKX', 'LVA', 'LTU', 'MLT', 'POL', 'ROU', 'SRB', 'SVK', 'SVN', 'AUS']\n",
    "countrycodes = 'BR;MX;CO;AR;CL;UY;JM;CR;IN;ID;JP;PH;TH;KR;TW;IL;MN;US;CA;DE;GB;FR;IT;ES;PT;BE;AT;FI;NO;SE;CH;IE;SG;NL;DK;IS;LU;AL;BG;HR;CZ;EE;GR;HU;XK;LV;LT;MT;PL;RO;RS;SK;SI;AU'\n",
    "fields = 'event_id_cnty|event_date|event_type|sub_event_type|country|latitude|longitude|location'\n",
    "years = '2000|2001|2002|2003|2004|2005|2006|2007|2008|2009|2010|2011|2012|2013|2014|2015|2016|2017|2018|2019|2020|2021|2022|2023'\n",
    "years_2 = '2000:2023'\n",
    "\n",
    "\n",
    "# url with all countries, number of events per country, and event type\n",
    "url = f'https://api.acleddata.com/acled/read.csv?key={api_key}&email={email}&country={countries}&event_type=Protests&limit=0&year={years}&fields=event_id_cnty|event_date|event_type|sub_event_type|country|latitude|longitude|location'\n",
    "\n",
    "print(url)"
   ]
  },
  {
   "cell_type": "code",
   "execution_count": null,
   "id": "336b2e52",
   "metadata": {},
   "outputs": [],
   "source": []
  },
  {
   "cell_type": "code",
   "execution_count": 3,
   "id": "e402891c",
   "metadata": {},
   "outputs": [],
   "source": [
    "def get_world_bank_data(indicator):\n",
    "    # Most populus  countries per Americas, Europe, Asia, and Africa: India, Indonesia, Japan, Philippines, Thailand, South Korea, Taiwan,\n",
    "    # Brazil, Mexico, Colombia, Argentina, Chile, United States, Germany, United Kingdom, France, Italy, Spain, Canada\n",
    "    # countries with world bank api country codes\n",
    "    countries_worldbank = ['BRA', 'MEX', 'COL', 'ARG', 'CHL', 'URY', 'JAM', 'CRI', 'IND', 'IDN', 'JPN', 'PHL', 'THA', 'KOR', 'TWN', 'ISR', 'MNG', 'USA', 'CAN', 'DEU', 'GBR', 'FRA', 'ITA', 'ESP', 'PRT', 'BEL', 'AUT', 'FIN', 'NOR', 'SWE', 'CHE', 'IRL', 'SGP', 'NLD', 'DNK', 'ISL', 'LUX', 'ALB', 'BGR', 'HRV', 'CZE', 'EST', 'GRC', 'HUN', 'XKX', 'LVA', 'LTU', 'MLT', 'POL', 'ROU', 'SRB', 'SVK', 'SVN', 'AUS']\n",
    "    url = f'http://api.worldbank.org/v2/country/%s/indicator/{indicator}?date=2012:2022&format=json'\n",
    "    values = []\n",
    "    \n",
    "    for country in countries_worldbank:\n",
    "        data = requests.get(url %country).json()\n",
    "        \n",
    "        try:\n",
    "            for d in data[1]:\n",
    "                values.append({\n",
    "                    'country': d['country']['value'],\n",
    "                    'year': d['date'],\n",
    "                    'value': d['value']\n",
    "                })\n",
    "        except Exception as e:\n",
    "            print(e)\n",
    "            print(data)\n",
    "            \n",
    "        df = pd.DataFrame(values).sort_values(by=['country', 'year'])\n",
    "    return df"
   ]
  },
  {
   "cell_type": "code",
   "execution_count": 4,
   "id": "d80e5936-26dc-484e-bff0-0099ccc5907d",
   "metadata": {},
   "outputs": [
    {
     "data": {
      "text/html": [
       "<div>\n",
       "<style scoped>\n",
       "    .dataframe tbody tr th:only-of-type {\n",
       "        vertical-align: middle;\n",
       "    }\n",
       "\n",
       "    .dataframe tbody tr th {\n",
       "        vertical-align: top;\n",
       "    }\n",
       "\n",
       "    .dataframe thead th {\n",
       "        text-align: right;\n",
       "    }\n",
       "</style>\n",
       "<table border=\"1\" class=\"dataframe\">\n",
       "  <thead>\n",
       "    <tr style=\"text-align: right;\">\n",
       "      <th></th>\n",
       "      <th>event_id_cnty</th>\n",
       "      <th>event_date</th>\n",
       "      <th>event_type</th>\n",
       "      <th>sub_event_type</th>\n",
       "      <th>country</th>\n",
       "      <th>latitude</th>\n",
       "      <th>longitude</th>\n",
       "      <th>location</th>\n",
       "    </tr>\n",
       "  </thead>\n",
       "  <tbody>\n",
       "    <tr>\n",
       "      <th>0</th>\n",
       "      <td>MEX82607</td>\n",
       "      <td>2023-12-31</td>\n",
       "      <td>Protests</td>\n",
       "      <td>Peaceful protest</td>\n",
       "      <td>Mexico</td>\n",
       "      <td>19.4313</td>\n",
       "      <td>-99.1531</td>\n",
       "      <td>Ciudad de Mexico - Cuauhtemoc</td>\n",
       "    </tr>\n",
       "    <tr>\n",
       "      <th>1</th>\n",
       "      <td>MEX82613</td>\n",
       "      <td>2023-12-31</td>\n",
       "      <td>Protests</td>\n",
       "      <td>Peaceful protest</td>\n",
       "      <td>Mexico</td>\n",
       "      <td>18.9661</td>\n",
       "      <td>-97.9054</td>\n",
       "      <td>Tepeaca</td>\n",
       "    </tr>\n",
       "    <tr>\n",
       "      <th>2</th>\n",
       "      <td>MEX82618</td>\n",
       "      <td>2023-12-31</td>\n",
       "      <td>Protests</td>\n",
       "      <td>Peaceful protest</td>\n",
       "      <td>Mexico</td>\n",
       "      <td>22.7761</td>\n",
       "      <td>-102.5718</td>\n",
       "      <td>Zacatecas</td>\n",
       "    </tr>\n",
       "    <tr>\n",
       "      <th>3</th>\n",
       "      <td>KOR33018</td>\n",
       "      <td>2023-12-31</td>\n",
       "      <td>Protests</td>\n",
       "      <td>Peaceful protest</td>\n",
       "      <td>South Korea</td>\n",
       "      <td>35.1629</td>\n",
       "      <td>129.0513</td>\n",
       "      <td>Busan - Busanjin</td>\n",
       "    </tr>\n",
       "    <tr>\n",
       "      <th>4</th>\n",
       "      <td>THA12674</td>\n",
       "      <td>2023-12-31</td>\n",
       "      <td>Protests</td>\n",
       "      <td>Peaceful protest</td>\n",
       "      <td>Thailand</td>\n",
       "      <td>13.8289</td>\n",
       "      <td>100.5598</td>\n",
       "      <td>Bangkok - Chatuchak</td>\n",
       "    </tr>\n",
       "    <tr>\n",
       "      <th>...</th>\n",
       "      <td>...</td>\n",
       "      <td>...</td>\n",
       "      <td>...</td>\n",
       "      <td>...</td>\n",
       "      <td>...</td>\n",
       "      <td>...</td>\n",
       "      <td>...</td>\n",
       "      <td>...</td>\n",
       "    </tr>\n",
       "    <tr>\n",
       "      <th>466042</th>\n",
       "      <td>THA24</td>\n",
       "      <td>2010-01-18</td>\n",
       "      <td>Protests</td>\n",
       "      <td>Peaceful protest</td>\n",
       "      <td>Thailand</td>\n",
       "      <td>13.1118</td>\n",
       "      <td>99.9446</td>\n",
       "      <td>Phetchaburi</td>\n",
       "    </tr>\n",
       "    <tr>\n",
       "      <th>466043</th>\n",
       "      <td>THA22</td>\n",
       "      <td>2010-01-15</td>\n",
       "      <td>Protests</td>\n",
       "      <td>Peaceful protest</td>\n",
       "      <td>Thailand</td>\n",
       "      <td>13.8289</td>\n",
       "      <td>100.5598</td>\n",
       "      <td>Bangkok - Chatuchak</td>\n",
       "    </tr>\n",
       "    <tr>\n",
       "      <th>466044</th>\n",
       "      <td>THA21</td>\n",
       "      <td>2010-01-14</td>\n",
       "      <td>Protests</td>\n",
       "      <td>Peaceful protest</td>\n",
       "      <td>Thailand</td>\n",
       "      <td>13.7583</td>\n",
       "      <td>100.4961</td>\n",
       "      <td>Bangkok - Phra Nakhon</td>\n",
       "    </tr>\n",
       "    <tr>\n",
       "      <th>466045</th>\n",
       "      <td>THA12</td>\n",
       "      <td>2010-01-11</td>\n",
       "      <td>Protests</td>\n",
       "      <td>Peaceful protest</td>\n",
       "      <td>Thailand</td>\n",
       "      <td>14.7080</td>\n",
       "      <td>101.4161</td>\n",
       "      <td>Pak Chong</td>\n",
       "    </tr>\n",
       "    <tr>\n",
       "      <th>466046</th>\n",
       "      <td>THA7558</td>\n",
       "      <td>2010-01-08</td>\n",
       "      <td>Protests</td>\n",
       "      <td>Peaceful protest</td>\n",
       "      <td>Thailand</td>\n",
       "      <td>13.7210</td>\n",
       "      <td>100.5389</td>\n",
       "      <td>Bangkok - Sathon</td>\n",
       "    </tr>\n",
       "  </tbody>\n",
       "</table>\n",
       "<p>466047 rows × 8 columns</p>\n",
       "</div>"
      ],
      "text/plain": [
       "       event_id_cnty  event_date event_type    sub_event_type      country  \\\n",
       "0           MEX82607  2023-12-31   Protests  Peaceful protest       Mexico   \n",
       "1           MEX82613  2023-12-31   Protests  Peaceful protest       Mexico   \n",
       "2           MEX82618  2023-12-31   Protests  Peaceful protest       Mexico   \n",
       "3           KOR33018  2023-12-31   Protests  Peaceful protest  South Korea   \n",
       "4           THA12674  2023-12-31   Protests  Peaceful protest     Thailand   \n",
       "...              ...         ...        ...               ...          ...   \n",
       "466042         THA24  2010-01-18   Protests  Peaceful protest     Thailand   \n",
       "466043         THA22  2010-01-15   Protests  Peaceful protest     Thailand   \n",
       "466044         THA21  2010-01-14   Protests  Peaceful protest     Thailand   \n",
       "466045         THA12  2010-01-11   Protests  Peaceful protest     Thailand   \n",
       "466046       THA7558  2010-01-08   Protests  Peaceful protest     Thailand   \n",
       "\n",
       "        latitude  longitude                       location  \n",
       "0        19.4313   -99.1531  Ciudad de Mexico - Cuauhtemoc  \n",
       "1        18.9661   -97.9054                        Tepeaca  \n",
       "2        22.7761  -102.5718                      Zacatecas  \n",
       "3        35.1629   129.0513               Busan - Busanjin  \n",
       "4        13.8289   100.5598            Bangkok - Chatuchak  \n",
       "...          ...        ...                            ...  \n",
       "466042   13.1118    99.9446                    Phetchaburi  \n",
       "466043   13.8289   100.5598            Bangkok - Chatuchak  \n",
       "466044   13.7583   100.4961          Bangkok - Phra Nakhon  \n",
       "466045   14.7080   101.4161                      Pak Chong  \n",
       "466046   13.7210   100.5389               Bangkok - Sathon  \n",
       "\n",
       "[466047 rows x 8 columns]"
      ]
     },
     "execution_count": 4,
     "metadata": {},
     "output_type": "execute_result"
    }
   ],
   "source": [
    "data = pd.read_csv(url)\n",
    "data\n"
   ]
  },
  {
   "cell_type": "code",
   "execution_count": 5,
   "id": "da2e6f24",
   "metadata": {},
   "outputs": [
    {
     "name": "stdout",
     "output_type": "stream",
     "text": [
      "datetime64[ns]\n",
      "object\n"
     ]
    },
    {
     "data": {
      "text/html": [
       "<div>\n",
       "<style scoped>\n",
       "    .dataframe tbody tr th:only-of-type {\n",
       "        vertical-align: middle;\n",
       "    }\n",
       "\n",
       "    .dataframe tbody tr th {\n",
       "        vertical-align: top;\n",
       "    }\n",
       "\n",
       "    .dataframe thead th {\n",
       "        text-align: right;\n",
       "    }\n",
       "</style>\n",
       "<table border=\"1\" class=\"dataframe\">\n",
       "  <thead>\n",
       "    <tr style=\"text-align: right;\">\n",
       "      <th></th>\n",
       "      <th>event_date</th>\n",
       "      <th>country</th>\n",
       "      <th>counts</th>\n",
       "    </tr>\n",
       "  </thead>\n",
       "  <tbody>\n",
       "    <tr>\n",
       "      <th>0</th>\n",
       "      <td>2010</td>\n",
       "      <td>Thailand</td>\n",
       "      <td>187</td>\n",
       "    </tr>\n",
       "    <tr>\n",
       "      <th>1</th>\n",
       "      <td>2011</td>\n",
       "      <td>Thailand</td>\n",
       "      <td>96</td>\n",
       "    </tr>\n",
       "    <tr>\n",
       "      <th>2</th>\n",
       "      <td>2012</td>\n",
       "      <td>Thailand</td>\n",
       "      <td>116</td>\n",
       "    </tr>\n",
       "    <tr>\n",
       "      <th>3</th>\n",
       "      <td>2013</td>\n",
       "      <td>Thailand</td>\n",
       "      <td>289</td>\n",
       "    </tr>\n",
       "    <tr>\n",
       "      <th>4</th>\n",
       "      <td>2014</td>\n",
       "      <td>Thailand</td>\n",
       "      <td>394</td>\n",
       "    </tr>\n",
       "    <tr>\n",
       "      <th>...</th>\n",
       "      <td>...</td>\n",
       "      <td>...</td>\n",
       "      <td>...</td>\n",
       "    </tr>\n",
       "    <tr>\n",
       "      <th>274</th>\n",
       "      <td>2023</td>\n",
       "      <td>Taiwan</td>\n",
       "      <td>1248</td>\n",
       "    </tr>\n",
       "    <tr>\n",
       "      <th>275</th>\n",
       "      <td>2023</td>\n",
       "      <td>Thailand</td>\n",
       "      <td>322</td>\n",
       "    </tr>\n",
       "    <tr>\n",
       "      <th>276</th>\n",
       "      <td>2023</td>\n",
       "      <td>United Kingdom</td>\n",
       "      <td>1102</td>\n",
       "    </tr>\n",
       "    <tr>\n",
       "      <th>277</th>\n",
       "      <td>2023</td>\n",
       "      <td>United States</td>\n",
       "      <td>11550</td>\n",
       "    </tr>\n",
       "    <tr>\n",
       "      <th>278</th>\n",
       "      <td>2023</td>\n",
       "      <td>Uruguay</td>\n",
       "      <td>96</td>\n",
       "    </tr>\n",
       "  </tbody>\n",
       "</table>\n",
       "<p>279 rows × 3 columns</p>\n",
       "</div>"
      ],
      "text/plain": [
       "    event_date         country  counts\n",
       "0         2010        Thailand     187\n",
       "1         2011        Thailand      96\n",
       "2         2012        Thailand     116\n",
       "3         2013        Thailand     289\n",
       "4         2014        Thailand     394\n",
       "..         ...             ...     ...\n",
       "274       2023          Taiwan    1248\n",
       "275       2023        Thailand     322\n",
       "276       2023  United Kingdom    1102\n",
       "277       2023   United States   11550\n",
       "278       2023         Uruguay      96\n",
       "\n",
       "[279 rows x 3 columns]"
      ]
     },
     "execution_count": 5,
     "metadata": {},
     "output_type": "execute_result"
    }
   ],
   "source": [
    "# turns the event_date column into a datetime object\n",
    "data['event_date'] = pd.to_datetime(data['event_date'])\n",
    "print(data['event_date'].dtype)\n",
    "\n",
    "# makes a dataframe with the number of events per country per year\n",
    "grouped_data = data.groupby([data['event_date'].dt.year, 'country']).size().reset_index(name='counts')\n",
    "\n",
    "# turns the year column into a string\n",
    "grouped_data['event_date'] = grouped_data['event_date'].astype(str)\n",
    "print(grouped_data['event_date'].dtype)\n",
    "grouped_data"
   ]
  },
  {
   "cell_type": "code",
   "execution_count": 6,
   "id": "affc304b",
   "metadata": {},
   "outputs": [
    {
     "name": "stdout",
     "output_type": "stream",
     "text": [
      "'NoneType' object is not iterable\n",
      "[{'page': 0, 'pages': 0, 'per_page': 0, 'total': 0, 'sourceid': None, 'lastupdated': None}, None]\n"
     ]
    },
    {
     "data": {
      "text/html": [
       "<div>\n",
       "<style scoped>\n",
       "    .dataframe tbody tr th:only-of-type {\n",
       "        vertical-align: middle;\n",
       "    }\n",
       "\n",
       "    .dataframe tbody tr th {\n",
       "        vertical-align: top;\n",
       "    }\n",
       "\n",
       "    .dataframe thead th {\n",
       "        text-align: right;\n",
       "    }\n",
       "</style>\n",
       "<table border=\"1\" class=\"dataframe\">\n",
       "  <thead>\n",
       "    <tr style=\"text-align: right;\">\n",
       "      <th></th>\n",
       "      <th>country</th>\n",
       "      <th>event_date</th>\n",
       "      <th>population</th>\n",
       "    </tr>\n",
       "  </thead>\n",
       "  <tbody>\n",
       "    <tr>\n",
       "      <th>406</th>\n",
       "      <td>Albania</td>\n",
       "      <td>2012</td>\n",
       "      <td>2900401</td>\n",
       "    </tr>\n",
       "    <tr>\n",
       "      <th>405</th>\n",
       "      <td>Albania</td>\n",
       "      <td>2013</td>\n",
       "      <td>2895092</td>\n",
       "    </tr>\n",
       "    <tr>\n",
       "      <th>404</th>\n",
       "      <td>Albania</td>\n",
       "      <td>2014</td>\n",
       "      <td>2889104</td>\n",
       "    </tr>\n",
       "    <tr>\n",
       "      <th>403</th>\n",
       "      <td>Albania</td>\n",
       "      <td>2015</td>\n",
       "      <td>2880703</td>\n",
       "    </tr>\n",
       "    <tr>\n",
       "      <th>402</th>\n",
       "      <td>Albania</td>\n",
       "      <td>2016</td>\n",
       "      <td>2876101</td>\n",
       "    </tr>\n",
       "    <tr>\n",
       "      <th>...</th>\n",
       "      <td>...</td>\n",
       "      <td>...</td>\n",
       "      <td>...</td>\n",
       "    </tr>\n",
       "    <tr>\n",
       "      <th>59</th>\n",
       "      <td>Uruguay</td>\n",
       "      <td>2018</td>\n",
       "      <td>3427042</td>\n",
       "    </tr>\n",
       "    <tr>\n",
       "      <th>58</th>\n",
       "      <td>Uruguay</td>\n",
       "      <td>2019</td>\n",
       "      <td>3428409</td>\n",
       "    </tr>\n",
       "    <tr>\n",
       "      <th>57</th>\n",
       "      <td>Uruguay</td>\n",
       "      <td>2020</td>\n",
       "      <td>3429086</td>\n",
       "    </tr>\n",
       "    <tr>\n",
       "      <th>56</th>\n",
       "      <td>Uruguay</td>\n",
       "      <td>2021</td>\n",
       "      <td>3426260</td>\n",
       "    </tr>\n",
       "    <tr>\n",
       "      <th>55</th>\n",
       "      <td>Uruguay</td>\n",
       "      <td>2022</td>\n",
       "      <td>3422794</td>\n",
       "    </tr>\n",
       "  </tbody>\n",
       "</table>\n",
       "<p>583 rows × 3 columns</p>\n",
       "</div>"
      ],
      "text/plain": [
       "     country event_date  population\n",
       "406  Albania       2012     2900401\n",
       "405  Albania       2013     2895092\n",
       "404  Albania       2014     2889104\n",
       "403  Albania       2015     2880703\n",
       "402  Albania       2016     2876101\n",
       "..       ...        ...         ...\n",
       "59   Uruguay       2018     3427042\n",
       "58   Uruguay       2019     3428409\n",
       "57   Uruguay       2020     3429086\n",
       "56   Uruguay       2021     3426260\n",
       "55   Uruguay       2022     3422794\n",
       "\n",
       "[583 rows x 3 columns]"
      ]
     },
     "execution_count": 6,
     "metadata": {},
     "output_type": "execute_result"
    }
   ],
   "source": [
    "pop_df = get_world_bank_data('SP.POP.TOTL')\n",
    "pop_df = pop_df.rename(columns={'value': 'population', 'year': 'event_date'})\n",
    "pop_df\n"
   ]
  },
  {
   "cell_type": "code",
   "execution_count": 7,
   "id": "25916f2a",
   "metadata": {},
   "outputs": [
    {
     "data": {
      "text/html": [
       "<div>\n",
       "<style scoped>\n",
       "    .dataframe tbody tr th:only-of-type {\n",
       "        vertical-align: middle;\n",
       "    }\n",
       "\n",
       "    .dataframe tbody tr th {\n",
       "        vertical-align: top;\n",
       "    }\n",
       "\n",
       "    .dataframe thead th {\n",
       "        text-align: right;\n",
       "    }\n",
       "</style>\n",
       "<table border=\"1\" class=\"dataframe\">\n",
       "  <thead>\n",
       "    <tr style=\"text-align: right;\">\n",
       "      <th></th>\n",
       "      <th>event_date</th>\n",
       "      <th>country</th>\n",
       "      <th>counts</th>\n",
       "      <th>population</th>\n",
       "    </tr>\n",
       "  </thead>\n",
       "  <tbody>\n",
       "    <tr>\n",
       "      <th>15</th>\n",
       "      <td>2018</td>\n",
       "      <td>Albania</td>\n",
       "      <td>209</td>\n",
       "      <td>2866376</td>\n",
       "    </tr>\n",
       "    <tr>\n",
       "      <th>37</th>\n",
       "      <td>2019</td>\n",
       "      <td>Albania</td>\n",
       "      <td>242</td>\n",
       "      <td>2854191</td>\n",
       "    </tr>\n",
       "    <tr>\n",
       "      <th>59</th>\n",
       "      <td>2020</td>\n",
       "      <td>Albania</td>\n",
       "      <td>205</td>\n",
       "      <td>2837849</td>\n",
       "    </tr>\n",
       "    <tr>\n",
       "      <th>107</th>\n",
       "      <td>2021</td>\n",
       "      <td>Albania</td>\n",
       "      <td>146</td>\n",
       "      <td>2811666</td>\n",
       "    </tr>\n",
       "    <tr>\n",
       "      <th>157</th>\n",
       "      <td>2022</td>\n",
       "      <td>Albania</td>\n",
       "      <td>147</td>\n",
       "      <td>2777689</td>\n",
       "    </tr>\n",
       "    <tr>\n",
       "      <th>...</th>\n",
       "      <td>...</td>\n",
       "      <td>...</td>\n",
       "      <td>...</td>\n",
       "      <td>...</td>\n",
       "    </tr>\n",
       "    <tr>\n",
       "      <th>36</th>\n",
       "      <td>2018</td>\n",
       "      <td>Uruguay</td>\n",
       "      <td>42</td>\n",
       "      <td>3427042</td>\n",
       "    </tr>\n",
       "    <tr>\n",
       "      <th>58</th>\n",
       "      <td>2019</td>\n",
       "      <td>Uruguay</td>\n",
       "      <td>45</td>\n",
       "      <td>3428409</td>\n",
       "    </tr>\n",
       "    <tr>\n",
       "      <th>106</th>\n",
       "      <td>2020</td>\n",
       "      <td>Uruguay</td>\n",
       "      <td>55</td>\n",
       "      <td>3429086</td>\n",
       "    </tr>\n",
       "    <tr>\n",
       "      <th>156</th>\n",
       "      <td>2021</td>\n",
       "      <td>Uruguay</td>\n",
       "      <td>55</td>\n",
       "      <td>3426260</td>\n",
       "    </tr>\n",
       "    <tr>\n",
       "      <th>206</th>\n",
       "      <td>2022</td>\n",
       "      <td>Uruguay</td>\n",
       "      <td>108</td>\n",
       "      <td>3422794</td>\n",
       "    </tr>\n",
       "  </tbody>\n",
       "</table>\n",
       "<p>207 rows × 4 columns</p>\n",
       "</div>"
      ],
      "text/plain": [
       "    event_date  country  counts  population\n",
       "15        2018  Albania     209     2866376\n",
       "37        2019  Albania     242     2854191\n",
       "59        2020  Albania     205     2837849\n",
       "107       2021  Albania     146     2811666\n",
       "157       2022  Albania     147     2777689\n",
       "..         ...      ...     ...         ...\n",
       "36        2018  Uruguay      42     3427042\n",
       "58        2019  Uruguay      45     3428409\n",
       "106       2020  Uruguay      55     3429086\n",
       "156       2021  Uruguay      55     3426260\n",
       "206       2022  Uruguay     108     3422794\n",
       "\n",
       "[207 rows x 4 columns]"
      ]
     },
     "execution_count": 7,
     "metadata": {},
     "output_type": "execute_result"
    }
   ],
   "source": [
    "# combines the population data with the event data into one dataframe on country and year. There should be one entry for each country per year.\n",
    "combined_data = pd.merge(grouped_data, pop_df, on=['country', 'event_date'])\n",
    "\n",
    "# sort the data by country first, then year\n",
    "combined_data = combined_data.sort_values(by=['country', 'event_date'])\n",
    "combined_data"
   ]
  },
  {
   "cell_type": "code",
   "execution_count": 8,
   "id": "79bd5d5b",
   "metadata": {},
   "outputs": [
    {
     "data": {
      "text/html": [
       "<div>\n",
       "<style scoped>\n",
       "    .dataframe tbody tr th:only-of-type {\n",
       "        vertical-align: middle;\n",
       "    }\n",
       "\n",
       "    .dataframe tbody tr th {\n",
       "        vertical-align: top;\n",
       "    }\n",
       "\n",
       "    .dataframe thead th {\n",
       "        text-align: right;\n",
       "    }\n",
       "</style>\n",
       "<table border=\"1\" class=\"dataframe\">\n",
       "  <thead>\n",
       "    <tr style=\"text-align: right;\">\n",
       "      <th></th>\n",
       "      <th>event_date</th>\n",
       "      <th>country</th>\n",
       "      <th>counts</th>\n",
       "      <th>population</th>\n",
       "      <th>events_per_capita</th>\n",
       "    </tr>\n",
       "  </thead>\n",
       "  <tbody>\n",
       "    <tr>\n",
       "      <th>15</th>\n",
       "      <td>2018</td>\n",
       "      <td>Albania</td>\n",
       "      <td>209</td>\n",
       "      <td>2866376</td>\n",
       "      <td>7.291437</td>\n",
       "    </tr>\n",
       "    <tr>\n",
       "      <th>37</th>\n",
       "      <td>2019</td>\n",
       "      <td>Albania</td>\n",
       "      <td>242</td>\n",
       "      <td>2854191</td>\n",
       "      <td>8.478760</td>\n",
       "    </tr>\n",
       "    <tr>\n",
       "      <th>59</th>\n",
       "      <td>2020</td>\n",
       "      <td>Albania</td>\n",
       "      <td>205</td>\n",
       "      <td>2837849</td>\n",
       "      <td>7.223781</td>\n",
       "    </tr>\n",
       "    <tr>\n",
       "      <th>107</th>\n",
       "      <td>2021</td>\n",
       "      <td>Albania</td>\n",
       "      <td>146</td>\n",
       "      <td>2811666</td>\n",
       "      <td>5.192651</td>\n",
       "    </tr>\n",
       "    <tr>\n",
       "      <th>157</th>\n",
       "      <td>2022</td>\n",
       "      <td>Albania</td>\n",
       "      <td>147</td>\n",
       "      <td>2777689</td>\n",
       "      <td>5.292169</td>\n",
       "    </tr>\n",
       "    <tr>\n",
       "      <th>...</th>\n",
       "      <td>...</td>\n",
       "      <td>...</td>\n",
       "      <td>...</td>\n",
       "      <td>...</td>\n",
       "      <td>...</td>\n",
       "    </tr>\n",
       "    <tr>\n",
       "      <th>36</th>\n",
       "      <td>2018</td>\n",
       "      <td>Uruguay</td>\n",
       "      <td>42</td>\n",
       "      <td>3427042</td>\n",
       "      <td>1.225547</td>\n",
       "    </tr>\n",
       "    <tr>\n",
       "      <th>58</th>\n",
       "      <td>2019</td>\n",
       "      <td>Uruguay</td>\n",
       "      <td>45</td>\n",
       "      <td>3428409</td>\n",
       "      <td>1.312562</td>\n",
       "    </tr>\n",
       "    <tr>\n",
       "      <th>106</th>\n",
       "      <td>2020</td>\n",
       "      <td>Uruguay</td>\n",
       "      <td>55</td>\n",
       "      <td>3429086</td>\n",
       "      <td>1.603926</td>\n",
       "    </tr>\n",
       "    <tr>\n",
       "      <th>156</th>\n",
       "      <td>2021</td>\n",
       "      <td>Uruguay</td>\n",
       "      <td>55</td>\n",
       "      <td>3426260</td>\n",
       "      <td>1.605249</td>\n",
       "    </tr>\n",
       "    <tr>\n",
       "      <th>206</th>\n",
       "      <td>2022</td>\n",
       "      <td>Uruguay</td>\n",
       "      <td>108</td>\n",
       "      <td>3422794</td>\n",
       "      <td>3.155317</td>\n",
       "    </tr>\n",
       "  </tbody>\n",
       "</table>\n",
       "<p>207 rows × 5 columns</p>\n",
       "</div>"
      ],
      "text/plain": [
       "    event_date  country  counts  population  events_per_capita\n",
       "15        2018  Albania     209     2866376           7.291437\n",
       "37        2019  Albania     242     2854191           8.478760\n",
       "59        2020  Albania     205     2837849           7.223781\n",
       "107       2021  Albania     146     2811666           5.192651\n",
       "157       2022  Albania     147     2777689           5.292169\n",
       "..         ...      ...     ...         ...                ...\n",
       "36        2018  Uruguay      42     3427042           1.225547\n",
       "58        2019  Uruguay      45     3428409           1.312562\n",
       "106       2020  Uruguay      55     3429086           1.603926\n",
       "156       2021  Uruguay      55     3426260           1.605249\n",
       "206       2022  Uruguay     108     3422794           3.155317\n",
       "\n",
       "[207 rows x 5 columns]"
      ]
     },
     "execution_count": 8,
     "metadata": {},
     "output_type": "execute_result"
    }
   ],
   "source": [
    "# creates a new column with the number of events per 100,000 people\n",
    "combined_data['events_per_capita'] = combined_data['counts'] / combined_data['population'] * 100000\n",
    "combined_data"
   ]
  },
  {
   "cell_type": "code",
   "execution_count": 9,
   "id": "85096e24",
   "metadata": {},
   "outputs": [
    {
     "name": "stdout",
     "output_type": "stream",
     "text": [
      "'NoneType' object is not iterable\n",
      "[{'page': 0, 'pages': 0, 'per_page': 0, 'total': 0, 'sourceid': None, 'lastupdated': None}, None]\n"
     ]
    },
    {
     "data": {
      "text/html": [
       "<div>\n",
       "<style scoped>\n",
       "    .dataframe tbody tr th:only-of-type {\n",
       "        vertical-align: middle;\n",
       "    }\n",
       "\n",
       "    .dataframe tbody tr th {\n",
       "        vertical-align: top;\n",
       "    }\n",
       "\n",
       "    .dataframe thead th {\n",
       "        text-align: right;\n",
       "    }\n",
       "</style>\n",
       "<table border=\"1\" class=\"dataframe\">\n",
       "  <thead>\n",
       "    <tr style=\"text-align: right;\">\n",
       "      <th></th>\n",
       "      <th>country</th>\n",
       "      <th>event_date</th>\n",
       "      <th>gdp_per_capita</th>\n",
       "    </tr>\n",
       "  </thead>\n",
       "  <tbody>\n",
       "    <tr>\n",
       "      <th>406</th>\n",
       "      <td>Albania</td>\n",
       "      <td>2012</td>\n",
       "      <td>4247.631343</td>\n",
       "    </tr>\n",
       "    <tr>\n",
       "      <th>405</th>\n",
       "      <td>Albania</td>\n",
       "      <td>2013</td>\n",
       "      <td>4413.063383</td>\n",
       "    </tr>\n",
       "    <tr>\n",
       "      <th>404</th>\n",
       "      <td>Albania</td>\n",
       "      <td>2014</td>\n",
       "      <td>4578.633208</td>\n",
       "    </tr>\n",
       "    <tr>\n",
       "      <th>403</th>\n",
       "      <td>Albania</td>\n",
       "      <td>2015</td>\n",
       "      <td>3952.803574</td>\n",
       "    </tr>\n",
       "    <tr>\n",
       "      <th>402</th>\n",
       "      <td>Albania</td>\n",
       "      <td>2016</td>\n",
       "      <td>4124.055390</td>\n",
       "    </tr>\n",
       "    <tr>\n",
       "      <th>...</th>\n",
       "      <td>...</td>\n",
       "      <td>...</td>\n",
       "      <td>...</td>\n",
       "    </tr>\n",
       "    <tr>\n",
       "      <th>59</th>\n",
       "      <td>Uruguay</td>\n",
       "      <td>2018</td>\n",
       "      <td>19026.049817</td>\n",
       "    </tr>\n",
       "    <tr>\n",
       "      <th>58</th>\n",
       "      <td>Uruguay</td>\n",
       "      <td>2019</td>\n",
       "      <td>18098.361549</td>\n",
       "    </tr>\n",
       "    <tr>\n",
       "      <th>57</th>\n",
       "      <td>Uruguay</td>\n",
       "      <td>2020</td>\n",
       "      <td>15650.499303</td>\n",
       "    </tr>\n",
       "    <tr>\n",
       "      <th>56</th>\n",
       "      <td>Uruguay</td>\n",
       "      <td>2021</td>\n",
       "      <td>17923.995333</td>\n",
       "    </tr>\n",
       "    <tr>\n",
       "      <th>55</th>\n",
       "      <td>Uruguay</td>\n",
       "      <td>2022</td>\n",
       "      <td>20795.042354</td>\n",
       "    </tr>\n",
       "  </tbody>\n",
       "</table>\n",
       "<p>583 rows × 3 columns</p>\n",
       "</div>"
      ],
      "text/plain": [
       "     country event_date  gdp_per_capita\n",
       "406  Albania       2012     4247.631343\n",
       "405  Albania       2013     4413.063383\n",
       "404  Albania       2014     4578.633208\n",
       "403  Albania       2015     3952.803574\n",
       "402  Albania       2016     4124.055390\n",
       "..       ...        ...             ...\n",
       "59   Uruguay       2018    19026.049817\n",
       "58   Uruguay       2019    18098.361549\n",
       "57   Uruguay       2020    15650.499303\n",
       "56   Uruguay       2021    17923.995333\n",
       "55   Uruguay       2022    20795.042354\n",
       "\n",
       "[583 rows x 3 columns]"
      ]
     },
     "execution_count": 9,
     "metadata": {},
     "output_type": "execute_result"
    }
   ],
   "source": [
    "gdp_df = get_world_bank_data('NY.GDP.PCAP.CD')\n",
    "gdp_df = gdp_df.rename(columns={'value': 'gdp_per_capita', 'year': 'event_date'})\n",
    "gdp_df"
   ]
  },
  {
   "cell_type": "code",
   "execution_count": 10,
   "id": "62f76ca7",
   "metadata": {},
   "outputs": [
    {
     "data": {
      "text/html": [
       "<div>\n",
       "<style scoped>\n",
       "    .dataframe tbody tr th:only-of-type {\n",
       "        vertical-align: middle;\n",
       "    }\n",
       "\n",
       "    .dataframe tbody tr th {\n",
       "        vertical-align: top;\n",
       "    }\n",
       "\n",
       "    .dataframe thead th {\n",
       "        text-align: right;\n",
       "    }\n",
       "</style>\n",
       "<table border=\"1\" class=\"dataframe\">\n",
       "  <thead>\n",
       "    <tr style=\"text-align: right;\">\n",
       "      <th></th>\n",
       "      <th>event_date</th>\n",
       "      <th>country</th>\n",
       "      <th>counts</th>\n",
       "      <th>population</th>\n",
       "      <th>events_per_capita</th>\n",
       "      <th>gdp_per_capita</th>\n",
       "    </tr>\n",
       "  </thead>\n",
       "  <tbody>\n",
       "    <tr>\n",
       "      <th>0</th>\n",
       "      <td>2018</td>\n",
       "      <td>Albania</td>\n",
       "      <td>209</td>\n",
       "      <td>2866376</td>\n",
       "      <td>7.291437</td>\n",
       "      <td>5287.660801</td>\n",
       "    </tr>\n",
       "    <tr>\n",
       "      <th>1</th>\n",
       "      <td>2019</td>\n",
       "      <td>Albania</td>\n",
       "      <td>242</td>\n",
       "      <td>2854191</td>\n",
       "      <td>8.478760</td>\n",
       "      <td>5396.214243</td>\n",
       "    </tr>\n",
       "    <tr>\n",
       "      <th>2</th>\n",
       "      <td>2020</td>\n",
       "      <td>Albania</td>\n",
       "      <td>205</td>\n",
       "      <td>2837849</td>\n",
       "      <td>7.223781</td>\n",
       "      <td>5343.037704</td>\n",
       "    </tr>\n",
       "    <tr>\n",
       "      <th>3</th>\n",
       "      <td>2021</td>\n",
       "      <td>Albania</td>\n",
       "      <td>146</td>\n",
       "      <td>2811666</td>\n",
       "      <td>5.192651</td>\n",
       "      <td>6377.203096</td>\n",
       "    </tr>\n",
       "    <tr>\n",
       "      <th>4</th>\n",
       "      <td>2022</td>\n",
       "      <td>Albania</td>\n",
       "      <td>147</td>\n",
       "      <td>2777689</td>\n",
       "      <td>5.292169</td>\n",
       "      <td>6810.114041</td>\n",
       "    </tr>\n",
       "    <tr>\n",
       "      <th>...</th>\n",
       "      <td>...</td>\n",
       "      <td>...</td>\n",
       "      <td>...</td>\n",
       "      <td>...</td>\n",
       "      <td>...</td>\n",
       "      <td>...</td>\n",
       "    </tr>\n",
       "    <tr>\n",
       "      <th>202</th>\n",
       "      <td>2018</td>\n",
       "      <td>Uruguay</td>\n",
       "      <td>42</td>\n",
       "      <td>3427042</td>\n",
       "      <td>1.225547</td>\n",
       "      <td>19026.049817</td>\n",
       "    </tr>\n",
       "    <tr>\n",
       "      <th>203</th>\n",
       "      <td>2019</td>\n",
       "      <td>Uruguay</td>\n",
       "      <td>45</td>\n",
       "      <td>3428409</td>\n",
       "      <td>1.312562</td>\n",
       "      <td>18098.361549</td>\n",
       "    </tr>\n",
       "    <tr>\n",
       "      <th>204</th>\n",
       "      <td>2020</td>\n",
       "      <td>Uruguay</td>\n",
       "      <td>55</td>\n",
       "      <td>3429086</td>\n",
       "      <td>1.603926</td>\n",
       "      <td>15650.499303</td>\n",
       "    </tr>\n",
       "    <tr>\n",
       "      <th>205</th>\n",
       "      <td>2021</td>\n",
       "      <td>Uruguay</td>\n",
       "      <td>55</td>\n",
       "      <td>3426260</td>\n",
       "      <td>1.605249</td>\n",
       "      <td>17923.995333</td>\n",
       "    </tr>\n",
       "    <tr>\n",
       "      <th>206</th>\n",
       "      <td>2022</td>\n",
       "      <td>Uruguay</td>\n",
       "      <td>108</td>\n",
       "      <td>3422794</td>\n",
       "      <td>3.155317</td>\n",
       "      <td>20795.042354</td>\n",
       "    </tr>\n",
       "  </tbody>\n",
       "</table>\n",
       "<p>207 rows × 6 columns</p>\n",
       "</div>"
      ],
      "text/plain": [
       "    event_date  country  counts  population  events_per_capita  gdp_per_capita\n",
       "0         2018  Albania     209     2866376           7.291437     5287.660801\n",
       "1         2019  Albania     242     2854191           8.478760     5396.214243\n",
       "2         2020  Albania     205     2837849           7.223781     5343.037704\n",
       "3         2021  Albania     146     2811666           5.192651     6377.203096\n",
       "4         2022  Albania     147     2777689           5.292169     6810.114041\n",
       "..         ...      ...     ...         ...                ...             ...\n",
       "202       2018  Uruguay      42     3427042           1.225547    19026.049817\n",
       "203       2019  Uruguay      45     3428409           1.312562    18098.361549\n",
       "204       2020  Uruguay      55     3429086           1.603926    15650.499303\n",
       "205       2021  Uruguay      55     3426260           1.605249    17923.995333\n",
       "206       2022  Uruguay     108     3422794           3.155317    20795.042354\n",
       "\n",
       "[207 rows x 6 columns]"
      ]
     },
     "execution_count": 10,
     "metadata": {},
     "output_type": "execute_result"
    }
   ],
   "source": [
    "# merges the gdp data with the combined data\n",
    "combined_data = pd.merge(combined_data, gdp_df, on=['country', 'event_date'])\n",
    "combined_data\n",
    "combined_data.to_csv('combined_present.csv', index=False)\n",
    "combined_data"
   ]
  },
  {
   "cell_type": "code",
   "execution_count": 11,
   "id": "9b44f807",
   "metadata": {},
   "outputs": [
    {
     "data": {
      "application/vnd.plotly.v1+json": {
       "config": {
        "plotlyServerURL": "https://plot.ly"
       },
       "data": [
        {
         "hovertemplate": "country=Albania<br>gdp_per_capita=%{x}<br>events_per_capita=%{y}<extra></extra>",
         "legendgroup": "Albania",
         "marker": {
          "color": "#636efa",
          "symbol": "circle"
         },
         "mode": "markers",
         "name": "Albania",
         "orientation": "v",
         "showlegend": true,
         "type": "scatter",
         "x": [
          5287.66080067575,
          5396.2142432843,
          5343.0377039956,
          6377.20309553753,
          6810.11404104233
         ],
         "xaxis": "x",
         "y": [
          7.291436992215956,
          8.478759830719108,
          7.22378111027049,
          5.192650905192864,
          5.292169137725642
         ],
         "yaxis": "y"
        },
        {
         "hovertemplate": "country=Argentina<br>gdp_per_capita=%{x}<br>events_per_capita=%{y}<extra></extra>",
         "legendgroup": "Argentina",
         "marker": {
          "color": "#EF553B",
          "symbol": "circle"
         },
         "mode": "markers",
         "name": "Argentina",
         "orientation": "v",
         "showlegend": true,
         "type": "scatter",
         "x": [
          11795.1627452798,
          9963.67416171662,
          8500.83793850534,
          10650.8604604345,
          13650.6046294524
         ],
         "xaxis": "x",
         "y": [
          4.3376145664019345,
          2.4922832679316667,
          6.08020453111651,
          6.129833675651509,
          5.340129940999026
         ],
         "yaxis": "y"
        },
        {
         "hovertemplate": "country=Australia<br>gdp_per_capita=%{x}<br>events_per_capita=%{y}<extra></extra>",
         "legendgroup": "Australia",
         "marker": {
          "color": "#00cc96",
          "symbol": "circle"
         },
         "mode": "markers",
         "name": "Australia",
         "orientation": "v",
         "showlegend": true,
         "type": "scatter",
         "x": [
          60697.2454358579,
          65099.8459118981
         ],
         "xaxis": "x",
         "y": [
          2.6513104014060587,
          3.053195588324641
         ],
         "yaxis": "y"
        },
        {
         "hovertemplate": "country=Austria<br>gdp_per_capita=%{x}<br>events_per_capita=%{y}<extra></extra>",
         "legendgroup": "Austria",
         "marker": {
          "color": "#ab63fa",
          "symbol": "circle"
         },
         "mode": "markers",
         "name": "Austria",
         "orientation": "v",
         "showlegend": true,
         "type": "scatter",
         "x": [
          48789.4978498872,
          53517.8904509612,
          52084.6811953372
         ],
         "xaxis": "x",
         "y": [
          3.970005598380776,
          6.275265060161591,
          3.2515466136303286
         ],
         "yaxis": "y"
        },
        {
         "hovertemplate": "country=Belgium<br>gdp_per_capita=%{x}<br>events_per_capita=%{y}<extra></extra>",
         "legendgroup": "Belgium",
         "marker": {
          "color": "#FFA15A",
          "symbol": "circle"
         },
         "mode": "markers",
         "name": "Belgium",
         "orientation": "v",
         "showlegend": true,
         "type": "scatter",
         "x": [
          45609.0034936111,
          51850.3971840229,
          49926.8254295305
         ],
         "xaxis": "x",
         "y": [
          6.7945827762179904,
          7.189590715502372,
          4.475511932673239
         ],
         "yaxis": "y"
        },
        {
         "hovertemplate": "country=Brazil<br>gdp_per_capita=%{x}<br>events_per_capita=%{y}<extra></extra>",
         "legendgroup": "Brazil",
         "marker": {
          "color": "#19d3f3",
          "symbol": "circle"
         },
         "mode": "markers",
         "name": "Brazil",
         "orientation": "v",
         "showlegend": true,
         "type": "scatter",
         "x": [
          9121.02099480377,
          8845.32414932264,
          6923.6999117682,
          7696.78483012849,
          8917.67491057495
         ],
         "xaxis": "x",
         "y": [
          3.1160994417228784,
          1.579919978233557,
          1.1791949263810877,
          1.8943085653126077,
          1.7314288396354975
         ],
         "yaxis": "y"
        },
        {
         "hovertemplate": "country=Bulgaria<br>gdp_per_capita=%{x}<br>events_per_capita=%{y}<extra></extra>",
         "legendgroup": "Bulgaria",
         "marker": {
          "color": "#FF6692",
          "symbol": "circle"
         },
         "mode": "markers",
         "name": "Bulgaria",
         "orientation": "v",
         "showlegend": true,
         "type": "scatter",
         "x": [
          9447.65589681469,
          9874.33632625168,
          10148.3423954435,
          12219.3418706779,
          13974.4492487792
         ],
         "xaxis": "x",
         "y": [
          5.209936972573952,
          5.418763630233318,
          12.590108328291763,
          7.051731941714019,
          9.35794157458117
         ],
         "yaxis": "y"
        },
        {
         "hovertemplate": "country=Canada<br>gdp_per_capita=%{x}<br>events_per_capita=%{y}<extra></extra>",
         "legendgroup": "Canada",
         "marker": {
          "color": "#B6E880",
          "symbol": "circle"
         },
         "mode": "markers",
         "name": "Canada",
         "orientation": "v",
         "showlegend": true,
         "type": "scatter",
         "x": [
          52515.1998350503,
          55522.445687688
         ],
         "xaxis": "x",
         "y": [
          4.423633051607291,
          4.695619321106947
         ],
         "yaxis": "y"
        },
        {
         "hovertemplate": "country=Chile<br>gdp_per_capita=%{x}<br>events_per_capita=%{y}<extra></extra>",
         "legendgroup": "Chile",
         "marker": {
          "color": "#FF97FF",
          "symbol": "circle"
         },
         "mode": "markers",
         "name": "Chile",
         "orientation": "v",
         "showlegend": true,
         "type": "scatter",
         "x": [
          15820.0333571155,
          14632.6903076927,
          13173.7847941723,
          16240.6077759729,
          15355.4797401048
         ],
         "xaxis": "x",
         "y": [
          5.523635867807042,
          8.351066218440257,
          5.4299631897199605,
          4.514398468716039,
          4.728691214066219
         ],
         "yaxis": "y"
        },
        {
         "hovertemplate": "country=Colombia<br>gdp_per_capita=%{x}<br>events_per_capita=%{y}<extra></extra>",
         "legendgroup": "Colombia",
         "marker": {
          "color": "#FECB52",
          "symbol": "circle"
         },
         "mode": "markers",
         "name": "Colombia",
         "orientation": "v",
         "showlegend": true,
         "type": "scatter",
         "x": [
          6782.03792033195,
          6436.50921529527,
          5304.28912886641,
          6182.70709867964,
          6624.16539269075
         ],
         "xaxis": "x",
         "y": [
          0.8239144455357139,
          1.243339813179426,
          1.3469292820109033,
          4.431584545568083,
          2.629447061982313
         ],
         "yaxis": "y"
        },
        {
         "hovertemplate": "country=Costa Rica<br>gdp_per_capita=%{x}<br>events_per_capita=%{y}<extra></extra>",
         "legendgroup": "Costa Rica",
         "marker": {
          "color": "#636efa",
          "symbol": "circle"
         },
         "mode": "markers",
         "name": "Costa Rica",
         "orientation": "v",
         "showlegend": true,
         "type": "scatter",
         "x": [
          12383.1499522763,
          12669.3411549351,
          12179.2566735195,
          12604.0488374731,
          13365.3563992692
         ],
         "xaxis": "x",
         "y": [
          5.93167582340191,
          6.588610318511124,
          11.028468087224446,
          3.7252930127278905,
          3.165516561152665
         ],
         "yaxis": "y"
        },
        {
         "hovertemplate": "country=Croatia<br>gdp_per_capita=%{x}<br>events_per_capita=%{y}<extra></extra>",
         "legendgroup": "Croatia",
         "marker": {
          "color": "#EF553B",
          "symbol": "circle"
         },
         "mode": "markers",
         "name": "Croatia",
         "orientation": "v",
         "showlegend": true,
         "type": "scatter",
         "x": [
          15040.0369182791,
          15120.9029026824,
          14269.9088549332,
          17809.0323901126,
          18570.4039968345
         ],
         "xaxis": "x",
         "y": [
          4.011895760184528,
          5.0673352925389885,
          3.236421851529765,
          4.4599123485434395,
          2.8789293495175845
         ],
         "yaxis": "y"
        },
        {
         "hovertemplate": "country=Denmark<br>gdp_per_capita=%{x}<br>events_per_capita=%{y}<extra></extra>",
         "legendgroup": "Denmark",
         "marker": {
          "color": "#00cc96",
          "symbol": "circle"
         },
         "mode": "markers",
         "name": "Denmark",
         "orientation": "v",
         "showlegend": true,
         "type": "scatter",
         "x": [
          60836.5924121638,
          69268.6517983134,
          67790.0539923276
         ],
         "xaxis": "x",
         "y": [
          9.620324710824358,
          14.137574651260353,
          6.284900467335713
         ],
         "yaxis": "y"
        },
        {
         "hovertemplate": "country=Estonia<br>gdp_per_capita=%{x}<br>events_per_capita=%{y}<extra></extra>",
         "legendgroup": "Estonia",
         "marker": {
          "color": "#ab63fa",
          "symbol": "circle"
         },
         "mode": "markers",
         "name": "Estonia",
         "orientation": "v",
         "showlegend": true,
         "type": "scatter",
         "x": [
          23595.2436836441,
          27943.701219882,
          28247.095992497
         ],
         "xaxis": "x",
         "y": [
          10.605315293767234,
          8.490291014116425,
          5.486195545802318
         ],
         "yaxis": "y"
        },
        {
         "hovertemplate": "country=Finland<br>gdp_per_capita=%{x}<br>events_per_capita=%{y}<extra></extra>",
         "legendgroup": "Finland",
         "marker": {
          "color": "#FFA15A",
          "symbol": "circle"
         },
         "mode": "markers",
         "name": "Finland",
         "orientation": "v",
         "showlegend": true,
         "type": "scatter",
         "x": [
          49169.7193388499,
          53504.6936483441,
          50871.9304508821
         ],
         "xaxis": "x",
         "y": [
          3.9062902666639903,
          4.782515556259798,
          6.209384774156576
         ],
         "yaxis": "y"
        },
        {
         "hovertemplate": "country=France<br>gdp_per_capita=%{x}<br>events_per_capita=%{y}<extra></extra>",
         "legendgroup": "France",
         "marker": {
          "color": "#19d3f3",
          "symbol": "circle"
         },
         "mode": "markers",
         "name": "France",
         "orientation": "v",
         "showlegend": true,
         "type": "scatter",
         "x": [
          39179.7442596057,
          43671.3084099631,
          40886.2532680273
         ],
         "xaxis": "x",
         "y": [
          7.643799590259785,
          12.33097590731545,
          9.446632565318623
         ],
         "yaxis": "y"
        },
        {
         "hovertemplate": "country=Germany<br>gdp_per_capita=%{x}<br>events_per_capita=%{y}<extra></extra>",
         "legendgroup": "Germany",
         "marker": {
          "color": "#FF6692",
          "symbol": "circle"
         },
         "mode": "markers",
         "name": "Germany",
         "orientation": "v",
         "showlegend": true,
         "type": "scatter",
         "x": [
          46749.4762280016,
          51426.7503654421,
          48717.9911402128
         ],
         "xaxis": "x",
         "y": [
          5.161081105078853,
          5.06634459379203,
          5.6922609773970105
         ],
         "yaxis": "y"
        },
        {
         "hovertemplate": "country=Greece<br>gdp_per_capita=%{x}<br>events_per_capita=%{y}<extra></extra>",
         "legendgroup": "Greece",
         "marker": {
          "color": "#B6E880",
          "symbol": "circle"
         },
         "mode": "markers",
         "name": "Greece",
         "orientation": "v",
         "showlegend": true,
         "type": "scatter",
         "x": [
          19756.990456255,
          19143.8876174584,
          17617.2915057014,
          20310.6824798873,
          20867.2690861087
         ],
         "xaxis": "x",
         "y": [
          1.8913838799308518,
          4.635509946200104,
          6.169032038680953,
          5.279487855616793,
          4.162303361136689
         ],
         "yaxis": "y"
        },
        {
         "hovertemplate": "country=Hungary<br>gdp_per_capita=%{x}<br>events_per_capita=%{y}<extra></extra>",
         "legendgroup": "Hungary",
         "marker": {
          "color": "#FF97FF",
          "symbol": "circle"
         },
         "mode": "markers",
         "name": "Hungary",
         "orientation": "v",
         "showlegend": true,
         "type": "scatter",
         "x": [
          16125.6094085407,
          18753.0469453539,
          18390.1849993244
         ],
         "xaxis": "x",
         "y": [
          2.040994450443783,
          1.3182434282732938,
          4.303618523935586
         ],
         "yaxis": "y"
        },
        {
         "hovertemplate": "country=Iceland<br>gdp_per_capita=%{x}<br>events_per_capita=%{y}<extra></extra>",
         "legendgroup": "Iceland",
         "marker": {
          "color": "#FECB52",
          "symbol": "circle"
         },
         "mode": "markers",
         "name": "Iceland",
         "orientation": "v",
         "showlegend": true,
         "type": "scatter",
         "x": [
          58848.41812446,
          68710.2442005473,
          73466.7786674708
         ],
         "xaxis": "x",
         "y": [
          7.913486491132802,
          7.516374959733706,
          7.3297853681777365
         ],
         "yaxis": "y"
        },
        {
         "hovertemplate": "country=India<br>gdp_per_capita=%{x}<br>events_per_capita=%{y}<extra></extra>",
         "legendgroup": "India",
         "marker": {
          "color": "#636efa",
          "symbol": "circle"
         },
         "mode": "markers",
         "name": "India",
         "orientation": "v",
         "showlegend": true,
         "type": "scatter",
         "x": [
          1714.27953740039,
          1957.96981329558,
          1974.3777314935,
          2050.1638002619,
          1913.21973278751,
          2238.12714218765,
          2410.88802070689
         ],
         "xaxis": "x",
         "y": [
          0.7265602844757674,
          0.749596247419723,
          0.9403191317055885,
          1.1980952663958064,
          1.002515687041277,
          1.070786244308768,
          1.0321250979537135
         ],
         "yaxis": "y"
        },
        {
         "hovertemplate": "country=Indonesia<br>gdp_per_capita=%{x}<br>events_per_capita=%{y}<extra></extra>",
         "legendgroup": "Indonesia",
         "marker": {
          "color": "#EF553B",
          "symbol": "circle"
         },
         "mode": "markers",
         "name": "Indonesia",
         "orientation": "v",
         "showlegend": true,
         "type": "scatter",
         "x": [
          3322.58167895444,
          3558.81885175737,
          3839.78507460491,
          3902.661675559,
          4151.22755440796,
          3895.61815200225,
          4334.2159826606,
          4787.99930771921
         ],
         "xaxis": "x",
         "y": [
          0.15592918607242054,
          0.11915210354904394,
          0.08015157661251399,
          0.321267885733011,
          0.44253552334284374,
          0.5554370909192031,
          0.6403578323950935,
          1.113969177478299
         ],
         "yaxis": "y"
        },
        {
         "hovertemplate": "country=Ireland<br>gdp_per_capita=%{x}<br>events_per_capita=%{y}<extra></extra>",
         "legendgroup": "Ireland",
         "marker": {
          "color": "#00cc96",
          "symbol": "circle"
         },
         "mode": "markers",
         "name": "Ireland",
         "orientation": "v",
         "showlegend": true,
         "type": "scatter",
         "x": [
          85973.0884875501,
          102001.798249145,
          103983.29133582
         ],
         "xaxis": "x",
         "y": [
          5.596361522547319,
          4.331271542115457,
          5.441598386634342
         ],
         "yaxis": "y"
        },
        {
         "hovertemplate": "country=Israel<br>gdp_per_capita=%{x}<br>events_per_capita=%{y}<extra></extra>",
         "legendgroup": "Israel",
         "marker": {
          "color": "#ab63fa",
          "symbol": "circle"
         },
         "mode": "markers",
         "name": "Israel",
         "orientation": "v",
         "showlegend": true,
         "type": "scatter",
         "x": [
          37690.4739511859,
          41114.7817082553,
          42406.8454263606,
          44452.2325623093,
          44846.7915954816,
          52129.5159612108,
          54930.9388075096
         ],
         "xaxis": "x",
         "y": [
          1.5211794991809033,
          3.3167686180895872,
          4.39050749763588,
          4.716147559089905,
          13.24999186118436,
          10.606739654694069,
          7.711221553753597
         ],
         "yaxis": "y"
        },
        {
         "hovertemplate": "country=Italy<br>gdp_per_capita=%{x}<br>events_per_capita=%{y}<extra></extra>",
         "legendgroup": "Italy",
         "marker": {
          "color": "#FFA15A",
          "symbol": "circle"
         },
         "mode": "markers",
         "name": "Italy",
         "orientation": "v",
         "showlegend": true,
         "type": "scatter",
         "x": [
          31922.9191626183,
          36449.2583375837,
          34776.423234274
         ],
         "xaxis": "x",
         "y": [
          9.233018316588925,
          12.458320137835322,
          7.794310950421549
         ],
         "yaxis": "y"
        },
        {
         "hovertemplate": "country=Jamaica<br>gdp_per_capita=%{x}<br>events_per_capita=%{y}<extra></extra>",
         "legendgroup": "Jamaica",
         "marker": {
          "color": "#19d3f3",
          "symbol": "circle"
         },
         "mode": "markers",
         "name": "Jamaica",
         "orientation": "v",
         "showlegend": true,
         "type": "scatter",
         "x": [
          5594.49357290917,
          5626.17047314286,
          4897.26475034653,
          5183.5810181201,
          6047.2164567796
         ],
         "xaxis": "x",
         "y": [
          0.6401513602327306,
          0.6752499224351075,
          0.6736547115410525,
          1.9450471143457833,
          3.890531754343337
         ],
         "yaxis": "y"
        },
        {
         "hovertemplate": "country=Japan<br>gdp_per_capita=%{x}<br>events_per_capita=%{y}<extra></extra>",
         "legendgroup": "Japan",
         "marker": {
          "color": "#FF6692",
          "symbol": "circle"
         },
         "mode": "markers",
         "name": "Japan",
         "orientation": "v",
         "showlegend": true,
         "type": "scatter",
         "x": [
          39751.1330982711,
          40415.9567649547,
          40040.7655055923,
          40058.5373276179,
          34017.2718075024
         ],
         "xaxis": "x",
         "y": [
          1.2908974773481796,
          1.0179021266178643,
          1.199895454653456,
          1.129043614206895,
          1.2659341772249826
         ],
         "yaxis": "y"
        },
        {
         "hovertemplate": "country=Kosovo<br>gdp_per_capita=%{x}<br>events_per_capita=%{y}<extra></extra>",
         "legendgroup": "Kosovo",
         "marker": {
          "color": "#B6E880",
          "symbol": "circle"
         },
         "mode": "markers",
         "name": "Kosovo",
         "orientation": "v",
         "showlegend": true,
         "type": "scatter",
         "x": [
          4384.18868045931,
          4416.02925267842,
          4310.9340020057,
          5269.78390114389,
          5340.26879794836
         ],
         "xaxis": "x",
         "y": [
          5.954086757165076,
          6.037303829551261,
          5.195144718297468,
          6.774771869355523,
          7.491550722622497
         ],
         "yaxis": "y"
        },
        {
         "hovertemplate": "country=Latvia<br>gdp_per_capita=%{x}<br>events_per_capita=%{y}<extra></extra>",
         "legendgroup": "Latvia",
         "marker": {
          "color": "#FF97FF",
          "symbol": "circle"
         },
         "mode": "markers",
         "name": "Latvia",
         "orientation": "v",
         "showlegend": true,
         "type": "scatter",
         "x": [
          18096.2027073394,
          20930.3982374189,
          21779.5042572825
         ],
         "xaxis": "x",
         "y": [
          3.57810180646784,
          3.290014805066623,
          2.500820748085941
         ],
         "yaxis": "y"
        },
        {
         "hovertemplate": "country=Lithuania<br>gdp_per_capita=%{x}<br>events_per_capita=%{y}<extra></extra>",
         "legendgroup": "Lithuania",
         "marker": {
          "color": "#FECB52",
          "symbol": "circle"
         },
         "mode": "markers",
         "name": "Lithuania",
         "orientation": "v",
         "showlegend": true,
         "type": "scatter",
         "x": [
          20381.8557827478,
          23849.6156993566,
          25064.808914729
         ],
         "xaxis": "x",
         "y": [
          2.1109992003248794,
          5.284130933623818,
          2.6839579480293922
         ],
         "yaxis": "y"
        },
        {
         "hovertemplate": "country=Luxembourg<br>gdp_per_capita=%{x}<br>events_per_capita=%{y}<extra></extra>",
         "legendgroup": "Luxembourg",
         "marker": {
          "color": "#636efa",
          "symbol": "circle"
         },
         "mode": "markers",
         "name": "Luxembourg",
         "orientation": "v",
         "showlegend": true,
         "type": "scatter",
         "x": [
          116905.370396853,
          133711.794435985,
          125006.021815486
         ],
         "xaxis": "x",
         "y": [
          5.551863125952739,
          4.999500049995,
          5.052801778586226
         ],
         "yaxis": "y"
        },
        {
         "hovertemplate": "country=Malta<br>gdp_per_capita=%{x}<br>events_per_capita=%{y}<extra></extra>",
         "legendgroup": "Malta",
         "marker": {
          "color": "#EF553B",
          "symbol": "circle"
         },
         "mode": "markers",
         "name": "Malta",
         "orientation": "v",
         "showlegend": true,
         "type": "scatter",
         "x": [
          29597.6361628521,
          34881.2912726609,
          34127.5105566356
         ],
         "xaxis": "x",
         "y": [
          7.956036108760954,
          14.46379807766481,
          15.250991785175659
         ],
         "yaxis": "y"
        },
        {
         "hovertemplate": "country=Mexico<br>gdp_per_capita=%{x}<br>events_per_capita=%{y}<extra></extra>",
         "legendgroup": "Mexico",
         "marker": {
          "color": "#00cc96",
          "symbol": "circle"
         },
         "mode": "markers",
         "name": "Mexico",
         "orientation": "v",
         "showlegend": true,
         "type": "scatter",
         "x": [
          10130.3206984553,
          10434.5783651735,
          8894.89065003643,
          10359.1498625832,
          11496.5228716049
         ],
         "xaxis": "x",
         "y": [
          3.4439698639815752,
          3.8533701211327682,
          4.484187413890704,
          4.852210492048081,
          4.720631587409427
         ],
         "yaxis": "y"
        },
        {
         "hovertemplate": "country=Mongolia<br>gdp_per_capita=%{x}<br>events_per_capita=%{y}<extra></extra>",
         "legendgroup": "Mongolia",
         "marker": {
          "color": "#ab63fa",
          "symbol": "circle"
         },
         "mode": "markers",
         "name": "Mongolia",
         "orientation": "v",
         "showlegend": true,
         "type": "scatter",
         "x": [
          4165.02282101895,
          4394.94715044543,
          4041.17414564367,
          4566.14013029182,
          5045.50470031666
         ],
         "xaxis": "x",
         "y": [
          2.0859730637666165,
          2.5986641628743703,
          1.9427289574375406,
          3.763685926980908,
          3.766516025642912
         ],
         "yaxis": "y"
        },
        {
         "hovertemplate": "country=Netherlands<br>gdp_per_capita=%{x}<br>events_per_capita=%{y}<extra></extra>",
         "legendgroup": "Netherlands",
         "marker": {
          "color": "#FFA15A",
          "symbol": "circle"
         },
         "mode": "markers",
         "name": "Netherlands",
         "orientation": "v",
         "showlegend": true,
         "type": "scatter",
         "x": [
          52162.5701150406,
          58727.8705471475,
          57025.01245598
         ],
         "xaxis": "x",
         "y": [
          3.325402058309205,
          3.3251499283296155,
          3.988479283239766
         ],
         "yaxis": "y"
        },
        {
         "hovertemplate": "country=Norway<br>gdp_per_capita=%{x}<br>events_per_capita=%{y}<extra></extra>",
         "legendgroup": "Norway",
         "marker": {
          "color": "#19d3f3",
          "symbol": "circle"
         },
         "mode": "markers",
         "name": "Norway",
         "orientation": "v",
         "showlegend": true,
         "type": "scatter",
         "x": [
          68340.0181033702,
          93072.8925119571,
          108729.18690323
         ],
         "xaxis": "x",
         "y": [
          5.465217330687474,
          5.676439263948879,
          8.83248639806257
         ],
         "yaxis": "y"
        },
        {
         "hovertemplate": "country=Philippines<br>gdp_per_capita=%{x}<br>events_per_capita=%{y}<extra></extra>",
         "legendgroup": "Philippines",
         "marker": {
          "color": "#FF6692",
          "symbol": "circle"
         },
         "mode": "markers",
         "name": "Philippines",
         "orientation": "v",
         "showlegend": true,
         "type": "scatter",
         "x": [
          3038.15203684461,
          3077.43441889625,
          3194.67270132209,
          3413.84904430419,
          3224.42281121767,
          3460.53938169242,
          3498.5098055874
         ],
         "xaxis": "x",
         "y": [
          0.17067894731251504,
          0.3663158057653442,
          0.17039880578622027,
          0.2853757071745917,
          0.269183857807032,
          0.23445664821056714,
          0.2327815047288957
         ],
         "yaxis": "y"
        },
        {
         "hovertemplate": "country=Poland<br>gdp_per_capita=%{x}<br>events_per_capita=%{y}<extra></extra>",
         "legendgroup": "Poland",
         "marker": {
          "color": "#B6E880",
          "symbol": "circle"
         },
         "mode": "markers",
         "name": "Poland",
         "orientation": "v",
         "showlegend": true,
         "type": "scatter",
         "x": [
          15816.8204021382,
          18050.2794441161,
          18688.0044867103
         ],
         "xaxis": "x",
         "y": [
          4.820698766486882,
          4.784470467206985,
          3.128585771414606
         ],
         "yaxis": "y"
        },
        {
         "hovertemplate": "country=Portugal<br>gdp_per_capita=%{x}<br>events_per_capita=%{y}<extra></extra>",
         "legendgroup": "Portugal",
         "marker": {
          "color": "#FF97FF",
          "symbol": "circle"
         },
         "mode": "markers",
         "name": "Portugal",
         "orientation": "v",
         "showlegend": true,
         "type": "scatter",
         "x": [
          22242.406417972,
          24661.1664874576,
          24515.2658507319
         ],
         "xaxis": "x",
         "y": [
          3.486424939261913,
          5.944895260306793,
          3.179725379319143
         ],
         "yaxis": "y"
        },
        {
         "hovertemplate": "country=Romania<br>gdp_per_capita=%{x}<br>events_per_capita=%{y}<extra></extra>",
         "legendgroup": "Romania",
         "marker": {
          "color": "#FECB52",
          "symbol": "circle"
         },
         "mode": "markers",
         "name": "Romania",
         "orientation": "v",
         "showlegend": true,
         "type": "scatter",
         "x": [
          12494.4235789649,
          12957.9991142218,
          13047.4566563993,
          14946.624968678,
          15786.8017421977
         ],
         "xaxis": "x",
         "y": [
          2.8345529956141453,
          2.957931096001744,
          0.9239433695384177,
          2.227793565536013,
          1.0815346388506457
         ],
         "yaxis": "y"
        },
        {
         "hovertemplate": "country=Serbia<br>gdp_per_capita=%{x}<br>events_per_capita=%{y}<extra></extra>",
         "legendgroup": "Serbia",
         "marker": {
          "color": "#636efa",
          "symbol": "circle"
         },
         "mode": "markers",
         "name": "Serbia",
         "orientation": "v",
         "showlegend": true,
         "type": "scatter",
         "x": [
          7252.40366767165,
          7417.20660836868,
          7733.80346893763,
          9232.96160604855,
          9537.68286673128
         ],
         "xaxis": "x",
         "y": [
          2.835618345247704,
          14.4559543341586,
          5.652889945769942,
          5.545535872886368,
          5.701896735949213
         ],
         "yaxis": "y"
        },
        {
         "hovertemplate": "country=Singapore<br>gdp_per_capita=%{x}<br>events_per_capita=%{y}<extra></extra>",
         "legendgroup": "Singapore",
         "marker": {
          "color": "#EF553B",
          "symbol": "circle"
         },
         "mode": "markers",
         "name": "Singapore",
         "orientation": "v",
         "showlegend": true,
         "type": "scatter",
         "x": [
          61273.9916594455,
          77710.0892373091,
          82807.6290622897
         ],
         "xaxis": "x",
         "y": [
          0.035175305809711795,
          0.05500987794041551,
          0.07095945341352225
         ],
         "yaxis": "y"
        },
        {
         "hovertemplate": "country=Slovenia<br>gdp_per_capita=%{x}<br>events_per_capita=%{y}<extra></extra>",
         "legendgroup": "Slovenia",
         "marker": {
          "color": "#00cc96",
          "symbol": "circle"
         },
         "mode": "markers",
         "name": "Slovenia",
         "orientation": "v",
         "showlegend": true,
         "type": "scatter",
         "x": [
          25558.4290544506,
          29331.0647010043,
          28439.3340989687
         ],
         "xaxis": "x",
         "y": [
          6.278482072317649,
          6.546244234680009,
          3.0303231176721814
         ],
         "yaxis": "y"
        },
        {
         "hovertemplate": "country=Spain<br>gdp_per_capita=%{x}<br>events_per_capita=%{y}<extra></extra>",
         "legendgroup": "Spain",
         "marker": {
          "color": "#ab63fa",
          "symbol": "circle"
         },
         "mode": "markers",
         "name": "Spain",
         "orientation": "v",
         "showlegend": true,
         "type": "scatter",
         "x": [
          26984.2962770279,
          30488.8209528797,
          29674.5442864413
         ],
         "xaxis": "x",
         "y": [
          7.068412756035993,
          9.29015340331536,
          7.986882759007533
         ],
         "yaxis": "y"
        },
        {
         "hovertemplate": "country=Sweden<br>gdp_per_capita=%{x}<br>events_per_capita=%{y}<extra></extra>",
         "legendgroup": "Sweden",
         "marker": {
          "color": "#FFA15A",
          "symbol": "circle"
         },
         "mode": "markers",
         "name": "Sweden",
         "orientation": "v",
         "showlegend": true,
         "type": "scatter",
         "x": [
          52837.9039778149,
          61417.6808766469,
          56424.2846986686
         ],
         "xaxis": "x",
         "y": [
          8.73139580054633,
          11.943381077095196,
          14.04604069003535
         ],
         "yaxis": "y"
        },
        {
         "hovertemplate": "country=Switzerland<br>gdp_per_capita=%{x}<br>events_per_capita=%{y}<extra></extra>",
         "legendgroup": "Switzerland",
         "marker": {
          "color": "#19d3f3",
          "symbol": "circle"
         },
         "mode": "markers",
         "name": "Switzerland",
         "orientation": "v",
         "showlegend": true,
         "type": "scatter",
         "x": [
          85897.7843338323,
          93446.4344518943,
          93259.9057183024
         ],
         "xaxis": "x",
         "y": [
          1.9101274610689978,
          2.492950235428706,
          2.119474552631339
         ],
         "yaxis": "y"
        },
        {
         "hovertemplate": "country=Thailand<br>gdp_per_capita=%{x}<br>events_per_capita=%{y}<extra></extra>",
         "legendgroup": "Thailand",
         "marker": {
          "color": "#FF6692",
          "symbol": "circle"
         },
         "mode": "markers",
         "name": "Thailand",
         "orientation": "v",
         "showlegend": true,
         "type": "scatter",
         "x": [
          5748.63272062158,
          6041.13394794203,
          5822.37778295314,
          5708.79409105798,
          5854.4639077194,
          6436.78965986703,
          7124.55881041403,
          7628.57603307351,
          7001.78546023389,
          7060.89770696418,
          6909.9562847948
         ],
         "xaxis": "x",
         "y": [
          0.1677342299711195,
          0.4153575836433161,
          0.5631713683447634,
          0.2546433394968876,
          0.1642895735732403,
          0.22144426173177142,
          0.23197680142006918,
          0.26084116535811114,
          1.1486427044595207,
          1.2080819481230616,
          0.4672439011769386
         ],
         "yaxis": "y"
        },
        {
         "hovertemplate": "country=United Kingdom<br>gdp_per_capita=%{x}<br>events_per_capita=%{y}<extra></extra>",
         "legendgroup": "United Kingdom",
         "marker": {
          "color": "#B6E880",
          "symbol": "circle"
         },
         "mode": "markers",
         "name": "United Kingdom",
         "orientation": "v",
         "showlegend": true,
         "type": "scatter",
         "x": [
          40217.0090116986,
          46869.759058411,
          46125.2557513568
         ],
         "xaxis": "x",
         "y": [
          3.273642819391188,
          2.3647436740197416,
          2.6055900433311865
         ],
         "yaxis": "y"
        },
        {
         "hovertemplate": "country=United States<br>gdp_per_capita=%{x}<br>events_per_capita=%{y}<extra></extra>",
         "legendgroup": "United States",
         "marker": {
          "color": "#FF97FF",
          "symbol": "circle"
         },
         "mode": "markers",
         "name": "United States",
         "orientation": "v",
         "showlegend": true,
         "type": "scatter",
         "x": [
          63528.6343027508,
          70219.472454115,
          76329.5822652029
         ],
         "xaxis": "x",
         "y": [
          6.511086106717163,
          3.959563433540416,
          3.6554019927002557
         ],
         "yaxis": "y"
        },
        {
         "hovertemplate": "country=Uruguay<br>gdp_per_capita=%{x}<br>events_per_capita=%{y}<extra></extra>",
         "legendgroup": "Uruguay",
         "marker": {
          "color": "#FECB52",
          "symbol": "circle"
         },
         "mode": "markers",
         "name": "Uruguay",
         "orientation": "v",
         "showlegend": true,
         "type": "scatter",
         "x": [
          19026.0498173005,
          18098.361548609,
          15650.4993032445,
          17923.9953327961,
          20795.0423535553
         ],
         "xaxis": "x",
         "y": [
          1.2255466959552874,
          1.3125621826334022,
          1.6039259441145541,
          1.6052488719478382,
          3.1553169720409695
         ],
         "yaxis": "y"
        }
       ],
       "layout": {
        "legend": {
         "title": {
          "text": "country"
         },
         "tracegroupgap": 0
        },
        "template": {
         "data": {
          "bar": [
           {
            "error_x": {
             "color": "#2a3f5f"
            },
            "error_y": {
             "color": "#2a3f5f"
            },
            "marker": {
             "line": {
              "color": "#E5ECF6",
              "width": 0.5
             },
             "pattern": {
              "fillmode": "overlay",
              "size": 10,
              "solidity": 0.2
             }
            },
            "type": "bar"
           }
          ],
          "barpolar": [
           {
            "marker": {
             "line": {
              "color": "#E5ECF6",
              "width": 0.5
             },
             "pattern": {
              "fillmode": "overlay",
              "size": 10,
              "solidity": 0.2
             }
            },
            "type": "barpolar"
           }
          ],
          "carpet": [
           {
            "aaxis": {
             "endlinecolor": "#2a3f5f",
             "gridcolor": "white",
             "linecolor": "white",
             "minorgridcolor": "white",
             "startlinecolor": "#2a3f5f"
            },
            "baxis": {
             "endlinecolor": "#2a3f5f",
             "gridcolor": "white",
             "linecolor": "white",
             "minorgridcolor": "white",
             "startlinecolor": "#2a3f5f"
            },
            "type": "carpet"
           }
          ],
          "choropleth": [
           {
            "colorbar": {
             "outlinewidth": 0,
             "ticks": ""
            },
            "type": "choropleth"
           }
          ],
          "contour": [
           {
            "colorbar": {
             "outlinewidth": 0,
             "ticks": ""
            },
            "colorscale": [
             [
              0,
              "#0d0887"
             ],
             [
              0.1111111111111111,
              "#46039f"
             ],
             [
              0.2222222222222222,
              "#7201a8"
             ],
             [
              0.3333333333333333,
              "#9c179e"
             ],
             [
              0.4444444444444444,
              "#bd3786"
             ],
             [
              0.5555555555555556,
              "#d8576b"
             ],
             [
              0.6666666666666666,
              "#ed7953"
             ],
             [
              0.7777777777777778,
              "#fb9f3a"
             ],
             [
              0.8888888888888888,
              "#fdca26"
             ],
             [
              1,
              "#f0f921"
             ]
            ],
            "type": "contour"
           }
          ],
          "contourcarpet": [
           {
            "colorbar": {
             "outlinewidth": 0,
             "ticks": ""
            },
            "type": "contourcarpet"
           }
          ],
          "heatmap": [
           {
            "colorbar": {
             "outlinewidth": 0,
             "ticks": ""
            },
            "colorscale": [
             [
              0,
              "#0d0887"
             ],
             [
              0.1111111111111111,
              "#46039f"
             ],
             [
              0.2222222222222222,
              "#7201a8"
             ],
             [
              0.3333333333333333,
              "#9c179e"
             ],
             [
              0.4444444444444444,
              "#bd3786"
             ],
             [
              0.5555555555555556,
              "#d8576b"
             ],
             [
              0.6666666666666666,
              "#ed7953"
             ],
             [
              0.7777777777777778,
              "#fb9f3a"
             ],
             [
              0.8888888888888888,
              "#fdca26"
             ],
             [
              1,
              "#f0f921"
             ]
            ],
            "type": "heatmap"
           }
          ],
          "heatmapgl": [
           {
            "colorbar": {
             "outlinewidth": 0,
             "ticks": ""
            },
            "colorscale": [
             [
              0,
              "#0d0887"
             ],
             [
              0.1111111111111111,
              "#46039f"
             ],
             [
              0.2222222222222222,
              "#7201a8"
             ],
             [
              0.3333333333333333,
              "#9c179e"
             ],
             [
              0.4444444444444444,
              "#bd3786"
             ],
             [
              0.5555555555555556,
              "#d8576b"
             ],
             [
              0.6666666666666666,
              "#ed7953"
             ],
             [
              0.7777777777777778,
              "#fb9f3a"
             ],
             [
              0.8888888888888888,
              "#fdca26"
             ],
             [
              1,
              "#f0f921"
             ]
            ],
            "type": "heatmapgl"
           }
          ],
          "histogram": [
           {
            "marker": {
             "pattern": {
              "fillmode": "overlay",
              "size": 10,
              "solidity": 0.2
             }
            },
            "type": "histogram"
           }
          ],
          "histogram2d": [
           {
            "colorbar": {
             "outlinewidth": 0,
             "ticks": ""
            },
            "colorscale": [
             [
              0,
              "#0d0887"
             ],
             [
              0.1111111111111111,
              "#46039f"
             ],
             [
              0.2222222222222222,
              "#7201a8"
             ],
             [
              0.3333333333333333,
              "#9c179e"
             ],
             [
              0.4444444444444444,
              "#bd3786"
             ],
             [
              0.5555555555555556,
              "#d8576b"
             ],
             [
              0.6666666666666666,
              "#ed7953"
             ],
             [
              0.7777777777777778,
              "#fb9f3a"
             ],
             [
              0.8888888888888888,
              "#fdca26"
             ],
             [
              1,
              "#f0f921"
             ]
            ],
            "type": "histogram2d"
           }
          ],
          "histogram2dcontour": [
           {
            "colorbar": {
             "outlinewidth": 0,
             "ticks": ""
            },
            "colorscale": [
             [
              0,
              "#0d0887"
             ],
             [
              0.1111111111111111,
              "#46039f"
             ],
             [
              0.2222222222222222,
              "#7201a8"
             ],
             [
              0.3333333333333333,
              "#9c179e"
             ],
             [
              0.4444444444444444,
              "#bd3786"
             ],
             [
              0.5555555555555556,
              "#d8576b"
             ],
             [
              0.6666666666666666,
              "#ed7953"
             ],
             [
              0.7777777777777778,
              "#fb9f3a"
             ],
             [
              0.8888888888888888,
              "#fdca26"
             ],
             [
              1,
              "#f0f921"
             ]
            ],
            "type": "histogram2dcontour"
           }
          ],
          "mesh3d": [
           {
            "colorbar": {
             "outlinewidth": 0,
             "ticks": ""
            },
            "type": "mesh3d"
           }
          ],
          "parcoords": [
           {
            "line": {
             "colorbar": {
              "outlinewidth": 0,
              "ticks": ""
             }
            },
            "type": "parcoords"
           }
          ],
          "pie": [
           {
            "automargin": true,
            "type": "pie"
           }
          ],
          "scatter": [
           {
            "fillpattern": {
             "fillmode": "overlay",
             "size": 10,
             "solidity": 0.2
            },
            "type": "scatter"
           }
          ],
          "scatter3d": [
           {
            "line": {
             "colorbar": {
              "outlinewidth": 0,
              "ticks": ""
             }
            },
            "marker": {
             "colorbar": {
              "outlinewidth": 0,
              "ticks": ""
             }
            },
            "type": "scatter3d"
           }
          ],
          "scattercarpet": [
           {
            "marker": {
             "colorbar": {
              "outlinewidth": 0,
              "ticks": ""
             }
            },
            "type": "scattercarpet"
           }
          ],
          "scattergeo": [
           {
            "marker": {
             "colorbar": {
              "outlinewidth": 0,
              "ticks": ""
             }
            },
            "type": "scattergeo"
           }
          ],
          "scattergl": [
           {
            "marker": {
             "colorbar": {
              "outlinewidth": 0,
              "ticks": ""
             }
            },
            "type": "scattergl"
           }
          ],
          "scattermapbox": [
           {
            "marker": {
             "colorbar": {
              "outlinewidth": 0,
              "ticks": ""
             }
            },
            "type": "scattermapbox"
           }
          ],
          "scatterpolar": [
           {
            "marker": {
             "colorbar": {
              "outlinewidth": 0,
              "ticks": ""
             }
            },
            "type": "scatterpolar"
           }
          ],
          "scatterpolargl": [
           {
            "marker": {
             "colorbar": {
              "outlinewidth": 0,
              "ticks": ""
             }
            },
            "type": "scatterpolargl"
           }
          ],
          "scatterternary": [
           {
            "marker": {
             "colorbar": {
              "outlinewidth": 0,
              "ticks": ""
             }
            },
            "type": "scatterternary"
           }
          ],
          "surface": [
           {
            "colorbar": {
             "outlinewidth": 0,
             "ticks": ""
            },
            "colorscale": [
             [
              0,
              "#0d0887"
             ],
             [
              0.1111111111111111,
              "#46039f"
             ],
             [
              0.2222222222222222,
              "#7201a8"
             ],
             [
              0.3333333333333333,
              "#9c179e"
             ],
             [
              0.4444444444444444,
              "#bd3786"
             ],
             [
              0.5555555555555556,
              "#d8576b"
             ],
             [
              0.6666666666666666,
              "#ed7953"
             ],
             [
              0.7777777777777778,
              "#fb9f3a"
             ],
             [
              0.8888888888888888,
              "#fdca26"
             ],
             [
              1,
              "#f0f921"
             ]
            ],
            "type": "surface"
           }
          ],
          "table": [
           {
            "cells": {
             "fill": {
              "color": "#EBF0F8"
             },
             "line": {
              "color": "white"
             }
            },
            "header": {
             "fill": {
              "color": "#C8D4E3"
             },
             "line": {
              "color": "white"
             }
            },
            "type": "table"
           }
          ]
         },
         "layout": {
          "annotationdefaults": {
           "arrowcolor": "#2a3f5f",
           "arrowhead": 0,
           "arrowwidth": 1
          },
          "autotypenumbers": "strict",
          "coloraxis": {
           "colorbar": {
            "outlinewidth": 0,
            "ticks": ""
           }
          },
          "colorscale": {
           "diverging": [
            [
             0,
             "#8e0152"
            ],
            [
             0.1,
             "#c51b7d"
            ],
            [
             0.2,
             "#de77ae"
            ],
            [
             0.3,
             "#f1b6da"
            ],
            [
             0.4,
             "#fde0ef"
            ],
            [
             0.5,
             "#f7f7f7"
            ],
            [
             0.6,
             "#e6f5d0"
            ],
            [
             0.7,
             "#b8e186"
            ],
            [
             0.8,
             "#7fbc41"
            ],
            [
             0.9,
             "#4d9221"
            ],
            [
             1,
             "#276419"
            ]
           ],
           "sequential": [
            [
             0,
             "#0d0887"
            ],
            [
             0.1111111111111111,
             "#46039f"
            ],
            [
             0.2222222222222222,
             "#7201a8"
            ],
            [
             0.3333333333333333,
             "#9c179e"
            ],
            [
             0.4444444444444444,
             "#bd3786"
            ],
            [
             0.5555555555555556,
             "#d8576b"
            ],
            [
             0.6666666666666666,
             "#ed7953"
            ],
            [
             0.7777777777777778,
             "#fb9f3a"
            ],
            [
             0.8888888888888888,
             "#fdca26"
            ],
            [
             1,
             "#f0f921"
            ]
           ],
           "sequentialminus": [
            [
             0,
             "#0d0887"
            ],
            [
             0.1111111111111111,
             "#46039f"
            ],
            [
             0.2222222222222222,
             "#7201a8"
            ],
            [
             0.3333333333333333,
             "#9c179e"
            ],
            [
             0.4444444444444444,
             "#bd3786"
            ],
            [
             0.5555555555555556,
             "#d8576b"
            ],
            [
             0.6666666666666666,
             "#ed7953"
            ],
            [
             0.7777777777777778,
             "#fb9f3a"
            ],
            [
             0.8888888888888888,
             "#fdca26"
            ],
            [
             1,
             "#f0f921"
            ]
           ]
          },
          "colorway": [
           "#636efa",
           "#EF553B",
           "#00cc96",
           "#ab63fa",
           "#FFA15A",
           "#19d3f3",
           "#FF6692",
           "#B6E880",
           "#FF97FF",
           "#FECB52"
          ],
          "font": {
           "color": "#2a3f5f"
          },
          "geo": {
           "bgcolor": "white",
           "lakecolor": "white",
           "landcolor": "#E5ECF6",
           "showlakes": true,
           "showland": true,
           "subunitcolor": "white"
          },
          "hoverlabel": {
           "align": "left"
          },
          "hovermode": "closest",
          "mapbox": {
           "style": "light"
          },
          "paper_bgcolor": "white",
          "plot_bgcolor": "#E5ECF6",
          "polar": {
           "angularaxis": {
            "gridcolor": "white",
            "linecolor": "white",
            "ticks": ""
           },
           "bgcolor": "#E5ECF6",
           "radialaxis": {
            "gridcolor": "white",
            "linecolor": "white",
            "ticks": ""
           }
          },
          "scene": {
           "xaxis": {
            "backgroundcolor": "#E5ECF6",
            "gridcolor": "white",
            "gridwidth": 2,
            "linecolor": "white",
            "showbackground": true,
            "ticks": "",
            "zerolinecolor": "white"
           },
           "yaxis": {
            "backgroundcolor": "#E5ECF6",
            "gridcolor": "white",
            "gridwidth": 2,
            "linecolor": "white",
            "showbackground": true,
            "ticks": "",
            "zerolinecolor": "white"
           },
           "zaxis": {
            "backgroundcolor": "#E5ECF6",
            "gridcolor": "white",
            "gridwidth": 2,
            "linecolor": "white",
            "showbackground": true,
            "ticks": "",
            "zerolinecolor": "white"
           }
          },
          "shapedefaults": {
           "line": {
            "color": "#2a3f5f"
           }
          },
          "ternary": {
           "aaxis": {
            "gridcolor": "white",
            "linecolor": "white",
            "ticks": ""
           },
           "baxis": {
            "gridcolor": "white",
            "linecolor": "white",
            "ticks": ""
           },
           "bgcolor": "#E5ECF6",
           "caxis": {
            "gridcolor": "white",
            "linecolor": "white",
            "ticks": ""
           }
          },
          "title": {
           "x": 0.05
          },
          "xaxis": {
           "automargin": true,
           "gridcolor": "white",
           "linecolor": "white",
           "ticks": "",
           "title": {
            "standoff": 15
           },
           "zerolinecolor": "white",
           "zerolinewidth": 2
          },
          "yaxis": {
           "automargin": true,
           "gridcolor": "white",
           "linecolor": "white",
           "ticks": "",
           "title": {
            "standoff": 15
           },
           "zerolinecolor": "white",
           "zerolinewidth": 2
          }
         }
        },
        "title": {
         "text": "Worldwide GDP Per Capita vs Events Per Capita"
        },
        "xaxis": {
         "anchor": "y",
         "domain": [
          0,
          1
         ],
         "title": {
          "text": "gdp_per_capita"
         }
        },
        "yaxis": {
         "anchor": "x",
         "domain": [
          0,
          1
         ],
         "title": {
          "text": "events_per_capita"
         }
        }
       }
      }
     },
     "metadata": {},
     "output_type": "display_data"
    },
    {
     "data": {
      "application/vnd.plotly.v1+json": {
       "config": {
        "plotlyServerURL": "https://plot.ly"
       },
       "data": [
        {
         "hovertemplate": "country=Albania<br>gdp_per_capita=%{x}<br>events_per_capita=%{y}<extra></extra>",
         "legendgroup": "Albania",
         "marker": {
          "color": "#636efa",
          "symbol": "circle"
         },
         "mode": "markers",
         "name": "Albania",
         "orientation": "v",
         "showlegend": true,
         "type": "scatter",
         "x": [
          5287.66080067575,
          5396.2142432843,
          5343.0377039956,
          6377.20309553753,
          6810.11404104233
         ],
         "xaxis": "x",
         "y": [
          7.291436992215956,
          8.478759830719108,
          7.22378111027049,
          5.192650905192864,
          5.292169137725642
         ],
         "yaxis": "y"
        },
        {
         "hovertemplate": "country=Australia<br>gdp_per_capita=%{x}<br>events_per_capita=%{y}<extra></extra>",
         "legendgroup": "Australia",
         "marker": {
          "color": "#EF553B",
          "symbol": "circle"
         },
         "mode": "markers",
         "name": "Australia",
         "orientation": "v",
         "showlegend": true,
         "type": "scatter",
         "x": [
          60697.2454358579,
          65099.8459118981
         ],
         "xaxis": "x",
         "y": [
          2.6513104014060587,
          3.053195588324641
         ],
         "yaxis": "y"
        },
        {
         "hovertemplate": "country=Austria<br>gdp_per_capita=%{x}<br>events_per_capita=%{y}<extra></extra>",
         "legendgroup": "Austria",
         "marker": {
          "color": "#00cc96",
          "symbol": "circle"
         },
         "mode": "markers",
         "name": "Austria",
         "orientation": "v",
         "showlegend": true,
         "type": "scatter",
         "x": [
          48789.4978498872,
          53517.8904509612,
          52084.6811953372
         ],
         "xaxis": "x",
         "y": [
          3.970005598380776,
          6.275265060161591,
          3.2515466136303286
         ],
         "yaxis": "y"
        },
        {
         "hovertemplate": "country=Belgium<br>gdp_per_capita=%{x}<br>events_per_capita=%{y}<extra></extra>",
         "legendgroup": "Belgium",
         "marker": {
          "color": "#ab63fa",
          "symbol": "circle"
         },
         "mode": "markers",
         "name": "Belgium",
         "orientation": "v",
         "showlegend": true,
         "type": "scatter",
         "x": [
          45609.0034936111,
          51850.3971840229,
          49926.8254295305
         ],
         "xaxis": "x",
         "y": [
          6.7945827762179904,
          7.189590715502372,
          4.475511932673239
         ],
         "yaxis": "y"
        },
        {
         "hovertemplate": "country=Bulgaria<br>gdp_per_capita=%{x}<br>events_per_capita=%{y}<extra></extra>",
         "legendgroup": "Bulgaria",
         "marker": {
          "color": "#FFA15A",
          "symbol": "circle"
         },
         "mode": "markers",
         "name": "Bulgaria",
         "orientation": "v",
         "showlegend": true,
         "type": "scatter",
         "x": [
          9447.65589681469,
          9874.33632625168,
          10148.3423954435,
          12219.3418706779,
          13974.4492487792
         ],
         "xaxis": "x",
         "y": [
          5.209936972573952,
          5.418763630233318,
          12.590108328291763,
          7.051731941714019,
          9.35794157458117
         ],
         "yaxis": "y"
        },
        {
         "hovertemplate": "country=Canada<br>gdp_per_capita=%{x}<br>events_per_capita=%{y}<extra></extra>",
         "legendgroup": "Canada",
         "marker": {
          "color": "#19d3f3",
          "symbol": "circle"
         },
         "mode": "markers",
         "name": "Canada",
         "orientation": "v",
         "showlegend": true,
         "type": "scatter",
         "x": [
          52515.1998350503,
          55522.445687688
         ],
         "xaxis": "x",
         "y": [
          4.423633051607291,
          4.695619321106947
         ],
         "yaxis": "y"
        },
        {
         "hovertemplate": "country=Croatia<br>gdp_per_capita=%{x}<br>events_per_capita=%{y}<extra></extra>",
         "legendgroup": "Croatia",
         "marker": {
          "color": "#FF6692",
          "symbol": "circle"
         },
         "mode": "markers",
         "name": "Croatia",
         "orientation": "v",
         "showlegend": true,
         "type": "scatter",
         "x": [
          15040.0369182791,
          15120.9029026824,
          14269.9088549332,
          17809.0323901126,
          18570.4039968345
         ],
         "xaxis": "x",
         "y": [
          4.011895760184528,
          5.0673352925389885,
          3.236421851529765,
          4.4599123485434395,
          2.8789293495175845
         ],
         "yaxis": "y"
        },
        {
         "hovertemplate": "country=Denmark<br>gdp_per_capita=%{x}<br>events_per_capita=%{y}<extra></extra>",
         "legendgroup": "Denmark",
         "marker": {
          "color": "#B6E880",
          "symbol": "circle"
         },
         "mode": "markers",
         "name": "Denmark",
         "orientation": "v",
         "showlegend": true,
         "type": "scatter",
         "x": [
          60836.5924121638,
          69268.6517983134,
          67790.0539923276
         ],
         "xaxis": "x",
         "y": [
          9.620324710824358,
          14.137574651260353,
          6.284900467335713
         ],
         "yaxis": "y"
        },
        {
         "hovertemplate": "country=Estonia<br>gdp_per_capita=%{x}<br>events_per_capita=%{y}<extra></extra>",
         "legendgroup": "Estonia",
         "marker": {
          "color": "#FF97FF",
          "symbol": "circle"
         },
         "mode": "markers",
         "name": "Estonia",
         "orientation": "v",
         "showlegend": true,
         "type": "scatter",
         "x": [
          23595.2436836441,
          27943.701219882,
          28247.095992497
         ],
         "xaxis": "x",
         "y": [
          10.605315293767234,
          8.490291014116425,
          5.486195545802318
         ],
         "yaxis": "y"
        },
        {
         "hovertemplate": "country=Finland<br>gdp_per_capita=%{x}<br>events_per_capita=%{y}<extra></extra>",
         "legendgroup": "Finland",
         "marker": {
          "color": "#FECB52",
          "symbol": "circle"
         },
         "mode": "markers",
         "name": "Finland",
         "orientation": "v",
         "showlegend": true,
         "type": "scatter",
         "x": [
          49169.7193388499,
          53504.6936483441,
          50871.9304508821
         ],
         "xaxis": "x",
         "y": [
          3.9062902666639903,
          4.782515556259798,
          6.209384774156576
         ],
         "yaxis": "y"
        },
        {
         "hovertemplate": "country=France<br>gdp_per_capita=%{x}<br>events_per_capita=%{y}<extra></extra>",
         "legendgroup": "France",
         "marker": {
          "color": "#636efa",
          "symbol": "circle"
         },
         "mode": "markers",
         "name": "France",
         "orientation": "v",
         "showlegend": true,
         "type": "scatter",
         "x": [
          39179.7442596057,
          43671.3084099631,
          40886.2532680273
         ],
         "xaxis": "x",
         "y": [
          7.643799590259785,
          12.33097590731545,
          9.446632565318623
         ],
         "yaxis": "y"
        },
        {
         "hovertemplate": "country=Germany<br>gdp_per_capita=%{x}<br>events_per_capita=%{y}<extra></extra>",
         "legendgroup": "Germany",
         "marker": {
          "color": "#EF553B",
          "symbol": "circle"
         },
         "mode": "markers",
         "name": "Germany",
         "orientation": "v",
         "showlegend": true,
         "type": "scatter",
         "x": [
          46749.4762280016,
          51426.7503654421,
          48717.9911402128
         ],
         "xaxis": "x",
         "y": [
          5.161081105078853,
          5.06634459379203,
          5.6922609773970105
         ],
         "yaxis": "y"
        },
        {
         "hovertemplate": "country=Greece<br>gdp_per_capita=%{x}<br>events_per_capita=%{y}<extra></extra>",
         "legendgroup": "Greece",
         "marker": {
          "color": "#00cc96",
          "symbol": "circle"
         },
         "mode": "markers",
         "name": "Greece",
         "orientation": "v",
         "showlegend": true,
         "type": "scatter",
         "x": [
          19756.990456255,
          19143.8876174584,
          17617.2915057014,
          20310.6824798873,
          20867.2690861087
         ],
         "xaxis": "x",
         "y": [
          1.8913838799308518,
          4.635509946200104,
          6.169032038680953,
          5.279487855616793,
          4.162303361136689
         ],
         "yaxis": "y"
        },
        {
         "hovertemplate": "country=Hungary<br>gdp_per_capita=%{x}<br>events_per_capita=%{y}<extra></extra>",
         "legendgroup": "Hungary",
         "marker": {
          "color": "#ab63fa",
          "symbol": "circle"
         },
         "mode": "markers",
         "name": "Hungary",
         "orientation": "v",
         "showlegend": true,
         "type": "scatter",
         "x": [
          16125.6094085407,
          18753.0469453539,
          18390.1849993244
         ],
         "xaxis": "x",
         "y": [
          2.040994450443783,
          1.3182434282732938,
          4.303618523935586
         ],
         "yaxis": "y"
        },
        {
         "hovertemplate": "country=Iceland<br>gdp_per_capita=%{x}<br>events_per_capita=%{y}<extra></extra>",
         "legendgroup": "Iceland",
         "marker": {
          "color": "#FFA15A",
          "symbol": "circle"
         },
         "mode": "markers",
         "name": "Iceland",
         "orientation": "v",
         "showlegend": true,
         "type": "scatter",
         "x": [
          58848.41812446,
          68710.2442005473,
          73466.7786674708
         ],
         "xaxis": "x",
         "y": [
          7.913486491132802,
          7.516374959733706,
          7.3297853681777365
         ],
         "yaxis": "y"
        },
        {
         "hovertemplate": "country=Ireland<br>gdp_per_capita=%{x}<br>events_per_capita=%{y}<extra></extra>",
         "legendgroup": "Ireland",
         "marker": {
          "color": "#19d3f3",
          "symbol": "circle"
         },
         "mode": "markers",
         "name": "Ireland",
         "orientation": "v",
         "showlegend": true,
         "type": "scatter",
         "x": [
          85973.0884875501,
          102001.798249145,
          103983.29133582
         ],
         "xaxis": "x",
         "y": [
          5.596361522547319,
          4.331271542115457,
          5.441598386634342
         ],
         "yaxis": "y"
        },
        {
         "hovertemplate": "country=Italy<br>gdp_per_capita=%{x}<br>events_per_capita=%{y}<extra></extra>",
         "legendgroup": "Italy",
         "marker": {
          "color": "#FF6692",
          "symbol": "circle"
         },
         "mode": "markers",
         "name": "Italy",
         "orientation": "v",
         "showlegend": true,
         "type": "scatter",
         "x": [
          31922.9191626183,
          36449.2583375837,
          34776.423234274
         ],
         "xaxis": "x",
         "y": [
          9.233018316588925,
          12.458320137835322,
          7.794310950421549
         ],
         "yaxis": "y"
        },
        {
         "hovertemplate": "country=Kosovo<br>gdp_per_capita=%{x}<br>events_per_capita=%{y}<extra></extra>",
         "legendgroup": "Kosovo",
         "marker": {
          "color": "#B6E880",
          "symbol": "circle"
         },
         "mode": "markers",
         "name": "Kosovo",
         "orientation": "v",
         "showlegend": true,
         "type": "scatter",
         "x": [
          4384.18868045931,
          4416.02925267842,
          4310.9340020057,
          5269.78390114389,
          5340.26879794836
         ],
         "xaxis": "x",
         "y": [
          5.954086757165076,
          6.037303829551261,
          5.195144718297468,
          6.774771869355523,
          7.491550722622497
         ],
         "yaxis": "y"
        },
        {
         "hovertemplate": "country=Latvia<br>gdp_per_capita=%{x}<br>events_per_capita=%{y}<extra></extra>",
         "legendgroup": "Latvia",
         "marker": {
          "color": "#FF97FF",
          "symbol": "circle"
         },
         "mode": "markers",
         "name": "Latvia",
         "orientation": "v",
         "showlegend": true,
         "type": "scatter",
         "x": [
          18096.2027073394,
          20930.3982374189,
          21779.5042572825
         ],
         "xaxis": "x",
         "y": [
          3.57810180646784,
          3.290014805066623,
          2.500820748085941
         ],
         "yaxis": "y"
        },
        {
         "hovertemplate": "country=Lithuania<br>gdp_per_capita=%{x}<br>events_per_capita=%{y}<extra></extra>",
         "legendgroup": "Lithuania",
         "marker": {
          "color": "#FECB52",
          "symbol": "circle"
         },
         "mode": "markers",
         "name": "Lithuania",
         "orientation": "v",
         "showlegend": true,
         "type": "scatter",
         "x": [
          20381.8557827478,
          23849.6156993566,
          25064.808914729
         ],
         "xaxis": "x",
         "y": [
          2.1109992003248794,
          5.284130933623818,
          2.6839579480293922
         ],
         "yaxis": "y"
        },
        {
         "hovertemplate": "country=Luxembourg<br>gdp_per_capita=%{x}<br>events_per_capita=%{y}<extra></extra>",
         "legendgroup": "Luxembourg",
         "marker": {
          "color": "#636efa",
          "symbol": "circle"
         },
         "mode": "markers",
         "name": "Luxembourg",
         "orientation": "v",
         "showlegend": true,
         "type": "scatter",
         "x": [
          116905.370396853,
          133711.794435985,
          125006.021815486
         ],
         "xaxis": "x",
         "y": [
          5.551863125952739,
          4.999500049995,
          5.052801778586226
         ],
         "yaxis": "y"
        },
        {
         "hovertemplate": "country=Malta<br>gdp_per_capita=%{x}<br>events_per_capita=%{y}<extra></extra>",
         "legendgroup": "Malta",
         "marker": {
          "color": "#EF553B",
          "symbol": "circle"
         },
         "mode": "markers",
         "name": "Malta",
         "orientation": "v",
         "showlegend": true,
         "type": "scatter",
         "x": [
          29597.6361628521,
          34881.2912726609,
          34127.5105566356
         ],
         "xaxis": "x",
         "y": [
          7.956036108760954,
          14.46379807766481,
          15.250991785175659
         ],
         "yaxis": "y"
        },
        {
         "hovertemplate": "country=Netherlands<br>gdp_per_capita=%{x}<br>events_per_capita=%{y}<extra></extra>",
         "legendgroup": "Netherlands",
         "marker": {
          "color": "#00cc96",
          "symbol": "circle"
         },
         "mode": "markers",
         "name": "Netherlands",
         "orientation": "v",
         "showlegend": true,
         "type": "scatter",
         "x": [
          52162.5701150406,
          58727.8705471475,
          57025.01245598
         ],
         "xaxis": "x",
         "y": [
          3.325402058309205,
          3.3251499283296155,
          3.988479283239766
         ],
         "yaxis": "y"
        },
        {
         "hovertemplate": "country=Norway<br>gdp_per_capita=%{x}<br>events_per_capita=%{y}<extra></extra>",
         "legendgroup": "Norway",
         "marker": {
          "color": "#ab63fa",
          "symbol": "circle"
         },
         "mode": "markers",
         "name": "Norway",
         "orientation": "v",
         "showlegend": true,
         "type": "scatter",
         "x": [
          68340.0181033702,
          93072.8925119571,
          108729.18690323
         ],
         "xaxis": "x",
         "y": [
          5.465217330687474,
          5.676439263948879,
          8.83248639806257
         ],
         "yaxis": "y"
        },
        {
         "hovertemplate": "country=Poland<br>gdp_per_capita=%{x}<br>events_per_capita=%{y}<extra></extra>",
         "legendgroup": "Poland",
         "marker": {
          "color": "#FFA15A",
          "symbol": "circle"
         },
         "mode": "markers",
         "name": "Poland",
         "orientation": "v",
         "showlegend": true,
         "type": "scatter",
         "x": [
          15816.8204021382,
          18050.2794441161,
          18688.0044867103
         ],
         "xaxis": "x",
         "y": [
          4.820698766486882,
          4.784470467206985,
          3.128585771414606
         ],
         "yaxis": "y"
        },
        {
         "hovertemplate": "country=Portugal<br>gdp_per_capita=%{x}<br>events_per_capita=%{y}<extra></extra>",
         "legendgroup": "Portugal",
         "marker": {
          "color": "#19d3f3",
          "symbol": "circle"
         },
         "mode": "markers",
         "name": "Portugal",
         "orientation": "v",
         "showlegend": true,
         "type": "scatter",
         "x": [
          22242.406417972,
          24661.1664874576,
          24515.2658507319
         ],
         "xaxis": "x",
         "y": [
          3.486424939261913,
          5.944895260306793,
          3.179725379319143
         ],
         "yaxis": "y"
        },
        {
         "hovertemplate": "country=Romania<br>gdp_per_capita=%{x}<br>events_per_capita=%{y}<extra></extra>",
         "legendgroup": "Romania",
         "marker": {
          "color": "#FF6692",
          "symbol": "circle"
         },
         "mode": "markers",
         "name": "Romania",
         "orientation": "v",
         "showlegend": true,
         "type": "scatter",
         "x": [
          12494.4235789649,
          12957.9991142218,
          13047.4566563993,
          14946.624968678,
          15786.8017421977
         ],
         "xaxis": "x",
         "y": [
          2.8345529956141453,
          2.957931096001744,
          0.9239433695384177,
          2.227793565536013,
          1.0815346388506457
         ],
         "yaxis": "y"
        },
        {
         "hovertemplate": "country=Serbia<br>gdp_per_capita=%{x}<br>events_per_capita=%{y}<extra></extra>",
         "legendgroup": "Serbia",
         "marker": {
          "color": "#B6E880",
          "symbol": "circle"
         },
         "mode": "markers",
         "name": "Serbia",
         "orientation": "v",
         "showlegend": true,
         "type": "scatter",
         "x": [
          7252.40366767165,
          7417.20660836868,
          7733.80346893763,
          9232.96160604855,
          9537.68286673128
         ],
         "xaxis": "x",
         "y": [
          2.835618345247704,
          14.4559543341586,
          5.652889945769942,
          5.545535872886368,
          5.701896735949213
         ],
         "yaxis": "y"
        },
        {
         "hovertemplate": "country=Slovenia<br>gdp_per_capita=%{x}<br>events_per_capita=%{y}<extra></extra>",
         "legendgroup": "Slovenia",
         "marker": {
          "color": "#FF97FF",
          "symbol": "circle"
         },
         "mode": "markers",
         "name": "Slovenia",
         "orientation": "v",
         "showlegend": true,
         "type": "scatter",
         "x": [
          25558.4290544506,
          29331.0647010043,
          28439.3340989687
         ],
         "xaxis": "x",
         "y": [
          6.278482072317649,
          6.546244234680009,
          3.0303231176721814
         ],
         "yaxis": "y"
        },
        {
         "hovertemplate": "country=Spain<br>gdp_per_capita=%{x}<br>events_per_capita=%{y}<extra></extra>",
         "legendgroup": "Spain",
         "marker": {
          "color": "#FECB52",
          "symbol": "circle"
         },
         "mode": "markers",
         "name": "Spain",
         "orientation": "v",
         "showlegend": true,
         "type": "scatter",
         "x": [
          26984.2962770279,
          30488.8209528797,
          29674.5442864413
         ],
         "xaxis": "x",
         "y": [
          7.068412756035993,
          9.29015340331536,
          7.986882759007533
         ],
         "yaxis": "y"
        },
        {
         "hovertemplate": "country=Sweden<br>gdp_per_capita=%{x}<br>events_per_capita=%{y}<extra></extra>",
         "legendgroup": "Sweden",
         "marker": {
          "color": "#636efa",
          "symbol": "circle"
         },
         "mode": "markers",
         "name": "Sweden",
         "orientation": "v",
         "showlegend": true,
         "type": "scatter",
         "x": [
          52837.9039778149,
          61417.6808766469,
          56424.2846986686
         ],
         "xaxis": "x",
         "y": [
          8.73139580054633,
          11.943381077095196,
          14.04604069003535
         ],
         "yaxis": "y"
        },
        {
         "hovertemplate": "country=Switzerland<br>gdp_per_capita=%{x}<br>events_per_capita=%{y}<extra></extra>",
         "legendgroup": "Switzerland",
         "marker": {
          "color": "#EF553B",
          "symbol": "circle"
         },
         "mode": "markers",
         "name": "Switzerland",
         "orientation": "v",
         "showlegend": true,
         "type": "scatter",
         "x": [
          85897.7843338323,
          93446.4344518943,
          93259.9057183024
         ],
         "xaxis": "x",
         "y": [
          1.9101274610689978,
          2.492950235428706,
          2.119474552631339
         ],
         "yaxis": "y"
        },
        {
         "hovertemplate": "country=United Kingdom<br>gdp_per_capita=%{x}<br>events_per_capita=%{y}<extra></extra>",
         "legendgroup": "United Kingdom",
         "marker": {
          "color": "#00cc96",
          "symbol": "circle"
         },
         "mode": "markers",
         "name": "United Kingdom",
         "orientation": "v",
         "showlegend": true,
         "type": "scatter",
         "x": [
          40217.0090116986,
          46869.759058411,
          46125.2557513568
         ],
         "xaxis": "x",
         "y": [
          3.273642819391188,
          2.3647436740197416,
          2.6055900433311865
         ],
         "yaxis": "y"
        },
        {
         "hovertemplate": "country=United States<br>gdp_per_capita=%{x}<br>events_per_capita=%{y}<extra></extra>",
         "legendgroup": "United States",
         "marker": {
          "color": "#ab63fa",
          "symbol": "circle"
         },
         "mode": "markers",
         "name": "United States",
         "orientation": "v",
         "showlegend": true,
         "type": "scatter",
         "x": [
          63528.6343027508,
          70219.472454115,
          76329.5822652029
         ],
         "xaxis": "x",
         "y": [
          6.511086106717163,
          3.959563433540416,
          3.6554019927002557
         ],
         "yaxis": "y"
        }
       ],
       "layout": {
        "legend": {
         "title": {
          "text": "country"
         },
         "tracegroupgap": 0
        },
        "template": {
         "data": {
          "bar": [
           {
            "error_x": {
             "color": "#2a3f5f"
            },
            "error_y": {
             "color": "#2a3f5f"
            },
            "marker": {
             "line": {
              "color": "#E5ECF6",
              "width": 0.5
             },
             "pattern": {
              "fillmode": "overlay",
              "size": 10,
              "solidity": 0.2
             }
            },
            "type": "bar"
           }
          ],
          "barpolar": [
           {
            "marker": {
             "line": {
              "color": "#E5ECF6",
              "width": 0.5
             },
             "pattern": {
              "fillmode": "overlay",
              "size": 10,
              "solidity": 0.2
             }
            },
            "type": "barpolar"
           }
          ],
          "carpet": [
           {
            "aaxis": {
             "endlinecolor": "#2a3f5f",
             "gridcolor": "white",
             "linecolor": "white",
             "minorgridcolor": "white",
             "startlinecolor": "#2a3f5f"
            },
            "baxis": {
             "endlinecolor": "#2a3f5f",
             "gridcolor": "white",
             "linecolor": "white",
             "minorgridcolor": "white",
             "startlinecolor": "#2a3f5f"
            },
            "type": "carpet"
           }
          ],
          "choropleth": [
           {
            "colorbar": {
             "outlinewidth": 0,
             "ticks": ""
            },
            "type": "choropleth"
           }
          ],
          "contour": [
           {
            "colorbar": {
             "outlinewidth": 0,
             "ticks": ""
            },
            "colorscale": [
             [
              0,
              "#0d0887"
             ],
             [
              0.1111111111111111,
              "#46039f"
             ],
             [
              0.2222222222222222,
              "#7201a8"
             ],
             [
              0.3333333333333333,
              "#9c179e"
             ],
             [
              0.4444444444444444,
              "#bd3786"
             ],
             [
              0.5555555555555556,
              "#d8576b"
             ],
             [
              0.6666666666666666,
              "#ed7953"
             ],
             [
              0.7777777777777778,
              "#fb9f3a"
             ],
             [
              0.8888888888888888,
              "#fdca26"
             ],
             [
              1,
              "#f0f921"
             ]
            ],
            "type": "contour"
           }
          ],
          "contourcarpet": [
           {
            "colorbar": {
             "outlinewidth": 0,
             "ticks": ""
            },
            "type": "contourcarpet"
           }
          ],
          "heatmap": [
           {
            "colorbar": {
             "outlinewidth": 0,
             "ticks": ""
            },
            "colorscale": [
             [
              0,
              "#0d0887"
             ],
             [
              0.1111111111111111,
              "#46039f"
             ],
             [
              0.2222222222222222,
              "#7201a8"
             ],
             [
              0.3333333333333333,
              "#9c179e"
             ],
             [
              0.4444444444444444,
              "#bd3786"
             ],
             [
              0.5555555555555556,
              "#d8576b"
             ],
             [
              0.6666666666666666,
              "#ed7953"
             ],
             [
              0.7777777777777778,
              "#fb9f3a"
             ],
             [
              0.8888888888888888,
              "#fdca26"
             ],
             [
              1,
              "#f0f921"
             ]
            ],
            "type": "heatmap"
           }
          ],
          "heatmapgl": [
           {
            "colorbar": {
             "outlinewidth": 0,
             "ticks": ""
            },
            "colorscale": [
             [
              0,
              "#0d0887"
             ],
             [
              0.1111111111111111,
              "#46039f"
             ],
             [
              0.2222222222222222,
              "#7201a8"
             ],
             [
              0.3333333333333333,
              "#9c179e"
             ],
             [
              0.4444444444444444,
              "#bd3786"
             ],
             [
              0.5555555555555556,
              "#d8576b"
             ],
             [
              0.6666666666666666,
              "#ed7953"
             ],
             [
              0.7777777777777778,
              "#fb9f3a"
             ],
             [
              0.8888888888888888,
              "#fdca26"
             ],
             [
              1,
              "#f0f921"
             ]
            ],
            "type": "heatmapgl"
           }
          ],
          "histogram": [
           {
            "marker": {
             "pattern": {
              "fillmode": "overlay",
              "size": 10,
              "solidity": 0.2
             }
            },
            "type": "histogram"
           }
          ],
          "histogram2d": [
           {
            "colorbar": {
             "outlinewidth": 0,
             "ticks": ""
            },
            "colorscale": [
             [
              0,
              "#0d0887"
             ],
             [
              0.1111111111111111,
              "#46039f"
             ],
             [
              0.2222222222222222,
              "#7201a8"
             ],
             [
              0.3333333333333333,
              "#9c179e"
             ],
             [
              0.4444444444444444,
              "#bd3786"
             ],
             [
              0.5555555555555556,
              "#d8576b"
             ],
             [
              0.6666666666666666,
              "#ed7953"
             ],
             [
              0.7777777777777778,
              "#fb9f3a"
             ],
             [
              0.8888888888888888,
              "#fdca26"
             ],
             [
              1,
              "#f0f921"
             ]
            ],
            "type": "histogram2d"
           }
          ],
          "histogram2dcontour": [
           {
            "colorbar": {
             "outlinewidth": 0,
             "ticks": ""
            },
            "colorscale": [
             [
              0,
              "#0d0887"
             ],
             [
              0.1111111111111111,
              "#46039f"
             ],
             [
              0.2222222222222222,
              "#7201a8"
             ],
             [
              0.3333333333333333,
              "#9c179e"
             ],
             [
              0.4444444444444444,
              "#bd3786"
             ],
             [
              0.5555555555555556,
              "#d8576b"
             ],
             [
              0.6666666666666666,
              "#ed7953"
             ],
             [
              0.7777777777777778,
              "#fb9f3a"
             ],
             [
              0.8888888888888888,
              "#fdca26"
             ],
             [
              1,
              "#f0f921"
             ]
            ],
            "type": "histogram2dcontour"
           }
          ],
          "mesh3d": [
           {
            "colorbar": {
             "outlinewidth": 0,
             "ticks": ""
            },
            "type": "mesh3d"
           }
          ],
          "parcoords": [
           {
            "line": {
             "colorbar": {
              "outlinewidth": 0,
              "ticks": ""
             }
            },
            "type": "parcoords"
           }
          ],
          "pie": [
           {
            "automargin": true,
            "type": "pie"
           }
          ],
          "scatter": [
           {
            "fillpattern": {
             "fillmode": "overlay",
             "size": 10,
             "solidity": 0.2
            },
            "type": "scatter"
           }
          ],
          "scatter3d": [
           {
            "line": {
             "colorbar": {
              "outlinewidth": 0,
              "ticks": ""
             }
            },
            "marker": {
             "colorbar": {
              "outlinewidth": 0,
              "ticks": ""
             }
            },
            "type": "scatter3d"
           }
          ],
          "scattercarpet": [
           {
            "marker": {
             "colorbar": {
              "outlinewidth": 0,
              "ticks": ""
             }
            },
            "type": "scattercarpet"
           }
          ],
          "scattergeo": [
           {
            "marker": {
             "colorbar": {
              "outlinewidth": 0,
              "ticks": ""
             }
            },
            "type": "scattergeo"
           }
          ],
          "scattergl": [
           {
            "marker": {
             "colorbar": {
              "outlinewidth": 0,
              "ticks": ""
             }
            },
            "type": "scattergl"
           }
          ],
          "scattermapbox": [
           {
            "marker": {
             "colorbar": {
              "outlinewidth": 0,
              "ticks": ""
             }
            },
            "type": "scattermapbox"
           }
          ],
          "scatterpolar": [
           {
            "marker": {
             "colorbar": {
              "outlinewidth": 0,
              "ticks": ""
             }
            },
            "type": "scatterpolar"
           }
          ],
          "scatterpolargl": [
           {
            "marker": {
             "colorbar": {
              "outlinewidth": 0,
              "ticks": ""
             }
            },
            "type": "scatterpolargl"
           }
          ],
          "scatterternary": [
           {
            "marker": {
             "colorbar": {
              "outlinewidth": 0,
              "ticks": ""
             }
            },
            "type": "scatterternary"
           }
          ],
          "surface": [
           {
            "colorbar": {
             "outlinewidth": 0,
             "ticks": ""
            },
            "colorscale": [
             [
              0,
              "#0d0887"
             ],
             [
              0.1111111111111111,
              "#46039f"
             ],
             [
              0.2222222222222222,
              "#7201a8"
             ],
             [
              0.3333333333333333,
              "#9c179e"
             ],
             [
              0.4444444444444444,
              "#bd3786"
             ],
             [
              0.5555555555555556,
              "#d8576b"
             ],
             [
              0.6666666666666666,
              "#ed7953"
             ],
             [
              0.7777777777777778,
              "#fb9f3a"
             ],
             [
              0.8888888888888888,
              "#fdca26"
             ],
             [
              1,
              "#f0f921"
             ]
            ],
            "type": "surface"
           }
          ],
          "table": [
           {
            "cells": {
             "fill": {
              "color": "#EBF0F8"
             },
             "line": {
              "color": "white"
             }
            },
            "header": {
             "fill": {
              "color": "#C8D4E3"
             },
             "line": {
              "color": "white"
             }
            },
            "type": "table"
           }
          ]
         },
         "layout": {
          "annotationdefaults": {
           "arrowcolor": "#2a3f5f",
           "arrowhead": 0,
           "arrowwidth": 1
          },
          "autotypenumbers": "strict",
          "coloraxis": {
           "colorbar": {
            "outlinewidth": 0,
            "ticks": ""
           }
          },
          "colorscale": {
           "diverging": [
            [
             0,
             "#8e0152"
            ],
            [
             0.1,
             "#c51b7d"
            ],
            [
             0.2,
             "#de77ae"
            ],
            [
             0.3,
             "#f1b6da"
            ],
            [
             0.4,
             "#fde0ef"
            ],
            [
             0.5,
             "#f7f7f7"
            ],
            [
             0.6,
             "#e6f5d0"
            ],
            [
             0.7,
             "#b8e186"
            ],
            [
             0.8,
             "#7fbc41"
            ],
            [
             0.9,
             "#4d9221"
            ],
            [
             1,
             "#276419"
            ]
           ],
           "sequential": [
            [
             0,
             "#0d0887"
            ],
            [
             0.1111111111111111,
             "#46039f"
            ],
            [
             0.2222222222222222,
             "#7201a8"
            ],
            [
             0.3333333333333333,
             "#9c179e"
            ],
            [
             0.4444444444444444,
             "#bd3786"
            ],
            [
             0.5555555555555556,
             "#d8576b"
            ],
            [
             0.6666666666666666,
             "#ed7953"
            ],
            [
             0.7777777777777778,
             "#fb9f3a"
            ],
            [
             0.8888888888888888,
             "#fdca26"
            ],
            [
             1,
             "#f0f921"
            ]
           ],
           "sequentialminus": [
            [
             0,
             "#0d0887"
            ],
            [
             0.1111111111111111,
             "#46039f"
            ],
            [
             0.2222222222222222,
             "#7201a8"
            ],
            [
             0.3333333333333333,
             "#9c179e"
            ],
            [
             0.4444444444444444,
             "#bd3786"
            ],
            [
             0.5555555555555556,
             "#d8576b"
            ],
            [
             0.6666666666666666,
             "#ed7953"
            ],
            [
             0.7777777777777778,
             "#fb9f3a"
            ],
            [
             0.8888888888888888,
             "#fdca26"
            ],
            [
             1,
             "#f0f921"
            ]
           ]
          },
          "colorway": [
           "#636efa",
           "#EF553B",
           "#00cc96",
           "#ab63fa",
           "#FFA15A",
           "#19d3f3",
           "#FF6692",
           "#B6E880",
           "#FF97FF",
           "#FECB52"
          ],
          "font": {
           "color": "#2a3f5f"
          },
          "geo": {
           "bgcolor": "white",
           "lakecolor": "white",
           "landcolor": "#E5ECF6",
           "showlakes": true,
           "showland": true,
           "subunitcolor": "white"
          },
          "hoverlabel": {
           "align": "left"
          },
          "hovermode": "closest",
          "mapbox": {
           "style": "light"
          },
          "paper_bgcolor": "white",
          "plot_bgcolor": "#E5ECF6",
          "polar": {
           "angularaxis": {
            "gridcolor": "white",
            "linecolor": "white",
            "ticks": ""
           },
           "bgcolor": "#E5ECF6",
           "radialaxis": {
            "gridcolor": "white",
            "linecolor": "white",
            "ticks": ""
           }
          },
          "scene": {
           "xaxis": {
            "backgroundcolor": "#E5ECF6",
            "gridcolor": "white",
            "gridwidth": 2,
            "linecolor": "white",
            "showbackground": true,
            "ticks": "",
            "zerolinecolor": "white"
           },
           "yaxis": {
            "backgroundcolor": "#E5ECF6",
            "gridcolor": "white",
            "gridwidth": 2,
            "linecolor": "white",
            "showbackground": true,
            "ticks": "",
            "zerolinecolor": "white"
           },
           "zaxis": {
            "backgroundcolor": "#E5ECF6",
            "gridcolor": "white",
            "gridwidth": 2,
            "linecolor": "white",
            "showbackground": true,
            "ticks": "",
            "zerolinecolor": "white"
           }
          },
          "shapedefaults": {
           "line": {
            "color": "#2a3f5f"
           }
          },
          "ternary": {
           "aaxis": {
            "gridcolor": "white",
            "linecolor": "white",
            "ticks": ""
           },
           "baxis": {
            "gridcolor": "white",
            "linecolor": "white",
            "ticks": ""
           },
           "bgcolor": "#E5ECF6",
           "caxis": {
            "gridcolor": "white",
            "linecolor": "white",
            "ticks": ""
           }
          },
          "title": {
           "x": 0.05
          },
          "xaxis": {
           "automargin": true,
           "gridcolor": "white",
           "linecolor": "white",
           "ticks": "",
           "title": {
            "standoff": 15
           },
           "zerolinecolor": "white",
           "zerolinewidth": 2
          },
          "yaxis": {
           "automargin": true,
           "gridcolor": "white",
           "linecolor": "white",
           "ticks": "",
           "title": {
            "standoff": 15
           },
           "zerolinecolor": "white",
           "zerolinewidth": 2
          }
         }
        },
        "title": {
         "text": "Western GDP Per Capita vs Events Per Capita"
        },
        "xaxis": {
         "anchor": "y",
         "domain": [
          0,
          1
         ],
         "range": [
          0,
          140000
         ],
         "title": {
          "text": "gdp_per_capita"
         }
        },
        "yaxis": {
         "anchor": "x",
         "domain": [
          0,
          1
         ],
         "range": [
          0,
          15
         ],
         "title": {
          "text": "events_per_capita"
         }
        }
       }
      }
     },
     "metadata": {},
     "output_type": "display_data"
    },
    {
     "data": {
      "application/vnd.plotly.v1+json": {
       "config": {
        "plotlyServerURL": "https://plot.ly"
       },
       "data": [
        {
         "hovertemplate": "country=India<br>gdp_per_capita=%{x}<br>events_per_capita=%{y}<extra></extra>",
         "legendgroup": "India",
         "marker": {
          "color": "#636efa",
          "symbol": "circle"
         },
         "mode": "markers",
         "name": "India",
         "orientation": "v",
         "showlegend": true,
         "type": "scatter",
         "x": [
          1714.27953740039,
          1957.96981329558,
          1974.3777314935,
          2050.1638002619,
          1913.21973278751,
          2238.12714218765,
          2410.88802070689
         ],
         "xaxis": "x",
         "y": [
          0.7265602844757674,
          0.749596247419723,
          0.9403191317055885,
          1.1980952663958064,
          1.002515687041277,
          1.070786244308768,
          1.0321250979537135
         ],
         "yaxis": "y"
        },
        {
         "hovertemplate": "country=Indonesia<br>gdp_per_capita=%{x}<br>events_per_capita=%{y}<extra></extra>",
         "legendgroup": "Indonesia",
         "marker": {
          "color": "#EF553B",
          "symbol": "circle"
         },
         "mode": "markers",
         "name": "Indonesia",
         "orientation": "v",
         "showlegend": true,
         "type": "scatter",
         "x": [
          3322.58167895444,
          3558.81885175737,
          3839.78507460491,
          3902.661675559,
          4151.22755440796,
          3895.61815200225,
          4334.2159826606,
          4787.99930771921
         ],
         "xaxis": "x",
         "y": [
          0.15592918607242054,
          0.11915210354904394,
          0.08015157661251399,
          0.321267885733011,
          0.44253552334284374,
          0.5554370909192031,
          0.6403578323950935,
          1.113969177478299
         ],
         "yaxis": "y"
        },
        {
         "hovertemplate": "country=Japan<br>gdp_per_capita=%{x}<br>events_per_capita=%{y}<extra></extra>",
         "legendgroup": "Japan",
         "marker": {
          "color": "#00cc96",
          "symbol": "circle"
         },
         "mode": "markers",
         "name": "Japan",
         "orientation": "v",
         "showlegend": true,
         "type": "scatter",
         "x": [
          39751.1330982711,
          40415.9567649547,
          40040.7655055923,
          40058.5373276179,
          34017.2718075024
         ],
         "xaxis": "x",
         "y": [
          1.2908974773481796,
          1.0179021266178643,
          1.199895454653456,
          1.129043614206895,
          1.2659341772249826
         ],
         "yaxis": "y"
        },
        {
         "hovertemplate": "country=Philippines<br>gdp_per_capita=%{x}<br>events_per_capita=%{y}<extra></extra>",
         "legendgroup": "Philippines",
         "marker": {
          "color": "#ab63fa",
          "symbol": "circle"
         },
         "mode": "markers",
         "name": "Philippines",
         "orientation": "v",
         "showlegend": true,
         "type": "scatter",
         "x": [
          3038.15203684461,
          3077.43441889625,
          3194.67270132209,
          3413.84904430419,
          3224.42281121767,
          3460.53938169242,
          3498.5098055874
         ],
         "xaxis": "x",
         "y": [
          0.17067894731251504,
          0.3663158057653442,
          0.17039880578622027,
          0.2853757071745917,
          0.269183857807032,
          0.23445664821056714,
          0.2327815047288957
         ],
         "yaxis": "y"
        },
        {
         "hovertemplate": "country=Thailand<br>gdp_per_capita=%{x}<br>events_per_capita=%{y}<extra></extra>",
         "legendgroup": "Thailand",
         "marker": {
          "color": "#FFA15A",
          "symbol": "circle"
         },
         "mode": "markers",
         "name": "Thailand",
         "orientation": "v",
         "showlegend": true,
         "type": "scatter",
         "x": [
          5748.63272062158,
          6041.13394794203,
          5822.37778295314,
          5708.79409105798,
          5854.4639077194,
          6436.78965986703,
          7124.55881041403,
          7628.57603307351,
          7001.78546023389,
          7060.89770696418,
          6909.9562847948
         ],
         "xaxis": "x",
         "y": [
          0.1677342299711195,
          0.4153575836433161,
          0.5631713683447634,
          0.2546433394968876,
          0.1642895735732403,
          0.22144426173177142,
          0.23197680142006918,
          0.26084116535811114,
          1.1486427044595207,
          1.2080819481230616,
          0.4672439011769386
         ],
         "yaxis": "y"
        }
       ],
       "layout": {
        "legend": {
         "title": {
          "text": "country"
         },
         "tracegroupgap": 0
        },
        "template": {
         "data": {
          "bar": [
           {
            "error_x": {
             "color": "#2a3f5f"
            },
            "error_y": {
             "color": "#2a3f5f"
            },
            "marker": {
             "line": {
              "color": "#E5ECF6",
              "width": 0.5
             },
             "pattern": {
              "fillmode": "overlay",
              "size": 10,
              "solidity": 0.2
             }
            },
            "type": "bar"
           }
          ],
          "barpolar": [
           {
            "marker": {
             "line": {
              "color": "#E5ECF6",
              "width": 0.5
             },
             "pattern": {
              "fillmode": "overlay",
              "size": 10,
              "solidity": 0.2
             }
            },
            "type": "barpolar"
           }
          ],
          "carpet": [
           {
            "aaxis": {
             "endlinecolor": "#2a3f5f",
             "gridcolor": "white",
             "linecolor": "white",
             "minorgridcolor": "white",
             "startlinecolor": "#2a3f5f"
            },
            "baxis": {
             "endlinecolor": "#2a3f5f",
             "gridcolor": "white",
             "linecolor": "white",
             "minorgridcolor": "white",
             "startlinecolor": "#2a3f5f"
            },
            "type": "carpet"
           }
          ],
          "choropleth": [
           {
            "colorbar": {
             "outlinewidth": 0,
             "ticks": ""
            },
            "type": "choropleth"
           }
          ],
          "contour": [
           {
            "colorbar": {
             "outlinewidth": 0,
             "ticks": ""
            },
            "colorscale": [
             [
              0,
              "#0d0887"
             ],
             [
              0.1111111111111111,
              "#46039f"
             ],
             [
              0.2222222222222222,
              "#7201a8"
             ],
             [
              0.3333333333333333,
              "#9c179e"
             ],
             [
              0.4444444444444444,
              "#bd3786"
             ],
             [
              0.5555555555555556,
              "#d8576b"
             ],
             [
              0.6666666666666666,
              "#ed7953"
             ],
             [
              0.7777777777777778,
              "#fb9f3a"
             ],
             [
              0.8888888888888888,
              "#fdca26"
             ],
             [
              1,
              "#f0f921"
             ]
            ],
            "type": "contour"
           }
          ],
          "contourcarpet": [
           {
            "colorbar": {
             "outlinewidth": 0,
             "ticks": ""
            },
            "type": "contourcarpet"
           }
          ],
          "heatmap": [
           {
            "colorbar": {
             "outlinewidth": 0,
             "ticks": ""
            },
            "colorscale": [
             [
              0,
              "#0d0887"
             ],
             [
              0.1111111111111111,
              "#46039f"
             ],
             [
              0.2222222222222222,
              "#7201a8"
             ],
             [
              0.3333333333333333,
              "#9c179e"
             ],
             [
              0.4444444444444444,
              "#bd3786"
             ],
             [
              0.5555555555555556,
              "#d8576b"
             ],
             [
              0.6666666666666666,
              "#ed7953"
             ],
             [
              0.7777777777777778,
              "#fb9f3a"
             ],
             [
              0.8888888888888888,
              "#fdca26"
             ],
             [
              1,
              "#f0f921"
             ]
            ],
            "type": "heatmap"
           }
          ],
          "heatmapgl": [
           {
            "colorbar": {
             "outlinewidth": 0,
             "ticks": ""
            },
            "colorscale": [
             [
              0,
              "#0d0887"
             ],
             [
              0.1111111111111111,
              "#46039f"
             ],
             [
              0.2222222222222222,
              "#7201a8"
             ],
             [
              0.3333333333333333,
              "#9c179e"
             ],
             [
              0.4444444444444444,
              "#bd3786"
             ],
             [
              0.5555555555555556,
              "#d8576b"
             ],
             [
              0.6666666666666666,
              "#ed7953"
             ],
             [
              0.7777777777777778,
              "#fb9f3a"
             ],
             [
              0.8888888888888888,
              "#fdca26"
             ],
             [
              1,
              "#f0f921"
             ]
            ],
            "type": "heatmapgl"
           }
          ],
          "histogram": [
           {
            "marker": {
             "pattern": {
              "fillmode": "overlay",
              "size": 10,
              "solidity": 0.2
             }
            },
            "type": "histogram"
           }
          ],
          "histogram2d": [
           {
            "colorbar": {
             "outlinewidth": 0,
             "ticks": ""
            },
            "colorscale": [
             [
              0,
              "#0d0887"
             ],
             [
              0.1111111111111111,
              "#46039f"
             ],
             [
              0.2222222222222222,
              "#7201a8"
             ],
             [
              0.3333333333333333,
              "#9c179e"
             ],
             [
              0.4444444444444444,
              "#bd3786"
             ],
             [
              0.5555555555555556,
              "#d8576b"
             ],
             [
              0.6666666666666666,
              "#ed7953"
             ],
             [
              0.7777777777777778,
              "#fb9f3a"
             ],
             [
              0.8888888888888888,
              "#fdca26"
             ],
             [
              1,
              "#f0f921"
             ]
            ],
            "type": "histogram2d"
           }
          ],
          "histogram2dcontour": [
           {
            "colorbar": {
             "outlinewidth": 0,
             "ticks": ""
            },
            "colorscale": [
             [
              0,
              "#0d0887"
             ],
             [
              0.1111111111111111,
              "#46039f"
             ],
             [
              0.2222222222222222,
              "#7201a8"
             ],
             [
              0.3333333333333333,
              "#9c179e"
             ],
             [
              0.4444444444444444,
              "#bd3786"
             ],
             [
              0.5555555555555556,
              "#d8576b"
             ],
             [
              0.6666666666666666,
              "#ed7953"
             ],
             [
              0.7777777777777778,
              "#fb9f3a"
             ],
             [
              0.8888888888888888,
              "#fdca26"
             ],
             [
              1,
              "#f0f921"
             ]
            ],
            "type": "histogram2dcontour"
           }
          ],
          "mesh3d": [
           {
            "colorbar": {
             "outlinewidth": 0,
             "ticks": ""
            },
            "type": "mesh3d"
           }
          ],
          "parcoords": [
           {
            "line": {
             "colorbar": {
              "outlinewidth": 0,
              "ticks": ""
             }
            },
            "type": "parcoords"
           }
          ],
          "pie": [
           {
            "automargin": true,
            "type": "pie"
           }
          ],
          "scatter": [
           {
            "fillpattern": {
             "fillmode": "overlay",
             "size": 10,
             "solidity": 0.2
            },
            "type": "scatter"
           }
          ],
          "scatter3d": [
           {
            "line": {
             "colorbar": {
              "outlinewidth": 0,
              "ticks": ""
             }
            },
            "marker": {
             "colorbar": {
              "outlinewidth": 0,
              "ticks": ""
             }
            },
            "type": "scatter3d"
           }
          ],
          "scattercarpet": [
           {
            "marker": {
             "colorbar": {
              "outlinewidth": 0,
              "ticks": ""
             }
            },
            "type": "scattercarpet"
           }
          ],
          "scattergeo": [
           {
            "marker": {
             "colorbar": {
              "outlinewidth": 0,
              "ticks": ""
             }
            },
            "type": "scattergeo"
           }
          ],
          "scattergl": [
           {
            "marker": {
             "colorbar": {
              "outlinewidth": 0,
              "ticks": ""
             }
            },
            "type": "scattergl"
           }
          ],
          "scattermapbox": [
           {
            "marker": {
             "colorbar": {
              "outlinewidth": 0,
              "ticks": ""
             }
            },
            "type": "scattermapbox"
           }
          ],
          "scatterpolar": [
           {
            "marker": {
             "colorbar": {
              "outlinewidth": 0,
              "ticks": ""
             }
            },
            "type": "scatterpolar"
           }
          ],
          "scatterpolargl": [
           {
            "marker": {
             "colorbar": {
              "outlinewidth": 0,
              "ticks": ""
             }
            },
            "type": "scatterpolargl"
           }
          ],
          "scatterternary": [
           {
            "marker": {
             "colorbar": {
              "outlinewidth": 0,
              "ticks": ""
             }
            },
            "type": "scatterternary"
           }
          ],
          "surface": [
           {
            "colorbar": {
             "outlinewidth": 0,
             "ticks": ""
            },
            "colorscale": [
             [
              0,
              "#0d0887"
             ],
             [
              0.1111111111111111,
              "#46039f"
             ],
             [
              0.2222222222222222,
              "#7201a8"
             ],
             [
              0.3333333333333333,
              "#9c179e"
             ],
             [
              0.4444444444444444,
              "#bd3786"
             ],
             [
              0.5555555555555556,
              "#d8576b"
             ],
             [
              0.6666666666666666,
              "#ed7953"
             ],
             [
              0.7777777777777778,
              "#fb9f3a"
             ],
             [
              0.8888888888888888,
              "#fdca26"
             ],
             [
              1,
              "#f0f921"
             ]
            ],
            "type": "surface"
           }
          ],
          "table": [
           {
            "cells": {
             "fill": {
              "color": "#EBF0F8"
             },
             "line": {
              "color": "white"
             }
            },
            "header": {
             "fill": {
              "color": "#C8D4E3"
             },
             "line": {
              "color": "white"
             }
            },
            "type": "table"
           }
          ]
         },
         "layout": {
          "annotationdefaults": {
           "arrowcolor": "#2a3f5f",
           "arrowhead": 0,
           "arrowwidth": 1
          },
          "autotypenumbers": "strict",
          "coloraxis": {
           "colorbar": {
            "outlinewidth": 0,
            "ticks": ""
           }
          },
          "colorscale": {
           "diverging": [
            [
             0,
             "#8e0152"
            ],
            [
             0.1,
             "#c51b7d"
            ],
            [
             0.2,
             "#de77ae"
            ],
            [
             0.3,
             "#f1b6da"
            ],
            [
             0.4,
             "#fde0ef"
            ],
            [
             0.5,
             "#f7f7f7"
            ],
            [
             0.6,
             "#e6f5d0"
            ],
            [
             0.7,
             "#b8e186"
            ],
            [
             0.8,
             "#7fbc41"
            ],
            [
             0.9,
             "#4d9221"
            ],
            [
             1,
             "#276419"
            ]
           ],
           "sequential": [
            [
             0,
             "#0d0887"
            ],
            [
             0.1111111111111111,
             "#46039f"
            ],
            [
             0.2222222222222222,
             "#7201a8"
            ],
            [
             0.3333333333333333,
             "#9c179e"
            ],
            [
             0.4444444444444444,
             "#bd3786"
            ],
            [
             0.5555555555555556,
             "#d8576b"
            ],
            [
             0.6666666666666666,
             "#ed7953"
            ],
            [
             0.7777777777777778,
             "#fb9f3a"
            ],
            [
             0.8888888888888888,
             "#fdca26"
            ],
            [
             1,
             "#f0f921"
            ]
           ],
           "sequentialminus": [
            [
             0,
             "#0d0887"
            ],
            [
             0.1111111111111111,
             "#46039f"
            ],
            [
             0.2222222222222222,
             "#7201a8"
            ],
            [
             0.3333333333333333,
             "#9c179e"
            ],
            [
             0.4444444444444444,
             "#bd3786"
            ],
            [
             0.5555555555555556,
             "#d8576b"
            ],
            [
             0.6666666666666666,
             "#ed7953"
            ],
            [
             0.7777777777777778,
             "#fb9f3a"
            ],
            [
             0.8888888888888888,
             "#fdca26"
            ],
            [
             1,
             "#f0f921"
            ]
           ]
          },
          "colorway": [
           "#636efa",
           "#EF553B",
           "#00cc96",
           "#ab63fa",
           "#FFA15A",
           "#19d3f3",
           "#FF6692",
           "#B6E880",
           "#FF97FF",
           "#FECB52"
          ],
          "font": {
           "color": "#2a3f5f"
          },
          "geo": {
           "bgcolor": "white",
           "lakecolor": "white",
           "landcolor": "#E5ECF6",
           "showlakes": true,
           "showland": true,
           "subunitcolor": "white"
          },
          "hoverlabel": {
           "align": "left"
          },
          "hovermode": "closest",
          "mapbox": {
           "style": "light"
          },
          "paper_bgcolor": "white",
          "plot_bgcolor": "#E5ECF6",
          "polar": {
           "angularaxis": {
            "gridcolor": "white",
            "linecolor": "white",
            "ticks": ""
           },
           "bgcolor": "#E5ECF6",
           "radialaxis": {
            "gridcolor": "white",
            "linecolor": "white",
            "ticks": ""
           }
          },
          "scene": {
           "xaxis": {
            "backgroundcolor": "#E5ECF6",
            "gridcolor": "white",
            "gridwidth": 2,
            "linecolor": "white",
            "showbackground": true,
            "ticks": "",
            "zerolinecolor": "white"
           },
           "yaxis": {
            "backgroundcolor": "#E5ECF6",
            "gridcolor": "white",
            "gridwidth": 2,
            "linecolor": "white",
            "showbackground": true,
            "ticks": "",
            "zerolinecolor": "white"
           },
           "zaxis": {
            "backgroundcolor": "#E5ECF6",
            "gridcolor": "white",
            "gridwidth": 2,
            "linecolor": "white",
            "showbackground": true,
            "ticks": "",
            "zerolinecolor": "white"
           }
          },
          "shapedefaults": {
           "line": {
            "color": "#2a3f5f"
           }
          },
          "ternary": {
           "aaxis": {
            "gridcolor": "white",
            "linecolor": "white",
            "ticks": ""
           },
           "baxis": {
            "gridcolor": "white",
            "linecolor": "white",
            "ticks": ""
           },
           "bgcolor": "#E5ECF6",
           "caxis": {
            "gridcolor": "white",
            "linecolor": "white",
            "ticks": ""
           }
          },
          "title": {
           "x": 0.05
          },
          "xaxis": {
           "automargin": true,
           "gridcolor": "white",
           "linecolor": "white",
           "ticks": "",
           "title": {
            "standoff": 15
           },
           "zerolinecolor": "white",
           "zerolinewidth": 2
          },
          "yaxis": {
           "automargin": true,
           "gridcolor": "white",
           "linecolor": "white",
           "ticks": "",
           "title": {
            "standoff": 15
           },
           "zerolinecolor": "white",
           "zerolinewidth": 2
          }
         }
        },
        "title": {
         "text": "Asia GDP Per Capita vs Events Per Capita"
        },
        "xaxis": {
         "anchor": "y",
         "domain": [
          0,
          1
         ],
         "range": [
          0,
          140000
         ],
         "title": {
          "text": "gdp_per_capita"
         }
        },
        "yaxis": {
         "anchor": "x",
         "domain": [
          0,
          1
         ],
         "range": [
          0,
          15
         ],
         "title": {
          "text": "events_per_capita"
         }
        }
       }
      }
     },
     "metadata": {},
     "output_type": "display_data"
    },
    {
     "data": {
      "application/vnd.plotly.v1+json": {
       "config": {
        "plotlyServerURL": "https://plot.ly"
       },
       "data": [
        {
         "hovertemplate": "country=Argentina<br>gdp_per_capita=%{x}<br>events_per_capita=%{y}<extra></extra>",
         "legendgroup": "Argentina",
         "marker": {
          "color": "#636efa",
          "symbol": "circle"
         },
         "mode": "markers",
         "name": "Argentina",
         "orientation": "v",
         "showlegend": true,
         "type": "scatter",
         "x": [
          11795.1627452798,
          9963.67416171662,
          8500.83793850534,
          10650.8604604345,
          13650.6046294524
         ],
         "xaxis": "x",
         "y": [
          4.3376145664019345,
          2.4922832679316667,
          6.08020453111651,
          6.129833675651509,
          5.340129940999026
         ],
         "yaxis": "y"
        },
        {
         "hovertemplate": "country=Brazil<br>gdp_per_capita=%{x}<br>events_per_capita=%{y}<extra></extra>",
         "legendgroup": "Brazil",
         "marker": {
          "color": "#EF553B",
          "symbol": "circle"
         },
         "mode": "markers",
         "name": "Brazil",
         "orientation": "v",
         "showlegend": true,
         "type": "scatter",
         "x": [
          9121.02099480377,
          8845.32414932264,
          6923.6999117682,
          7696.78483012849,
          8917.67491057495
         ],
         "xaxis": "x",
         "y": [
          3.1160994417228784,
          1.579919978233557,
          1.1791949263810877,
          1.8943085653126077,
          1.7314288396354975
         ],
         "yaxis": "y"
        },
        {
         "hovertemplate": "country=Chile<br>gdp_per_capita=%{x}<br>events_per_capita=%{y}<extra></extra>",
         "legendgroup": "Chile",
         "marker": {
          "color": "#00cc96",
          "symbol": "circle"
         },
         "mode": "markers",
         "name": "Chile",
         "orientation": "v",
         "showlegend": true,
         "type": "scatter",
         "x": [
          15820.0333571155,
          14632.6903076927,
          13173.7847941723,
          16240.6077759729,
          15355.4797401048
         ],
         "xaxis": "x",
         "y": [
          5.523635867807042,
          8.351066218440257,
          5.4299631897199605,
          4.514398468716039,
          4.728691214066219
         ],
         "yaxis": "y"
        },
        {
         "hovertemplate": "country=Colombia<br>gdp_per_capita=%{x}<br>events_per_capita=%{y}<extra></extra>",
         "legendgroup": "Colombia",
         "marker": {
          "color": "#ab63fa",
          "symbol": "circle"
         },
         "mode": "markers",
         "name": "Colombia",
         "orientation": "v",
         "showlegend": true,
         "type": "scatter",
         "x": [
          6782.03792033195,
          6436.50921529527,
          5304.28912886641,
          6182.70709867964,
          6624.16539269075
         ],
         "xaxis": "x",
         "y": [
          0.8239144455357139,
          1.243339813179426,
          1.3469292820109033,
          4.431584545568083,
          2.629447061982313
         ],
         "yaxis": "y"
        },
        {
         "hovertemplate": "country=Mexico<br>gdp_per_capita=%{x}<br>events_per_capita=%{y}<extra></extra>",
         "legendgroup": "Mexico",
         "marker": {
          "color": "#FFA15A",
          "symbol": "circle"
         },
         "mode": "markers",
         "name": "Mexico",
         "orientation": "v",
         "showlegend": true,
         "type": "scatter",
         "x": [
          10130.3206984553,
          10434.5783651735,
          8894.89065003643,
          10359.1498625832,
          11496.5228716049
         ],
         "xaxis": "x",
         "y": [
          3.4439698639815752,
          3.8533701211327682,
          4.484187413890704,
          4.852210492048081,
          4.720631587409427
         ],
         "yaxis": "y"
        },
        {
         "hovertemplate": "country=Uruguay<br>gdp_per_capita=%{x}<br>events_per_capita=%{y}<extra></extra>",
         "legendgroup": "Uruguay",
         "marker": {
          "color": "#19d3f3",
          "symbol": "circle"
         },
         "mode": "markers",
         "name": "Uruguay",
         "orientation": "v",
         "showlegend": true,
         "type": "scatter",
         "x": [
          19026.0498173005,
          18098.361548609,
          15650.4993032445,
          17923.9953327961,
          20795.0423535553
         ],
         "xaxis": "x",
         "y": [
          1.2255466959552874,
          1.3125621826334022,
          1.6039259441145541,
          1.6052488719478382,
          3.1553169720409695
         ],
         "yaxis": "y"
        }
       ],
       "layout": {
        "legend": {
         "title": {
          "text": "country"
         },
         "tracegroupgap": 0
        },
        "template": {
         "data": {
          "bar": [
           {
            "error_x": {
             "color": "#2a3f5f"
            },
            "error_y": {
             "color": "#2a3f5f"
            },
            "marker": {
             "line": {
              "color": "#E5ECF6",
              "width": 0.5
             },
             "pattern": {
              "fillmode": "overlay",
              "size": 10,
              "solidity": 0.2
             }
            },
            "type": "bar"
           }
          ],
          "barpolar": [
           {
            "marker": {
             "line": {
              "color": "#E5ECF6",
              "width": 0.5
             },
             "pattern": {
              "fillmode": "overlay",
              "size": 10,
              "solidity": 0.2
             }
            },
            "type": "barpolar"
           }
          ],
          "carpet": [
           {
            "aaxis": {
             "endlinecolor": "#2a3f5f",
             "gridcolor": "white",
             "linecolor": "white",
             "minorgridcolor": "white",
             "startlinecolor": "#2a3f5f"
            },
            "baxis": {
             "endlinecolor": "#2a3f5f",
             "gridcolor": "white",
             "linecolor": "white",
             "minorgridcolor": "white",
             "startlinecolor": "#2a3f5f"
            },
            "type": "carpet"
           }
          ],
          "choropleth": [
           {
            "colorbar": {
             "outlinewidth": 0,
             "ticks": ""
            },
            "type": "choropleth"
           }
          ],
          "contour": [
           {
            "colorbar": {
             "outlinewidth": 0,
             "ticks": ""
            },
            "colorscale": [
             [
              0,
              "#0d0887"
             ],
             [
              0.1111111111111111,
              "#46039f"
             ],
             [
              0.2222222222222222,
              "#7201a8"
             ],
             [
              0.3333333333333333,
              "#9c179e"
             ],
             [
              0.4444444444444444,
              "#bd3786"
             ],
             [
              0.5555555555555556,
              "#d8576b"
             ],
             [
              0.6666666666666666,
              "#ed7953"
             ],
             [
              0.7777777777777778,
              "#fb9f3a"
             ],
             [
              0.8888888888888888,
              "#fdca26"
             ],
             [
              1,
              "#f0f921"
             ]
            ],
            "type": "contour"
           }
          ],
          "contourcarpet": [
           {
            "colorbar": {
             "outlinewidth": 0,
             "ticks": ""
            },
            "type": "contourcarpet"
           }
          ],
          "heatmap": [
           {
            "colorbar": {
             "outlinewidth": 0,
             "ticks": ""
            },
            "colorscale": [
             [
              0,
              "#0d0887"
             ],
             [
              0.1111111111111111,
              "#46039f"
             ],
             [
              0.2222222222222222,
              "#7201a8"
             ],
             [
              0.3333333333333333,
              "#9c179e"
             ],
             [
              0.4444444444444444,
              "#bd3786"
             ],
             [
              0.5555555555555556,
              "#d8576b"
             ],
             [
              0.6666666666666666,
              "#ed7953"
             ],
             [
              0.7777777777777778,
              "#fb9f3a"
             ],
             [
              0.8888888888888888,
              "#fdca26"
             ],
             [
              1,
              "#f0f921"
             ]
            ],
            "type": "heatmap"
           }
          ],
          "heatmapgl": [
           {
            "colorbar": {
             "outlinewidth": 0,
             "ticks": ""
            },
            "colorscale": [
             [
              0,
              "#0d0887"
             ],
             [
              0.1111111111111111,
              "#46039f"
             ],
             [
              0.2222222222222222,
              "#7201a8"
             ],
             [
              0.3333333333333333,
              "#9c179e"
             ],
             [
              0.4444444444444444,
              "#bd3786"
             ],
             [
              0.5555555555555556,
              "#d8576b"
             ],
             [
              0.6666666666666666,
              "#ed7953"
             ],
             [
              0.7777777777777778,
              "#fb9f3a"
             ],
             [
              0.8888888888888888,
              "#fdca26"
             ],
             [
              1,
              "#f0f921"
             ]
            ],
            "type": "heatmapgl"
           }
          ],
          "histogram": [
           {
            "marker": {
             "pattern": {
              "fillmode": "overlay",
              "size": 10,
              "solidity": 0.2
             }
            },
            "type": "histogram"
           }
          ],
          "histogram2d": [
           {
            "colorbar": {
             "outlinewidth": 0,
             "ticks": ""
            },
            "colorscale": [
             [
              0,
              "#0d0887"
             ],
             [
              0.1111111111111111,
              "#46039f"
             ],
             [
              0.2222222222222222,
              "#7201a8"
             ],
             [
              0.3333333333333333,
              "#9c179e"
             ],
             [
              0.4444444444444444,
              "#bd3786"
             ],
             [
              0.5555555555555556,
              "#d8576b"
             ],
             [
              0.6666666666666666,
              "#ed7953"
             ],
             [
              0.7777777777777778,
              "#fb9f3a"
             ],
             [
              0.8888888888888888,
              "#fdca26"
             ],
             [
              1,
              "#f0f921"
             ]
            ],
            "type": "histogram2d"
           }
          ],
          "histogram2dcontour": [
           {
            "colorbar": {
             "outlinewidth": 0,
             "ticks": ""
            },
            "colorscale": [
             [
              0,
              "#0d0887"
             ],
             [
              0.1111111111111111,
              "#46039f"
             ],
             [
              0.2222222222222222,
              "#7201a8"
             ],
             [
              0.3333333333333333,
              "#9c179e"
             ],
             [
              0.4444444444444444,
              "#bd3786"
             ],
             [
              0.5555555555555556,
              "#d8576b"
             ],
             [
              0.6666666666666666,
              "#ed7953"
             ],
             [
              0.7777777777777778,
              "#fb9f3a"
             ],
             [
              0.8888888888888888,
              "#fdca26"
             ],
             [
              1,
              "#f0f921"
             ]
            ],
            "type": "histogram2dcontour"
           }
          ],
          "mesh3d": [
           {
            "colorbar": {
             "outlinewidth": 0,
             "ticks": ""
            },
            "type": "mesh3d"
           }
          ],
          "parcoords": [
           {
            "line": {
             "colorbar": {
              "outlinewidth": 0,
              "ticks": ""
             }
            },
            "type": "parcoords"
           }
          ],
          "pie": [
           {
            "automargin": true,
            "type": "pie"
           }
          ],
          "scatter": [
           {
            "fillpattern": {
             "fillmode": "overlay",
             "size": 10,
             "solidity": 0.2
            },
            "type": "scatter"
           }
          ],
          "scatter3d": [
           {
            "line": {
             "colorbar": {
              "outlinewidth": 0,
              "ticks": ""
             }
            },
            "marker": {
             "colorbar": {
              "outlinewidth": 0,
              "ticks": ""
             }
            },
            "type": "scatter3d"
           }
          ],
          "scattercarpet": [
           {
            "marker": {
             "colorbar": {
              "outlinewidth": 0,
              "ticks": ""
             }
            },
            "type": "scattercarpet"
           }
          ],
          "scattergeo": [
           {
            "marker": {
             "colorbar": {
              "outlinewidth": 0,
              "ticks": ""
             }
            },
            "type": "scattergeo"
           }
          ],
          "scattergl": [
           {
            "marker": {
             "colorbar": {
              "outlinewidth": 0,
              "ticks": ""
             }
            },
            "type": "scattergl"
           }
          ],
          "scattermapbox": [
           {
            "marker": {
             "colorbar": {
              "outlinewidth": 0,
              "ticks": ""
             }
            },
            "type": "scattermapbox"
           }
          ],
          "scatterpolar": [
           {
            "marker": {
             "colorbar": {
              "outlinewidth": 0,
              "ticks": ""
             }
            },
            "type": "scatterpolar"
           }
          ],
          "scatterpolargl": [
           {
            "marker": {
             "colorbar": {
              "outlinewidth": 0,
              "ticks": ""
             }
            },
            "type": "scatterpolargl"
           }
          ],
          "scatterternary": [
           {
            "marker": {
             "colorbar": {
              "outlinewidth": 0,
              "ticks": ""
             }
            },
            "type": "scatterternary"
           }
          ],
          "surface": [
           {
            "colorbar": {
             "outlinewidth": 0,
             "ticks": ""
            },
            "colorscale": [
             [
              0,
              "#0d0887"
             ],
             [
              0.1111111111111111,
              "#46039f"
             ],
             [
              0.2222222222222222,
              "#7201a8"
             ],
             [
              0.3333333333333333,
              "#9c179e"
             ],
             [
              0.4444444444444444,
              "#bd3786"
             ],
             [
              0.5555555555555556,
              "#d8576b"
             ],
             [
              0.6666666666666666,
              "#ed7953"
             ],
             [
              0.7777777777777778,
              "#fb9f3a"
             ],
             [
              0.8888888888888888,
              "#fdca26"
             ],
             [
              1,
              "#f0f921"
             ]
            ],
            "type": "surface"
           }
          ],
          "table": [
           {
            "cells": {
             "fill": {
              "color": "#EBF0F8"
             },
             "line": {
              "color": "white"
             }
            },
            "header": {
             "fill": {
              "color": "#C8D4E3"
             },
             "line": {
              "color": "white"
             }
            },
            "type": "table"
           }
          ]
         },
         "layout": {
          "annotationdefaults": {
           "arrowcolor": "#2a3f5f",
           "arrowhead": 0,
           "arrowwidth": 1
          },
          "autotypenumbers": "strict",
          "coloraxis": {
           "colorbar": {
            "outlinewidth": 0,
            "ticks": ""
           }
          },
          "colorscale": {
           "diverging": [
            [
             0,
             "#8e0152"
            ],
            [
             0.1,
             "#c51b7d"
            ],
            [
             0.2,
             "#de77ae"
            ],
            [
             0.3,
             "#f1b6da"
            ],
            [
             0.4,
             "#fde0ef"
            ],
            [
             0.5,
             "#f7f7f7"
            ],
            [
             0.6,
             "#e6f5d0"
            ],
            [
             0.7,
             "#b8e186"
            ],
            [
             0.8,
             "#7fbc41"
            ],
            [
             0.9,
             "#4d9221"
            ],
            [
             1,
             "#276419"
            ]
           ],
           "sequential": [
            [
             0,
             "#0d0887"
            ],
            [
             0.1111111111111111,
             "#46039f"
            ],
            [
             0.2222222222222222,
             "#7201a8"
            ],
            [
             0.3333333333333333,
             "#9c179e"
            ],
            [
             0.4444444444444444,
             "#bd3786"
            ],
            [
             0.5555555555555556,
             "#d8576b"
            ],
            [
             0.6666666666666666,
             "#ed7953"
            ],
            [
             0.7777777777777778,
             "#fb9f3a"
            ],
            [
             0.8888888888888888,
             "#fdca26"
            ],
            [
             1,
             "#f0f921"
            ]
           ],
           "sequentialminus": [
            [
             0,
             "#0d0887"
            ],
            [
             0.1111111111111111,
             "#46039f"
            ],
            [
             0.2222222222222222,
             "#7201a8"
            ],
            [
             0.3333333333333333,
             "#9c179e"
            ],
            [
             0.4444444444444444,
             "#bd3786"
            ],
            [
             0.5555555555555556,
             "#d8576b"
            ],
            [
             0.6666666666666666,
             "#ed7953"
            ],
            [
             0.7777777777777778,
             "#fb9f3a"
            ],
            [
             0.8888888888888888,
             "#fdca26"
            ],
            [
             1,
             "#f0f921"
            ]
           ]
          },
          "colorway": [
           "#636efa",
           "#EF553B",
           "#00cc96",
           "#ab63fa",
           "#FFA15A",
           "#19d3f3",
           "#FF6692",
           "#B6E880",
           "#FF97FF",
           "#FECB52"
          ],
          "font": {
           "color": "#2a3f5f"
          },
          "geo": {
           "bgcolor": "white",
           "lakecolor": "white",
           "landcolor": "#E5ECF6",
           "showlakes": true,
           "showland": true,
           "subunitcolor": "white"
          },
          "hoverlabel": {
           "align": "left"
          },
          "hovermode": "closest",
          "mapbox": {
           "style": "light"
          },
          "paper_bgcolor": "white",
          "plot_bgcolor": "#E5ECF6",
          "polar": {
           "angularaxis": {
            "gridcolor": "white",
            "linecolor": "white",
            "ticks": ""
           },
           "bgcolor": "#E5ECF6",
           "radialaxis": {
            "gridcolor": "white",
            "linecolor": "white",
            "ticks": ""
           }
          },
          "scene": {
           "xaxis": {
            "backgroundcolor": "#E5ECF6",
            "gridcolor": "white",
            "gridwidth": 2,
            "linecolor": "white",
            "showbackground": true,
            "ticks": "",
            "zerolinecolor": "white"
           },
           "yaxis": {
            "backgroundcolor": "#E5ECF6",
            "gridcolor": "white",
            "gridwidth": 2,
            "linecolor": "white",
            "showbackground": true,
            "ticks": "",
            "zerolinecolor": "white"
           },
           "zaxis": {
            "backgroundcolor": "#E5ECF6",
            "gridcolor": "white",
            "gridwidth": 2,
            "linecolor": "white",
            "showbackground": true,
            "ticks": "",
            "zerolinecolor": "white"
           }
          },
          "shapedefaults": {
           "line": {
            "color": "#2a3f5f"
           }
          },
          "ternary": {
           "aaxis": {
            "gridcolor": "white",
            "linecolor": "white",
            "ticks": ""
           },
           "baxis": {
            "gridcolor": "white",
            "linecolor": "white",
            "ticks": ""
           },
           "bgcolor": "#E5ECF6",
           "caxis": {
            "gridcolor": "white",
            "linecolor": "white",
            "ticks": ""
           }
          },
          "title": {
           "x": 0.05
          },
          "xaxis": {
           "automargin": true,
           "gridcolor": "white",
           "linecolor": "white",
           "ticks": "",
           "title": {
            "standoff": 15
           },
           "zerolinecolor": "white",
           "zerolinewidth": 2
          },
          "yaxis": {
           "automargin": true,
           "gridcolor": "white",
           "linecolor": "white",
           "ticks": "",
           "title": {
            "standoff": 15
           },
           "zerolinecolor": "white",
           "zerolinewidth": 2
          }
         }
        },
        "title": {
         "text": "South America GDP Per Capita vs Events Per Capita"
        },
        "xaxis": {
         "anchor": "y",
         "domain": [
          0,
          1
         ],
         "range": [
          0,
          140000
         ],
         "title": {
          "text": "gdp_per_capita"
         }
        },
        "yaxis": {
         "anchor": "x",
         "domain": [
          0,
          1
         ],
         "range": [
          0,
          15
         ],
         "title": {
          "text": "events_per_capita"
         }
        }
       }
      }
     },
     "metadata": {},
     "output_type": "display_data"
    }
   ],
   "source": [
    "import plotly.express as px\n",
    "fig = px.scatter(combined_data, x='gdp_per_capita', y='events_per_capita', color='country', title='Worldwide GDP Per Capita vs Events Per Capita')\n",
    "fig.show()\n",
    "\n",
    "# just show European countries\n",
    "western_countries = ['Austria', 'Belgium', 'Denmark', 'Finland', 'France', 'Germany', 'Iceland', 'Ireland', 'Italy', 'Luxembourg', 'Netherlands', 'Norway', 'Portugal', 'Spain', 'Sweden', 'Switzerland', 'United Kingdom', 'Canada', 'United States', 'Australia', 'Albania', 'Bulgaria', 'Croatia', 'Czech Republic', 'Estonia', 'Greece', 'Hungary', 'Kosovo', 'Latvia', 'Lithuania', 'Malta', 'Poland', 'Romania', 'Serbia', 'Slovakia', 'Slovenia']\n",
    "western_data = combined_data[combined_data['country'].isin(western_countries)]\n",
    "combined_data['Western'] = combined_data['country'].isin(western_countries).astype(int)\n",
    "# plot the data within a set range\n",
    "fig = px.scatter(western_data, x='gdp_per_capita', y='events_per_capita', color='country', title='Western GDP Per Capita vs Events Per Capita', range_x=[0, 140000], range_y=[0, 15])\n",
    "fig.show()\n",
    "\n",
    "# just show the countries in Asia\n",
    "asia_countries = ['India', 'Indonesia', 'Japan', 'Philippines', 'Thailand', 'South Korea', 'Taiwan']\n",
    "asia_data = combined_data[combined_data['country'].isin(asia_countries)]\n",
    "combined_data['Asia'] = combined_data['country'].isin(asia_countries).astype(int)\n",
    "fig = px.scatter(asia_data, x='gdp_per_capita', y='events_per_capita', color='country', title='Asia GDP Per Capita vs Events Per Capita', range_x=[0, 140000], range_y=[0, 15])\n",
    "fig.show()\n",
    "\n",
    "# just show the countries in South America\n",
    "south_america_countries = ['Brazil', 'Mexico', 'Colombia', 'Argentina', 'Chile', 'Uruguay']\n",
    "south_america_data = combined_data[combined_data['country'].isin(south_america_countries)]\n",
    "combined_data['South America'] = combined_data['country'].isin(south_america_countries).astype(int)\n",
    "fig = px.scatter(south_america_data, x='gdp_per_capita', y='events_per_capita', color='country', title='South America GDP Per Capita vs Events Per Capita', range_x=[0, 140000], range_y=[0, 15])\n",
    "fig.show()\n",
    "\n",
    "# just show the countries in Africa"
   ]
  },
  {
   "cell_type": "code",
   "execution_count": 12,
   "id": "602319b0",
   "metadata": {},
   "outputs": [
    {
     "data": {
      "text/html": [
       "<div>\n",
       "<style scoped>\n",
       "    .dataframe tbody tr th:only-of-type {\n",
       "        vertical-align: middle;\n",
       "    }\n",
       "\n",
       "    .dataframe tbody tr th {\n",
       "        vertical-align: top;\n",
       "    }\n",
       "\n",
       "    .dataframe thead th {\n",
       "        text-align: right;\n",
       "    }\n",
       "</style>\n",
       "<table border=\"1\" class=\"dataframe\">\n",
       "  <thead>\n",
       "    <tr style=\"text-align: right;\">\n",
       "      <th></th>\n",
       "      <th>event_date</th>\n",
       "      <th>country</th>\n",
       "      <th>counts</th>\n",
       "      <th>population</th>\n",
       "      <th>events_per_capita</th>\n",
       "      <th>gdp_per_capita</th>\n",
       "      <th>Western</th>\n",
       "      <th>Asia</th>\n",
       "      <th>South America</th>\n",
       "      <th>public_trust_percentage</th>\n",
       "    </tr>\n",
       "  </thead>\n",
       "  <tbody>\n",
       "    <tr>\n",
       "      <th>0</th>\n",
       "      <td>2021</td>\n",
       "      <td>Australia</td>\n",
       "      <td>681</td>\n",
       "      <td>25685412</td>\n",
       "      <td>2.651310</td>\n",
       "      <td>60697.245436</td>\n",
       "      <td>1</td>\n",
       "      <td>0</td>\n",
       "      <td>0</td>\n",
       "      <td>51.9</td>\n",
       "    </tr>\n",
       "    <tr>\n",
       "      <th>1</th>\n",
       "      <td>2022</td>\n",
       "      <td>Australia</td>\n",
       "      <td>794</td>\n",
       "      <td>26005540</td>\n",
       "      <td>3.053196</td>\n",
       "      <td>65099.845912</td>\n",
       "      <td>1</td>\n",
       "      <td>0</td>\n",
       "      <td>0</td>\n",
       "      <td>49.9</td>\n",
       "    </tr>\n",
       "    <tr>\n",
       "      <th>2</th>\n",
       "      <td>2020</td>\n",
       "      <td>Austria</td>\n",
       "      <td>354</td>\n",
       "      <td>8916864</td>\n",
       "      <td>3.970006</td>\n",
       "      <td>48789.497850</td>\n",
       "      <td>1</td>\n",
       "      <td>0</td>\n",
       "      <td>0</td>\n",
       "      <td>62.6</td>\n",
       "    </tr>\n",
       "    <tr>\n",
       "      <th>3</th>\n",
       "      <td>2021</td>\n",
       "      <td>Austria</td>\n",
       "      <td>562</td>\n",
       "      <td>8955797</td>\n",
       "      <td>6.275265</td>\n",
       "      <td>53517.890451</td>\n",
       "      <td>1</td>\n",
       "      <td>0</td>\n",
       "      <td>0</td>\n",
       "      <td>61.0</td>\n",
       "    </tr>\n",
       "    <tr>\n",
       "      <th>4</th>\n",
       "      <td>2022</td>\n",
       "      <td>Austria</td>\n",
       "      <td>294</td>\n",
       "      <td>9041851</td>\n",
       "      <td>3.251547</td>\n",
       "      <td>52084.681195</td>\n",
       "      <td>1</td>\n",
       "      <td>0</td>\n",
       "      <td>0</td>\n",
       "      <td>61.0</td>\n",
       "    </tr>\n",
       "    <tr>\n",
       "      <th>...</th>\n",
       "      <td>...</td>\n",
       "      <td>...</td>\n",
       "      <td>...</td>\n",
       "      <td>...</td>\n",
       "      <td>...</td>\n",
       "      <td>...</td>\n",
       "      <td>...</td>\n",
       "      <td>...</td>\n",
       "      <td>...</td>\n",
       "      <td>...</td>\n",
       "    </tr>\n",
       "    <tr>\n",
       "      <th>113</th>\n",
       "      <td>2021</td>\n",
       "      <td>United Kingdom</td>\n",
       "      <td>1585</td>\n",
       "      <td>67026292</td>\n",
       "      <td>2.364744</td>\n",
       "      <td>46869.759058</td>\n",
       "      <td>1</td>\n",
       "      <td>0</td>\n",
       "      <td>0</td>\n",
       "      <td>39.5</td>\n",
       "    </tr>\n",
       "    <tr>\n",
       "      <th>114</th>\n",
       "      <td>2022</td>\n",
       "      <td>United Kingdom</td>\n",
       "      <td>1745</td>\n",
       "      <td>66971395</td>\n",
       "      <td>2.605590</td>\n",
       "      <td>46125.255751</td>\n",
       "      <td>1</td>\n",
       "      <td>0</td>\n",
       "      <td>0</td>\n",
       "      <td>39.5</td>\n",
       "    </tr>\n",
       "    <tr>\n",
       "      <th>115</th>\n",
       "      <td>2020</td>\n",
       "      <td>United States</td>\n",
       "      <td>21585</td>\n",
       "      <td>331511512</td>\n",
       "      <td>6.511086</td>\n",
       "      <td>63528.634303</td>\n",
       "      <td>1</td>\n",
       "      <td>0</td>\n",
       "      <td>0</td>\n",
       "      <td>46.5</td>\n",
       "    </tr>\n",
       "    <tr>\n",
       "      <th>116</th>\n",
       "      <td>2021</td>\n",
       "      <td>United States</td>\n",
       "      <td>13147</td>\n",
       "      <td>332031554</td>\n",
       "      <td>3.959563</td>\n",
       "      <td>70219.472454</td>\n",
       "      <td>1</td>\n",
       "      <td>0</td>\n",
       "      <td>0</td>\n",
       "      <td>40.5</td>\n",
       "    </tr>\n",
       "    <tr>\n",
       "      <th>117</th>\n",
       "      <td>2022</td>\n",
       "      <td>United States</td>\n",
       "      <td>12183</td>\n",
       "      <td>333287557</td>\n",
       "      <td>3.655402</td>\n",
       "      <td>76329.582265</td>\n",
       "      <td>1</td>\n",
       "      <td>0</td>\n",
       "      <td>0</td>\n",
       "      <td>31.0</td>\n",
       "    </tr>\n",
       "  </tbody>\n",
       "</table>\n",
       "<p>118 rows × 10 columns</p>\n",
       "</div>"
      ],
      "text/plain": [
       "    event_date         country  counts  population  events_per_capita  \\\n",
       "0         2021       Australia     681    25685412           2.651310   \n",
       "1         2022       Australia     794    26005540           3.053196   \n",
       "2         2020         Austria     354     8916864           3.970006   \n",
       "3         2021         Austria     562     8955797           6.275265   \n",
       "4         2022         Austria     294     9041851           3.251547   \n",
       "..         ...             ...     ...         ...                ...   \n",
       "113       2021  United Kingdom    1585    67026292           2.364744   \n",
       "114       2022  United Kingdom    1745    66971395           2.605590   \n",
       "115       2020   United States   21585   331511512           6.511086   \n",
       "116       2021   United States   13147   332031554           3.959563   \n",
       "117       2022   United States   12183   333287557           3.655402   \n",
       "\n",
       "     gdp_per_capita  Western  Asia  South America  public_trust_percentage  \n",
       "0      60697.245436        1     0              0                     51.9  \n",
       "1      65099.845912        1     0              0                     49.9  \n",
       "2      48789.497850        1     0              0                     62.6  \n",
       "3      53517.890451        1     0              0                     61.0  \n",
       "4      52084.681195        1     0              0                     61.0  \n",
       "..              ...      ...   ...            ...                      ...  \n",
       "113    46869.759058        1     0              0                     39.5  \n",
       "114    46125.255751        1     0              0                     39.5  \n",
       "115    63528.634303        1     0              0                     46.5  \n",
       "116    70219.472454        1     0              0                     40.5  \n",
       "117    76329.582265        1     0              0                     31.0  \n",
       "\n",
       "[118 rows x 10 columns]"
      ]
     },
     "execution_count": 12,
     "metadata": {},
     "output_type": "execute_result"
    }
   ],
   "source": [
    "gov_trust_df = pd.read_csv('gov_trust.csv')\n",
    "gov_trust_df['event_date'] = gov_trust_df['event_date'].astype(str)\n",
    "combined_data = pd.merge(combined_data, gov_trust_df, on=['country', 'event_date'])\n",
    "combined_data"
   ]
  },
  {
   "cell_type": "code",
   "execution_count": 14,
   "id": "fe537f13",
   "metadata": {},
   "outputs": [
    {
     "name": "stdout",
     "output_type": "stream",
     "text": [
      "'NoneType' object is not iterable\n",
      "[{'page': 0, 'pages': 0, 'per_page': 0, 'total': 0, 'sourceid': None, 'lastupdated': None}, None]\n"
     ]
    },
    {
     "data": {
      "text/html": [
       "<div>\n",
       "<style scoped>\n",
       "    .dataframe tbody tr th:only-of-type {\n",
       "        vertical-align: middle;\n",
       "    }\n",
       "\n",
       "    .dataframe tbody tr th {\n",
       "        vertical-align: top;\n",
       "    }\n",
       "\n",
       "    .dataframe thead th {\n",
       "        text-align: right;\n",
       "    }\n",
       "</style>\n",
       "<table border=\"1\" class=\"dataframe\">\n",
       "  <thead>\n",
       "    <tr style=\"text-align: right;\">\n",
       "      <th></th>\n",
       "      <th>event_date</th>\n",
       "      <th>country</th>\n",
       "      <th>counts</th>\n",
       "      <th>population</th>\n",
       "      <th>events_per_capita</th>\n",
       "      <th>gdp_per_capita</th>\n",
       "      <th>Western</th>\n",
       "      <th>Asia</th>\n",
       "      <th>South America</th>\n",
       "      <th>public_trust_percentage</th>\n",
       "      <th>poverty_gaps</th>\n",
       "    </tr>\n",
       "  </thead>\n",
       "  <tbody>\n",
       "    <tr>\n",
       "      <th>0</th>\n",
       "      <td>2021</td>\n",
       "      <td>Australia</td>\n",
       "      <td>681</td>\n",
       "      <td>25685412</td>\n",
       "      <td>2.651310</td>\n",
       "      <td>60697.245436</td>\n",
       "      <td>1</td>\n",
       "      <td>0</td>\n",
       "      <td>0</td>\n",
       "      <td>51.9</td>\n",
       "      <td>NaN</td>\n",
       "    </tr>\n",
       "    <tr>\n",
       "      <th>1</th>\n",
       "      <td>2022</td>\n",
       "      <td>Australia</td>\n",
       "      <td>794</td>\n",
       "      <td>26005540</td>\n",
       "      <td>3.053196</td>\n",
       "      <td>65099.845912</td>\n",
       "      <td>1</td>\n",
       "      <td>0</td>\n",
       "      <td>0</td>\n",
       "      <td>49.9</td>\n",
       "      <td>NaN</td>\n",
       "    </tr>\n",
       "    <tr>\n",
       "      <th>2</th>\n",
       "      <td>2020</td>\n",
       "      <td>Austria</td>\n",
       "      <td>354</td>\n",
       "      <td>8916864</td>\n",
       "      <td>3.970006</td>\n",
       "      <td>48789.497850</td>\n",
       "      <td>1</td>\n",
       "      <td>0</td>\n",
       "      <td>0</td>\n",
       "      <td>62.6</td>\n",
       "      <td>0.6</td>\n",
       "    </tr>\n",
       "    <tr>\n",
       "      <th>3</th>\n",
       "      <td>2021</td>\n",
       "      <td>Austria</td>\n",
       "      <td>562</td>\n",
       "      <td>8955797</td>\n",
       "      <td>6.275265</td>\n",
       "      <td>53517.890451</td>\n",
       "      <td>1</td>\n",
       "      <td>0</td>\n",
       "      <td>0</td>\n",
       "      <td>61.0</td>\n",
       "      <td>0.4</td>\n",
       "    </tr>\n",
       "    <tr>\n",
       "      <th>4</th>\n",
       "      <td>2022</td>\n",
       "      <td>Austria</td>\n",
       "      <td>294</td>\n",
       "      <td>9041851</td>\n",
       "      <td>3.251547</td>\n",
       "      <td>52084.681195</td>\n",
       "      <td>1</td>\n",
       "      <td>0</td>\n",
       "      <td>0</td>\n",
       "      <td>61.0</td>\n",
       "      <td>NaN</td>\n",
       "    </tr>\n",
       "    <tr>\n",
       "      <th>...</th>\n",
       "      <td>...</td>\n",
       "      <td>...</td>\n",
       "      <td>...</td>\n",
       "      <td>...</td>\n",
       "      <td>...</td>\n",
       "      <td>...</td>\n",
       "      <td>...</td>\n",
       "      <td>...</td>\n",
       "      <td>...</td>\n",
       "      <td>...</td>\n",
       "      <td>...</td>\n",
       "    </tr>\n",
       "    <tr>\n",
       "      <th>113</th>\n",
       "      <td>2021</td>\n",
       "      <td>United Kingdom</td>\n",
       "      <td>1585</td>\n",
       "      <td>67026292</td>\n",
       "      <td>2.364744</td>\n",
       "      <td>46869.759058</td>\n",
       "      <td>1</td>\n",
       "      <td>0</td>\n",
       "      <td>0</td>\n",
       "      <td>39.5</td>\n",
       "      <td>0.2</td>\n",
       "    </tr>\n",
       "    <tr>\n",
       "      <th>114</th>\n",
       "      <td>2022</td>\n",
       "      <td>United Kingdom</td>\n",
       "      <td>1745</td>\n",
       "      <td>66971395</td>\n",
       "      <td>2.605590</td>\n",
       "      <td>46125.255751</td>\n",
       "      <td>1</td>\n",
       "      <td>0</td>\n",
       "      <td>0</td>\n",
       "      <td>39.5</td>\n",
       "      <td>NaN</td>\n",
       "    </tr>\n",
       "    <tr>\n",
       "      <th>115</th>\n",
       "      <td>2020</td>\n",
       "      <td>United States</td>\n",
       "      <td>21585</td>\n",
       "      <td>331511512</td>\n",
       "      <td>6.511086</td>\n",
       "      <td>63528.634303</td>\n",
       "      <td>1</td>\n",
       "      <td>0</td>\n",
       "      <td>0</td>\n",
       "      <td>46.5</td>\n",
       "      <td>0.2</td>\n",
       "    </tr>\n",
       "    <tr>\n",
       "      <th>116</th>\n",
       "      <td>2021</td>\n",
       "      <td>United States</td>\n",
       "      <td>13147</td>\n",
       "      <td>332031554</td>\n",
       "      <td>3.959563</td>\n",
       "      <td>70219.472454</td>\n",
       "      <td>1</td>\n",
       "      <td>0</td>\n",
       "      <td>0</td>\n",
       "      <td>40.5</td>\n",
       "      <td>0.2</td>\n",
       "    </tr>\n",
       "    <tr>\n",
       "      <th>117</th>\n",
       "      <td>2022</td>\n",
       "      <td>United States</td>\n",
       "      <td>12183</td>\n",
       "      <td>333287557</td>\n",
       "      <td>3.655402</td>\n",
       "      <td>76329.582265</td>\n",
       "      <td>1</td>\n",
       "      <td>0</td>\n",
       "      <td>0</td>\n",
       "      <td>31.0</td>\n",
       "      <td>NaN</td>\n",
       "    </tr>\n",
       "  </tbody>\n",
       "</table>\n",
       "<p>118 rows × 11 columns</p>\n",
       "</div>"
      ],
      "text/plain": [
       "    event_date         country  counts  population  events_per_capita  \\\n",
       "0         2021       Australia     681    25685412           2.651310   \n",
       "1         2022       Australia     794    26005540           3.053196   \n",
       "2         2020         Austria     354     8916864           3.970006   \n",
       "3         2021         Austria     562     8955797           6.275265   \n",
       "4         2022         Austria     294     9041851           3.251547   \n",
       "..         ...             ...     ...         ...                ...   \n",
       "113       2021  United Kingdom    1585    67026292           2.364744   \n",
       "114       2022  United Kingdom    1745    66971395           2.605590   \n",
       "115       2020   United States   21585   331511512           6.511086   \n",
       "116       2021   United States   13147   332031554           3.959563   \n",
       "117       2022   United States   12183   333287557           3.655402   \n",
       "\n",
       "     gdp_per_capita  Western  Asia  South America  public_trust_percentage  \\\n",
       "0      60697.245436        1     0              0                     51.9   \n",
       "1      65099.845912        1     0              0                     49.9   \n",
       "2      48789.497850        1     0              0                     62.6   \n",
       "3      53517.890451        1     0              0                     61.0   \n",
       "4      52084.681195        1     0              0                     61.0   \n",
       "..              ...      ...   ...            ...                      ...   \n",
       "113    46869.759058        1     0              0                     39.5   \n",
       "114    46125.255751        1     0              0                     39.5   \n",
       "115    63528.634303        1     0              0                     46.5   \n",
       "116    70219.472454        1     0              0                     40.5   \n",
       "117    76329.582265        1     0              0                     31.0   \n",
       "\n",
       "     poverty_gaps  \n",
       "0             NaN  \n",
       "1             NaN  \n",
       "2             0.6  \n",
       "3             0.4  \n",
       "4             NaN  \n",
       "..            ...  \n",
       "113           0.2  \n",
       "114           NaN  \n",
       "115           0.2  \n",
       "116           0.2  \n",
       "117           NaN  \n",
       "\n",
       "[118 rows x 11 columns]"
      ]
     },
     "execution_count": 14,
     "metadata": {},
     "output_type": "execute_result"
    }
   ],
   "source": [
    "poverty_gaps_df = get_world_bank_data('SI.POV.GAPS')\n",
    "poverty_gaps_df = poverty_gaps_df.rename(columns={'value': 'poverty_gaps', 'year': 'event_date'})\n",
    "combined_data = pd.merge(combined_data, poverty_gaps_df, on=['country', 'event_date'])\n",
    "combined_data"
   ]
  },
  {
   "cell_type": "code",
   "execution_count": 16,
   "id": "3e00a308",
   "metadata": {},
   "outputs": [
    {
     "data": {
      "application/vnd.plotly.v1+json": {
       "config": {
        "plotlyServerURL": "https://plot.ly"
       },
       "data": [
        {
         "hovertemplate": "country=Australia<br>Public Trust of Their Government (% out of 100)=%{x}<br>GDP=%{y}<br>Events Per Capita=%{z}<extra></extra>",
         "legendgroup": "Australia",
         "marker": {
          "color": "#636efa",
          "symbol": "circle"
         },
         "mode": "markers",
         "name": "Australia",
         "scene": "scene",
         "showlegend": true,
         "type": "scatter3d",
         "x": [
          51.9,
          49.9
         ],
         "y": [
          60697.2454358579,
          65099.8459118981
         ],
         "z": [
          2.6513104014060587,
          3.053195588324641
         ]
        },
        {
         "hovertemplate": "country=Austria<br>Public Trust of Their Government (% out of 100)=%{x}<br>GDP=%{y}<br>Events Per Capita=%{z}<extra></extra>",
         "legendgroup": "Austria",
         "marker": {
          "color": "#EF553B",
          "symbol": "circle"
         },
         "mode": "markers",
         "name": "Austria",
         "scene": "scene",
         "showlegend": true,
         "type": "scatter3d",
         "x": [
          62.6,
          61,
          61
         ],
         "y": [
          48789.4978498872,
          53517.8904509612,
          52084.6811953372
         ],
         "z": [
          3.970005598380776,
          6.275265060161591,
          3.2515466136303286
         ]
        },
        {
         "hovertemplate": "country=Belgium<br>Public Trust of Their Government (% out of 100)=%{x}<br>GDP=%{y}<br>Events Per Capita=%{z}<extra></extra>",
         "legendgroup": "Belgium",
         "marker": {
          "color": "#00cc96",
          "symbol": "circle"
         },
         "mode": "markers",
         "name": "Belgium",
         "scene": "scene",
         "showlegend": true,
         "type": "scatter3d",
         "x": [
          29.5,
          47.3,
          57.2
         ],
         "y": [
          45609.0034936111,
          51850.3971840229,
          49926.8254295305
         ],
         "z": [
          6.7945827762179904,
          7.189590715502372,
          4.475511932673239
         ]
        },
        {
         "hovertemplate": "country=Brazil<br>Public Trust of Their Government (% out of 100)=%{x}<br>GDP=%{y}<br>Events Per Capita=%{z}<extra></extra>",
         "legendgroup": "Brazil",
         "marker": {
          "color": "#ab63fa",
          "symbol": "circle"
         },
         "mode": "markers",
         "name": "Brazil",
         "scene": "scene",
         "showlegend": true,
         "type": "scatter3d",
         "x": [
          16.8,
          34.1,
          36.2,
          32.7,
          39.2
         ],
         "y": [
          9121.02099480377,
          8845.32414932264,
          6923.6999117682,
          7696.78483012849,
          8917.67491057495
         ],
         "z": [
          3.1160994417228784,
          1.579919978233557,
          1.1791949263810877,
          1.8943085653126077,
          1.7314288396354975
         ]
        },
        {
         "hovertemplate": "country=Canada<br>Public Trust of Their Government (% out of 100)=%{x}<br>GDP=%{y}<br>Events Per Capita=%{z}<extra></extra>",
         "legendgroup": "Canada",
         "marker": {
          "color": "#FFA15A",
          "symbol": "circle"
         },
         "mode": "markers",
         "name": "Canada",
         "scene": "scene",
         "showlegend": true,
         "type": "scatter3d",
         "x": [
          61,
          50.7
         ],
         "y": [
          52515.1998350503,
          55522.445687688
         ],
         "z": [
          4.423633051607291,
          4.695619321106947
         ]
        },
        {
         "hovertemplate": "country=Chile<br>Public Trust of Their Government (% out of 100)=%{x}<br>GDP=%{y}<br>Events Per Capita=%{z}<extra></extra>",
         "legendgroup": "Chile",
         "marker": {
          "color": "#19d3f3",
          "symbol": "circle"
         },
         "mode": "markers",
         "name": "Chile",
         "scene": "scene",
         "showlegend": true,
         "type": "scatter3d",
         "x": [
          33.5,
          15.3,
          17.1,
          23.2,
          28.7
         ],
         "y": [
          15820.0333571155,
          14632.6903076927,
          13173.7847941723,
          16240.6077759729,
          15355.4797401048
         ],
         "z": [
          5.523635867807042,
          8.351066218440257,
          5.4299631897199605,
          4.514398468716039,
          4.728691214066219
         ]
        },
        {
         "hovertemplate": "country=Colombia<br>Public Trust of Their Government (% out of 100)=%{x}<br>GDP=%{y}<br>Events Per Capita=%{z}<extra></extra>",
         "legendgroup": "Colombia",
         "marker": {
          "color": "#FF6692",
          "symbol": "circle"
         },
         "mode": "markers",
         "name": "Colombia",
         "scene": "scene",
         "showlegend": true,
         "type": "scatter3d",
         "x": [
          27.5,
          32.8,
          37.4,
          28.9,
          29.7
         ],
         "y": [
          6782.03792033195,
          6436.50921529527,
          5304.28912886641,
          6182.70709867964,
          6624.16539269075
         ],
         "z": [
          0.8239144455357139,
          1.243339813179426,
          1.3469292820109033,
          4.431584545568083,
          2.629447061982313
         ]
        },
        {
         "hovertemplate": "country=Costa Rica<br>Public Trust of Their Government (% out of 100)=%{x}<br>GDP=%{y}<br>Events Per Capita=%{z}<extra></extra>",
         "legendgroup": "Costa Rica",
         "marker": {
          "color": "#B6E880",
          "symbol": "circle"
         },
         "mode": "markers",
         "name": "Costa Rica",
         "scene": "scene",
         "showlegend": true,
         "type": "scatter3d",
         "x": [
          48,
          28.3,
          29.8,
          31.5,
          60
         ],
         "y": [
          12383.1499522763,
          12669.3411549351,
          12179.2566735195,
          12604.0488374731,
          13365.3563992692
         ],
         "z": [
          5.93167582340191,
          6.588610318511124,
          11.028468087224446,
          3.7252930127278905,
          3.165516561152665
         ]
        },
        {
         "hovertemplate": "country=Denmark<br>Public Trust of Their Government (% out of 100)=%{x}<br>GDP=%{y}<br>Events Per Capita=%{z}<extra></extra>",
         "legendgroup": "Denmark",
         "marker": {
          "color": "#FF97FF",
          "symbol": "circle"
         },
         "mode": "markers",
         "name": "Denmark",
         "scene": "scene",
         "showlegend": true,
         "type": "scatter3d",
         "x": [
          71.6,
          65.2,
          63.5
         ],
         "y": [
          60836.5924121638,
          69268.6517983134,
          67790.0539923276
         ],
         "z": [
          9.620324710824358,
          14.137574651260353,
          6.284900467335713
         ]
        },
        {
         "hovertemplate": "country=Estonia<br>Public Trust of Their Government (% out of 100)=%{x}<br>GDP=%{y}<br>Events Per Capita=%{z}<extra></extra>",
         "legendgroup": "Estonia",
         "marker": {
          "color": "#FECB52",
          "symbol": "circle"
         },
         "mode": "markers",
         "name": "Estonia",
         "scene": "scene",
         "showlegend": true,
         "type": "scatter3d",
         "x": [
          46.5,
          51.9,
          50.8
         ],
         "y": [
          23595.2436836441,
          27943.701219882,
          28247.095992497
         ],
         "z": [
          10.605315293767234,
          8.490291014116425,
          5.486195545802318
         ]
        },
        {
         "hovertemplate": "country=Finland<br>Public Trust of Their Government (% out of 100)=%{x}<br>GDP=%{y}<br>Events Per Capita=%{z}<extra></extra>",
         "legendgroup": "Finland",
         "marker": {
          "color": "#636efa",
          "symbol": "circle"
         },
         "mode": "markers",
         "name": "Finland",
         "scene": "scene",
         "showlegend": true,
         "type": "scatter3d",
         "x": [
          80.9,
          71.4,
          77.5
         ],
         "y": [
          49169.7193388499,
          53504.6936483441,
          50871.9304508821
         ],
         "z": [
          3.9062902666639903,
          4.782515556259798,
          6.209384774156576
         ]
        },
        {
         "hovertemplate": "country=France<br>Public Trust of Their Government (% out of 100)=%{x}<br>GDP=%{y}<br>Events Per Capita=%{z}<extra></extra>",
         "legendgroup": "France",
         "marker": {
          "color": "#EF553B",
          "symbol": "circle"
         },
         "mode": "markers",
         "name": "France",
         "scene": "scene",
         "showlegend": true,
         "type": "scatter3d",
         "x": [
          41,
          43.4,
          43.4
         ],
         "y": [
          39179.7442596057,
          43671.3084099631,
          40886.2532680273
         ],
         "z": [
          7.643799590259785,
          12.33097590731545,
          9.446632565318623
         ]
        },
        {
         "hovertemplate": "country=Germany<br>Public Trust of Their Government (% out of 100)=%{x}<br>GDP=%{y}<br>Events Per Capita=%{z}<extra></extra>",
         "legendgroup": "Germany",
         "marker": {
          "color": "#00cc96",
          "symbol": "circle"
         },
         "mode": "markers",
         "name": "Germany",
         "scene": "scene",
         "showlegend": true,
         "type": "scatter3d",
         "x": [
          65.4,
          60.5,
          60.8
         ],
         "y": [
          46749.4762280016,
          51426.7503654421,
          48717.9911402128
         ],
         "z": [
          5.161081105078853,
          5.06634459379203,
          5.6922609773970105
         ]
        },
        {
         "hovertemplate": "country=Greece<br>Public Trust of Their Government (% out of 100)=%{x}<br>GDP=%{y}<br>Events Per Capita=%{z}<extra></extra>",
         "legendgroup": "Greece",
         "marker": {
          "color": "#ab63fa",
          "symbol": "circle"
         },
         "mode": "markers",
         "name": "Greece",
         "scene": "scene",
         "showlegend": true,
         "type": "scatter3d",
         "x": [
          15.7,
          39.6,
          39.7,
          40.2,
          25.6
         ],
         "y": [
          19756.990456255,
          19143.8876174584,
          17617.2915057014,
          20310.6824798873,
          20867.2690861087
         ],
         "z": [
          1.8913838799308518,
          4.635509946200104,
          6.169032038680953,
          5.279487855616793,
          4.162303361136689
         ]
        },
        {
         "hovertemplate": "country=Hungary<br>Public Trust of Their Government (% out of 100)=%{x}<br>GDP=%{y}<br>Events Per Capita=%{z}<extra></extra>",
         "legendgroup": "Hungary",
         "marker": {
          "color": "#FFA15A",
          "symbol": "circle"
         },
         "mode": "markers",
         "name": "Hungary",
         "scene": "scene",
         "showlegend": true,
         "type": "scatter3d",
         "x": [
          42.9,
          41.7,
          44.2
         ],
         "y": [
          16125.6094085407,
          18753.0469453539,
          18390.1849993244
         ],
         "z": [
          2.040994450443783,
          1.3182434282732938,
          4.303618523935586
         ]
        },
        {
         "hovertemplate": "country=Iceland<br>Public Trust of Their Government (% out of 100)=%{x}<br>GDP=%{y}<br>Events Per Capita=%{z}<extra></extra>",
         "legendgroup": "Iceland",
         "marker": {
          "color": "#19d3f3",
          "symbol": "circle"
         },
         "mode": "markers",
         "name": "Iceland",
         "scene": "scene",
         "showlegend": true,
         "type": "scatter3d",
         "x": [
          59.2,
          63.4,
          51.5
         ],
         "y": [
          58848.41812446,
          68710.2442005473,
          73466.7786674708
         ],
         "z": [
          7.913486491132802,
          7.516374959733706,
          7.3297853681777365
         ]
        },
        {
         "hovertemplate": "country=Ireland<br>Public Trust of Their Government (% out of 100)=%{x}<br>GDP=%{y}<br>Events Per Capita=%{z}<extra></extra>",
         "legendgroup": "Ireland",
         "marker": {
          "color": "#FF6692",
          "symbol": "circle"
         },
         "mode": "markers",
         "name": "Ireland",
         "scene": "scene",
         "showlegend": true,
         "type": "scatter3d",
         "x": [
          58.8,
          62.3,
          62.3
         ],
         "y": [
          85973.0884875501,
          102001.798249145,
          103983.29133582
         ],
         "z": [
          5.596361522547319,
          4.331271542115457,
          5.441598386634342
         ]
        },
        {
         "hovertemplate": "country=Israel<br>Public Trust of Their Government (% out of 100)=%{x}<br>GDP=%{y}<br>Events Per Capita=%{z}<extra></extra>",
         "legendgroup": "Israel",
         "marker": {
          "color": "#B6E880",
          "symbol": "circle"
         },
         "mode": "markers",
         "name": "Israel",
         "scene": "scene",
         "showlegend": true,
         "type": "scatter3d",
         "x": [
          43.8,
          38.9,
          42.2,
          49.6,
          38.9,
          44,
          44
         ],
         "y": [
          37690.4739511859,
          41114.7817082553,
          42406.8454263606,
          44452.2325623093,
          44846.7915954816,
          52129.5159612108,
          54930.9388075096
         ],
         "z": [
          1.5211794991809033,
          3.3167686180895872,
          4.39050749763588,
          4.716147559089905,
          13.24999186118436,
          10.606739654694069,
          7.711221553753597
         ]
        },
        {
         "hovertemplate": "country=Italy<br>Public Trust of Their Government (% out of 100)=%{x}<br>GDP=%{y}<br>Events Per Capita=%{z}<extra></extra>",
         "legendgroup": "Italy",
         "marker": {
          "color": "#FF97FF",
          "symbol": "circle"
         },
         "mode": "markers",
         "name": "Italy",
         "scene": "scene",
         "showlegend": true,
         "type": "scatter3d",
         "x": [
          37.5,
          35.4,
          35.4
         ],
         "y": [
          31922.9191626183,
          36449.2583375837,
          34776.423234274
         ],
         "z": [
          9.233018316588925,
          12.458320137835322,
          7.794310950421549
         ]
        },
        {
         "hovertemplate": "country=Japan<br>Public Trust of Their Government (% out of 100)=%{x}<br>GDP=%{y}<br>Events Per Capita=%{z}<extra></extra>",
         "legendgroup": "Japan",
         "marker": {
          "color": "#FECB52",
          "symbol": "circle"
         },
         "mode": "markers",
         "name": "Japan",
         "scene": "scene",
         "showlegend": true,
         "type": "scatter3d",
         "x": [
          38.5,
          41.1,
          42.3,
          29.1,
          43.1
         ],
         "y": [
          39751.1330982711,
          40415.9567649547,
          40040.7655055923,
          40058.5373276179,
          34017.2718075024
         ],
         "z": [
          1.2908974773481796,
          1.0179021266178643,
          1.199895454653456,
          1.129043614206895,
          1.2659341772249826
         ]
        },
        {
         "hovertemplate": "country=Latvia<br>Public Trust of Their Government (% out of 100)=%{x}<br>GDP=%{y}<br>Events Per Capita=%{z}<extra></extra>",
         "legendgroup": "Latvia",
         "marker": {
          "color": "#636efa",
          "symbol": "circle"
         },
         "mode": "markers",
         "name": "Latvia",
         "scene": "scene",
         "showlegend": true,
         "type": "scatter3d",
         "x": [
          30.7,
          29.5,
          29.5
         ],
         "y": [
          18096.2027073394,
          20930.3982374189,
          21779.5042572825
         ],
         "z": [
          3.57810180646784,
          3.290014805066623,
          2.500820748085941
         ]
        },
        {
         "hovertemplate": "country=Lithuania<br>Public Trust of Their Government (% out of 100)=%{x}<br>GDP=%{y}<br>Events Per Capita=%{z}<extra></extra>",
         "legendgroup": "Lithuania",
         "marker": {
          "color": "#EF553B",
          "symbol": "circle"
         },
         "mode": "markers",
         "name": "Lithuania",
         "scene": "scene",
         "showlegend": true,
         "type": "scatter3d",
         "x": [
          47.4,
          30.4,
          30.4
         ],
         "y": [
          20381.8557827478,
          23849.6156993566,
          25064.808914729
         ],
         "z": [
          2.1109992003248794,
          5.284130933623818,
          2.6839579480293922
         ]
        },
        {
         "hovertemplate": "country=Luxembourg<br>Public Trust of Their Government (% out of 100)=%{x}<br>GDP=%{y}<br>Events Per Capita=%{z}<extra></extra>",
         "legendgroup": "Luxembourg",
         "marker": {
          "color": "#00cc96",
          "symbol": "circle"
         },
         "mode": "markers",
         "name": "Luxembourg",
         "scene": "scene",
         "showlegend": true,
         "type": "scatter3d",
         "x": [
          78,
          78,
          78
         ],
         "y": [
          116905.370396853,
          133711.794435985,
          125006.021815486
         ],
         "z": [
          5.551863125952739,
          4.999500049995,
          5.052801778586226
         ]
        },
        {
         "hovertemplate": "country=Mexico<br>Public Trust of Their Government (% out of 100)=%{x}<br>GDP=%{y}<br>Events Per Capita=%{z}<extra></extra>",
         "legendgroup": "Mexico",
         "marker": {
          "color": "#ab63fa",
          "symbol": "circle"
         },
         "mode": "markers",
         "name": "Mexico",
         "scene": "scene",
         "showlegend": true,
         "type": "scatter3d",
         "x": [
          29.5,
          49.5,
          45.9,
          48.3,
          52.9
         ],
         "y": [
          10130.3206984553,
          10434.5783651735,
          8894.89065003643,
          10359.1498625832,
          11496.5228716049
         ],
         "z": [
          3.4439698639815752,
          3.8533701211327682,
          4.484187413890704,
          4.852210492048081,
          4.720631587409427
         ]
        },
        {
         "hovertemplate": "country=Netherlands<br>Public Trust of Their Government (% out of 100)=%{x}<br>GDP=%{y}<br>Events Per Capita=%{z}<extra></extra>",
         "legendgroup": "Netherlands",
         "marker": {
          "color": "#FFA15A",
          "symbol": "circle"
         },
         "mode": "markers",
         "name": "Netherlands",
         "scene": "scene",
         "showlegend": true,
         "type": "scatter3d",
         "x": [
          78.1,
          58.5,
          47.2
         ],
         "y": [
          52162.5701150406,
          58727.8705471475,
          57025.01245598
         ],
         "z": [
          3.325402058309205,
          3.3251499283296155,
          3.988479283239766
         ]
        },
        {
         "hovertemplate": "country=Norway<br>Public Trust of Their Government (% out of 100)=%{x}<br>GDP=%{y}<br>Events Per Capita=%{z}<extra></extra>",
         "legendgroup": "Norway",
         "marker": {
          "color": "#19d3f3",
          "symbol": "circle"
         },
         "mode": "markers",
         "name": "Norway",
         "scene": "scene",
         "showlegend": true,
         "type": "scatter3d",
         "x": [
          82.9,
          77.4,
          63.6
         ],
         "y": [
          68340.0181033702,
          93072.8925119571,
          108729.18690323
         ],
         "z": [
          5.465217330687474,
          5.676439263948879,
          8.83248639806257
         ]
        },
        {
         "hovertemplate": "country=Poland<br>Public Trust of Their Government (% out of 100)=%{x}<br>GDP=%{y}<br>Events Per Capita=%{z}<extra></extra>",
         "legendgroup": "Poland",
         "marker": {
          "color": "#FF6692",
          "symbol": "circle"
         },
         "mode": "markers",
         "name": "Poland",
         "scene": "scene",
         "showlegend": true,
         "type": "scatter3d",
         "x": [
          27.3,
          25.9,
          34.2
         ],
         "y": [
          15816.8204021382,
          18050.2794441161,
          18688.0044867103
         ],
         "z": [
          4.820698766486882,
          4.784470467206985,
          3.128585771414606
         ]
        },
        {
         "hovertemplate": "country=Portugal<br>Public Trust of Their Government (% out of 100)=%{x}<br>GDP=%{y}<br>Events Per Capita=%{z}<extra></extra>",
         "legendgroup": "Portugal",
         "marker": {
          "color": "#B6E880",
          "symbol": "circle"
         },
         "mode": "markers",
         "name": "Portugal",
         "scene": "scene",
         "showlegend": true,
         "type": "scatter3d",
         "x": [
          61.5,
          57.6,
          58.9
         ],
         "y": [
          22242.406417972,
          24661.1664874576,
          24515.2658507319
         ],
         "z": [
          3.486424939261913,
          5.944895260306793,
          3.179725379319143
         ]
        },
        {
         "hovertemplate": "country=Slovenia<br>Public Trust of Their Government (% out of 100)=%{x}<br>GDP=%{y}<br>Events Per Capita=%{z}<extra></extra>",
         "legendgroup": "Slovenia",
         "marker": {
          "color": "#FF97FF",
          "symbol": "circle"
         },
         "mode": "markers",
         "name": "Slovenia",
         "scene": "scene",
         "showlegend": true,
         "type": "scatter3d",
         "x": [
          45.3,
          33.9,
          45.1
         ],
         "y": [
          25558.4290544506,
          29331.0647010043,
          28439.3340989687
         ],
         "z": [
          6.278482072317649,
          6.546244234680009,
          3.0303231176721814
         ]
        },
        {
         "hovertemplate": "country=Spain<br>Public Trust of Their Government (% out of 100)=%{x}<br>GDP=%{y}<br>Events Per Capita=%{z}<extra></extra>",
         "legendgroup": "Spain",
         "marker": {
          "color": "#FECB52",
          "symbol": "circle"
         },
         "mode": "markers",
         "name": "Spain",
         "scene": "scene",
         "showlegend": true,
         "type": "scatter3d",
         "x": [
          38.2,
          37.2,
          37.2
         ],
         "y": [
          26984.2962770279,
          30488.8209528797,
          29674.5442864413
         ],
         "z": [
          7.068412756035993,
          9.29015340331536,
          7.986882759007533
         ]
        },
        {
         "hovertemplate": "country=Sweden<br>Public Trust of Their Government (% out of 100)=%{x}<br>GDP=%{y}<br>Events Per Capita=%{z}<extra></extra>",
         "legendgroup": "Sweden",
         "marker": {
          "color": "#636efa",
          "symbol": "circle"
         },
         "mode": "markers",
         "name": "Sweden",
         "scene": "scene",
         "showlegend": true,
         "type": "scatter3d",
         "x": [
          67.1,
          63.4,
          68.8
         ],
         "y": [
          52837.9039778149,
          61417.6808766469,
          56424.2846986686
         ],
         "z": [
          8.73139580054633,
          11.943381077095196,
          14.04604069003535
         ]
        },
        {
         "hovertemplate": "country=Switzerland<br>Public Trust of Their Government (% out of 100)=%{x}<br>GDP=%{y}<br>Events Per Capita=%{z}<extra></extra>",
         "legendgroup": "Switzerland",
         "marker": {
          "color": "#EF553B",
          "symbol": "circle"
         },
         "mode": "markers",
         "name": "Switzerland",
         "scene": "scene",
         "showlegend": true,
         "type": "scatter3d",
         "x": [
          84.6,
          83.8,
          83.8
         ],
         "y": [
          85897.7843338323,
          93446.4344518943,
          93259.9057183024
         ],
         "z": [
          1.9101274610689978,
          2.492950235428706,
          2.119474552631339
         ]
        },
        {
         "hovertemplate": "country=United Kingdom<br>Public Trust of Their Government (% out of 100)=%{x}<br>GDP=%{y}<br>Events Per Capita=%{z}<extra></extra>",
         "legendgroup": "United Kingdom",
         "marker": {
          "color": "#00cc96",
          "symbol": "circle"
         },
         "mode": "markers",
         "name": "United Kingdom",
         "scene": "scene",
         "showlegend": true,
         "type": "scatter3d",
         "x": [
          34.7,
          39.5,
          39.5
         ],
         "y": [
          40217.0090116986,
          46869.759058411,
          46125.2557513568
         ],
         "z": [
          3.273642819391188,
          2.3647436740197416,
          2.6055900433311865
         ]
        },
        {
         "hovertemplate": "country=United States<br>Public Trust of Their Government (% out of 100)=%{x}<br>GDP=%{y}<br>Events Per Capita=%{z}<extra></extra>",
         "legendgroup": "United States",
         "marker": {
          "color": "#ab63fa",
          "symbol": "circle"
         },
         "mode": "markers",
         "name": "United States",
         "scene": "scene",
         "showlegend": true,
         "type": "scatter3d",
         "x": [
          46.5,
          40.5,
          31
         ],
         "y": [
          63528.6343027508,
          70219.472454115,
          76329.5822652029
         ],
         "z": [
          6.511086106717163,
          3.959563433540416,
          3.6554019927002557
         ]
        }
       ],
       "layout": {
        "legend": {
         "title": {
          "text": "country"
         },
         "tracegroupgap": 0
        },
        "scene": {
         "domain": {
          "x": [
           0,
           1
          ],
          "y": [
           0,
           1
          ]
         },
         "xaxis": {
          "title": {
           "text": "Public Trust of Their Government (% out of 100)"
          }
         },
         "yaxis": {
          "title": {
           "text": "GDP"
          }
         },
         "zaxis": {
          "title": {
           "text": "Events Per Capita"
          }
         }
        },
        "template": {
         "data": {
          "bar": [
           {
            "error_x": {
             "color": "#2a3f5f"
            },
            "error_y": {
             "color": "#2a3f5f"
            },
            "marker": {
             "line": {
              "color": "#E5ECF6",
              "width": 0.5
             },
             "pattern": {
              "fillmode": "overlay",
              "size": 10,
              "solidity": 0.2
             }
            },
            "type": "bar"
           }
          ],
          "barpolar": [
           {
            "marker": {
             "line": {
              "color": "#E5ECF6",
              "width": 0.5
             },
             "pattern": {
              "fillmode": "overlay",
              "size": 10,
              "solidity": 0.2
             }
            },
            "type": "barpolar"
           }
          ],
          "carpet": [
           {
            "aaxis": {
             "endlinecolor": "#2a3f5f",
             "gridcolor": "white",
             "linecolor": "white",
             "minorgridcolor": "white",
             "startlinecolor": "#2a3f5f"
            },
            "baxis": {
             "endlinecolor": "#2a3f5f",
             "gridcolor": "white",
             "linecolor": "white",
             "minorgridcolor": "white",
             "startlinecolor": "#2a3f5f"
            },
            "type": "carpet"
           }
          ],
          "choropleth": [
           {
            "colorbar": {
             "outlinewidth": 0,
             "ticks": ""
            },
            "type": "choropleth"
           }
          ],
          "contour": [
           {
            "colorbar": {
             "outlinewidth": 0,
             "ticks": ""
            },
            "colorscale": [
             [
              0,
              "#0d0887"
             ],
             [
              0.1111111111111111,
              "#46039f"
             ],
             [
              0.2222222222222222,
              "#7201a8"
             ],
             [
              0.3333333333333333,
              "#9c179e"
             ],
             [
              0.4444444444444444,
              "#bd3786"
             ],
             [
              0.5555555555555556,
              "#d8576b"
             ],
             [
              0.6666666666666666,
              "#ed7953"
             ],
             [
              0.7777777777777778,
              "#fb9f3a"
             ],
             [
              0.8888888888888888,
              "#fdca26"
             ],
             [
              1,
              "#f0f921"
             ]
            ],
            "type": "contour"
           }
          ],
          "contourcarpet": [
           {
            "colorbar": {
             "outlinewidth": 0,
             "ticks": ""
            },
            "type": "contourcarpet"
           }
          ],
          "heatmap": [
           {
            "colorbar": {
             "outlinewidth": 0,
             "ticks": ""
            },
            "colorscale": [
             [
              0,
              "#0d0887"
             ],
             [
              0.1111111111111111,
              "#46039f"
             ],
             [
              0.2222222222222222,
              "#7201a8"
             ],
             [
              0.3333333333333333,
              "#9c179e"
             ],
             [
              0.4444444444444444,
              "#bd3786"
             ],
             [
              0.5555555555555556,
              "#d8576b"
             ],
             [
              0.6666666666666666,
              "#ed7953"
             ],
             [
              0.7777777777777778,
              "#fb9f3a"
             ],
             [
              0.8888888888888888,
              "#fdca26"
             ],
             [
              1,
              "#f0f921"
             ]
            ],
            "type": "heatmap"
           }
          ],
          "heatmapgl": [
           {
            "colorbar": {
             "outlinewidth": 0,
             "ticks": ""
            },
            "colorscale": [
             [
              0,
              "#0d0887"
             ],
             [
              0.1111111111111111,
              "#46039f"
             ],
             [
              0.2222222222222222,
              "#7201a8"
             ],
             [
              0.3333333333333333,
              "#9c179e"
             ],
             [
              0.4444444444444444,
              "#bd3786"
             ],
             [
              0.5555555555555556,
              "#d8576b"
             ],
             [
              0.6666666666666666,
              "#ed7953"
             ],
             [
              0.7777777777777778,
              "#fb9f3a"
             ],
             [
              0.8888888888888888,
              "#fdca26"
             ],
             [
              1,
              "#f0f921"
             ]
            ],
            "type": "heatmapgl"
           }
          ],
          "histogram": [
           {
            "marker": {
             "pattern": {
              "fillmode": "overlay",
              "size": 10,
              "solidity": 0.2
             }
            },
            "type": "histogram"
           }
          ],
          "histogram2d": [
           {
            "colorbar": {
             "outlinewidth": 0,
             "ticks": ""
            },
            "colorscale": [
             [
              0,
              "#0d0887"
             ],
             [
              0.1111111111111111,
              "#46039f"
             ],
             [
              0.2222222222222222,
              "#7201a8"
             ],
             [
              0.3333333333333333,
              "#9c179e"
             ],
             [
              0.4444444444444444,
              "#bd3786"
             ],
             [
              0.5555555555555556,
              "#d8576b"
             ],
             [
              0.6666666666666666,
              "#ed7953"
             ],
             [
              0.7777777777777778,
              "#fb9f3a"
             ],
             [
              0.8888888888888888,
              "#fdca26"
             ],
             [
              1,
              "#f0f921"
             ]
            ],
            "type": "histogram2d"
           }
          ],
          "histogram2dcontour": [
           {
            "colorbar": {
             "outlinewidth": 0,
             "ticks": ""
            },
            "colorscale": [
             [
              0,
              "#0d0887"
             ],
             [
              0.1111111111111111,
              "#46039f"
             ],
             [
              0.2222222222222222,
              "#7201a8"
             ],
             [
              0.3333333333333333,
              "#9c179e"
             ],
             [
              0.4444444444444444,
              "#bd3786"
             ],
             [
              0.5555555555555556,
              "#d8576b"
             ],
             [
              0.6666666666666666,
              "#ed7953"
             ],
             [
              0.7777777777777778,
              "#fb9f3a"
             ],
             [
              0.8888888888888888,
              "#fdca26"
             ],
             [
              1,
              "#f0f921"
             ]
            ],
            "type": "histogram2dcontour"
           }
          ],
          "mesh3d": [
           {
            "colorbar": {
             "outlinewidth": 0,
             "ticks": ""
            },
            "type": "mesh3d"
           }
          ],
          "parcoords": [
           {
            "line": {
             "colorbar": {
              "outlinewidth": 0,
              "ticks": ""
             }
            },
            "type": "parcoords"
           }
          ],
          "pie": [
           {
            "automargin": true,
            "type": "pie"
           }
          ],
          "scatter": [
           {
            "fillpattern": {
             "fillmode": "overlay",
             "size": 10,
             "solidity": 0.2
            },
            "type": "scatter"
           }
          ],
          "scatter3d": [
           {
            "line": {
             "colorbar": {
              "outlinewidth": 0,
              "ticks": ""
             }
            },
            "marker": {
             "colorbar": {
              "outlinewidth": 0,
              "ticks": ""
             }
            },
            "type": "scatter3d"
           }
          ],
          "scattercarpet": [
           {
            "marker": {
             "colorbar": {
              "outlinewidth": 0,
              "ticks": ""
             }
            },
            "type": "scattercarpet"
           }
          ],
          "scattergeo": [
           {
            "marker": {
             "colorbar": {
              "outlinewidth": 0,
              "ticks": ""
             }
            },
            "type": "scattergeo"
           }
          ],
          "scattergl": [
           {
            "marker": {
             "colorbar": {
              "outlinewidth": 0,
              "ticks": ""
             }
            },
            "type": "scattergl"
           }
          ],
          "scattermapbox": [
           {
            "marker": {
             "colorbar": {
              "outlinewidth": 0,
              "ticks": ""
             }
            },
            "type": "scattermapbox"
           }
          ],
          "scatterpolar": [
           {
            "marker": {
             "colorbar": {
              "outlinewidth": 0,
              "ticks": ""
             }
            },
            "type": "scatterpolar"
           }
          ],
          "scatterpolargl": [
           {
            "marker": {
             "colorbar": {
              "outlinewidth": 0,
              "ticks": ""
             }
            },
            "type": "scatterpolargl"
           }
          ],
          "scatterternary": [
           {
            "marker": {
             "colorbar": {
              "outlinewidth": 0,
              "ticks": ""
             }
            },
            "type": "scatterternary"
           }
          ],
          "surface": [
           {
            "colorbar": {
             "outlinewidth": 0,
             "ticks": ""
            },
            "colorscale": [
             [
              0,
              "#0d0887"
             ],
             [
              0.1111111111111111,
              "#46039f"
             ],
             [
              0.2222222222222222,
              "#7201a8"
             ],
             [
              0.3333333333333333,
              "#9c179e"
             ],
             [
              0.4444444444444444,
              "#bd3786"
             ],
             [
              0.5555555555555556,
              "#d8576b"
             ],
             [
              0.6666666666666666,
              "#ed7953"
             ],
             [
              0.7777777777777778,
              "#fb9f3a"
             ],
             [
              0.8888888888888888,
              "#fdca26"
             ],
             [
              1,
              "#f0f921"
             ]
            ],
            "type": "surface"
           }
          ],
          "table": [
           {
            "cells": {
             "fill": {
              "color": "#EBF0F8"
             },
             "line": {
              "color": "white"
             }
            },
            "header": {
             "fill": {
              "color": "#C8D4E3"
             },
             "line": {
              "color": "white"
             }
            },
            "type": "table"
           }
          ]
         },
         "layout": {
          "annotationdefaults": {
           "arrowcolor": "#2a3f5f",
           "arrowhead": 0,
           "arrowwidth": 1
          },
          "autotypenumbers": "strict",
          "coloraxis": {
           "colorbar": {
            "outlinewidth": 0,
            "ticks": ""
           }
          },
          "colorscale": {
           "diverging": [
            [
             0,
             "#8e0152"
            ],
            [
             0.1,
             "#c51b7d"
            ],
            [
             0.2,
             "#de77ae"
            ],
            [
             0.3,
             "#f1b6da"
            ],
            [
             0.4,
             "#fde0ef"
            ],
            [
             0.5,
             "#f7f7f7"
            ],
            [
             0.6,
             "#e6f5d0"
            ],
            [
             0.7,
             "#b8e186"
            ],
            [
             0.8,
             "#7fbc41"
            ],
            [
             0.9,
             "#4d9221"
            ],
            [
             1,
             "#276419"
            ]
           ],
           "sequential": [
            [
             0,
             "#0d0887"
            ],
            [
             0.1111111111111111,
             "#46039f"
            ],
            [
             0.2222222222222222,
             "#7201a8"
            ],
            [
             0.3333333333333333,
             "#9c179e"
            ],
            [
             0.4444444444444444,
             "#bd3786"
            ],
            [
             0.5555555555555556,
             "#d8576b"
            ],
            [
             0.6666666666666666,
             "#ed7953"
            ],
            [
             0.7777777777777778,
             "#fb9f3a"
            ],
            [
             0.8888888888888888,
             "#fdca26"
            ],
            [
             1,
             "#f0f921"
            ]
           ],
           "sequentialminus": [
            [
             0,
             "#0d0887"
            ],
            [
             0.1111111111111111,
             "#46039f"
            ],
            [
             0.2222222222222222,
             "#7201a8"
            ],
            [
             0.3333333333333333,
             "#9c179e"
            ],
            [
             0.4444444444444444,
             "#bd3786"
            ],
            [
             0.5555555555555556,
             "#d8576b"
            ],
            [
             0.6666666666666666,
             "#ed7953"
            ],
            [
             0.7777777777777778,
             "#fb9f3a"
            ],
            [
             0.8888888888888888,
             "#fdca26"
            ],
            [
             1,
             "#f0f921"
            ]
           ]
          },
          "colorway": [
           "#636efa",
           "#EF553B",
           "#00cc96",
           "#ab63fa",
           "#FFA15A",
           "#19d3f3",
           "#FF6692",
           "#B6E880",
           "#FF97FF",
           "#FECB52"
          ],
          "font": {
           "color": "#2a3f5f"
          },
          "geo": {
           "bgcolor": "white",
           "lakecolor": "white",
           "landcolor": "#E5ECF6",
           "showlakes": true,
           "showland": true,
           "subunitcolor": "white"
          },
          "hoverlabel": {
           "align": "left"
          },
          "hovermode": "closest",
          "mapbox": {
           "style": "light"
          },
          "paper_bgcolor": "white",
          "plot_bgcolor": "#E5ECF6",
          "polar": {
           "angularaxis": {
            "gridcolor": "white",
            "linecolor": "white",
            "ticks": ""
           },
           "bgcolor": "#E5ECF6",
           "radialaxis": {
            "gridcolor": "white",
            "linecolor": "white",
            "ticks": ""
           }
          },
          "scene": {
           "xaxis": {
            "backgroundcolor": "#E5ECF6",
            "gridcolor": "white",
            "gridwidth": 2,
            "linecolor": "white",
            "showbackground": true,
            "ticks": "",
            "zerolinecolor": "white"
           },
           "yaxis": {
            "backgroundcolor": "#E5ECF6",
            "gridcolor": "white",
            "gridwidth": 2,
            "linecolor": "white",
            "showbackground": true,
            "ticks": "",
            "zerolinecolor": "white"
           },
           "zaxis": {
            "backgroundcolor": "#E5ECF6",
            "gridcolor": "white",
            "gridwidth": 2,
            "linecolor": "white",
            "showbackground": true,
            "ticks": "",
            "zerolinecolor": "white"
           }
          },
          "shapedefaults": {
           "line": {
            "color": "#2a3f5f"
           }
          },
          "ternary": {
           "aaxis": {
            "gridcolor": "white",
            "linecolor": "white",
            "ticks": ""
           },
           "baxis": {
            "gridcolor": "white",
            "linecolor": "white",
            "ticks": ""
           },
           "bgcolor": "#E5ECF6",
           "caxis": {
            "gridcolor": "white",
            "linecolor": "white",
            "ticks": ""
           }
          },
          "title": {
           "x": 0.05
          },
          "xaxis": {
           "automargin": true,
           "gridcolor": "white",
           "linecolor": "white",
           "ticks": "",
           "title": {
            "standoff": 15
           },
           "zerolinecolor": "white",
           "zerolinewidth": 2
          },
          "yaxis": {
           "automargin": true,
           "gridcolor": "white",
           "linecolor": "white",
           "ticks": "",
           "title": {
            "standoff": 15
           },
           "zerolinecolor": "white",
           "zerolinewidth": 2
          }
         }
        },
        "title": {
         "text": "Events per Capita vs GDP per Capita vs Public Trust Percentage"
        }
       }
      }
     },
     "metadata": {},
     "output_type": "display_data"
    }
   ],
   "source": [
    "import plotly.express as px\n",
    "\n",
    "# Create the scatter plot using Plotly Express\n",
    "fig = px.scatter_3d(\n",
    "    combined_data, \n",
    "    x='public_trust_percentage',\n",
    "    y='gdp_per_capita' ,\n",
    "    z='events_per_capita', \n",
    "    color='country',\n",
    "    labels={\n",
    "        'events_per_capita': 'Events Per Capita',\n",
    "        'gdp_per_capita': 'GDP',\n",
    "        'public_trust_percentage': 'Public Trust of Their Government (% out of 100)'\n",
    "    },\n",
    "    title='Events per Capita vs GDP per Capita vs Public Trust Percentage'\n",
    ")\n",
    "\n",
    "fig.show()"
   ]
  },
  {
   "cell_type": "code",
   "execution_count": 17,
   "id": "5d6b5430",
   "metadata": {},
   "outputs": [
    {
     "data": {
      "application/vnd.plotly.v1+json": {
       "config": {
        "plotlyServerURL": "https://plot.ly"
       },
       "data": [
        {
         "hovertemplate": "country=Australia<br>Public Trust of Their Government (% out of 100)=%{x}<br>Poverty Gaps=%{y}<br>Events Per Capita=%{z}<extra></extra>",
         "legendgroup": "Australia",
         "marker": {
          "color": "#636efa",
          "symbol": "circle"
         },
         "mode": "markers",
         "name": "Australia",
         "scene": "scene",
         "showlegend": true,
         "type": "scatter3d",
         "x": [
          51.9,
          49.9
         ],
         "y": [
          null,
          null
         ],
         "z": [
          2.6513104014060587,
          3.053195588324641
         ]
        },
        {
         "hovertemplate": "country=Austria<br>Public Trust of Their Government (% out of 100)=%{x}<br>Poverty Gaps=%{y}<br>Events Per Capita=%{z}<extra></extra>",
         "legendgroup": "Austria",
         "marker": {
          "color": "#EF553B",
          "symbol": "circle"
         },
         "mode": "markers",
         "name": "Austria",
         "scene": "scene",
         "showlegend": true,
         "type": "scatter3d",
         "x": [
          62.6,
          61,
          61
         ],
         "y": [
          0.6,
          0.4,
          null
         ],
         "z": [
          3.970005598380776,
          6.275265060161591,
          3.2515466136303286
         ]
        },
        {
         "hovertemplate": "country=Belgium<br>Public Trust of Their Government (% out of 100)=%{x}<br>Poverty Gaps=%{y}<br>Events Per Capita=%{z}<extra></extra>",
         "legendgroup": "Belgium",
         "marker": {
          "color": "#00cc96",
          "symbol": "circle"
         },
         "mode": "markers",
         "name": "Belgium",
         "scene": "scene",
         "showlegend": true,
         "type": "scatter3d",
         "x": [
          29.5,
          47.3,
          57.2
         ],
         "y": [
          0,
          0,
          null
         ],
         "z": [
          6.7945827762179904,
          7.189590715502372,
          4.475511932673239
         ]
        },
        {
         "hovertemplate": "country=Brazil<br>Public Trust of Their Government (% out of 100)=%{x}<br>Poverty Gaps=%{y}<br>Events Per Capita=%{z}<extra></extra>",
         "legendgroup": "Brazil",
         "marker": {
          "color": "#ab63fa",
          "symbol": "circle"
         },
         "mode": "markers",
         "name": "Brazil",
         "scene": "scene",
         "showlegend": true,
         "type": "scatter3d",
         "x": [
          16.8,
          34.1,
          36.2,
          32.7,
          39.2
         ],
         "y": [
          2,
          2.1,
          0.7,
          2.1,
          1.2
         ],
         "z": [
          3.1160994417228784,
          1.579919978233557,
          1.1791949263810877,
          1.8943085653126077,
          1.7314288396354975
         ]
        },
        {
         "hovertemplate": "country=Canada<br>Public Trust of Their Government (% out of 100)=%{x}<br>Poverty Gaps=%{y}<br>Events Per Capita=%{z}<extra></extra>",
         "legendgroup": "Canada",
         "marker": {
          "color": "#FFA15A",
          "symbol": "circle"
         },
         "mode": "markers",
         "name": "Canada",
         "scene": "scene",
         "showlegend": true,
         "type": "scatter3d",
         "x": [
          61,
          50.7
         ],
         "y": [
          null,
          null
         ],
         "z": [
          4.423633051607291,
          4.695619321106947
         ]
        },
        {
         "hovertemplate": "country=Chile<br>Public Trust of Their Government (% out of 100)=%{x}<br>Poverty Gaps=%{y}<br>Events Per Capita=%{z}<extra></extra>",
         "legendgroup": "Chile",
         "marker": {
          "color": "#19d3f3",
          "symbol": "circle"
         },
         "mode": "markers",
         "name": "Chile",
         "scene": "scene",
         "showlegend": true,
         "type": "scatter3d",
         "x": [
          33.5,
          15.3,
          17.1,
          23.2,
          28.7
         ],
         "y": [
          null,
          null,
          0.9,
          null,
          0.3
         ],
         "z": [
          5.523635867807042,
          8.351066218440257,
          5.4299631897199605,
          4.514398468716039,
          4.728691214066219
         ]
        },
        {
         "hovertemplate": "country=Colombia<br>Public Trust of Their Government (% out of 100)=%{x}<br>Poverty Gaps=%{y}<br>Events Per Capita=%{z}<extra></extra>",
         "legendgroup": "Colombia",
         "marker": {
          "color": "#FF6692",
          "symbol": "circle"
         },
         "mode": "markers",
         "name": "Colombia",
         "scene": "scene",
         "showlegend": true,
         "type": "scatter3d",
         "x": [
          27.5,
          32.8,
          37.4,
          28.9,
          29.7
         ],
         "y": [
          1.8,
          2.1,
          4.5,
          3,
          2.5
         ],
         "z": [
          0.8239144455357139,
          1.243339813179426,
          1.3469292820109033,
          4.431584545568083,
          2.629447061982313
         ]
        },
        {
         "hovertemplate": "country=Costa Rica<br>Public Trust of Their Government (% out of 100)=%{x}<br>Poverty Gaps=%{y}<br>Events Per Capita=%{z}<extra></extra>",
         "legendgroup": "Costa Rica",
         "marker": {
          "color": "#B6E880",
          "symbol": "circle"
         },
         "mode": "markers",
         "name": "Costa Rica",
         "scene": "scene",
         "showlegend": true,
         "type": "scatter3d",
         "x": [
          48,
          28.3,
          29.8,
          31.5,
          60
         ],
         "y": [
          0.6,
          0.4,
          0.9,
          0.4,
          0.3
         ],
         "z": [
          5.93167582340191,
          6.588610318511124,
          11.028468087224446,
          3.7252930127278905,
          3.165516561152665
         ]
        },
        {
         "hovertemplate": "country=Denmark<br>Public Trust of Their Government (% out of 100)=%{x}<br>Poverty Gaps=%{y}<br>Events Per Capita=%{z}<extra></extra>",
         "legendgroup": "Denmark",
         "marker": {
          "color": "#FF97FF",
          "symbol": "circle"
         },
         "mode": "markers",
         "name": "Denmark",
         "scene": "scene",
         "showlegend": true,
         "type": "scatter3d",
         "x": [
          71.6,
          65.2,
          63.5
         ],
         "y": [
          0.1,
          0.1,
          null
         ],
         "z": [
          9.620324710824358,
          14.137574651260353,
          6.284900467335713
         ]
        },
        {
         "hovertemplate": "country=Estonia<br>Public Trust of Their Government (% out of 100)=%{x}<br>Poverty Gaps=%{y}<br>Events Per Capita=%{z}<extra></extra>",
         "legendgroup": "Estonia",
         "marker": {
          "color": "#FECB52",
          "symbol": "circle"
         },
         "mode": "markers",
         "name": "Estonia",
         "scene": "scene",
         "showlegend": true,
         "type": "scatter3d",
         "x": [
          46.5,
          51.9,
          50.8
         ],
         "y": [
          0.2,
          0.2,
          null
         ],
         "z": [
          10.605315293767234,
          8.490291014116425,
          5.486195545802318
         ]
        },
        {
         "hovertemplate": "country=Finland<br>Public Trust of Their Government (% out of 100)=%{x}<br>Poverty Gaps=%{y}<br>Events Per Capita=%{z}<extra></extra>",
         "legendgroup": "Finland",
         "marker": {
          "color": "#636efa",
          "symbol": "circle"
         },
         "mode": "markers",
         "name": "Finland",
         "scene": "scene",
         "showlegend": true,
         "type": "scatter3d",
         "x": [
          80.9,
          71.4,
          77.5
         ],
         "y": [
          0,
          0,
          null
         ],
         "z": [
          3.9062902666639903,
          4.782515556259798,
          6.209384774156576
         ]
        },
        {
         "hovertemplate": "country=France<br>Public Trust of Their Government (% out of 100)=%{x}<br>Poverty Gaps=%{y}<br>Events Per Capita=%{z}<extra></extra>",
         "legendgroup": "France",
         "marker": {
          "color": "#EF553B",
          "symbol": "circle"
         },
         "mode": "markers",
         "name": "France",
         "scene": "scene",
         "showlegend": true,
         "type": "scatter3d",
         "x": [
          41,
          43.4,
          43.4
         ],
         "y": [
          0.1,
          0,
          null
         ],
         "z": [
          7.643799590259785,
          12.33097590731545,
          9.446632565318623
         ]
        },
        {
         "hovertemplate": "country=Germany<br>Public Trust of Their Government (% out of 100)=%{x}<br>Poverty Gaps=%{y}<br>Events Per Capita=%{z}<extra></extra>",
         "legendgroup": "Germany",
         "marker": {
          "color": "#00cc96",
          "symbol": "circle"
         },
         "mode": "markers",
         "name": "Germany",
         "scene": "scene",
         "showlegend": true,
         "type": "scatter3d",
         "x": [
          65.4,
          60.5,
          60.8
         ],
         "y": [
          null,
          null,
          null
         ],
         "z": [
          5.161081105078853,
          5.06634459379203,
          5.6922609773970105
         ]
        },
        {
         "hovertemplate": "country=Greece<br>Public Trust of Their Government (% out of 100)=%{x}<br>Poverty Gaps=%{y}<br>Events Per Capita=%{z}<extra></extra>",
         "legendgroup": "Greece",
         "marker": {
          "color": "#ab63fa",
          "symbol": "circle"
         },
         "mode": "markers",
         "name": "Greece",
         "scene": "scene",
         "showlegend": true,
         "type": "scatter3d",
         "x": [
          15.7,
          39.6,
          39.7,
          40.2,
          25.6
         ],
         "y": [
          0.1,
          0.4,
          0.5,
          0.4,
          null
         ],
         "z": [
          1.8913838799308518,
          4.635509946200104,
          6.169032038680953,
          5.279487855616793,
          4.162303361136689
         ]
        },
        {
         "hovertemplate": "country=Hungary<br>Public Trust of Their Government (% out of 100)=%{x}<br>Poverty Gaps=%{y}<br>Events Per Capita=%{z}<extra></extra>",
         "legendgroup": "Hungary",
         "marker": {
          "color": "#FFA15A",
          "symbol": "circle"
         },
         "mode": "markers",
         "name": "Hungary",
         "scene": "scene",
         "showlegend": true,
         "type": "scatter3d",
         "x": [
          42.9,
          41.7,
          44.2
         ],
         "y": [
          0.3,
          0.2,
          null
         ],
         "z": [
          2.040994450443783,
          1.3182434282732938,
          4.303618523935586
         ]
        },
        {
         "hovertemplate": "country=Iceland<br>Public Trust of Their Government (% out of 100)=%{x}<br>Poverty Gaps=%{y}<br>Events Per Capita=%{z}<extra></extra>",
         "legendgroup": "Iceland",
         "marker": {
          "color": "#19d3f3",
          "symbol": "circle"
         },
         "mode": "markers",
         "name": "Iceland",
         "scene": "scene",
         "showlegend": true,
         "type": "scatter3d",
         "x": [
          59.2,
          63.4,
          51.5
         ],
         "y": [
          null,
          null,
          null
         ],
         "z": [
          7.913486491132802,
          7.516374959733706,
          7.3297853681777365
         ]
        },
        {
         "hovertemplate": "country=Ireland<br>Public Trust of Their Government (% out of 100)=%{x}<br>Poverty Gaps=%{y}<br>Events Per Capita=%{z}<extra></extra>",
         "legendgroup": "Ireland",
         "marker": {
          "color": "#FF6692",
          "symbol": "circle"
         },
         "mode": "markers",
         "name": "Ireland",
         "scene": "scene",
         "showlegend": true,
         "type": "scatter3d",
         "x": [
          58.8,
          62.3,
          62.3
         ],
         "y": [
          0.1,
          0,
          null
         ],
         "z": [
          5.596361522547319,
          4.331271542115457,
          5.441598386634342
         ]
        },
        {
         "hovertemplate": "country=Israel<br>Public Trust of Their Government (% out of 100)=%{x}<br>Poverty Gaps=%{y}<br>Events Per Capita=%{z}<extra></extra>",
         "legendgroup": "Israel",
         "marker": {
          "color": "#B6E880",
          "symbol": "circle"
         },
         "mode": "markers",
         "name": "Israel",
         "scene": "scene",
         "showlegend": true,
         "type": "scatter3d",
         "x": [
          43.8,
          38.9,
          42.2,
          49.6,
          38.9,
          44,
          44
         ],
         "y": [
          0.1,
          0.2,
          0.2,
          0.3,
          0.3,
          0.2,
          null
         ],
         "z": [
          1.5211794991809033,
          3.3167686180895872,
          4.39050749763588,
          4.716147559089905,
          13.24999186118436,
          10.606739654694069,
          7.711221553753597
         ]
        },
        {
         "hovertemplate": "country=Italy<br>Public Trust of Their Government (% out of 100)=%{x}<br>Poverty Gaps=%{y}<br>Events Per Capita=%{z}<extra></extra>",
         "legendgroup": "Italy",
         "marker": {
          "color": "#FF97FF",
          "symbol": "circle"
         },
         "mode": "markers",
         "name": "Italy",
         "scene": "scene",
         "showlegend": true,
         "type": "scatter3d",
         "x": [
          37.5,
          35.4,
          35.4
         ],
         "y": [
          0.7,
          0.6,
          null
         ],
         "z": [
          9.233018316588925,
          12.458320137835322,
          7.794310950421549
         ]
        },
        {
         "hovertemplate": "country=Japan<br>Public Trust of Their Government (% out of 100)=%{x}<br>Poverty Gaps=%{y}<br>Events Per Capita=%{z}<extra></extra>",
         "legendgroup": "Japan",
         "marker": {
          "color": "#FECB52",
          "symbol": "circle"
         },
         "mode": "markers",
         "name": "Japan",
         "scene": "scene",
         "showlegend": true,
         "type": "scatter3d",
         "x": [
          38.5,
          41.1,
          42.3,
          29.1,
          43.1
         ],
         "y": [
          null,
          null,
          null,
          null,
          null
         ],
         "z": [
          1.2908974773481796,
          1.0179021266178643,
          1.199895454653456,
          1.129043614206895,
          1.2659341772249826
         ]
        },
        {
         "hovertemplate": "country=Latvia<br>Public Trust of Their Government (% out of 100)=%{x}<br>Poverty Gaps=%{y}<br>Events Per Capita=%{z}<extra></extra>",
         "legendgroup": "Latvia",
         "marker": {
          "color": "#636efa",
          "symbol": "circle"
         },
         "mode": "markers",
         "name": "Latvia",
         "scene": "scene",
         "showlegend": true,
         "type": "scatter3d",
         "x": [
          30.7,
          29.5,
          29.5
         ],
         "y": [
          0.2,
          0.2,
          null
         ],
         "z": [
          3.57810180646784,
          3.290014805066623,
          2.500820748085941
         ]
        },
        {
         "hovertemplate": "country=Lithuania<br>Public Trust of Their Government (% out of 100)=%{x}<br>Poverty Gaps=%{y}<br>Events Per Capita=%{z}<extra></extra>",
         "legendgroup": "Lithuania",
         "marker": {
          "color": "#EF553B",
          "symbol": "circle"
         },
         "mode": "markers",
         "name": "Lithuania",
         "scene": "scene",
         "showlegend": true,
         "type": "scatter3d",
         "x": [
          47.4,
          30.4,
          30.4
         ],
         "y": [
          0.1,
          0.2,
          null
         ],
         "z": [
          2.1109992003248794,
          5.284130933623818,
          2.6839579480293922
         ]
        },
        {
         "hovertemplate": "country=Luxembourg<br>Public Trust of Their Government (% out of 100)=%{x}<br>Poverty Gaps=%{y}<br>Events Per Capita=%{z}<extra></extra>",
         "legendgroup": "Luxembourg",
         "marker": {
          "color": "#00cc96",
          "symbol": "circle"
         },
         "mode": "markers",
         "name": "Luxembourg",
         "scene": "scene",
         "showlegend": true,
         "type": "scatter3d",
         "x": [
          78,
          78,
          78
         ],
         "y": [
          0,
          0,
          null
         ],
         "z": [
          5.551863125952739,
          4.999500049995,
          5.052801778586226
         ]
        },
        {
         "hovertemplate": "country=Mexico<br>Public Trust of Their Government (% out of 100)=%{x}<br>Poverty Gaps=%{y}<br>Events Per Capita=%{z}<extra></extra>",
         "legendgroup": "Mexico",
         "marker": {
          "color": "#ab63fa",
          "symbol": "circle"
         },
         "mode": "markers",
         "name": "Mexico",
         "scene": "scene",
         "showlegend": true,
         "type": "scatter3d",
         "x": [
          29.5,
          49.5,
          45.9,
          48.3,
          52.9
         ],
         "y": [
          0.5,
          null,
          0.6,
          null,
          0.3
         ],
         "z": [
          3.4439698639815752,
          3.8533701211327682,
          4.484187413890704,
          4.852210492048081,
          4.720631587409427
         ]
        },
        {
         "hovertemplate": "country=Netherlands<br>Public Trust of Their Government (% out of 100)=%{x}<br>Poverty Gaps=%{y}<br>Events Per Capita=%{z}<extra></extra>",
         "legendgroup": "Netherlands",
         "marker": {
          "color": "#FFA15A",
          "symbol": "circle"
         },
         "mode": "markers",
         "name": "Netherlands",
         "scene": "scene",
         "showlegend": true,
         "type": "scatter3d",
         "x": [
          78.1,
          58.5,
          47.2
         ],
         "y": [
          0,
          0,
          null
         ],
         "z": [
          3.325402058309205,
          3.3251499283296155,
          3.988479283239766
         ]
        },
        {
         "hovertemplate": "country=Norway<br>Public Trust of Their Government (% out of 100)=%{x}<br>Poverty Gaps=%{y}<br>Events Per Capita=%{z}<extra></extra>",
         "legendgroup": "Norway",
         "marker": {
          "color": "#19d3f3",
          "symbol": "circle"
         },
         "mode": "markers",
         "name": "Norway",
         "scene": "scene",
         "showlegend": true,
         "type": "scatter3d",
         "x": [
          82.9,
          77.4,
          63.6
         ],
         "y": [
          null,
          null,
          null
         ],
         "z": [
          5.465217330687474,
          5.676439263948879,
          8.83248639806257
         ]
        },
        {
         "hovertemplate": "country=Poland<br>Public Trust of Their Government (% out of 100)=%{x}<br>Poverty Gaps=%{y}<br>Events Per Capita=%{z}<extra></extra>",
         "legendgroup": "Poland",
         "marker": {
          "color": "#FF6692",
          "symbol": "circle"
         },
         "mode": "markers",
         "name": "Poland",
         "scene": "scene",
         "showlegend": true,
         "type": "scatter3d",
         "x": [
          27.3,
          25.9,
          34.2
         ],
         "y": [
          0.1,
          0,
          null
         ],
         "z": [
          4.820698766486882,
          4.784470467206985,
          3.128585771414606
         ]
        },
        {
         "hovertemplate": "country=Portugal<br>Public Trust of Their Government (% out of 100)=%{x}<br>Poverty Gaps=%{y}<br>Events Per Capita=%{z}<extra></extra>",
         "legendgroup": "Portugal",
         "marker": {
          "color": "#B6E880",
          "symbol": "circle"
         },
         "mode": "markers",
         "name": "Portugal",
         "scene": "scene",
         "showlegend": true,
         "type": "scatter3d",
         "x": [
          61.5,
          57.6,
          58.9
         ],
         "y": [
          0.2,
          0.1,
          null
         ],
         "z": [
          3.486424939261913,
          5.944895260306793,
          3.179725379319143
         ]
        },
        {
         "hovertemplate": "country=Slovenia<br>Public Trust of Their Government (% out of 100)=%{x}<br>Poverty Gaps=%{y}<br>Events Per Capita=%{z}<extra></extra>",
         "legendgroup": "Slovenia",
         "marker": {
          "color": "#FF97FF",
          "symbol": "circle"
         },
         "mode": "markers",
         "name": "Slovenia",
         "scene": "scene",
         "showlegend": true,
         "type": "scatter3d",
         "x": [
          45.3,
          33.9,
          45.1
         ],
         "y": [
          0,
          0,
          null
         ],
         "z": [
          6.278482072317649,
          6.546244234680009,
          3.0303231176721814
         ]
        },
        {
         "hovertemplate": "country=Spain<br>Public Trust of Their Government (% out of 100)=%{x}<br>Poverty Gaps=%{y}<br>Events Per Capita=%{z}<extra></extra>",
         "legendgroup": "Spain",
         "marker": {
          "color": "#FECB52",
          "symbol": "circle"
         },
         "mode": "markers",
         "name": "Spain",
         "scene": "scene",
         "showlegend": true,
         "type": "scatter3d",
         "x": [
          38.2,
          37.2,
          37.2
         ],
         "y": [
          0.5,
          0.4,
          null
         ],
         "z": [
          7.068412756035993,
          9.29015340331536,
          7.986882759007533
         ]
        },
        {
         "hovertemplate": "country=Sweden<br>Public Trust of Their Government (% out of 100)=%{x}<br>Poverty Gaps=%{y}<br>Events Per Capita=%{z}<extra></extra>",
         "legendgroup": "Sweden",
         "marker": {
          "color": "#636efa",
          "symbol": "circle"
         },
         "mode": "markers",
         "name": "Sweden",
         "scene": "scene",
         "showlegend": true,
         "type": "scatter3d",
         "x": [
          67.1,
          63.4,
          68.8
         ],
         "y": [
          0.3,
          0.5,
          null
         ],
         "z": [
          8.73139580054633,
          11.943381077095196,
          14.04604069003535
         ]
        },
        {
         "hovertemplate": "country=Switzerland<br>Public Trust of Their Government (% out of 100)=%{x}<br>Poverty Gaps=%{y}<br>Events Per Capita=%{z}<extra></extra>",
         "legendgroup": "Switzerland",
         "marker": {
          "color": "#EF553B",
          "symbol": "circle"
         },
         "mode": "markers",
         "name": "Switzerland",
         "scene": "scene",
         "showlegend": true,
         "type": "scatter3d",
         "x": [
          84.6,
          83.8,
          83.8
         ],
         "y": [
          0,
          null,
          null
         ],
         "z": [
          1.9101274610689978,
          2.492950235428706,
          2.119474552631339
         ]
        },
        {
         "hovertemplate": "country=United Kingdom<br>Public Trust of Their Government (% out of 100)=%{x}<br>Poverty Gaps=%{y}<br>Events Per Capita=%{z}<extra></extra>",
         "legendgroup": "United Kingdom",
         "marker": {
          "color": "#00cc96",
          "symbol": "circle"
         },
         "mode": "markers",
         "name": "United Kingdom",
         "scene": "scene",
         "showlegend": true,
         "type": "scatter3d",
         "x": [
          34.7,
          39.5,
          39.5
         ],
         "y": [
          0.3,
          0.2,
          null
         ],
         "z": [
          3.273642819391188,
          2.3647436740197416,
          2.6055900433311865
         ]
        },
        {
         "hovertemplate": "country=United States<br>Public Trust of Their Government (% out of 100)=%{x}<br>Poverty Gaps=%{y}<br>Events Per Capita=%{z}<extra></extra>",
         "legendgroup": "United States",
         "marker": {
          "color": "#ab63fa",
          "symbol": "circle"
         },
         "mode": "markers",
         "name": "United States",
         "scene": "scene",
         "showlegend": true,
         "type": "scatter3d",
         "x": [
          46.5,
          40.5,
          31
         ],
         "y": [
          0.2,
          0.2,
          null
         ],
         "z": [
          6.511086106717163,
          3.959563433540416,
          3.6554019927002557
         ]
        }
       ],
       "layout": {
        "legend": {
         "title": {
          "text": "country"
         },
         "tracegroupgap": 0
        },
        "scene": {
         "domain": {
          "x": [
           0,
           1
          ],
          "y": [
           0,
           1
          ]
         },
         "xaxis": {
          "title": {
           "text": "Public Trust of Their Government (% out of 100)"
          }
         },
         "yaxis": {
          "title": {
           "text": "Poverty Gaps"
          }
         },
         "zaxis": {
          "title": {
           "text": "Events Per Capita"
          }
         }
        },
        "template": {
         "data": {
          "bar": [
           {
            "error_x": {
             "color": "#2a3f5f"
            },
            "error_y": {
             "color": "#2a3f5f"
            },
            "marker": {
             "line": {
              "color": "#E5ECF6",
              "width": 0.5
             },
             "pattern": {
              "fillmode": "overlay",
              "size": 10,
              "solidity": 0.2
             }
            },
            "type": "bar"
           }
          ],
          "barpolar": [
           {
            "marker": {
             "line": {
              "color": "#E5ECF6",
              "width": 0.5
             },
             "pattern": {
              "fillmode": "overlay",
              "size": 10,
              "solidity": 0.2
             }
            },
            "type": "barpolar"
           }
          ],
          "carpet": [
           {
            "aaxis": {
             "endlinecolor": "#2a3f5f",
             "gridcolor": "white",
             "linecolor": "white",
             "minorgridcolor": "white",
             "startlinecolor": "#2a3f5f"
            },
            "baxis": {
             "endlinecolor": "#2a3f5f",
             "gridcolor": "white",
             "linecolor": "white",
             "minorgridcolor": "white",
             "startlinecolor": "#2a3f5f"
            },
            "type": "carpet"
           }
          ],
          "choropleth": [
           {
            "colorbar": {
             "outlinewidth": 0,
             "ticks": ""
            },
            "type": "choropleth"
           }
          ],
          "contour": [
           {
            "colorbar": {
             "outlinewidth": 0,
             "ticks": ""
            },
            "colorscale": [
             [
              0,
              "#0d0887"
             ],
             [
              0.1111111111111111,
              "#46039f"
             ],
             [
              0.2222222222222222,
              "#7201a8"
             ],
             [
              0.3333333333333333,
              "#9c179e"
             ],
             [
              0.4444444444444444,
              "#bd3786"
             ],
             [
              0.5555555555555556,
              "#d8576b"
             ],
             [
              0.6666666666666666,
              "#ed7953"
             ],
             [
              0.7777777777777778,
              "#fb9f3a"
             ],
             [
              0.8888888888888888,
              "#fdca26"
             ],
             [
              1,
              "#f0f921"
             ]
            ],
            "type": "contour"
           }
          ],
          "contourcarpet": [
           {
            "colorbar": {
             "outlinewidth": 0,
             "ticks": ""
            },
            "type": "contourcarpet"
           }
          ],
          "heatmap": [
           {
            "colorbar": {
             "outlinewidth": 0,
             "ticks": ""
            },
            "colorscale": [
             [
              0,
              "#0d0887"
             ],
             [
              0.1111111111111111,
              "#46039f"
             ],
             [
              0.2222222222222222,
              "#7201a8"
             ],
             [
              0.3333333333333333,
              "#9c179e"
             ],
             [
              0.4444444444444444,
              "#bd3786"
             ],
             [
              0.5555555555555556,
              "#d8576b"
             ],
             [
              0.6666666666666666,
              "#ed7953"
             ],
             [
              0.7777777777777778,
              "#fb9f3a"
             ],
             [
              0.8888888888888888,
              "#fdca26"
             ],
             [
              1,
              "#f0f921"
             ]
            ],
            "type": "heatmap"
           }
          ],
          "heatmapgl": [
           {
            "colorbar": {
             "outlinewidth": 0,
             "ticks": ""
            },
            "colorscale": [
             [
              0,
              "#0d0887"
             ],
             [
              0.1111111111111111,
              "#46039f"
             ],
             [
              0.2222222222222222,
              "#7201a8"
             ],
             [
              0.3333333333333333,
              "#9c179e"
             ],
             [
              0.4444444444444444,
              "#bd3786"
             ],
             [
              0.5555555555555556,
              "#d8576b"
             ],
             [
              0.6666666666666666,
              "#ed7953"
             ],
             [
              0.7777777777777778,
              "#fb9f3a"
             ],
             [
              0.8888888888888888,
              "#fdca26"
             ],
             [
              1,
              "#f0f921"
             ]
            ],
            "type": "heatmapgl"
           }
          ],
          "histogram": [
           {
            "marker": {
             "pattern": {
              "fillmode": "overlay",
              "size": 10,
              "solidity": 0.2
             }
            },
            "type": "histogram"
           }
          ],
          "histogram2d": [
           {
            "colorbar": {
             "outlinewidth": 0,
             "ticks": ""
            },
            "colorscale": [
             [
              0,
              "#0d0887"
             ],
             [
              0.1111111111111111,
              "#46039f"
             ],
             [
              0.2222222222222222,
              "#7201a8"
             ],
             [
              0.3333333333333333,
              "#9c179e"
             ],
             [
              0.4444444444444444,
              "#bd3786"
             ],
             [
              0.5555555555555556,
              "#d8576b"
             ],
             [
              0.6666666666666666,
              "#ed7953"
             ],
             [
              0.7777777777777778,
              "#fb9f3a"
             ],
             [
              0.8888888888888888,
              "#fdca26"
             ],
             [
              1,
              "#f0f921"
             ]
            ],
            "type": "histogram2d"
           }
          ],
          "histogram2dcontour": [
           {
            "colorbar": {
             "outlinewidth": 0,
             "ticks": ""
            },
            "colorscale": [
             [
              0,
              "#0d0887"
             ],
             [
              0.1111111111111111,
              "#46039f"
             ],
             [
              0.2222222222222222,
              "#7201a8"
             ],
             [
              0.3333333333333333,
              "#9c179e"
             ],
             [
              0.4444444444444444,
              "#bd3786"
             ],
             [
              0.5555555555555556,
              "#d8576b"
             ],
             [
              0.6666666666666666,
              "#ed7953"
             ],
             [
              0.7777777777777778,
              "#fb9f3a"
             ],
             [
              0.8888888888888888,
              "#fdca26"
             ],
             [
              1,
              "#f0f921"
             ]
            ],
            "type": "histogram2dcontour"
           }
          ],
          "mesh3d": [
           {
            "colorbar": {
             "outlinewidth": 0,
             "ticks": ""
            },
            "type": "mesh3d"
           }
          ],
          "parcoords": [
           {
            "line": {
             "colorbar": {
              "outlinewidth": 0,
              "ticks": ""
             }
            },
            "type": "parcoords"
           }
          ],
          "pie": [
           {
            "automargin": true,
            "type": "pie"
           }
          ],
          "scatter": [
           {
            "fillpattern": {
             "fillmode": "overlay",
             "size": 10,
             "solidity": 0.2
            },
            "type": "scatter"
           }
          ],
          "scatter3d": [
           {
            "line": {
             "colorbar": {
              "outlinewidth": 0,
              "ticks": ""
             }
            },
            "marker": {
             "colorbar": {
              "outlinewidth": 0,
              "ticks": ""
             }
            },
            "type": "scatter3d"
           }
          ],
          "scattercarpet": [
           {
            "marker": {
             "colorbar": {
              "outlinewidth": 0,
              "ticks": ""
             }
            },
            "type": "scattercarpet"
           }
          ],
          "scattergeo": [
           {
            "marker": {
             "colorbar": {
              "outlinewidth": 0,
              "ticks": ""
             }
            },
            "type": "scattergeo"
           }
          ],
          "scattergl": [
           {
            "marker": {
             "colorbar": {
              "outlinewidth": 0,
              "ticks": ""
             }
            },
            "type": "scattergl"
           }
          ],
          "scattermapbox": [
           {
            "marker": {
             "colorbar": {
              "outlinewidth": 0,
              "ticks": ""
             }
            },
            "type": "scattermapbox"
           }
          ],
          "scatterpolar": [
           {
            "marker": {
             "colorbar": {
              "outlinewidth": 0,
              "ticks": ""
             }
            },
            "type": "scatterpolar"
           }
          ],
          "scatterpolargl": [
           {
            "marker": {
             "colorbar": {
              "outlinewidth": 0,
              "ticks": ""
             }
            },
            "type": "scatterpolargl"
           }
          ],
          "scatterternary": [
           {
            "marker": {
             "colorbar": {
              "outlinewidth": 0,
              "ticks": ""
             }
            },
            "type": "scatterternary"
           }
          ],
          "surface": [
           {
            "colorbar": {
             "outlinewidth": 0,
             "ticks": ""
            },
            "colorscale": [
             [
              0,
              "#0d0887"
             ],
             [
              0.1111111111111111,
              "#46039f"
             ],
             [
              0.2222222222222222,
              "#7201a8"
             ],
             [
              0.3333333333333333,
              "#9c179e"
             ],
             [
              0.4444444444444444,
              "#bd3786"
             ],
             [
              0.5555555555555556,
              "#d8576b"
             ],
             [
              0.6666666666666666,
              "#ed7953"
             ],
             [
              0.7777777777777778,
              "#fb9f3a"
             ],
             [
              0.8888888888888888,
              "#fdca26"
             ],
             [
              1,
              "#f0f921"
             ]
            ],
            "type": "surface"
           }
          ],
          "table": [
           {
            "cells": {
             "fill": {
              "color": "#EBF0F8"
             },
             "line": {
              "color": "white"
             }
            },
            "header": {
             "fill": {
              "color": "#C8D4E3"
             },
             "line": {
              "color": "white"
             }
            },
            "type": "table"
           }
          ]
         },
         "layout": {
          "annotationdefaults": {
           "arrowcolor": "#2a3f5f",
           "arrowhead": 0,
           "arrowwidth": 1
          },
          "autotypenumbers": "strict",
          "coloraxis": {
           "colorbar": {
            "outlinewidth": 0,
            "ticks": ""
           }
          },
          "colorscale": {
           "diverging": [
            [
             0,
             "#8e0152"
            ],
            [
             0.1,
             "#c51b7d"
            ],
            [
             0.2,
             "#de77ae"
            ],
            [
             0.3,
             "#f1b6da"
            ],
            [
             0.4,
             "#fde0ef"
            ],
            [
             0.5,
             "#f7f7f7"
            ],
            [
             0.6,
             "#e6f5d0"
            ],
            [
             0.7,
             "#b8e186"
            ],
            [
             0.8,
             "#7fbc41"
            ],
            [
             0.9,
             "#4d9221"
            ],
            [
             1,
             "#276419"
            ]
           ],
           "sequential": [
            [
             0,
             "#0d0887"
            ],
            [
             0.1111111111111111,
             "#46039f"
            ],
            [
             0.2222222222222222,
             "#7201a8"
            ],
            [
             0.3333333333333333,
             "#9c179e"
            ],
            [
             0.4444444444444444,
             "#bd3786"
            ],
            [
             0.5555555555555556,
             "#d8576b"
            ],
            [
             0.6666666666666666,
             "#ed7953"
            ],
            [
             0.7777777777777778,
             "#fb9f3a"
            ],
            [
             0.8888888888888888,
             "#fdca26"
            ],
            [
             1,
             "#f0f921"
            ]
           ],
           "sequentialminus": [
            [
             0,
             "#0d0887"
            ],
            [
             0.1111111111111111,
             "#46039f"
            ],
            [
             0.2222222222222222,
             "#7201a8"
            ],
            [
             0.3333333333333333,
             "#9c179e"
            ],
            [
             0.4444444444444444,
             "#bd3786"
            ],
            [
             0.5555555555555556,
             "#d8576b"
            ],
            [
             0.6666666666666666,
             "#ed7953"
            ],
            [
             0.7777777777777778,
             "#fb9f3a"
            ],
            [
             0.8888888888888888,
             "#fdca26"
            ],
            [
             1,
             "#f0f921"
            ]
           ]
          },
          "colorway": [
           "#636efa",
           "#EF553B",
           "#00cc96",
           "#ab63fa",
           "#FFA15A",
           "#19d3f3",
           "#FF6692",
           "#B6E880",
           "#FF97FF",
           "#FECB52"
          ],
          "font": {
           "color": "#2a3f5f"
          },
          "geo": {
           "bgcolor": "white",
           "lakecolor": "white",
           "landcolor": "#E5ECF6",
           "showlakes": true,
           "showland": true,
           "subunitcolor": "white"
          },
          "hoverlabel": {
           "align": "left"
          },
          "hovermode": "closest",
          "mapbox": {
           "style": "light"
          },
          "paper_bgcolor": "white",
          "plot_bgcolor": "#E5ECF6",
          "polar": {
           "angularaxis": {
            "gridcolor": "white",
            "linecolor": "white",
            "ticks": ""
           },
           "bgcolor": "#E5ECF6",
           "radialaxis": {
            "gridcolor": "white",
            "linecolor": "white",
            "ticks": ""
           }
          },
          "scene": {
           "xaxis": {
            "backgroundcolor": "#E5ECF6",
            "gridcolor": "white",
            "gridwidth": 2,
            "linecolor": "white",
            "showbackground": true,
            "ticks": "",
            "zerolinecolor": "white"
           },
           "yaxis": {
            "backgroundcolor": "#E5ECF6",
            "gridcolor": "white",
            "gridwidth": 2,
            "linecolor": "white",
            "showbackground": true,
            "ticks": "",
            "zerolinecolor": "white"
           },
           "zaxis": {
            "backgroundcolor": "#E5ECF6",
            "gridcolor": "white",
            "gridwidth": 2,
            "linecolor": "white",
            "showbackground": true,
            "ticks": "",
            "zerolinecolor": "white"
           }
          },
          "shapedefaults": {
           "line": {
            "color": "#2a3f5f"
           }
          },
          "ternary": {
           "aaxis": {
            "gridcolor": "white",
            "linecolor": "white",
            "ticks": ""
           },
           "baxis": {
            "gridcolor": "white",
            "linecolor": "white",
            "ticks": ""
           },
           "bgcolor": "#E5ECF6",
           "caxis": {
            "gridcolor": "white",
            "linecolor": "white",
            "ticks": ""
           }
          },
          "title": {
           "x": 0.05
          },
          "xaxis": {
           "automargin": true,
           "gridcolor": "white",
           "linecolor": "white",
           "ticks": "",
           "title": {
            "standoff": 15
           },
           "zerolinecolor": "white",
           "zerolinewidth": 2
          },
          "yaxis": {
           "automargin": true,
           "gridcolor": "white",
           "linecolor": "white",
           "ticks": "",
           "title": {
            "standoff": 15
           },
           "zerolinecolor": "white",
           "zerolinewidth": 2
          }
         }
        },
        "title": {
         "text": "Public Trust vs Year"
        }
       }
      }
     },
     "metadata": {},
     "output_type": "display_data"
    }
   ],
   "source": [
    "import plotly.express as px\n",
    "\n",
    "# Create the scatter plot using Plotly Express\n",
    "fig = px.scatter_3d(\n",
    "    combined_data, \n",
    "    x='public_trust_percentage',\n",
    "    y='poverty_gaps' ,\n",
    "    z='events_per_capita', \n",
    "    color='country',\n",
    "    labels= {'events_per_capita': 'Events Per Capita',\n",
    "        'poverty_gaps': 'Poverty Gaps',\n",
    "        'public_trust_percentage': 'Public Trust of Their Government (% out of 100)'\n",
    "    },\n",
    "    title='Public Trust vs Year'\n",
    ")\n",
    "\n",
    "fig.show()"
   ]
  },
  {
   "cell_type": "code",
   "execution_count": null,
   "id": "7a9373e7",
   "metadata": {},
   "outputs": [
    {
     "data": {
      "application/vnd.plotly.v1+json": {
       "config": {
        "plotlyServerURL": "https://plot.ly"
       },
       "data": [
        {
         "hovertemplate": "country=Australia<br>Poverty Gaps=%{x}<br>events_per_capita=%{y}<extra></extra>",
         "legendgroup": "Australia",
         "marker": {
          "color": "#636efa",
          "symbol": "circle"
         },
         "mode": "markers",
         "name": "Australia",
         "orientation": "v",
         "showlegend": true,
         "type": "scatter",
         "x": [
          null,
          null
         ],
         "xaxis": "x",
         "y": [
          2.6513104014060587,
          3.053195588324641
         ],
         "yaxis": "y"
        },
        {
         "hovertemplate": "country=Austria<br>Poverty Gaps=%{x}<br>events_per_capita=%{y}<extra></extra>",
         "legendgroup": "Austria",
         "marker": {
          "color": "#EF553B",
          "symbol": "circle"
         },
         "mode": "markers",
         "name": "Austria",
         "orientation": "v",
         "showlegend": true,
         "type": "scatter",
         "x": [
          0.6,
          0.4,
          null
         ],
         "xaxis": "x",
         "y": [
          3.970005598380776,
          6.275265060161591,
          3.2515466136303286
         ],
         "yaxis": "y"
        },
        {
         "hovertemplate": "country=Belgium<br>Poverty Gaps=%{x}<br>events_per_capita=%{y}<extra></extra>",
         "legendgroup": "Belgium",
         "marker": {
          "color": "#00cc96",
          "symbol": "circle"
         },
         "mode": "markers",
         "name": "Belgium",
         "orientation": "v",
         "showlegend": true,
         "type": "scatter",
         "x": [
          0,
          0,
          null
         ],
         "xaxis": "x",
         "y": [
          6.7945827762179904,
          7.189590715502372,
          4.475511932673239
         ],
         "yaxis": "y"
        },
        {
         "hovertemplate": "country=Brazil<br>Poverty Gaps=%{x}<br>events_per_capita=%{y}<extra></extra>",
         "legendgroup": "Brazil",
         "marker": {
          "color": "#ab63fa",
          "symbol": "circle"
         },
         "mode": "markers",
         "name": "Brazil",
         "orientation": "v",
         "showlegend": true,
         "type": "scatter",
         "x": [
          2,
          2.1,
          0.7,
          2.1,
          1.2
         ],
         "xaxis": "x",
         "y": [
          3.1160994417228784,
          1.579919978233557,
          1.1791949263810877,
          1.8943085653126077,
          1.7314288396354975
         ],
         "yaxis": "y"
        },
        {
         "hovertemplate": "country=Canada<br>Poverty Gaps=%{x}<br>events_per_capita=%{y}<extra></extra>",
         "legendgroup": "Canada",
         "marker": {
          "color": "#FFA15A",
          "symbol": "circle"
         },
         "mode": "markers",
         "name": "Canada",
         "orientation": "v",
         "showlegend": true,
         "type": "scatter",
         "x": [
          null,
          null
         ],
         "xaxis": "x",
         "y": [
          4.423633051607291,
          4.695619321106947
         ],
         "yaxis": "y"
        },
        {
         "hovertemplate": "country=Chile<br>Poverty Gaps=%{x}<br>events_per_capita=%{y}<extra></extra>",
         "legendgroup": "Chile",
         "marker": {
          "color": "#19d3f3",
          "symbol": "circle"
         },
         "mode": "markers",
         "name": "Chile",
         "orientation": "v",
         "showlegend": true,
         "type": "scatter",
         "x": [
          null,
          null,
          0.9,
          null,
          0.3
         ],
         "xaxis": "x",
         "y": [
          5.523635867807042,
          8.351066218440257,
          5.4299631897199605,
          4.514398468716039,
          4.728691214066219
         ],
         "yaxis": "y"
        },
        {
         "hovertemplate": "country=Colombia<br>Poverty Gaps=%{x}<br>events_per_capita=%{y}<extra></extra>",
         "legendgroup": "Colombia",
         "marker": {
          "color": "#FF6692",
          "symbol": "circle"
         },
         "mode": "markers",
         "name": "Colombia",
         "orientation": "v",
         "showlegend": true,
         "type": "scatter",
         "x": [
          1.8,
          2.1,
          4.5,
          3,
          2.5
         ],
         "xaxis": "x",
         "y": [
          0.8239144455357139,
          1.243339813179426,
          1.3469292820109033,
          4.431584545568083,
          2.629447061982313
         ],
         "yaxis": "y"
        },
        {
         "hovertemplate": "country=Costa Rica<br>Poverty Gaps=%{x}<br>events_per_capita=%{y}<extra></extra>",
         "legendgroup": "Costa Rica",
         "marker": {
          "color": "#B6E880",
          "symbol": "circle"
         },
         "mode": "markers",
         "name": "Costa Rica",
         "orientation": "v",
         "showlegend": true,
         "type": "scatter",
         "x": [
          0.6,
          0.4,
          0.9,
          0.4,
          0.3
         ],
         "xaxis": "x",
         "y": [
          5.93167582340191,
          6.588610318511124,
          11.028468087224446,
          3.7252930127278905,
          3.165516561152665
         ],
         "yaxis": "y"
        },
        {
         "hovertemplate": "country=Denmark<br>Poverty Gaps=%{x}<br>events_per_capita=%{y}<extra></extra>",
         "legendgroup": "Denmark",
         "marker": {
          "color": "#FF97FF",
          "symbol": "circle"
         },
         "mode": "markers",
         "name": "Denmark",
         "orientation": "v",
         "showlegend": true,
         "type": "scatter",
         "x": [
          0.1,
          0.1,
          null
         ],
         "xaxis": "x",
         "y": [
          9.620324710824358,
          14.137574651260353,
          6.284900467335713
         ],
         "yaxis": "y"
        },
        {
         "hovertemplate": "country=Estonia<br>Poverty Gaps=%{x}<br>events_per_capita=%{y}<extra></extra>",
         "legendgroup": "Estonia",
         "marker": {
          "color": "#FECB52",
          "symbol": "circle"
         },
         "mode": "markers",
         "name": "Estonia",
         "orientation": "v",
         "showlegend": true,
         "type": "scatter",
         "x": [
          0.2,
          0.2,
          null
         ],
         "xaxis": "x",
         "y": [
          10.605315293767234,
          8.490291014116425,
          5.486195545802318
         ],
         "yaxis": "y"
        },
        {
         "hovertemplate": "country=Finland<br>Poverty Gaps=%{x}<br>events_per_capita=%{y}<extra></extra>",
         "legendgroup": "Finland",
         "marker": {
          "color": "#636efa",
          "symbol": "circle"
         },
         "mode": "markers",
         "name": "Finland",
         "orientation": "v",
         "showlegend": true,
         "type": "scatter",
         "x": [
          0,
          0,
          null
         ],
         "xaxis": "x",
         "y": [
          3.9062902666639903,
          4.782515556259798,
          6.209384774156576
         ],
         "yaxis": "y"
        },
        {
         "hovertemplate": "country=France<br>Poverty Gaps=%{x}<br>events_per_capita=%{y}<extra></extra>",
         "legendgroup": "France",
         "marker": {
          "color": "#EF553B",
          "symbol": "circle"
         },
         "mode": "markers",
         "name": "France",
         "orientation": "v",
         "showlegend": true,
         "type": "scatter",
         "x": [
          0.1,
          0,
          null
         ],
         "xaxis": "x",
         "y": [
          7.643799590259785,
          12.33097590731545,
          9.446632565318623
         ],
         "yaxis": "y"
        },
        {
         "hovertemplate": "country=Germany<br>Poverty Gaps=%{x}<br>events_per_capita=%{y}<extra></extra>",
         "legendgroup": "Germany",
         "marker": {
          "color": "#00cc96",
          "symbol": "circle"
         },
         "mode": "markers",
         "name": "Germany",
         "orientation": "v",
         "showlegend": true,
         "type": "scatter",
         "x": [
          null,
          null,
          null
         ],
         "xaxis": "x",
         "y": [
          5.161081105078853,
          5.06634459379203,
          5.6922609773970105
         ],
         "yaxis": "y"
        },
        {
         "hovertemplate": "country=Greece<br>Poverty Gaps=%{x}<br>events_per_capita=%{y}<extra></extra>",
         "legendgroup": "Greece",
         "marker": {
          "color": "#ab63fa",
          "symbol": "circle"
         },
         "mode": "markers",
         "name": "Greece",
         "orientation": "v",
         "showlegend": true,
         "type": "scatter",
         "x": [
          0.1,
          0.4,
          0.5,
          0.4,
          null
         ],
         "xaxis": "x",
         "y": [
          1.8913838799308518,
          4.635509946200104,
          6.169032038680953,
          5.279487855616793,
          4.162303361136689
         ],
         "yaxis": "y"
        },
        {
         "hovertemplate": "country=Hungary<br>Poverty Gaps=%{x}<br>events_per_capita=%{y}<extra></extra>",
         "legendgroup": "Hungary",
         "marker": {
          "color": "#FFA15A",
          "symbol": "circle"
         },
         "mode": "markers",
         "name": "Hungary",
         "orientation": "v",
         "showlegend": true,
         "type": "scatter",
         "x": [
          0.3,
          0.2,
          null
         ],
         "xaxis": "x",
         "y": [
          2.040994450443783,
          1.3182434282732938,
          4.303618523935586
         ],
         "yaxis": "y"
        },
        {
         "hovertemplate": "country=Iceland<br>Poverty Gaps=%{x}<br>events_per_capita=%{y}<extra></extra>",
         "legendgroup": "Iceland",
         "marker": {
          "color": "#19d3f3",
          "symbol": "circle"
         },
         "mode": "markers",
         "name": "Iceland",
         "orientation": "v",
         "showlegend": true,
         "type": "scatter",
         "x": [
          null,
          null,
          null
         ],
         "xaxis": "x",
         "y": [
          7.913486491132802,
          7.516374959733706,
          7.3297853681777365
         ],
         "yaxis": "y"
        },
        {
         "hovertemplate": "country=Ireland<br>Poverty Gaps=%{x}<br>events_per_capita=%{y}<extra></extra>",
         "legendgroup": "Ireland",
         "marker": {
          "color": "#FF6692",
          "symbol": "circle"
         },
         "mode": "markers",
         "name": "Ireland",
         "orientation": "v",
         "showlegend": true,
         "type": "scatter",
         "x": [
          0.1,
          0,
          null
         ],
         "xaxis": "x",
         "y": [
          5.596361522547319,
          4.331271542115457,
          5.441598386634342
         ],
         "yaxis": "y"
        },
        {
         "hovertemplate": "country=Israel<br>Poverty Gaps=%{x}<br>events_per_capita=%{y}<extra></extra>",
         "legendgroup": "Israel",
         "marker": {
          "color": "#B6E880",
          "symbol": "circle"
         },
         "mode": "markers",
         "name": "Israel",
         "orientation": "v",
         "showlegend": true,
         "type": "scatter",
         "x": [
          0.1,
          0.2,
          0.2,
          0.3,
          0.3,
          0.2,
          null
         ],
         "xaxis": "x",
         "y": [
          1.5211794991809033,
          3.3167686180895872,
          4.39050749763588,
          4.716147559089905,
          13.24999186118436,
          10.606739654694069,
          7.711221553753597
         ],
         "yaxis": "y"
        },
        {
         "hovertemplate": "country=Italy<br>Poverty Gaps=%{x}<br>events_per_capita=%{y}<extra></extra>",
         "legendgroup": "Italy",
         "marker": {
          "color": "#FF97FF",
          "symbol": "circle"
         },
         "mode": "markers",
         "name": "Italy",
         "orientation": "v",
         "showlegend": true,
         "type": "scatter",
         "x": [
          0.7,
          0.6,
          null
         ],
         "xaxis": "x",
         "y": [
          9.233018316588925,
          12.458320137835322,
          7.794310950421549
         ],
         "yaxis": "y"
        },
        {
         "hovertemplate": "country=Japan<br>Poverty Gaps=%{x}<br>events_per_capita=%{y}<extra></extra>",
         "legendgroup": "Japan",
         "marker": {
          "color": "#FECB52",
          "symbol": "circle"
         },
         "mode": "markers",
         "name": "Japan",
         "orientation": "v",
         "showlegend": true,
         "type": "scatter",
         "x": [
          null,
          null,
          null,
          null,
          null
         ],
         "xaxis": "x",
         "y": [
          1.2908974773481796,
          1.0179021266178643,
          1.199895454653456,
          1.129043614206895,
          1.2659341772249826
         ],
         "yaxis": "y"
        },
        {
         "hovertemplate": "country=Latvia<br>Poverty Gaps=%{x}<br>events_per_capita=%{y}<extra></extra>",
         "legendgroup": "Latvia",
         "marker": {
          "color": "#636efa",
          "symbol": "circle"
         },
         "mode": "markers",
         "name": "Latvia",
         "orientation": "v",
         "showlegend": true,
         "type": "scatter",
         "x": [
          0.2,
          0.2,
          null
         ],
         "xaxis": "x",
         "y": [
          3.57810180646784,
          3.290014805066623,
          2.500820748085941
         ],
         "yaxis": "y"
        },
        {
         "hovertemplate": "country=Lithuania<br>Poverty Gaps=%{x}<br>events_per_capita=%{y}<extra></extra>",
         "legendgroup": "Lithuania",
         "marker": {
          "color": "#EF553B",
          "symbol": "circle"
         },
         "mode": "markers",
         "name": "Lithuania",
         "orientation": "v",
         "showlegend": true,
         "type": "scatter",
         "x": [
          0.1,
          0.2,
          null
         ],
         "xaxis": "x",
         "y": [
          2.1109992003248794,
          5.284130933623818,
          2.6839579480293922
         ],
         "yaxis": "y"
        },
        {
         "hovertemplate": "country=Luxembourg<br>Poverty Gaps=%{x}<br>events_per_capita=%{y}<extra></extra>",
         "legendgroup": "Luxembourg",
         "marker": {
          "color": "#00cc96",
          "symbol": "circle"
         },
         "mode": "markers",
         "name": "Luxembourg",
         "orientation": "v",
         "showlegend": true,
         "type": "scatter",
         "x": [
          0,
          0,
          null
         ],
         "xaxis": "x",
         "y": [
          5.551863125952739,
          4.999500049995,
          5.052801778586226
         ],
         "yaxis": "y"
        },
        {
         "hovertemplate": "country=Mexico<br>Poverty Gaps=%{x}<br>events_per_capita=%{y}<extra></extra>",
         "legendgroup": "Mexico",
         "marker": {
          "color": "#ab63fa",
          "symbol": "circle"
         },
         "mode": "markers",
         "name": "Mexico",
         "orientation": "v",
         "showlegend": true,
         "type": "scatter",
         "x": [
          0.5,
          null,
          0.6,
          null,
          0.3
         ],
         "xaxis": "x",
         "y": [
          3.4439698639815752,
          3.8533701211327682,
          4.484187413890704,
          4.852210492048081,
          4.720631587409427
         ],
         "yaxis": "y"
        },
        {
         "hovertemplate": "country=Netherlands<br>Poverty Gaps=%{x}<br>events_per_capita=%{y}<extra></extra>",
         "legendgroup": "Netherlands",
         "marker": {
          "color": "#FFA15A",
          "symbol": "circle"
         },
         "mode": "markers",
         "name": "Netherlands",
         "orientation": "v",
         "showlegend": true,
         "type": "scatter",
         "x": [
          0,
          0,
          null
         ],
         "xaxis": "x",
         "y": [
          3.325402058309205,
          3.3251499283296155,
          3.988479283239766
         ],
         "yaxis": "y"
        },
        {
         "hovertemplate": "country=Norway<br>Poverty Gaps=%{x}<br>events_per_capita=%{y}<extra></extra>",
         "legendgroup": "Norway",
         "marker": {
          "color": "#19d3f3",
          "symbol": "circle"
         },
         "mode": "markers",
         "name": "Norway",
         "orientation": "v",
         "showlegend": true,
         "type": "scatter",
         "x": [
          null,
          null,
          null
         ],
         "xaxis": "x",
         "y": [
          5.465217330687474,
          5.676439263948879,
          8.83248639806257
         ],
         "yaxis": "y"
        },
        {
         "hovertemplate": "country=Poland<br>Poverty Gaps=%{x}<br>events_per_capita=%{y}<extra></extra>",
         "legendgroup": "Poland",
         "marker": {
          "color": "#FF6692",
          "symbol": "circle"
         },
         "mode": "markers",
         "name": "Poland",
         "orientation": "v",
         "showlegend": true,
         "type": "scatter",
         "x": [
          0.1,
          0,
          null
         ],
         "xaxis": "x",
         "y": [
          4.820698766486882,
          4.784470467206985,
          3.128585771414606
         ],
         "yaxis": "y"
        },
        {
         "hovertemplate": "country=Portugal<br>Poverty Gaps=%{x}<br>events_per_capita=%{y}<extra></extra>",
         "legendgroup": "Portugal",
         "marker": {
          "color": "#B6E880",
          "symbol": "circle"
         },
         "mode": "markers",
         "name": "Portugal",
         "orientation": "v",
         "showlegend": true,
         "type": "scatter",
         "x": [
          0.2,
          0.1,
          null
         ],
         "xaxis": "x",
         "y": [
          3.486424939261913,
          5.944895260306793,
          3.179725379319143
         ],
         "yaxis": "y"
        },
        {
         "hovertemplate": "country=Slovenia<br>Poverty Gaps=%{x}<br>events_per_capita=%{y}<extra></extra>",
         "legendgroup": "Slovenia",
         "marker": {
          "color": "#FF97FF",
          "symbol": "circle"
         },
         "mode": "markers",
         "name": "Slovenia",
         "orientation": "v",
         "showlegend": true,
         "type": "scatter",
         "x": [
          0,
          0,
          null
         ],
         "xaxis": "x",
         "y": [
          6.278482072317649,
          6.546244234680009,
          3.0303231176721814
         ],
         "yaxis": "y"
        },
        {
         "hovertemplate": "country=Spain<br>Poverty Gaps=%{x}<br>events_per_capita=%{y}<extra></extra>",
         "legendgroup": "Spain",
         "marker": {
          "color": "#FECB52",
          "symbol": "circle"
         },
         "mode": "markers",
         "name": "Spain",
         "orientation": "v",
         "showlegend": true,
         "type": "scatter",
         "x": [
          0.5,
          0.4,
          null
         ],
         "xaxis": "x",
         "y": [
          7.068412756035993,
          9.29015340331536,
          7.986882759007533
         ],
         "yaxis": "y"
        },
        {
         "hovertemplate": "country=Sweden<br>Poverty Gaps=%{x}<br>events_per_capita=%{y}<extra></extra>",
         "legendgroup": "Sweden",
         "marker": {
          "color": "#636efa",
          "symbol": "circle"
         },
         "mode": "markers",
         "name": "Sweden",
         "orientation": "v",
         "showlegend": true,
         "type": "scatter",
         "x": [
          0.3,
          0.5,
          null
         ],
         "xaxis": "x",
         "y": [
          8.73139580054633,
          11.943381077095196,
          14.04604069003535
         ],
         "yaxis": "y"
        },
        {
         "hovertemplate": "country=Switzerland<br>Poverty Gaps=%{x}<br>events_per_capita=%{y}<extra></extra>",
         "legendgroup": "Switzerland",
         "marker": {
          "color": "#EF553B",
          "symbol": "circle"
         },
         "mode": "markers",
         "name": "Switzerland",
         "orientation": "v",
         "showlegend": true,
         "type": "scatter",
         "x": [
          0,
          null,
          null
         ],
         "xaxis": "x",
         "y": [
          1.9101274610689978,
          2.492950235428706,
          2.119474552631339
         ],
         "yaxis": "y"
        },
        {
         "hovertemplate": "country=United Kingdom<br>Poverty Gaps=%{x}<br>events_per_capita=%{y}<extra></extra>",
         "legendgroup": "United Kingdom",
         "marker": {
          "color": "#00cc96",
          "symbol": "circle"
         },
         "mode": "markers",
         "name": "United Kingdom",
         "orientation": "v",
         "showlegend": true,
         "type": "scatter",
         "x": [
          0.3,
          0.2,
          null
         ],
         "xaxis": "x",
         "y": [
          3.273642819391188,
          2.3647436740197416,
          2.6055900433311865
         ],
         "yaxis": "y"
        },
        {
         "hovertemplate": "country=United States<br>Poverty Gaps=%{x}<br>events_per_capita=%{y}<extra></extra>",
         "legendgroup": "United States",
         "marker": {
          "color": "#ab63fa",
          "symbol": "circle"
         },
         "mode": "markers",
         "name": "United States",
         "orientation": "v",
         "showlegend": true,
         "type": "scatter",
         "x": [
          0.2,
          0.2,
          null
         ],
         "xaxis": "x",
         "y": [
          6.511086106717163,
          3.959563433540416,
          3.6554019927002557
         ],
         "yaxis": "y"
        }
       ],
       "layout": {
        "legend": {
         "title": {
          "text": "country"
         },
         "tracegroupgap": 0
        },
        "template": {
         "data": {
          "bar": [
           {
            "error_x": {
             "color": "#2a3f5f"
            },
            "error_y": {
             "color": "#2a3f5f"
            },
            "marker": {
             "line": {
              "color": "#E5ECF6",
              "width": 0.5
             },
             "pattern": {
              "fillmode": "overlay",
              "size": 10,
              "solidity": 0.2
             }
            },
            "type": "bar"
           }
          ],
          "barpolar": [
           {
            "marker": {
             "line": {
              "color": "#E5ECF6",
              "width": 0.5
             },
             "pattern": {
              "fillmode": "overlay",
              "size": 10,
              "solidity": 0.2
             }
            },
            "type": "barpolar"
           }
          ],
          "carpet": [
           {
            "aaxis": {
             "endlinecolor": "#2a3f5f",
             "gridcolor": "white",
             "linecolor": "white",
             "minorgridcolor": "white",
             "startlinecolor": "#2a3f5f"
            },
            "baxis": {
             "endlinecolor": "#2a3f5f",
             "gridcolor": "white",
             "linecolor": "white",
             "minorgridcolor": "white",
             "startlinecolor": "#2a3f5f"
            },
            "type": "carpet"
           }
          ],
          "choropleth": [
           {
            "colorbar": {
             "outlinewidth": 0,
             "ticks": ""
            },
            "type": "choropleth"
           }
          ],
          "contour": [
           {
            "colorbar": {
             "outlinewidth": 0,
             "ticks": ""
            },
            "colorscale": [
             [
              0,
              "#0d0887"
             ],
             [
              0.1111111111111111,
              "#46039f"
             ],
             [
              0.2222222222222222,
              "#7201a8"
             ],
             [
              0.3333333333333333,
              "#9c179e"
             ],
             [
              0.4444444444444444,
              "#bd3786"
             ],
             [
              0.5555555555555556,
              "#d8576b"
             ],
             [
              0.6666666666666666,
              "#ed7953"
             ],
             [
              0.7777777777777778,
              "#fb9f3a"
             ],
             [
              0.8888888888888888,
              "#fdca26"
             ],
             [
              1,
              "#f0f921"
             ]
            ],
            "type": "contour"
           }
          ],
          "contourcarpet": [
           {
            "colorbar": {
             "outlinewidth": 0,
             "ticks": ""
            },
            "type": "contourcarpet"
           }
          ],
          "heatmap": [
           {
            "colorbar": {
             "outlinewidth": 0,
             "ticks": ""
            },
            "colorscale": [
             [
              0,
              "#0d0887"
             ],
             [
              0.1111111111111111,
              "#46039f"
             ],
             [
              0.2222222222222222,
              "#7201a8"
             ],
             [
              0.3333333333333333,
              "#9c179e"
             ],
             [
              0.4444444444444444,
              "#bd3786"
             ],
             [
              0.5555555555555556,
              "#d8576b"
             ],
             [
              0.6666666666666666,
              "#ed7953"
             ],
             [
              0.7777777777777778,
              "#fb9f3a"
             ],
             [
              0.8888888888888888,
              "#fdca26"
             ],
             [
              1,
              "#f0f921"
             ]
            ],
            "type": "heatmap"
           }
          ],
          "heatmapgl": [
           {
            "colorbar": {
             "outlinewidth": 0,
             "ticks": ""
            },
            "colorscale": [
             [
              0,
              "#0d0887"
             ],
             [
              0.1111111111111111,
              "#46039f"
             ],
             [
              0.2222222222222222,
              "#7201a8"
             ],
             [
              0.3333333333333333,
              "#9c179e"
             ],
             [
              0.4444444444444444,
              "#bd3786"
             ],
             [
              0.5555555555555556,
              "#d8576b"
             ],
             [
              0.6666666666666666,
              "#ed7953"
             ],
             [
              0.7777777777777778,
              "#fb9f3a"
             ],
             [
              0.8888888888888888,
              "#fdca26"
             ],
             [
              1,
              "#f0f921"
             ]
            ],
            "type": "heatmapgl"
           }
          ],
          "histogram": [
           {
            "marker": {
             "pattern": {
              "fillmode": "overlay",
              "size": 10,
              "solidity": 0.2
             }
            },
            "type": "histogram"
           }
          ],
          "histogram2d": [
           {
            "colorbar": {
             "outlinewidth": 0,
             "ticks": ""
            },
            "colorscale": [
             [
              0,
              "#0d0887"
             ],
             [
              0.1111111111111111,
              "#46039f"
             ],
             [
              0.2222222222222222,
              "#7201a8"
             ],
             [
              0.3333333333333333,
              "#9c179e"
             ],
             [
              0.4444444444444444,
              "#bd3786"
             ],
             [
              0.5555555555555556,
              "#d8576b"
             ],
             [
              0.6666666666666666,
              "#ed7953"
             ],
             [
              0.7777777777777778,
              "#fb9f3a"
             ],
             [
              0.8888888888888888,
              "#fdca26"
             ],
             [
              1,
              "#f0f921"
             ]
            ],
            "type": "histogram2d"
           }
          ],
          "histogram2dcontour": [
           {
            "colorbar": {
             "outlinewidth": 0,
             "ticks": ""
            },
            "colorscale": [
             [
              0,
              "#0d0887"
             ],
             [
              0.1111111111111111,
              "#46039f"
             ],
             [
              0.2222222222222222,
              "#7201a8"
             ],
             [
              0.3333333333333333,
              "#9c179e"
             ],
             [
              0.4444444444444444,
              "#bd3786"
             ],
             [
              0.5555555555555556,
              "#d8576b"
             ],
             [
              0.6666666666666666,
              "#ed7953"
             ],
             [
              0.7777777777777778,
              "#fb9f3a"
             ],
             [
              0.8888888888888888,
              "#fdca26"
             ],
             [
              1,
              "#f0f921"
             ]
            ],
            "type": "histogram2dcontour"
           }
          ],
          "mesh3d": [
           {
            "colorbar": {
             "outlinewidth": 0,
             "ticks": ""
            },
            "type": "mesh3d"
           }
          ],
          "parcoords": [
           {
            "line": {
             "colorbar": {
              "outlinewidth": 0,
              "ticks": ""
             }
            },
            "type": "parcoords"
           }
          ],
          "pie": [
           {
            "automargin": true,
            "type": "pie"
           }
          ],
          "scatter": [
           {
            "fillpattern": {
             "fillmode": "overlay",
             "size": 10,
             "solidity": 0.2
            },
            "type": "scatter"
           }
          ],
          "scatter3d": [
           {
            "line": {
             "colorbar": {
              "outlinewidth": 0,
              "ticks": ""
             }
            },
            "marker": {
             "colorbar": {
              "outlinewidth": 0,
              "ticks": ""
             }
            },
            "type": "scatter3d"
           }
          ],
          "scattercarpet": [
           {
            "marker": {
             "colorbar": {
              "outlinewidth": 0,
              "ticks": ""
             }
            },
            "type": "scattercarpet"
           }
          ],
          "scattergeo": [
           {
            "marker": {
             "colorbar": {
              "outlinewidth": 0,
              "ticks": ""
             }
            },
            "type": "scattergeo"
           }
          ],
          "scattergl": [
           {
            "marker": {
             "colorbar": {
              "outlinewidth": 0,
              "ticks": ""
             }
            },
            "type": "scattergl"
           }
          ],
          "scattermapbox": [
           {
            "marker": {
             "colorbar": {
              "outlinewidth": 0,
              "ticks": ""
             }
            },
            "type": "scattermapbox"
           }
          ],
          "scatterpolar": [
           {
            "marker": {
             "colorbar": {
              "outlinewidth": 0,
              "ticks": ""
             }
            },
            "type": "scatterpolar"
           }
          ],
          "scatterpolargl": [
           {
            "marker": {
             "colorbar": {
              "outlinewidth": 0,
              "ticks": ""
             }
            },
            "type": "scatterpolargl"
           }
          ],
          "scatterternary": [
           {
            "marker": {
             "colorbar": {
              "outlinewidth": 0,
              "ticks": ""
             }
            },
            "type": "scatterternary"
           }
          ],
          "surface": [
           {
            "colorbar": {
             "outlinewidth": 0,
             "ticks": ""
            },
            "colorscale": [
             [
              0,
              "#0d0887"
             ],
             [
              0.1111111111111111,
              "#46039f"
             ],
             [
              0.2222222222222222,
              "#7201a8"
             ],
             [
              0.3333333333333333,
              "#9c179e"
             ],
             [
              0.4444444444444444,
              "#bd3786"
             ],
             [
              0.5555555555555556,
              "#d8576b"
             ],
             [
              0.6666666666666666,
              "#ed7953"
             ],
             [
              0.7777777777777778,
              "#fb9f3a"
             ],
             [
              0.8888888888888888,
              "#fdca26"
             ],
             [
              1,
              "#f0f921"
             ]
            ],
            "type": "surface"
           }
          ],
          "table": [
           {
            "cells": {
             "fill": {
              "color": "#EBF0F8"
             },
             "line": {
              "color": "white"
             }
            },
            "header": {
             "fill": {
              "color": "#C8D4E3"
             },
             "line": {
              "color": "white"
             }
            },
            "type": "table"
           }
          ]
         },
         "layout": {
          "annotationdefaults": {
           "arrowcolor": "#2a3f5f",
           "arrowhead": 0,
           "arrowwidth": 1
          },
          "autotypenumbers": "strict",
          "coloraxis": {
           "colorbar": {
            "outlinewidth": 0,
            "ticks": ""
           }
          },
          "colorscale": {
           "diverging": [
            [
             0,
             "#8e0152"
            ],
            [
             0.1,
             "#c51b7d"
            ],
            [
             0.2,
             "#de77ae"
            ],
            [
             0.3,
             "#f1b6da"
            ],
            [
             0.4,
             "#fde0ef"
            ],
            [
             0.5,
             "#f7f7f7"
            ],
            [
             0.6,
             "#e6f5d0"
            ],
            [
             0.7,
             "#b8e186"
            ],
            [
             0.8,
             "#7fbc41"
            ],
            [
             0.9,
             "#4d9221"
            ],
            [
             1,
             "#276419"
            ]
           ],
           "sequential": [
            [
             0,
             "#0d0887"
            ],
            [
             0.1111111111111111,
             "#46039f"
            ],
            [
             0.2222222222222222,
             "#7201a8"
            ],
            [
             0.3333333333333333,
             "#9c179e"
            ],
            [
             0.4444444444444444,
             "#bd3786"
            ],
            [
             0.5555555555555556,
             "#d8576b"
            ],
            [
             0.6666666666666666,
             "#ed7953"
            ],
            [
             0.7777777777777778,
             "#fb9f3a"
            ],
            [
             0.8888888888888888,
             "#fdca26"
            ],
            [
             1,
             "#f0f921"
            ]
           ],
           "sequentialminus": [
            [
             0,
             "#0d0887"
            ],
            [
             0.1111111111111111,
             "#46039f"
            ],
            [
             0.2222222222222222,
             "#7201a8"
            ],
            [
             0.3333333333333333,
             "#9c179e"
            ],
            [
             0.4444444444444444,
             "#bd3786"
            ],
            [
             0.5555555555555556,
             "#d8576b"
            ],
            [
             0.6666666666666666,
             "#ed7953"
            ],
            [
             0.7777777777777778,
             "#fb9f3a"
            ],
            [
             0.8888888888888888,
             "#fdca26"
            ],
            [
             1,
             "#f0f921"
            ]
           ]
          },
          "colorway": [
           "#636efa",
           "#EF553B",
           "#00cc96",
           "#ab63fa",
           "#FFA15A",
           "#19d3f3",
           "#FF6692",
           "#B6E880",
           "#FF97FF",
           "#FECB52"
          ],
          "font": {
           "color": "#2a3f5f"
          },
          "geo": {
           "bgcolor": "white",
           "lakecolor": "white",
           "landcolor": "#E5ECF6",
           "showlakes": true,
           "showland": true,
           "subunitcolor": "white"
          },
          "hoverlabel": {
           "align": "left"
          },
          "hovermode": "closest",
          "mapbox": {
           "style": "light"
          },
          "paper_bgcolor": "white",
          "plot_bgcolor": "#E5ECF6",
          "polar": {
           "angularaxis": {
            "gridcolor": "white",
            "linecolor": "white",
            "ticks": ""
           },
           "bgcolor": "#E5ECF6",
           "radialaxis": {
            "gridcolor": "white",
            "linecolor": "white",
            "ticks": ""
           }
          },
          "scene": {
           "xaxis": {
            "backgroundcolor": "#E5ECF6",
            "gridcolor": "white",
            "gridwidth": 2,
            "linecolor": "white",
            "showbackground": true,
            "ticks": "",
            "zerolinecolor": "white"
           },
           "yaxis": {
            "backgroundcolor": "#E5ECF6",
            "gridcolor": "white",
            "gridwidth": 2,
            "linecolor": "white",
            "showbackground": true,
            "ticks": "",
            "zerolinecolor": "white"
           },
           "zaxis": {
            "backgroundcolor": "#E5ECF6",
            "gridcolor": "white",
            "gridwidth": 2,
            "linecolor": "white",
            "showbackground": true,
            "ticks": "",
            "zerolinecolor": "white"
           }
          },
          "shapedefaults": {
           "line": {
            "color": "#2a3f5f"
           }
          },
          "ternary": {
           "aaxis": {
            "gridcolor": "white",
            "linecolor": "white",
            "ticks": ""
           },
           "baxis": {
            "gridcolor": "white",
            "linecolor": "white",
            "ticks": ""
           },
           "bgcolor": "#E5ECF6",
           "caxis": {
            "gridcolor": "white",
            "linecolor": "white",
            "ticks": ""
           }
          },
          "title": {
           "x": 0.05
          },
          "xaxis": {
           "automargin": true,
           "gridcolor": "white",
           "linecolor": "white",
           "ticks": "",
           "title": {
            "standoff": 15
           },
           "zerolinecolor": "white",
           "zerolinewidth": 2
          },
          "yaxis": {
           "automargin": true,
           "gridcolor": "white",
           "linecolor": "white",
           "ticks": "",
           "title": {
            "standoff": 15
           },
           "zerolinecolor": "white",
           "zerolinewidth": 2
          }
         }
        },
        "title": {
         "text": "Poverty Gaps Vs Number of Protests"
        },
        "xaxis": {
         "anchor": "y",
         "domain": [
          0,
          1
         ],
         "title": {
          "text": "Poverty Gaps"
         }
        },
        "yaxis": {
         "anchor": "x",
         "domain": [
          0,
          1
         ],
         "title": {
          "text": "events_per_capita"
         }
        }
       }
      }
     },
     "metadata": {},
     "output_type": "display_data"
    }
   ],
   "source": [
    "import plotly.express as px\n",
    "\n",
    "# Create the scatter plot using Plotly Express\n",
    "fig = px.scatter(\n",
    "    combined_data, \n",
    "    x='poverty_gaps',\n",
    "    y='events_per_capita' ,\n",
    "    color='country',\n",
    "    labels={\n",
    "        'event_date': 'Year',\n",
    "        'poverty_gaps': 'Poverty Gaps',\n",
    "    },\n",
    "    title='Poverty Gaps Vs Number of Protests'\n",
    ")\n",
    "\n",
    "fig.show()"
   ]
  },
  {
   "cell_type": "code",
   "execution_count": null,
   "id": "602319b0",
   "metadata": {},
   "outputs": [
    {
     "data": {
      "text/html": [
       "<div>\n",
       "<style scoped>\n",
       "    .dataframe tbody tr th:only-of-type {\n",
       "        vertical-align: middle;\n",
       "    }\n",
       "\n",
       "    .dataframe tbody tr th {\n",
       "        vertical-align: top;\n",
       "    }\n",
       "\n",
       "    .dataframe thead th {\n",
       "        text-align: right;\n",
       "    }\n",
       "</style>\n",
       "<table border=\"1\" class=\"dataframe\">\n",
       "  <thead>\n",
       "    <tr style=\"text-align: right;\">\n",
       "      <th></th>\n",
       "      <th>event_date</th>\n",
       "      <th>country</th>\n",
       "      <th>counts</th>\n",
       "      <th>population</th>\n",
       "      <th>events_per_capita</th>\n",
       "      <th>gdp_per_capita</th>\n",
       "      <th>Western</th>\n",
       "      <th>Asia</th>\n",
       "      <th>South America</th>\n",
       "      <th>public_trust_percentage_x</th>\n",
       "      <th>poverty_gaps</th>\n",
       "      <th>public_trust_percentage_y</th>\n",
       "    </tr>\n",
       "  </thead>\n",
       "  <tbody>\n",
       "    <tr>\n",
       "      <th>0</th>\n",
       "      <td>2021</td>\n",
       "      <td>Australia</td>\n",
       "      <td>681</td>\n",
       "      <td>25685412</td>\n",
       "      <td>2.651310</td>\n",
       "      <td>60697.245436</td>\n",
       "      <td>1</td>\n",
       "      <td>0</td>\n",
       "      <td>0</td>\n",
       "      <td>51.9</td>\n",
       "      <td>NaN</td>\n",
       "      <td>51.9</td>\n",
       "    </tr>\n",
       "    <tr>\n",
       "      <th>1</th>\n",
       "      <td>2022</td>\n",
       "      <td>Australia</td>\n",
       "      <td>794</td>\n",
       "      <td>26005540</td>\n",
       "      <td>3.053196</td>\n",
       "      <td>65099.845912</td>\n",
       "      <td>1</td>\n",
       "      <td>0</td>\n",
       "      <td>0</td>\n",
       "      <td>49.9</td>\n",
       "      <td>NaN</td>\n",
       "      <td>49.9</td>\n",
       "    </tr>\n",
       "    <tr>\n",
       "      <th>2</th>\n",
       "      <td>2020</td>\n",
       "      <td>Austria</td>\n",
       "      <td>354</td>\n",
       "      <td>8916864</td>\n",
       "      <td>3.970006</td>\n",
       "      <td>48789.497850</td>\n",
       "      <td>1</td>\n",
       "      <td>0</td>\n",
       "      <td>0</td>\n",
       "      <td>62.6</td>\n",
       "      <td>0.6</td>\n",
       "      <td>62.6</td>\n",
       "    </tr>\n",
       "    <tr>\n",
       "      <th>3</th>\n",
       "      <td>2021</td>\n",
       "      <td>Austria</td>\n",
       "      <td>562</td>\n",
       "      <td>8955797</td>\n",
       "      <td>6.275265</td>\n",
       "      <td>53517.890451</td>\n",
       "      <td>1</td>\n",
       "      <td>0</td>\n",
       "      <td>0</td>\n",
       "      <td>61.0</td>\n",
       "      <td>0.4</td>\n",
       "      <td>61.0</td>\n",
       "    </tr>\n",
       "    <tr>\n",
       "      <th>4</th>\n",
       "      <td>2022</td>\n",
       "      <td>Austria</td>\n",
       "      <td>294</td>\n",
       "      <td>9041851</td>\n",
       "      <td>3.251547</td>\n",
       "      <td>52084.681195</td>\n",
       "      <td>1</td>\n",
       "      <td>0</td>\n",
       "      <td>0</td>\n",
       "      <td>61.0</td>\n",
       "      <td>NaN</td>\n",
       "      <td>61.0</td>\n",
       "    </tr>\n",
       "    <tr>\n",
       "      <th>...</th>\n",
       "      <td>...</td>\n",
       "      <td>...</td>\n",
       "      <td>...</td>\n",
       "      <td>...</td>\n",
       "      <td>...</td>\n",
       "      <td>...</td>\n",
       "      <td>...</td>\n",
       "      <td>...</td>\n",
       "      <td>...</td>\n",
       "      <td>...</td>\n",
       "      <td>...</td>\n",
       "      <td>...</td>\n",
       "    </tr>\n",
       "    <tr>\n",
       "      <th>113</th>\n",
       "      <td>2021</td>\n",
       "      <td>United Kingdom</td>\n",
       "      <td>1585</td>\n",
       "      <td>67026292</td>\n",
       "      <td>2.364744</td>\n",
       "      <td>46869.759058</td>\n",
       "      <td>1</td>\n",
       "      <td>0</td>\n",
       "      <td>0</td>\n",
       "      <td>39.5</td>\n",
       "      <td>0.2</td>\n",
       "      <td>39.5</td>\n",
       "    </tr>\n",
       "    <tr>\n",
       "      <th>114</th>\n",
       "      <td>2022</td>\n",
       "      <td>United Kingdom</td>\n",
       "      <td>1745</td>\n",
       "      <td>66971395</td>\n",
       "      <td>2.605590</td>\n",
       "      <td>46125.255751</td>\n",
       "      <td>1</td>\n",
       "      <td>0</td>\n",
       "      <td>0</td>\n",
       "      <td>39.5</td>\n",
       "      <td>NaN</td>\n",
       "      <td>39.5</td>\n",
       "    </tr>\n",
       "    <tr>\n",
       "      <th>115</th>\n",
       "      <td>2020</td>\n",
       "      <td>United States</td>\n",
       "      <td>21585</td>\n",
       "      <td>331511512</td>\n",
       "      <td>6.511086</td>\n",
       "      <td>63528.634303</td>\n",
       "      <td>1</td>\n",
       "      <td>0</td>\n",
       "      <td>0</td>\n",
       "      <td>46.5</td>\n",
       "      <td>0.2</td>\n",
       "      <td>46.5</td>\n",
       "    </tr>\n",
       "    <tr>\n",
       "      <th>116</th>\n",
       "      <td>2021</td>\n",
       "      <td>United States</td>\n",
       "      <td>13147</td>\n",
       "      <td>332031554</td>\n",
       "      <td>3.959563</td>\n",
       "      <td>70219.472454</td>\n",
       "      <td>1</td>\n",
       "      <td>0</td>\n",
       "      <td>0</td>\n",
       "      <td>40.5</td>\n",
       "      <td>0.2</td>\n",
       "      <td>40.5</td>\n",
       "    </tr>\n",
       "    <tr>\n",
       "      <th>117</th>\n",
       "      <td>2022</td>\n",
       "      <td>United States</td>\n",
       "      <td>12183</td>\n",
       "      <td>333287557</td>\n",
       "      <td>3.655402</td>\n",
       "      <td>76329.582265</td>\n",
       "      <td>1</td>\n",
       "      <td>0</td>\n",
       "      <td>0</td>\n",
       "      <td>31.0</td>\n",
       "      <td>NaN</td>\n",
       "      <td>31.0</td>\n",
       "    </tr>\n",
       "  </tbody>\n",
       "</table>\n",
       "<p>118 rows × 12 columns</p>\n",
       "</div>"
      ],
      "text/plain": [
       "    event_date         country  counts  population  events_per_capita  \\\n",
       "0         2021       Australia     681    25685412           2.651310   \n",
       "1         2022       Australia     794    26005540           3.053196   \n",
       "2         2020         Austria     354     8916864           3.970006   \n",
       "3         2021         Austria     562     8955797           6.275265   \n",
       "4         2022         Austria     294     9041851           3.251547   \n",
       "..         ...             ...     ...         ...                ...   \n",
       "113       2021  United Kingdom    1585    67026292           2.364744   \n",
       "114       2022  United Kingdom    1745    66971395           2.605590   \n",
       "115       2020   United States   21585   331511512           6.511086   \n",
       "116       2021   United States   13147   332031554           3.959563   \n",
       "117       2022   United States   12183   333287557           3.655402   \n",
       "\n",
       "     gdp_per_capita  Western  Asia  South America  public_trust_percentage_x  \\\n",
       "0      60697.245436        1     0              0                       51.9   \n",
       "1      65099.845912        1     0              0                       49.9   \n",
       "2      48789.497850        1     0              0                       62.6   \n",
       "3      53517.890451        1     0              0                       61.0   \n",
       "4      52084.681195        1     0              0                       61.0   \n",
       "..              ...      ...   ...            ...                        ...   \n",
       "113    46869.759058        1     0              0                       39.5   \n",
       "114    46125.255751        1     0              0                       39.5   \n",
       "115    63528.634303        1     0              0                       46.5   \n",
       "116    70219.472454        1     0              0                       40.5   \n",
       "117    76329.582265        1     0              0                       31.0   \n",
       "\n",
       "     poverty_gaps  public_trust_percentage_y  \n",
       "0             NaN                       51.9  \n",
       "1             NaN                       49.9  \n",
       "2             0.6                       62.6  \n",
       "3             0.4                       61.0  \n",
       "4             NaN                       61.0  \n",
       "..            ...                        ...  \n",
       "113           0.2                       39.5  \n",
       "114           NaN                       39.5  \n",
       "115           0.2                       46.5  \n",
       "116           0.2                       40.5  \n",
       "117           NaN                       31.0  \n",
       "\n",
       "[118 rows x 12 columns]"
      ]
     },
     "execution_count": 17,
     "metadata": {},
     "output_type": "execute_result"
    }
   ],
   "source": [
    "gov_trust_df = pd.read_csv('gov_trust.csv')\n",
    "gov_trust_df['event_date'] = gov_trust_df['event_date'].astype(str)\n",
    "combined_data = pd.merge(combined_data, gov_trust_df, on=['country', 'event_date'])\n",
    "combined_data"
   ]
  },
  {
   "cell_type": "code",
   "execution_count": null,
   "id": "fe537f13",
   "metadata": {},
   "outputs": [],
   "source": [
    "# poverty_gaps_df = get_world_bank_data('SI.POV.GAPS')\n",
    "# poverty_gaps_df = poverty_gaps_df.rename(columns={'value': 'poverty_gaps', 'year': 'event_date'})\n",
    "# combined_data = pd.merge(combined_data, poverty_gaps_df, on=['country', 'event_date'])\n",
    "# combined_data"
   ]
  },
  {
   "cell_type": "code",
   "execution_count": null,
   "id": "3e00a308",
   "metadata": {},
   "outputs": [
    {
     "ename": "ValueError",
     "evalue": "Value of 'x' is not the name of a column in 'data_frame'. Expected one of ['event_date', 'country', 'counts', 'population', 'events_per_capita', 'gdp_per_capita', 'Western', 'Asia', 'South America', 'public_trust_percentage_x', 'poverty_gaps', 'public_trust_percentage_y'] but received: public_trust_percentage",
     "output_type": "error",
     "traceback": [
      "\u001b[0;31m---------------------------------------------------------------------------\u001b[0m",
      "\u001b[0;31mValueError\u001b[0m                                Traceback (most recent call last)",
      "Cell \u001b[0;32mIn[20], line 4\u001b[0m\n\u001b[1;32m      1\u001b[0m \u001b[38;5;28;01mimport\u001b[39;00m \u001b[38;5;21;01mplotly\u001b[39;00m\u001b[38;5;21;01m.\u001b[39;00m\u001b[38;5;21;01mexpress\u001b[39;00m \u001b[38;5;28;01mas\u001b[39;00m \u001b[38;5;21;01mpx\u001b[39;00m\n\u001b[1;32m      3\u001b[0m \u001b[38;5;66;03m# Create the scatter plot using Plotly Express\u001b[39;00m\n\u001b[0;32m----> 4\u001b[0m fig \u001b[38;5;241m=\u001b[39m px\u001b[38;5;241m.\u001b[39mscatter_3d(\n\u001b[1;32m      5\u001b[0m     combined_data, \n\u001b[1;32m      6\u001b[0m     x\u001b[38;5;241m=\u001b[39m\u001b[38;5;124m'\u001b[39m\u001b[38;5;124mpublic_trust_percentage\u001b[39m\u001b[38;5;124m'\u001b[39m,\n\u001b[1;32m      7\u001b[0m     y\u001b[38;5;241m=\u001b[39m\u001b[38;5;124m'\u001b[39m\u001b[38;5;124mgdp_per_capita\u001b[39m\u001b[38;5;124m'\u001b[39m ,\n\u001b[1;32m      8\u001b[0m     z\u001b[38;5;241m=\u001b[39m\u001b[38;5;124m'\u001b[39m\u001b[38;5;124mevents_per_capita\u001b[39m\u001b[38;5;124m'\u001b[39m, \n\u001b[1;32m      9\u001b[0m     color\u001b[38;5;241m=\u001b[39m\u001b[38;5;124m'\u001b[39m\u001b[38;5;124mcountry\u001b[39m\u001b[38;5;124m'\u001b[39m,\n\u001b[1;32m     10\u001b[0m     labels\u001b[38;5;241m=\u001b[39m{\n\u001b[1;32m     11\u001b[0m         \u001b[38;5;124m'\u001b[39m\u001b[38;5;124mevents_per_capita\u001b[39m\u001b[38;5;124m'\u001b[39m: \u001b[38;5;124m'\u001b[39m\u001b[38;5;124mEvents Per Capita\u001b[39m\u001b[38;5;124m'\u001b[39m,\n\u001b[1;32m     12\u001b[0m         \u001b[38;5;124m'\u001b[39m\u001b[38;5;124mgdp_per_capita\u001b[39m\u001b[38;5;124m'\u001b[39m: \u001b[38;5;124m'\u001b[39m\u001b[38;5;124mGDP\u001b[39m\u001b[38;5;124m'\u001b[39m,\n\u001b[1;32m     13\u001b[0m         \u001b[38;5;124m'\u001b[39m\u001b[38;5;124mpublic_trust_percentage\u001b[39m\u001b[38;5;124m'\u001b[39m: \u001b[38;5;124m'\u001b[39m\u001b[38;5;124mPublic Trust of Their Government (\u001b[39m\u001b[38;5;132;01m% o\u001b[39;00m\u001b[38;5;124mut of 100)\u001b[39m\u001b[38;5;124m'\u001b[39m\n\u001b[1;32m     14\u001b[0m     },\n\u001b[1;32m     15\u001b[0m     title\u001b[38;5;241m=\u001b[39m\u001b[38;5;124m'\u001b[39m\u001b[38;5;124mPublic Trust vs Year\u001b[39m\u001b[38;5;124m'\u001b[39m\n\u001b[1;32m     16\u001b[0m )\n\u001b[1;32m     18\u001b[0m fig\u001b[38;5;241m.\u001b[39mshow()\n",
      "File \u001b[0;32m~/anaconda3/lib/python3.11/site-packages/plotly/express/_chart_types.py:776\u001b[0m, in \u001b[0;36mscatter_3d\u001b[0;34m(data_frame, x, y, z, color, symbol, size, text, hover_name, hover_data, custom_data, error_x, error_x_minus, error_y, error_y_minus, error_z, error_z_minus, animation_frame, animation_group, category_orders, labels, size_max, color_discrete_sequence, color_discrete_map, color_continuous_scale, range_color, color_continuous_midpoint, symbol_sequence, symbol_map, opacity, log_x, log_y, log_z, range_x, range_y, range_z, title, template, width, height)\u001b[0m\n\u001b[1;32m    730\u001b[0m \u001b[38;5;28;01mdef\u001b[39;00m \u001b[38;5;21mscatter_3d\u001b[39m(\n\u001b[1;32m    731\u001b[0m     data_frame\u001b[38;5;241m=\u001b[39m\u001b[38;5;28;01mNone\u001b[39;00m,\n\u001b[1;32m    732\u001b[0m     x\u001b[38;5;241m=\u001b[39m\u001b[38;5;28;01mNone\u001b[39;00m,\n\u001b[0;32m   (...)\u001b[0m\n\u001b[1;32m    770\u001b[0m     height\u001b[38;5;241m=\u001b[39m\u001b[38;5;28;01mNone\u001b[39;00m,\n\u001b[1;32m    771\u001b[0m ) \u001b[38;5;241m-\u001b[39m\u001b[38;5;241m>\u001b[39m go\u001b[38;5;241m.\u001b[39mFigure:\n\u001b[1;32m    772\u001b[0m \u001b[38;5;250m    \u001b[39m\u001b[38;5;124;03m\"\"\"\u001b[39;00m\n\u001b[1;32m    773\u001b[0m \u001b[38;5;124;03m    In a 3D scatter plot, each row of `data_frame` is represented by a\u001b[39;00m\n\u001b[1;32m    774\u001b[0m \u001b[38;5;124;03m    symbol mark in 3D space.\u001b[39;00m\n\u001b[1;32m    775\u001b[0m \u001b[38;5;124;03m    \"\"\"\u001b[39;00m\n\u001b[0;32m--> 776\u001b[0m     \u001b[38;5;28;01mreturn\u001b[39;00m make_figure(args\u001b[38;5;241m=\u001b[39m\u001b[38;5;28mlocals\u001b[39m(), constructor\u001b[38;5;241m=\u001b[39mgo\u001b[38;5;241m.\u001b[39mScatter3d)\n",
      "File \u001b[0;32m~/anaconda3/lib/python3.11/site-packages/plotly/express/_core.py:1990\u001b[0m, in \u001b[0;36mmake_figure\u001b[0;34m(args, constructor, trace_patch, layout_patch)\u001b[0m\n\u001b[1;32m   1987\u001b[0m layout_patch \u001b[38;5;241m=\u001b[39m layout_patch \u001b[38;5;129;01mor\u001b[39;00m {}\n\u001b[1;32m   1988\u001b[0m apply_default_cascade(args)\n\u001b[0;32m-> 1990\u001b[0m args \u001b[38;5;241m=\u001b[39m build_dataframe(args, constructor)\n\u001b[1;32m   1991\u001b[0m \u001b[38;5;28;01mif\u001b[39;00m constructor \u001b[38;5;129;01min\u001b[39;00m [go\u001b[38;5;241m.\u001b[39mTreemap, go\u001b[38;5;241m.\u001b[39mSunburst, go\u001b[38;5;241m.\u001b[39mIcicle] \u001b[38;5;129;01mand\u001b[39;00m args[\u001b[38;5;124m\"\u001b[39m\u001b[38;5;124mpath\u001b[39m\u001b[38;5;124m\"\u001b[39m] \u001b[38;5;129;01mis\u001b[39;00m \u001b[38;5;129;01mnot\u001b[39;00m \u001b[38;5;28;01mNone\u001b[39;00m:\n\u001b[1;32m   1992\u001b[0m     args \u001b[38;5;241m=\u001b[39m process_dataframe_hierarchy(args)\n",
      "File \u001b[0;32m~/anaconda3/lib/python3.11/site-packages/plotly/express/_core.py:1405\u001b[0m, in \u001b[0;36mbuild_dataframe\u001b[0;34m(args, constructor)\u001b[0m\n\u001b[1;32m   1402\u001b[0m     args[\u001b[38;5;124m\"\u001b[39m\u001b[38;5;124mcolor\u001b[39m\u001b[38;5;124m\"\u001b[39m] \u001b[38;5;241m=\u001b[39m \u001b[38;5;28;01mNone\u001b[39;00m\n\u001b[1;32m   1403\u001b[0m \u001b[38;5;66;03m# now that things have been prepped, we do the systematic rewriting of `args`\u001b[39;00m\n\u001b[0;32m-> 1405\u001b[0m df_output, wide_id_vars \u001b[38;5;241m=\u001b[39m process_args_into_dataframe(\n\u001b[1;32m   1406\u001b[0m     args, wide_mode, var_name, value_name\n\u001b[1;32m   1407\u001b[0m )\n\u001b[1;32m   1409\u001b[0m \u001b[38;5;66;03m# now that `df_output` exists and `args` contains only references, we complete\u001b[39;00m\n\u001b[1;32m   1410\u001b[0m \u001b[38;5;66;03m# the special-case and wide-mode handling by further rewriting args and/or mutating\u001b[39;00m\n\u001b[1;32m   1411\u001b[0m \u001b[38;5;66;03m# df_output\u001b[39;00m\n\u001b[1;32m   1413\u001b[0m count_name \u001b[38;5;241m=\u001b[39m _escape_col_name(df_output, \u001b[38;5;124m\"\u001b[39m\u001b[38;5;124mcount\u001b[39m\u001b[38;5;124m\"\u001b[39m, [var_name, value_name])\n",
      "File \u001b[0;32m~/anaconda3/lib/python3.11/site-packages/plotly/express/_core.py:1207\u001b[0m, in \u001b[0;36mprocess_args_into_dataframe\u001b[0;34m(args, wide_mode, var_name, value_name)\u001b[0m\n\u001b[1;32m   1205\u001b[0m         \u001b[38;5;28;01mif\u001b[39;00m argument \u001b[38;5;241m==\u001b[39m \u001b[38;5;124m\"\u001b[39m\u001b[38;5;124mindex\u001b[39m\u001b[38;5;124m\"\u001b[39m:\n\u001b[1;32m   1206\u001b[0m             err_msg \u001b[38;5;241m+\u001b[39m\u001b[38;5;241m=\u001b[39m \u001b[38;5;124m\"\u001b[39m\u001b[38;5;130;01m\\n\u001b[39;00m\u001b[38;5;124m To use the index, pass it in directly as `df.index`.\u001b[39m\u001b[38;5;124m\"\u001b[39m\n\u001b[0;32m-> 1207\u001b[0m         \u001b[38;5;28;01mraise\u001b[39;00m \u001b[38;5;167;01mValueError\u001b[39;00m(err_msg)\n\u001b[1;32m   1208\u001b[0m \u001b[38;5;28;01melif\u001b[39;00m length \u001b[38;5;129;01mand\u001b[39;00m \u001b[38;5;28mlen\u001b[39m(df_input[argument]) \u001b[38;5;241m!=\u001b[39m length:\n\u001b[1;32m   1209\u001b[0m     \u001b[38;5;28;01mraise\u001b[39;00m \u001b[38;5;167;01mValueError\u001b[39;00m(\n\u001b[1;32m   1210\u001b[0m         \u001b[38;5;124m\"\u001b[39m\u001b[38;5;124mAll arguments should have the same length. \u001b[39m\u001b[38;5;124m\"\u001b[39m\n\u001b[1;32m   1211\u001b[0m         \u001b[38;5;124m\"\u001b[39m\u001b[38;5;124mThe length of column argument `df[\u001b[39m\u001b[38;5;132;01m%s\u001b[39;00m\u001b[38;5;124m]` is \u001b[39m\u001b[38;5;132;01m%d\u001b[39;00m\u001b[38;5;124m, whereas the \u001b[39m\u001b[38;5;124m\"\u001b[39m\n\u001b[0;32m   (...)\u001b[0m\n\u001b[1;32m   1218\u001b[0m         )\n\u001b[1;32m   1219\u001b[0m     )\n",
      "\u001b[0;31mValueError\u001b[0m: Value of 'x' is not the name of a column in 'data_frame'. Expected one of ['event_date', 'country', 'counts', 'population', 'events_per_capita', 'gdp_per_capita', 'Western', 'Asia', 'South America', 'public_trust_percentage_x', 'poverty_gaps', 'public_trust_percentage_y'] but received: public_trust_percentage"
     ]
    }
   ],
   "source": [
    "import plotly.express as px\n",
    "\n",
    "# Create the scatter plot using Plotly Express\n",
    "fig = px.scatter_3d(\n",
    "    combined_data, \n",
    "    x='public_trust_percentage',\n",
    "    y='gdp_per_capita' ,\n",
    "    z='events_per_capita', \n",
    "    color='country',\n",
    "    labels={\n",
    "        'events_per_capita': 'Events Per Capita',\n",
    "        'gdp_per_capita': 'GDP',\n",
    "        'public_trust_percentage': 'Public Trust of Their Government (% out of 100)'\n",
    "    },\n",
    "    title='Public Trust vs Year'\n",
    ")\n",
    "\n",
    "fig.show()"
   ]
  },
  {
   "cell_type": "code",
   "execution_count": null,
   "id": "5d6b5430",
   "metadata": {},
   "outputs": [
    {
     "ename": "NameError",
     "evalue": "name 'combined_data' is not defined",
     "output_type": "error",
     "traceback": [
      "\u001b[0;31m---------------------------------------------------------------------------\u001b[0m",
      "\u001b[0;31mNameError\u001b[0m                                 Traceback (most recent call last)",
      "Cell \u001b[0;32mIn[2], line 5\u001b[0m\n\u001b[1;32m      1\u001b[0m \u001b[38;5;28;01mimport\u001b[39;00m \u001b[38;5;21;01mplotly\u001b[39;00m\u001b[38;5;21;01m.\u001b[39;00m\u001b[38;5;21;01mexpress\u001b[39;00m \u001b[38;5;28;01mas\u001b[39;00m \u001b[38;5;21;01mpx\u001b[39;00m\n\u001b[1;32m      3\u001b[0m \u001b[38;5;66;03m# Create the scatter plot using Plotly Express\u001b[39;00m\n\u001b[1;32m      4\u001b[0m fig \u001b[38;5;241m=\u001b[39m px\u001b[38;5;241m.\u001b[39mscatter_3d(\n\u001b[0;32m----> 5\u001b[0m     combined_data, \n\u001b[1;32m      6\u001b[0m     x\u001b[38;5;241m=\u001b[39m\u001b[38;5;124m'\u001b[39m\u001b[38;5;124mpublic_trust_percentage\u001b[39m\u001b[38;5;124m'\u001b[39m,\n\u001b[1;32m      7\u001b[0m     y\u001b[38;5;241m=\u001b[39m\u001b[38;5;124m'\u001b[39m\u001b[38;5;124mpoverty_gaps\u001b[39m\u001b[38;5;124m'\u001b[39m ,\n\u001b[1;32m      8\u001b[0m     z\u001b[38;5;241m=\u001b[39m\u001b[38;5;124m'\u001b[39m\u001b[38;5;124mevents_per_capita\u001b[39m\u001b[38;5;124m'\u001b[39m, \n\u001b[1;32m      9\u001b[0m     color\u001b[38;5;241m=\u001b[39m\u001b[38;5;124m'\u001b[39m\u001b[38;5;124mcountry\u001b[39m\u001b[38;5;124m'\u001b[39m,\n\u001b[1;32m     10\u001b[0m     labels\u001b[38;5;241m=\u001b[39m{\n\u001b[1;32m     11\u001b[0m         \u001b[38;5;124m'\u001b[39m\u001b[38;5;124mpublic_trust_percentage\u001b[39m\u001b[38;5;124m'\u001b[39m: \u001b[38;5;124m'\u001b[39m\u001b[38;5;124mPublic Trust of Their Government (\u001b[39m\u001b[38;5;132;01m% o\u001b[39;00m\u001b[38;5;124mut of 100)\u001b[39m\u001b[38;5;124m'\u001b[39m,\n\u001b[1;32m     12\u001b[0m         \u001b[38;5;124m'\u001b[39m\u001b[38;5;124mpoverty_gaps\u001b[39m\u001b[38;5;124m'\u001b[39m: \u001b[38;5;124m'\u001b[39m\u001b[38;5;124mPoverty Gap\u001b[39m\u001b[38;5;124m'\u001b[39m,\n\u001b[1;32m     13\u001b[0m         \u001b[38;5;124m'\u001b[39m\u001b[38;5;124mevents_\u001b[39m\u001b[38;5;124m'\u001b[39m: \u001b[38;5;124m'\u001b[39m\u001b[38;5;124mProtest Events Per Capita\u001b[39m\u001b[38;5;124m'\u001b[39m\n\u001b[1;32m     14\u001b[0m     },\n\u001b[1;32m     15\u001b[0m     title\u001b[38;5;241m=\u001b[39m\u001b[38;5;124m'\u001b[39m\u001b[38;5;124mPublic Trust vs Poverty Gaps vs Events per Capita\u001b[39m\u001b[38;5;124m'\u001b[39m\n\u001b[1;32m     16\u001b[0m )\n\u001b[1;32m     18\u001b[0m fig\u001b[38;5;241m.\u001b[39mshow()\n",
      "\u001b[0;31mNameError\u001b[0m: name 'combined_data' is not defined"
     ]
    }
   ],
   "source": [
    "import plotly.express as px\n",
    "\n",
    "# Create the scatter plot using Plotly Express\n",
    "fig = px.scatter_3d(\n",
    "    combined_data, \n",
    "    x='public_trust_percentage',\n",
    "    y='poverty_gaps' ,\n",
    "    z='events_per_capita', \n",
    "    color='country',\n",
    "    labels={\n",
    "        'public_trust_percentage': 'Public Trust of Their Government (% out of 100)',\n",
    "        'poverty_gaps': 'Poverty Gap',\n",
    "        'events_': 'Protest Events Per Capita'\n",
    "    },\n",
    "    title='Public Trust vs Poverty Gaps vs Events per Capita'\n",
    ")\n",
    "\n",
    "fig.show()"
   ]
  },
  {
   "cell_type": "code",
   "execution_count": null,
   "id": "7a9373e7",
   "metadata": {},
   "outputs": [
    {
     "data": {
      "application/vnd.plotly.v1+json": {
       "config": {
        "plotlyServerURL": "https://plot.ly"
       },
       "data": [
        {
         "hovertemplate": "country=Australia<br>Poverty Gaps=%{x}<br>events_per_capita=%{y}<extra></extra>",
         "legendgroup": "Australia",
         "marker": {
          "color": "#636efa",
          "symbol": "circle"
         },
         "mode": "markers",
         "name": "Australia",
         "orientation": "v",
         "showlegend": true,
         "type": "scatter",
         "x": [
          null
         ],
         "xaxis": "x",
         "y": [
          2.6513104014060587
         ],
         "yaxis": "y"
        },
        {
         "hovertemplate": "country=Austria<br>Poverty Gaps=%{x}<br>events_per_capita=%{y}<extra></extra>",
         "legendgroup": "Austria",
         "marker": {
          "color": "#EF553B",
          "symbol": "circle"
         },
         "mode": "markers",
         "name": "Austria",
         "orientation": "v",
         "showlegend": true,
         "type": "scatter",
         "x": [
          0.6,
          0.4
         ],
         "xaxis": "x",
         "y": [
          3.970005598380776,
          6.275265060161591
         ],
         "yaxis": "y"
        },
        {
         "hovertemplate": "country=Belgium<br>Poverty Gaps=%{x}<br>events_per_capita=%{y}<extra></extra>",
         "legendgroup": "Belgium",
         "marker": {
          "color": "#00cc96",
          "symbol": "circle"
         },
         "mode": "markers",
         "name": "Belgium",
         "orientation": "v",
         "showlegend": true,
         "type": "scatter",
         "x": [
          0,
          0
         ],
         "xaxis": "x",
         "y": [
          6.7945827762179904,
          7.189590715502372
         ],
         "yaxis": "y"
        },
        {
         "hovertemplate": "country=Brazil<br>Poverty Gaps=%{x}<br>events_per_capita=%{y}<extra></extra>",
         "legendgroup": "Brazil",
         "marker": {
          "color": "#ab63fa",
          "symbol": "circle"
         },
         "mode": "markers",
         "name": "Brazil",
         "orientation": "v",
         "showlegend": true,
         "type": "scatter",
         "x": [
          2,
          2.1,
          0.7,
          2.1
         ],
         "xaxis": "x",
         "y": [
          3.1160994417228784,
          1.579919978233557,
          1.1791949263810877,
          1.8943085653126077
         ],
         "yaxis": "y"
        },
        {
         "hovertemplate": "country=Canada<br>Poverty Gaps=%{x}<br>events_per_capita=%{y}<extra></extra>",
         "legendgroup": "Canada",
         "marker": {
          "color": "#FFA15A",
          "symbol": "circle"
         },
         "mode": "markers",
         "name": "Canada",
         "orientation": "v",
         "showlegend": true,
         "type": "scatter",
         "x": [
          null
         ],
         "xaxis": "x",
         "y": [
          4.423633051607291
         ],
         "yaxis": "y"
        },
        {
         "hovertemplate": "country=Chile<br>Poverty Gaps=%{x}<br>events_per_capita=%{y}<extra></extra>",
         "legendgroup": "Chile",
         "marker": {
          "color": "#19d3f3",
          "symbol": "circle"
         },
         "mode": "markers",
         "name": "Chile",
         "orientation": "v",
         "showlegend": true,
         "type": "scatter",
         "x": [
          null,
          null,
          0.9,
          null
         ],
         "xaxis": "x",
         "y": [
          5.523635867807042,
          8.351066218440257,
          5.4299631897199605,
          4.514398468716039
         ],
         "yaxis": "y"
        },
        {
         "hovertemplate": "country=Colombia<br>Poverty Gaps=%{x}<br>events_per_capita=%{y}<extra></extra>",
         "legendgroup": "Colombia",
         "marker": {
          "color": "#FF6692",
          "symbol": "circle"
         },
         "mode": "markers",
         "name": "Colombia",
         "orientation": "v",
         "showlegend": true,
         "type": "scatter",
         "x": [
          1.8,
          2.1,
          4.5,
          3
         ],
         "xaxis": "x",
         "y": [
          0.8239144455357139,
          1.243339813179426,
          1.3469292820109033,
          4.431584545568083
         ],
         "yaxis": "y"
        },
        {
         "hovertemplate": "country=Costa Rica<br>Poverty Gaps=%{x}<br>events_per_capita=%{y}<extra></extra>",
         "legendgroup": "Costa Rica",
         "marker": {
          "color": "#B6E880",
          "symbol": "circle"
         },
         "mode": "markers",
         "name": "Costa Rica",
         "orientation": "v",
         "showlegend": true,
         "type": "scatter",
         "x": [
          0.6,
          0.4,
          0.9,
          0.4
         ],
         "xaxis": "x",
         "y": [
          5.93167582340191,
          6.588610318511124,
          11.028468087224446,
          3.7252930127278905
         ],
         "yaxis": "y"
        },
        {
         "hovertemplate": "country=Denmark<br>Poverty Gaps=%{x}<br>events_per_capita=%{y}<extra></extra>",
         "legendgroup": "Denmark",
         "marker": {
          "color": "#FF97FF",
          "symbol": "circle"
         },
         "mode": "markers",
         "name": "Denmark",
         "orientation": "v",
         "showlegend": true,
         "type": "scatter",
         "x": [
          0.1,
          0.1
         ],
         "xaxis": "x",
         "y": [
          9.620324710824358,
          14.137574651260353
         ],
         "yaxis": "y"
        },
        {
         "hovertemplate": "country=Estonia<br>Poverty Gaps=%{x}<br>events_per_capita=%{y}<extra></extra>",
         "legendgroup": "Estonia",
         "marker": {
          "color": "#FECB52",
          "symbol": "circle"
         },
         "mode": "markers",
         "name": "Estonia",
         "orientation": "v",
         "showlegend": true,
         "type": "scatter",
         "x": [
          0.2,
          0.2
         ],
         "xaxis": "x",
         "y": [
          10.605315293767234,
          8.490291014116425
         ],
         "yaxis": "y"
        },
        {
         "hovertemplate": "country=Finland<br>Poverty Gaps=%{x}<br>events_per_capita=%{y}<extra></extra>",
         "legendgroup": "Finland",
         "marker": {
          "color": "#636efa",
          "symbol": "circle"
         },
         "mode": "markers",
         "name": "Finland",
         "orientation": "v",
         "showlegend": true,
         "type": "scatter",
         "x": [
          0,
          0
         ],
         "xaxis": "x",
         "y": [
          3.9062902666639903,
          4.782515556259798
         ],
         "yaxis": "y"
        },
        {
         "hovertemplate": "country=France<br>Poverty Gaps=%{x}<br>events_per_capita=%{y}<extra></extra>",
         "legendgroup": "France",
         "marker": {
          "color": "#EF553B",
          "symbol": "circle"
         },
         "mode": "markers",
         "name": "France",
         "orientation": "v",
         "showlegend": true,
         "type": "scatter",
         "x": [
          0.1,
          0
         ],
         "xaxis": "x",
         "y": [
          7.643799590259785,
          12.33097590731545
         ],
         "yaxis": "y"
        },
        {
         "hovertemplate": "country=Germany<br>Poverty Gaps=%{x}<br>events_per_capita=%{y}<extra></extra>",
         "legendgroup": "Germany",
         "marker": {
          "color": "#00cc96",
          "symbol": "circle"
         },
         "mode": "markers",
         "name": "Germany",
         "orientation": "v",
         "showlegend": true,
         "type": "scatter",
         "x": [
          null,
          null
         ],
         "xaxis": "x",
         "y": [
          5.161081105078853,
          5.06634459379203
         ],
         "yaxis": "y"
        },
        {
         "hovertemplate": "country=Greece<br>Poverty Gaps=%{x}<br>events_per_capita=%{y}<extra></extra>",
         "legendgroup": "Greece",
         "marker": {
          "color": "#ab63fa",
          "symbol": "circle"
         },
         "mode": "markers",
         "name": "Greece",
         "orientation": "v",
         "showlegend": true,
         "type": "scatter",
         "x": [
          0.1,
          0.4,
          0.5,
          0.4
         ],
         "xaxis": "x",
         "y": [
          1.8913838799308518,
          4.635509946200104,
          6.169032038680953,
          5.279487855616793
         ],
         "yaxis": "y"
        },
        {
         "hovertemplate": "country=Hungary<br>Poverty Gaps=%{x}<br>events_per_capita=%{y}<extra></extra>",
         "legendgroup": "Hungary",
         "marker": {
          "color": "#FFA15A",
          "symbol": "circle"
         },
         "mode": "markers",
         "name": "Hungary",
         "orientation": "v",
         "showlegend": true,
         "type": "scatter",
         "x": [
          0.3,
          0.2
         ],
         "xaxis": "x",
         "y": [
          2.040994450443783,
          1.3182434282732938
         ],
         "yaxis": "y"
        },
        {
         "hovertemplate": "country=Iceland<br>Poverty Gaps=%{x}<br>events_per_capita=%{y}<extra></extra>",
         "legendgroup": "Iceland",
         "marker": {
          "color": "#19d3f3",
          "symbol": "circle"
         },
         "mode": "markers",
         "name": "Iceland",
         "orientation": "v",
         "showlegend": true,
         "type": "scatter",
         "x": [
          null,
          null
         ],
         "xaxis": "x",
         "y": [
          7.913486491132802,
          7.516374959733706
         ],
         "yaxis": "y"
        },
        {
         "hovertemplate": "country=Ireland<br>Poverty Gaps=%{x}<br>events_per_capita=%{y}<extra></extra>",
         "legendgroup": "Ireland",
         "marker": {
          "color": "#FF6692",
          "symbol": "circle"
         },
         "mode": "markers",
         "name": "Ireland",
         "orientation": "v",
         "showlegend": true,
         "type": "scatter",
         "x": [
          0.1,
          0
         ],
         "xaxis": "x",
         "y": [
          5.596361522547319,
          4.331271542115457
         ],
         "yaxis": "y"
        },
        {
         "hovertemplate": "country=Israel<br>Poverty Gaps=%{x}<br>events_per_capita=%{y}<extra></extra>",
         "legendgroup": "Israel",
         "marker": {
          "color": "#B6E880",
          "symbol": "circle"
         },
         "mode": "markers",
         "name": "Israel",
         "orientation": "v",
         "showlegend": true,
         "type": "scatter",
         "x": [
          0.1,
          0.2,
          0.2,
          0.3,
          0.3,
          0.2
         ],
         "xaxis": "x",
         "y": [
          1.5211794991809033,
          3.3167686180895872,
          4.39050749763588,
          4.716147559089905,
          13.24999186118436,
          10.606739654694069
         ],
         "yaxis": "y"
        },
        {
         "hovertemplate": "country=Italy<br>Poverty Gaps=%{x}<br>events_per_capita=%{y}<extra></extra>",
         "legendgroup": "Italy",
         "marker": {
          "color": "#FF97FF",
          "symbol": "circle"
         },
         "mode": "markers",
         "name": "Italy",
         "orientation": "v",
         "showlegend": true,
         "type": "scatter",
         "x": [
          0.7,
          0.6
         ],
         "xaxis": "x",
         "y": [
          9.233018316588925,
          12.458320137835322
         ],
         "yaxis": "y"
        },
        {
         "hovertemplate": "country=Japan<br>Poverty Gaps=%{x}<br>events_per_capita=%{y}<extra></extra>",
         "legendgroup": "Japan",
         "marker": {
          "color": "#FECB52",
          "symbol": "circle"
         },
         "mode": "markers",
         "name": "Japan",
         "orientation": "v",
         "showlegend": true,
         "type": "scatter",
         "x": [
          null,
          null,
          null,
          null
         ],
         "xaxis": "x",
         "y": [
          1.2908974773481796,
          1.0179021266178643,
          1.199895454653456,
          1.129043614206895
         ],
         "yaxis": "y"
        },
        {
         "hovertemplate": "country=Latvia<br>Poverty Gaps=%{x}<br>events_per_capita=%{y}<extra></extra>",
         "legendgroup": "Latvia",
         "marker": {
          "color": "#636efa",
          "symbol": "circle"
         },
         "mode": "markers",
         "name": "Latvia",
         "orientation": "v",
         "showlegend": true,
         "type": "scatter",
         "x": [
          0.2,
          0.2
         ],
         "xaxis": "x",
         "y": [
          3.57810180646784,
          3.290014805066623
         ],
         "yaxis": "y"
        },
        {
         "hovertemplate": "country=Lithuania<br>Poverty Gaps=%{x}<br>events_per_capita=%{y}<extra></extra>",
         "legendgroup": "Lithuania",
         "marker": {
          "color": "#EF553B",
          "symbol": "circle"
         },
         "mode": "markers",
         "name": "Lithuania",
         "orientation": "v",
         "showlegend": true,
         "type": "scatter",
         "x": [
          0.1,
          0.2
         ],
         "xaxis": "x",
         "y": [
          2.1109992003248794,
          5.284130933623818
         ],
         "yaxis": "y"
        },
        {
         "hovertemplate": "country=Luxembourg<br>Poverty Gaps=%{x}<br>events_per_capita=%{y}<extra></extra>",
         "legendgroup": "Luxembourg",
         "marker": {
          "color": "#00cc96",
          "symbol": "circle"
         },
         "mode": "markers",
         "name": "Luxembourg",
         "orientation": "v",
         "showlegend": true,
         "type": "scatter",
         "x": [
          0,
          0
         ],
         "xaxis": "x",
         "y": [
          5.551863125952739,
          4.999500049995
         ],
         "yaxis": "y"
        },
        {
         "hovertemplate": "country=Mexico<br>Poverty Gaps=%{x}<br>events_per_capita=%{y}<extra></extra>",
         "legendgroup": "Mexico",
         "marker": {
          "color": "#ab63fa",
          "symbol": "circle"
         },
         "mode": "markers",
         "name": "Mexico",
         "orientation": "v",
         "showlegend": true,
         "type": "scatter",
         "x": [
          0.5,
          null,
          0.6,
          null
         ],
         "xaxis": "x",
         "y": [
          3.4439698639815752,
          3.8533701211327682,
          4.484187413890704,
          4.852210492048081
         ],
         "yaxis": "y"
        },
        {
         "hovertemplate": "country=Netherlands<br>Poverty Gaps=%{x}<br>events_per_capita=%{y}<extra></extra>",
         "legendgroup": "Netherlands",
         "marker": {
          "color": "#FFA15A",
          "symbol": "circle"
         },
         "mode": "markers",
         "name": "Netherlands",
         "orientation": "v",
         "showlegend": true,
         "type": "scatter",
         "x": [
          0,
          0
         ],
         "xaxis": "x",
         "y": [
          3.325402058309205,
          3.3251499283296155
         ],
         "yaxis": "y"
        },
        {
         "hovertemplate": "country=Norway<br>Poverty Gaps=%{x}<br>events_per_capita=%{y}<extra></extra>",
         "legendgroup": "Norway",
         "marker": {
          "color": "#19d3f3",
          "symbol": "circle"
         },
         "mode": "markers",
         "name": "Norway",
         "orientation": "v",
         "showlegend": true,
         "type": "scatter",
         "x": [
          null,
          null
         ],
         "xaxis": "x",
         "y": [
          5.465217330687474,
          5.676439263948879
         ],
         "yaxis": "y"
        },
        {
         "hovertemplate": "country=Poland<br>Poverty Gaps=%{x}<br>events_per_capita=%{y}<extra></extra>",
         "legendgroup": "Poland",
         "marker": {
          "color": "#FF6692",
          "symbol": "circle"
         },
         "mode": "markers",
         "name": "Poland",
         "orientation": "v",
         "showlegend": true,
         "type": "scatter",
         "x": [
          0.1,
          0
         ],
         "xaxis": "x",
         "y": [
          4.820698766486882,
          4.784470467206985
         ],
         "yaxis": "y"
        },
        {
         "hovertemplate": "country=Portugal<br>Poverty Gaps=%{x}<br>events_per_capita=%{y}<extra></extra>",
         "legendgroup": "Portugal",
         "marker": {
          "color": "#B6E880",
          "symbol": "circle"
         },
         "mode": "markers",
         "name": "Portugal",
         "orientation": "v",
         "showlegend": true,
         "type": "scatter",
         "x": [
          0.2,
          0.1
         ],
         "xaxis": "x",
         "y": [
          3.486424939261913,
          5.944895260306793
         ],
         "yaxis": "y"
        },
        {
         "hovertemplate": "country=Slovenia<br>Poverty Gaps=%{x}<br>events_per_capita=%{y}<extra></extra>",
         "legendgroup": "Slovenia",
         "marker": {
          "color": "#FF97FF",
          "symbol": "circle"
         },
         "mode": "markers",
         "name": "Slovenia",
         "orientation": "v",
         "showlegend": true,
         "type": "scatter",
         "x": [
          0,
          0
         ],
         "xaxis": "x",
         "y": [
          6.278482072317649,
          6.546244234680009
         ],
         "yaxis": "y"
        },
        {
         "hovertemplate": "country=Spain<br>Poverty Gaps=%{x}<br>events_per_capita=%{y}<extra></extra>",
         "legendgroup": "Spain",
         "marker": {
          "color": "#FECB52",
          "symbol": "circle"
         },
         "mode": "markers",
         "name": "Spain",
         "orientation": "v",
         "showlegend": true,
         "type": "scatter",
         "x": [
          0.5,
          0.4
         ],
         "xaxis": "x",
         "y": [
          7.068412756035993,
          9.29015340331536
         ],
         "yaxis": "y"
        },
        {
         "hovertemplate": "country=Sweden<br>Poverty Gaps=%{x}<br>events_per_capita=%{y}<extra></extra>",
         "legendgroup": "Sweden",
         "marker": {
          "color": "#636efa",
          "symbol": "circle"
         },
         "mode": "markers",
         "name": "Sweden",
         "orientation": "v",
         "showlegend": true,
         "type": "scatter",
         "x": [
          0.3,
          0.5
         ],
         "xaxis": "x",
         "y": [
          8.73139580054633,
          11.943381077095196
         ],
         "yaxis": "y"
        },
        {
         "hovertemplate": "country=Switzerland<br>Poverty Gaps=%{x}<br>events_per_capita=%{y}<extra></extra>",
         "legendgroup": "Switzerland",
         "marker": {
          "color": "#EF553B",
          "symbol": "circle"
         },
         "mode": "markers",
         "name": "Switzerland",
         "orientation": "v",
         "showlegend": true,
         "type": "scatter",
         "x": [
          0,
          null
         ],
         "xaxis": "x",
         "y": [
          1.9101274610689978,
          2.492950235428706
         ],
         "yaxis": "y"
        },
        {
         "hovertemplate": "country=United Kingdom<br>Poverty Gaps=%{x}<br>events_per_capita=%{y}<extra></extra>",
         "legendgroup": "United Kingdom",
         "marker": {
          "color": "#00cc96",
          "symbol": "circle"
         },
         "mode": "markers",
         "name": "United Kingdom",
         "orientation": "v",
         "showlegend": true,
         "type": "scatter",
         "x": [
          0.3,
          0.2
         ],
         "xaxis": "x",
         "y": [
          3.273642819391188,
          2.3647436740197416
         ],
         "yaxis": "y"
        },
        {
         "hovertemplate": "country=United States<br>Poverty Gaps=%{x}<br>events_per_capita=%{y}<extra></extra>",
         "legendgroup": "United States",
         "marker": {
          "color": "#ab63fa",
          "symbol": "circle"
         },
         "mode": "markers",
         "name": "United States",
         "orientation": "v",
         "showlegend": true,
         "type": "scatter",
         "x": [
          0.2,
          0.2
         ],
         "xaxis": "x",
         "y": [
          6.511086106717163,
          3.959563433540416
         ],
         "yaxis": "y"
        }
       ],
       "layout": {
        "legend": {
         "title": {
          "text": "country"
         },
         "tracegroupgap": 0
        },
        "template": {
         "data": {
          "bar": [
           {
            "error_x": {
             "color": "#2a3f5f"
            },
            "error_y": {
             "color": "#2a3f5f"
            },
            "marker": {
             "line": {
              "color": "#E5ECF6",
              "width": 0.5
             },
             "pattern": {
              "fillmode": "overlay",
              "size": 10,
              "solidity": 0.2
             }
            },
            "type": "bar"
           }
          ],
          "barpolar": [
           {
            "marker": {
             "line": {
              "color": "#E5ECF6",
              "width": 0.5
             },
             "pattern": {
              "fillmode": "overlay",
              "size": 10,
              "solidity": 0.2
             }
            },
            "type": "barpolar"
           }
          ],
          "carpet": [
           {
            "aaxis": {
             "endlinecolor": "#2a3f5f",
             "gridcolor": "white",
             "linecolor": "white",
             "minorgridcolor": "white",
             "startlinecolor": "#2a3f5f"
            },
            "baxis": {
             "endlinecolor": "#2a3f5f",
             "gridcolor": "white",
             "linecolor": "white",
             "minorgridcolor": "white",
             "startlinecolor": "#2a3f5f"
            },
            "type": "carpet"
           }
          ],
          "choropleth": [
           {
            "colorbar": {
             "outlinewidth": 0,
             "ticks": ""
            },
            "type": "choropleth"
           }
          ],
          "contour": [
           {
            "colorbar": {
             "outlinewidth": 0,
             "ticks": ""
            },
            "colorscale": [
             [
              0,
              "#0d0887"
             ],
             [
              0.1111111111111111,
              "#46039f"
             ],
             [
              0.2222222222222222,
              "#7201a8"
             ],
             [
              0.3333333333333333,
              "#9c179e"
             ],
             [
              0.4444444444444444,
              "#bd3786"
             ],
             [
              0.5555555555555556,
              "#d8576b"
             ],
             [
              0.6666666666666666,
              "#ed7953"
             ],
             [
              0.7777777777777778,
              "#fb9f3a"
             ],
             [
              0.8888888888888888,
              "#fdca26"
             ],
             [
              1,
              "#f0f921"
             ]
            ],
            "type": "contour"
           }
          ],
          "contourcarpet": [
           {
            "colorbar": {
             "outlinewidth": 0,
             "ticks": ""
            },
            "type": "contourcarpet"
           }
          ],
          "heatmap": [
           {
            "colorbar": {
             "outlinewidth": 0,
             "ticks": ""
            },
            "colorscale": [
             [
              0,
              "#0d0887"
             ],
             [
              0.1111111111111111,
              "#46039f"
             ],
             [
              0.2222222222222222,
              "#7201a8"
             ],
             [
              0.3333333333333333,
              "#9c179e"
             ],
             [
              0.4444444444444444,
              "#bd3786"
             ],
             [
              0.5555555555555556,
              "#d8576b"
             ],
             [
              0.6666666666666666,
              "#ed7953"
             ],
             [
              0.7777777777777778,
              "#fb9f3a"
             ],
             [
              0.8888888888888888,
              "#fdca26"
             ],
             [
              1,
              "#f0f921"
             ]
            ],
            "type": "heatmap"
           }
          ],
          "heatmapgl": [
           {
            "colorbar": {
             "outlinewidth": 0,
             "ticks": ""
            },
            "colorscale": [
             [
              0,
              "#0d0887"
             ],
             [
              0.1111111111111111,
              "#46039f"
             ],
             [
              0.2222222222222222,
              "#7201a8"
             ],
             [
              0.3333333333333333,
              "#9c179e"
             ],
             [
              0.4444444444444444,
              "#bd3786"
             ],
             [
              0.5555555555555556,
              "#d8576b"
             ],
             [
              0.6666666666666666,
              "#ed7953"
             ],
             [
              0.7777777777777778,
              "#fb9f3a"
             ],
             [
              0.8888888888888888,
              "#fdca26"
             ],
             [
              1,
              "#f0f921"
             ]
            ],
            "type": "heatmapgl"
           }
          ],
          "histogram": [
           {
            "marker": {
             "pattern": {
              "fillmode": "overlay",
              "size": 10,
              "solidity": 0.2
             }
            },
            "type": "histogram"
           }
          ],
          "histogram2d": [
           {
            "colorbar": {
             "outlinewidth": 0,
             "ticks": ""
            },
            "colorscale": [
             [
              0,
              "#0d0887"
             ],
             [
              0.1111111111111111,
              "#46039f"
             ],
             [
              0.2222222222222222,
              "#7201a8"
             ],
             [
              0.3333333333333333,
              "#9c179e"
             ],
             [
              0.4444444444444444,
              "#bd3786"
             ],
             [
              0.5555555555555556,
              "#d8576b"
             ],
             [
              0.6666666666666666,
              "#ed7953"
             ],
             [
              0.7777777777777778,
              "#fb9f3a"
             ],
             [
              0.8888888888888888,
              "#fdca26"
             ],
             [
              1,
              "#f0f921"
             ]
            ],
            "type": "histogram2d"
           }
          ],
          "histogram2dcontour": [
           {
            "colorbar": {
             "outlinewidth": 0,
             "ticks": ""
            },
            "colorscale": [
             [
              0,
              "#0d0887"
             ],
             [
              0.1111111111111111,
              "#46039f"
             ],
             [
              0.2222222222222222,
              "#7201a8"
             ],
             [
              0.3333333333333333,
              "#9c179e"
             ],
             [
              0.4444444444444444,
              "#bd3786"
             ],
             [
              0.5555555555555556,
              "#d8576b"
             ],
             [
              0.6666666666666666,
              "#ed7953"
             ],
             [
              0.7777777777777778,
              "#fb9f3a"
             ],
             [
              0.8888888888888888,
              "#fdca26"
             ],
             [
              1,
              "#f0f921"
             ]
            ],
            "type": "histogram2dcontour"
           }
          ],
          "mesh3d": [
           {
            "colorbar": {
             "outlinewidth": 0,
             "ticks": ""
            },
            "type": "mesh3d"
           }
          ],
          "parcoords": [
           {
            "line": {
             "colorbar": {
              "outlinewidth": 0,
              "ticks": ""
             }
            },
            "type": "parcoords"
           }
          ],
          "pie": [
           {
            "automargin": true,
            "type": "pie"
           }
          ],
          "scatter": [
           {
            "fillpattern": {
             "fillmode": "overlay",
             "size": 10,
             "solidity": 0.2
            },
            "type": "scatter"
           }
          ],
          "scatter3d": [
           {
            "line": {
             "colorbar": {
              "outlinewidth": 0,
              "ticks": ""
             }
            },
            "marker": {
             "colorbar": {
              "outlinewidth": 0,
              "ticks": ""
             }
            },
            "type": "scatter3d"
           }
          ],
          "scattercarpet": [
           {
            "marker": {
             "colorbar": {
              "outlinewidth": 0,
              "ticks": ""
             }
            },
            "type": "scattercarpet"
           }
          ],
          "scattergeo": [
           {
            "marker": {
             "colorbar": {
              "outlinewidth": 0,
              "ticks": ""
             }
            },
            "type": "scattergeo"
           }
          ],
          "scattergl": [
           {
            "marker": {
             "colorbar": {
              "outlinewidth": 0,
              "ticks": ""
             }
            },
            "type": "scattergl"
           }
          ],
          "scattermapbox": [
           {
            "marker": {
             "colorbar": {
              "outlinewidth": 0,
              "ticks": ""
             }
            },
            "type": "scattermapbox"
           }
          ],
          "scatterpolar": [
           {
            "marker": {
             "colorbar": {
              "outlinewidth": 0,
              "ticks": ""
             }
            },
            "type": "scatterpolar"
           }
          ],
          "scatterpolargl": [
           {
            "marker": {
             "colorbar": {
              "outlinewidth": 0,
              "ticks": ""
             }
            },
            "type": "scatterpolargl"
           }
          ],
          "scatterternary": [
           {
            "marker": {
             "colorbar": {
              "outlinewidth": 0,
              "ticks": ""
             }
            },
            "type": "scatterternary"
           }
          ],
          "surface": [
           {
            "colorbar": {
             "outlinewidth": 0,
             "ticks": ""
            },
            "colorscale": [
             [
              0,
              "#0d0887"
             ],
             [
              0.1111111111111111,
              "#46039f"
             ],
             [
              0.2222222222222222,
              "#7201a8"
             ],
             [
              0.3333333333333333,
              "#9c179e"
             ],
             [
              0.4444444444444444,
              "#bd3786"
             ],
             [
              0.5555555555555556,
              "#d8576b"
             ],
             [
              0.6666666666666666,
              "#ed7953"
             ],
             [
              0.7777777777777778,
              "#fb9f3a"
             ],
             [
              0.8888888888888888,
              "#fdca26"
             ],
             [
              1,
              "#f0f921"
             ]
            ],
            "type": "surface"
           }
          ],
          "table": [
           {
            "cells": {
             "fill": {
              "color": "#EBF0F8"
             },
             "line": {
              "color": "white"
             }
            },
            "header": {
             "fill": {
              "color": "#C8D4E3"
             },
             "line": {
              "color": "white"
             }
            },
            "type": "table"
           }
          ]
         },
         "layout": {
          "annotationdefaults": {
           "arrowcolor": "#2a3f5f",
           "arrowhead": 0,
           "arrowwidth": 1
          },
          "autotypenumbers": "strict",
          "coloraxis": {
           "colorbar": {
            "outlinewidth": 0,
            "ticks": ""
           }
          },
          "colorscale": {
           "diverging": [
            [
             0,
             "#8e0152"
            ],
            [
             0.1,
             "#c51b7d"
            ],
            [
             0.2,
             "#de77ae"
            ],
            [
             0.3,
             "#f1b6da"
            ],
            [
             0.4,
             "#fde0ef"
            ],
            [
             0.5,
             "#f7f7f7"
            ],
            [
             0.6,
             "#e6f5d0"
            ],
            [
             0.7,
             "#b8e186"
            ],
            [
             0.8,
             "#7fbc41"
            ],
            [
             0.9,
             "#4d9221"
            ],
            [
             1,
             "#276419"
            ]
           ],
           "sequential": [
            [
             0,
             "#0d0887"
            ],
            [
             0.1111111111111111,
             "#46039f"
            ],
            [
             0.2222222222222222,
             "#7201a8"
            ],
            [
             0.3333333333333333,
             "#9c179e"
            ],
            [
             0.4444444444444444,
             "#bd3786"
            ],
            [
             0.5555555555555556,
             "#d8576b"
            ],
            [
             0.6666666666666666,
             "#ed7953"
            ],
            [
             0.7777777777777778,
             "#fb9f3a"
            ],
            [
             0.8888888888888888,
             "#fdca26"
            ],
            [
             1,
             "#f0f921"
            ]
           ],
           "sequentialminus": [
            [
             0,
             "#0d0887"
            ],
            [
             0.1111111111111111,
             "#46039f"
            ],
            [
             0.2222222222222222,
             "#7201a8"
            ],
            [
             0.3333333333333333,
             "#9c179e"
            ],
            [
             0.4444444444444444,
             "#bd3786"
            ],
            [
             0.5555555555555556,
             "#d8576b"
            ],
            [
             0.6666666666666666,
             "#ed7953"
            ],
            [
             0.7777777777777778,
             "#fb9f3a"
            ],
            [
             0.8888888888888888,
             "#fdca26"
            ],
            [
             1,
             "#f0f921"
            ]
           ]
          },
          "colorway": [
           "#636efa",
           "#EF553B",
           "#00cc96",
           "#ab63fa",
           "#FFA15A",
           "#19d3f3",
           "#FF6692",
           "#B6E880",
           "#FF97FF",
           "#FECB52"
          ],
          "font": {
           "color": "#2a3f5f"
          },
          "geo": {
           "bgcolor": "white",
           "lakecolor": "white",
           "landcolor": "#E5ECF6",
           "showlakes": true,
           "showland": true,
           "subunitcolor": "white"
          },
          "hoverlabel": {
           "align": "left"
          },
          "hovermode": "closest",
          "mapbox": {
           "style": "light"
          },
          "paper_bgcolor": "white",
          "plot_bgcolor": "#E5ECF6",
          "polar": {
           "angularaxis": {
            "gridcolor": "white",
            "linecolor": "white",
            "ticks": ""
           },
           "bgcolor": "#E5ECF6",
           "radialaxis": {
            "gridcolor": "white",
            "linecolor": "white",
            "ticks": ""
           }
          },
          "scene": {
           "xaxis": {
            "backgroundcolor": "#E5ECF6",
            "gridcolor": "white",
            "gridwidth": 2,
            "linecolor": "white",
            "showbackground": true,
            "ticks": "",
            "zerolinecolor": "white"
           },
           "yaxis": {
            "backgroundcolor": "#E5ECF6",
            "gridcolor": "white",
            "gridwidth": 2,
            "linecolor": "white",
            "showbackground": true,
            "ticks": "",
            "zerolinecolor": "white"
           },
           "zaxis": {
            "backgroundcolor": "#E5ECF6",
            "gridcolor": "white",
            "gridwidth": 2,
            "linecolor": "white",
            "showbackground": true,
            "ticks": "",
            "zerolinecolor": "white"
           }
          },
          "shapedefaults": {
           "line": {
            "color": "#2a3f5f"
           }
          },
          "ternary": {
           "aaxis": {
            "gridcolor": "white",
            "linecolor": "white",
            "ticks": ""
           },
           "baxis": {
            "gridcolor": "white",
            "linecolor": "white",
            "ticks": ""
           },
           "bgcolor": "#E5ECF6",
           "caxis": {
            "gridcolor": "white",
            "linecolor": "white",
            "ticks": ""
           }
          },
          "title": {
           "x": 0.05
          },
          "xaxis": {
           "automargin": true,
           "gridcolor": "white",
           "linecolor": "white",
           "ticks": "",
           "title": {
            "standoff": 15
           },
           "zerolinecolor": "white",
           "zerolinewidth": 2
          },
          "yaxis": {
           "automargin": true,
           "gridcolor": "white",
           "linecolor": "white",
           "ticks": "",
           "title": {
            "standoff": 15
           },
           "zerolinecolor": "white",
           "zerolinewidth": 2
          }
         }
        },
        "title": {
         "text": "Poverty Gaps Vs Number of Protests"
        },
        "xaxis": {
         "anchor": "y",
         "domain": [
          0,
          1
         ],
         "title": {
          "text": "Poverty Gaps"
         }
        },
        "yaxis": {
         "anchor": "x",
         "domain": [
          0,
          1
         ],
         "title": {
          "text": "events_per_capita"
         }
        }
       }
      }
     },
     "metadata": {},
     "output_type": "display_data"
    }
   ],
   "source": [
    "import plotly.express as px\n",
    "\n",
    "# Create the scatter plot using Plotly Express\n",
    "fig = px.scatter(\n",
    "    combined_data, \n",
    "    x='poverty_gaps',\n",
    "    y='events_per_capita' ,\n",
    "    color='country',\n",
    "    labels={\n",
    "        'event_date': 'Year',\n",
    "        'poverty_gaps': 'Poverty Gaps',\n",
    "    },\n",
    "    title='Poverty Gaps Vs Number of Protests'\n",
    ")\n",
    "\n",
    "fig.show()"
   ]
  },
  {
   "cell_type": "code",
   "execution_count": 20,
   "id": "c5617246",
   "metadata": {},
   "outputs": [],
   "source": [
    "import numpy as np\n",
    "\n",
    "\n",
    "def linear_regression(X, y):\n",
    "    \"\"\"performs the linear perceptron algorithm which takes in an original X matrix and a y vector\n",
    "    Args:\n",
    "        X (2d-array): represents a matrix of a bias column with numeric values representative of the x features \n",
    "        y (1d-array): represents a vector of labels (-1 or 1)\n",
    "    Returns:\n",
    "        w (1d-array): the final weight vector that determines the direction and orientation of the line of best fit\n",
    "    \"\"\"\n",
    "    return np.linalg.inv(X.T.dot(X)).dot(X.T).dot(y) "
   ]
  },
  {
   "cell_type": "code",
   "execution_count": 22,
   "id": "e0f7b1b6",
   "metadata": {},
   "outputs": [
    {
     "name": "stdout",
     "output_type": "stream",
     "text": [
      "y =  [4.32917889] + [0.00099002] x_1 + [2.09618749e-05] x_2\n"
     ]
    }
   ],
   "source": [
    "X = np.array(combined_data[['public_trust_percentage','gdp_per_capita']])\n",
    "ones = np.ones((X.shape[0], 1))\n",
    "X_with_bias_column = np.hstack((ones, X))\n",
    "y = np.array(combined_data[['events_per_capita']])\n",
    "best_w = linear_regression(X_with_bias_column, y)\n",
    "print(\"y = \", best_w[0], \"+\", - best_w[1], \"x_1 +\", best_w[2], \"x_2\")"
   ]
  },
  {
   "cell_type": "code",
   "execution_count": null,
   "id": "cd3c8f7b",
   "metadata": {},
   "outputs": [
    {
     "data": {
      "application/vnd.plotly.v1+json": {
       "config": {
        "plotlyServerURL": "https://plot.ly"
       },
       "data": [
        {
         "hovertemplate": "country=Austria<br>public_trust_percentage=%{x}<br>gdp_per_capita=%{y}<br>events_per_capita=%{z}<extra></extra>",
         "legendgroup": "Austria",
         "marker": {
          "color": "#636efa",
          "symbol": "circle"
         },
         "mode": "markers",
         "name": "Austria",
         "scene": "scene",
         "showlegend": true,
         "type": "scatter3d",
         "x": [
          62.6,
          61
         ],
         "y": [
          48789.4978498872,
          53517.8904509612
         ],
         "z": [
          3.970005598380776,
          6.275265060161591
         ]
        },
        {
         "hovertemplate": "country=Belgium<br>public_trust_percentage=%{x}<br>gdp_per_capita=%{y}<br>events_per_capita=%{z}<extra></extra>",
         "legendgroup": "Belgium",
         "marker": {
          "color": "#EF553B",
          "symbol": "circle"
         },
         "mode": "markers",
         "name": "Belgium",
         "scene": "scene",
         "showlegend": true,
         "type": "scatter3d",
         "x": [
          29.5,
          47.3
         ],
         "y": [
          45609.0034936111,
          51850.3971840229
         ],
         "z": [
          6.7945827762179904,
          7.189590715502372
         ]
        },
        {
         "hovertemplate": "country=Denmark<br>public_trust_percentage=%{x}<br>gdp_per_capita=%{y}<br>events_per_capita=%{z}<extra></extra>",
         "legendgroup": "Denmark",
         "marker": {
          "color": "#00cc96",
          "symbol": "circle"
         },
         "mode": "markers",
         "name": "Denmark",
         "scene": "scene",
         "showlegend": true,
         "type": "scatter3d",
         "x": [
          71.6,
          65.2
         ],
         "y": [
          60836.5924121638,
          69268.6517983134
         ],
         "z": [
          9.620324710824358,
          14.137574651260353
         ]
        },
        {
         "hovertemplate": "country=Estonia<br>public_trust_percentage=%{x}<br>gdp_per_capita=%{y}<br>events_per_capita=%{z}<extra></extra>",
         "legendgroup": "Estonia",
         "marker": {
          "color": "#ab63fa",
          "symbol": "circle"
         },
         "mode": "markers",
         "name": "Estonia",
         "scene": "scene",
         "showlegend": true,
         "type": "scatter3d",
         "x": [
          46.5,
          51.9
         ],
         "y": [
          23595.2436836441,
          27943.701219882
         ],
         "z": [
          10.605315293767234,
          8.490291014116425
         ]
        },
        {
         "hovertemplate": "country=Finland<br>public_trust_percentage=%{x}<br>gdp_per_capita=%{y}<br>events_per_capita=%{z}<extra></extra>",
         "legendgroup": "Finland",
         "marker": {
          "color": "#FFA15A",
          "symbol": "circle"
         },
         "mode": "markers",
         "name": "Finland",
         "scene": "scene",
         "showlegend": true,
         "type": "scatter3d",
         "x": [
          80.9,
          71.4
         ],
         "y": [
          49169.7193388499,
          53504.6936483441
         ],
         "z": [
          3.9062902666639903,
          4.782515556259798
         ]
        },
        {
         "hovertemplate": "country=France<br>public_trust_percentage=%{x}<br>gdp_per_capita=%{y}<br>events_per_capita=%{z}<extra></extra>",
         "legendgroup": "France",
         "marker": {
          "color": "#19d3f3",
          "symbol": "circle"
         },
         "mode": "markers",
         "name": "France",
         "scene": "scene",
         "showlegend": true,
         "type": "scatter3d",
         "x": [
          41,
          43.4
         ],
         "y": [
          39179.7442596057,
          43671.3084099631
         ],
         "z": [
          7.643799590259785,
          12.33097590731545
         ]
        },
        {
         "hovertemplate": "country=Germany<br>public_trust_percentage=%{x}<br>gdp_per_capita=%{y}<br>events_per_capita=%{z}<extra></extra>",
         "legendgroup": "Germany",
         "marker": {
          "color": "#FF6692",
          "symbol": "circle"
         },
         "mode": "markers",
         "name": "Germany",
         "scene": "scene",
         "showlegend": true,
         "type": "scatter3d",
         "x": [
          65.4,
          60.5
         ],
         "y": [
          46749.4762280016,
          51426.7503654421
         ],
         "z": [
          5.161081105078853,
          5.06634459379203
         ]
        },
        {
         "hovertemplate": "country=Greece<br>public_trust_percentage=%{x}<br>gdp_per_capita=%{y}<br>events_per_capita=%{z}<extra></extra>",
         "legendgroup": "Greece",
         "marker": {
          "color": "#B6E880",
          "symbol": "circle"
         },
         "mode": "markers",
         "name": "Greece",
         "scene": "scene",
         "showlegend": true,
         "type": "scatter3d",
         "x": [
          15.7,
          39.6,
          39.7,
          40.2
         ],
         "y": [
          19756.990456255,
          19143.8876174584,
          17617.2915057014,
          20310.6824798873
         ],
         "z": [
          1.8913838799308518,
          4.635509946200104,
          6.169032038680953,
          5.279487855616793
         ]
        },
        {
         "hovertemplate": "country=Hungary<br>public_trust_percentage=%{x}<br>gdp_per_capita=%{y}<br>events_per_capita=%{z}<extra></extra>",
         "legendgroup": "Hungary",
         "marker": {
          "color": "#FF97FF",
          "symbol": "circle"
         },
         "mode": "markers",
         "name": "Hungary",
         "scene": "scene",
         "showlegend": true,
         "type": "scatter3d",
         "x": [
          42.9,
          41.7
         ],
         "y": [
          16125.6094085407,
          18753.0469453539
         ],
         "z": [
          2.040994450443783,
          1.3182434282732938
         ]
        },
        {
         "hovertemplate": "country=Ireland<br>public_trust_percentage=%{x}<br>gdp_per_capita=%{y}<br>events_per_capita=%{z}<extra></extra>",
         "legendgroup": "Ireland",
         "marker": {
          "color": "#FECB52",
          "symbol": "circle"
         },
         "mode": "markers",
         "name": "Ireland",
         "scene": "scene",
         "showlegend": true,
         "type": "scatter3d",
         "x": [
          58.8,
          62.3
         ],
         "y": [
          85973.0884875501,
          102001.798249145
         ],
         "z": [
          5.596361522547319,
          4.331271542115457
         ]
        },
        {
         "hovertemplate": "country=Italy<br>public_trust_percentage=%{x}<br>gdp_per_capita=%{y}<br>events_per_capita=%{z}<extra></extra>",
         "legendgroup": "Italy",
         "marker": {
          "color": "#636efa",
          "symbol": "circle"
         },
         "mode": "markers",
         "name": "Italy",
         "scene": "scene",
         "showlegend": true,
         "type": "scatter3d",
         "x": [
          37.5,
          35.4
         ],
         "y": [
          31922.9191626183,
          36449.2583375837
         ],
         "z": [
          9.233018316588925,
          12.458320137835322
         ]
        },
        {
         "hovertemplate": "country=Latvia<br>public_trust_percentage=%{x}<br>gdp_per_capita=%{y}<br>events_per_capita=%{z}<extra></extra>",
         "legendgroup": "Latvia",
         "marker": {
          "color": "#EF553B",
          "symbol": "circle"
         },
         "mode": "markers",
         "name": "Latvia",
         "scene": "scene",
         "showlegend": true,
         "type": "scatter3d",
         "x": [
          30.7,
          29.5
         ],
         "y": [
          18096.2027073394,
          20930.3982374189
         ],
         "z": [
          3.57810180646784,
          3.290014805066623
         ]
        },
        {
         "hovertemplate": "country=Lithuania<br>public_trust_percentage=%{x}<br>gdp_per_capita=%{y}<br>events_per_capita=%{z}<extra></extra>",
         "legendgroup": "Lithuania",
         "marker": {
          "color": "#00cc96",
          "symbol": "circle"
         },
         "mode": "markers",
         "name": "Lithuania",
         "scene": "scene",
         "showlegend": true,
         "type": "scatter3d",
         "x": [
          47.4,
          30.4
         ],
         "y": [
          20381.8557827478,
          23849.6156993566
         ],
         "z": [
          2.1109992003248794,
          5.284130933623818
         ]
        },
        {
         "hovertemplate": "country=Luxembourg<br>public_trust_percentage=%{x}<br>gdp_per_capita=%{y}<br>events_per_capita=%{z}<extra></extra>",
         "legendgroup": "Luxembourg",
         "marker": {
          "color": "#ab63fa",
          "symbol": "circle"
         },
         "mode": "markers",
         "name": "Luxembourg",
         "scene": "scene",
         "showlegend": true,
         "type": "scatter3d",
         "x": [
          78,
          78
         ],
         "y": [
          116905.370396853,
          133711.794435985
         ],
         "z": [
          5.551863125952739,
          4.999500049995
         ]
        },
        {
         "hovertemplate": "country=Netherlands<br>public_trust_percentage=%{x}<br>gdp_per_capita=%{y}<br>events_per_capita=%{z}<extra></extra>",
         "legendgroup": "Netherlands",
         "marker": {
          "color": "#FFA15A",
          "symbol": "circle"
         },
         "mode": "markers",
         "name": "Netherlands",
         "scene": "scene",
         "showlegend": true,
         "type": "scatter3d",
         "x": [
          78.1,
          58.5
         ],
         "y": [
          52162.5701150406,
          58727.8705471475
         ],
         "z": [
          3.325402058309205,
          3.3251499283296155
         ]
        },
        {
         "hovertemplate": "country=Poland<br>public_trust_percentage=%{x}<br>gdp_per_capita=%{y}<br>events_per_capita=%{z}<extra></extra>",
         "legendgroup": "Poland",
         "marker": {
          "color": "#19d3f3",
          "symbol": "circle"
         },
         "mode": "markers",
         "name": "Poland",
         "scene": "scene",
         "showlegend": true,
         "type": "scatter3d",
         "x": [
          27.3,
          25.9
         ],
         "y": [
          15816.8204021382,
          18050.2794441161
         ],
         "z": [
          4.820698766486882,
          4.784470467206985
         ]
        },
        {
         "hovertemplate": "country=Portugal<br>public_trust_percentage=%{x}<br>gdp_per_capita=%{y}<br>events_per_capita=%{z}<extra></extra>",
         "legendgroup": "Portugal",
         "marker": {
          "color": "#FF6692",
          "symbol": "circle"
         },
         "mode": "markers",
         "name": "Portugal",
         "scene": "scene",
         "showlegend": true,
         "type": "scatter3d",
         "x": [
          61.5,
          57.6
         ],
         "y": [
          22242.406417972,
          24661.1664874576
         ],
         "z": [
          3.486424939261913,
          5.944895260306793
         ]
        },
        {
         "hovertemplate": "country=Slovenia<br>public_trust_percentage=%{x}<br>gdp_per_capita=%{y}<br>events_per_capita=%{z}<extra></extra>",
         "legendgroup": "Slovenia",
         "marker": {
          "color": "#B6E880",
          "symbol": "circle"
         },
         "mode": "markers",
         "name": "Slovenia",
         "scene": "scene",
         "showlegend": true,
         "type": "scatter3d",
         "x": [
          45.3,
          33.9
         ],
         "y": [
          25558.4290544506,
          29331.0647010043
         ],
         "z": [
          6.278482072317649,
          6.546244234680009
         ]
        },
        {
         "hovertemplate": "country=Spain<br>public_trust_percentage=%{x}<br>gdp_per_capita=%{y}<br>events_per_capita=%{z}<extra></extra>",
         "legendgroup": "Spain",
         "marker": {
          "color": "#FF97FF",
          "symbol": "circle"
         },
         "mode": "markers",
         "name": "Spain",
         "scene": "scene",
         "showlegend": true,
         "type": "scatter3d",
         "x": [
          38.2,
          37.2
         ],
         "y": [
          26984.2962770279,
          30488.8209528797
         ],
         "z": [
          7.068412756035993,
          9.29015340331536
         ]
        },
        {
         "hovertemplate": "country=Sweden<br>public_trust_percentage=%{x}<br>gdp_per_capita=%{y}<br>events_per_capita=%{z}<extra></extra>",
         "legendgroup": "Sweden",
         "marker": {
          "color": "#FECB52",
          "symbol": "circle"
         },
         "mode": "markers",
         "name": "Sweden",
         "scene": "scene",
         "showlegend": true,
         "type": "scatter3d",
         "x": [
          67.1,
          63.4
         ],
         "y": [
          52837.9039778149,
          61417.6808766469
         ],
         "z": [
          8.73139580054633,
          11.943381077095196
         ]
        }
       ],
       "layout": {
        "height": 500,
        "legend": {
         "title": {
          "text": "country"
         },
         "tracegroupgap": 0
        },
        "scene": {
         "domain": {
          "x": [
           0,
           1
          ],
          "y": [
           0,
           1
          ]
         },
         "xaxis": {
          "title": {
           "text": "public_trust_percentage"
          }
         },
         "yaxis": {
          "title": {
           "text": "gdp_per_capita"
          }
         },
         "zaxis": {
          "title": {
           "text": "events_per_capita"
          }
         }
        },
        "template": {
         "data": {
          "bar": [
           {
            "error_x": {
             "color": "#2a3f5f"
            },
            "error_y": {
             "color": "#2a3f5f"
            },
            "marker": {
             "line": {
              "color": "#E5ECF6",
              "width": 0.5
             },
             "pattern": {
              "fillmode": "overlay",
              "size": 10,
              "solidity": 0.2
             }
            },
            "type": "bar"
           }
          ],
          "barpolar": [
           {
            "marker": {
             "line": {
              "color": "#E5ECF6",
              "width": 0.5
             },
             "pattern": {
              "fillmode": "overlay",
              "size": 10,
              "solidity": 0.2
             }
            },
            "type": "barpolar"
           }
          ],
          "carpet": [
           {
            "aaxis": {
             "endlinecolor": "#2a3f5f",
             "gridcolor": "white",
             "linecolor": "white",
             "minorgridcolor": "white",
             "startlinecolor": "#2a3f5f"
            },
            "baxis": {
             "endlinecolor": "#2a3f5f",
             "gridcolor": "white",
             "linecolor": "white",
             "minorgridcolor": "white",
             "startlinecolor": "#2a3f5f"
            },
            "type": "carpet"
           }
          ],
          "choropleth": [
           {
            "colorbar": {
             "outlinewidth": 0,
             "ticks": ""
            },
            "type": "choropleth"
           }
          ],
          "contour": [
           {
            "colorbar": {
             "outlinewidth": 0,
             "ticks": ""
            },
            "colorscale": [
             [
              0,
              "#0d0887"
             ],
             [
              0.1111111111111111,
              "#46039f"
             ],
             [
              0.2222222222222222,
              "#7201a8"
             ],
             [
              0.3333333333333333,
              "#9c179e"
             ],
             [
              0.4444444444444444,
              "#bd3786"
             ],
             [
              0.5555555555555556,
              "#d8576b"
             ],
             [
              0.6666666666666666,
              "#ed7953"
             ],
             [
              0.7777777777777778,
              "#fb9f3a"
             ],
             [
              0.8888888888888888,
              "#fdca26"
             ],
             [
              1,
              "#f0f921"
             ]
            ],
            "type": "contour"
           }
          ],
          "contourcarpet": [
           {
            "colorbar": {
             "outlinewidth": 0,
             "ticks": ""
            },
            "type": "contourcarpet"
           }
          ],
          "heatmap": [
           {
            "colorbar": {
             "outlinewidth": 0,
             "ticks": ""
            },
            "colorscale": [
             [
              0,
              "#0d0887"
             ],
             [
              0.1111111111111111,
              "#46039f"
             ],
             [
              0.2222222222222222,
              "#7201a8"
             ],
             [
              0.3333333333333333,
              "#9c179e"
             ],
             [
              0.4444444444444444,
              "#bd3786"
             ],
             [
              0.5555555555555556,
              "#d8576b"
             ],
             [
              0.6666666666666666,
              "#ed7953"
             ],
             [
              0.7777777777777778,
              "#fb9f3a"
             ],
             [
              0.8888888888888888,
              "#fdca26"
             ],
             [
              1,
              "#f0f921"
             ]
            ],
            "type": "heatmap"
           }
          ],
          "heatmapgl": [
           {
            "colorbar": {
             "outlinewidth": 0,
             "ticks": ""
            },
            "colorscale": [
             [
              0,
              "#0d0887"
             ],
             [
              0.1111111111111111,
              "#46039f"
             ],
             [
              0.2222222222222222,
              "#7201a8"
             ],
             [
              0.3333333333333333,
              "#9c179e"
             ],
             [
              0.4444444444444444,
              "#bd3786"
             ],
             [
              0.5555555555555556,
              "#d8576b"
             ],
             [
              0.6666666666666666,
              "#ed7953"
             ],
             [
              0.7777777777777778,
              "#fb9f3a"
             ],
             [
              0.8888888888888888,
              "#fdca26"
             ],
             [
              1,
              "#f0f921"
             ]
            ],
            "type": "heatmapgl"
           }
          ],
          "histogram": [
           {
            "marker": {
             "pattern": {
              "fillmode": "overlay",
              "size": 10,
              "solidity": 0.2
             }
            },
            "type": "histogram"
           }
          ],
          "histogram2d": [
           {
            "colorbar": {
             "outlinewidth": 0,
             "ticks": ""
            },
            "colorscale": [
             [
              0,
              "#0d0887"
             ],
             [
              0.1111111111111111,
              "#46039f"
             ],
             [
              0.2222222222222222,
              "#7201a8"
             ],
             [
              0.3333333333333333,
              "#9c179e"
             ],
             [
              0.4444444444444444,
              "#bd3786"
             ],
             [
              0.5555555555555556,
              "#d8576b"
             ],
             [
              0.6666666666666666,
              "#ed7953"
             ],
             [
              0.7777777777777778,
              "#fb9f3a"
             ],
             [
              0.8888888888888888,
              "#fdca26"
             ],
             [
              1,
              "#f0f921"
             ]
            ],
            "type": "histogram2d"
           }
          ],
          "histogram2dcontour": [
           {
            "colorbar": {
             "outlinewidth": 0,
             "ticks": ""
            },
            "colorscale": [
             [
              0,
              "#0d0887"
             ],
             [
              0.1111111111111111,
              "#46039f"
             ],
             [
              0.2222222222222222,
              "#7201a8"
             ],
             [
              0.3333333333333333,
              "#9c179e"
             ],
             [
              0.4444444444444444,
              "#bd3786"
             ],
             [
              0.5555555555555556,
              "#d8576b"
             ],
             [
              0.6666666666666666,
              "#ed7953"
             ],
             [
              0.7777777777777778,
              "#fb9f3a"
             ],
             [
              0.8888888888888888,
              "#fdca26"
             ],
             [
              1,
              "#f0f921"
             ]
            ],
            "type": "histogram2dcontour"
           }
          ],
          "mesh3d": [
           {
            "colorbar": {
             "outlinewidth": 0,
             "ticks": ""
            },
            "type": "mesh3d"
           }
          ],
          "parcoords": [
           {
            "line": {
             "colorbar": {
              "outlinewidth": 0,
              "ticks": ""
             }
            },
            "type": "parcoords"
           }
          ],
          "pie": [
           {
            "automargin": true,
            "type": "pie"
           }
          ],
          "scatter": [
           {
            "fillpattern": {
             "fillmode": "overlay",
             "size": 10,
             "solidity": 0.2
            },
            "type": "scatter"
           }
          ],
          "scatter3d": [
           {
            "line": {
             "colorbar": {
              "outlinewidth": 0,
              "ticks": ""
             }
            },
            "marker": {
             "colorbar": {
              "outlinewidth": 0,
              "ticks": ""
             }
            },
            "type": "scatter3d"
           }
          ],
          "scattercarpet": [
           {
            "marker": {
             "colorbar": {
              "outlinewidth": 0,
              "ticks": ""
             }
            },
            "type": "scattercarpet"
           }
          ],
          "scattergeo": [
           {
            "marker": {
             "colorbar": {
              "outlinewidth": 0,
              "ticks": ""
             }
            },
            "type": "scattergeo"
           }
          ],
          "scattergl": [
           {
            "marker": {
             "colorbar": {
              "outlinewidth": 0,
              "ticks": ""
             }
            },
            "type": "scattergl"
           }
          ],
          "scattermapbox": [
           {
            "marker": {
             "colorbar": {
              "outlinewidth": 0,
              "ticks": ""
             }
            },
            "type": "scattermapbox"
           }
          ],
          "scatterpolar": [
           {
            "marker": {
             "colorbar": {
              "outlinewidth": 0,
              "ticks": ""
             }
            },
            "type": "scatterpolar"
           }
          ],
          "scatterpolargl": [
           {
            "marker": {
             "colorbar": {
              "outlinewidth": 0,
              "ticks": ""
             }
            },
            "type": "scatterpolargl"
           }
          ],
          "scatterternary": [
           {
            "marker": {
             "colorbar": {
              "outlinewidth": 0,
              "ticks": ""
             }
            },
            "type": "scatterternary"
           }
          ],
          "surface": [
           {
            "colorbar": {
             "outlinewidth": 0,
             "ticks": ""
            },
            "colorscale": [
             [
              0,
              "#0d0887"
             ],
             [
              0.1111111111111111,
              "#46039f"
             ],
             [
              0.2222222222222222,
              "#7201a8"
             ],
             [
              0.3333333333333333,
              "#9c179e"
             ],
             [
              0.4444444444444444,
              "#bd3786"
             ],
             [
              0.5555555555555556,
              "#d8576b"
             ],
             [
              0.6666666666666666,
              "#ed7953"
             ],
             [
              0.7777777777777778,
              "#fb9f3a"
             ],
             [
              0.8888888888888888,
              "#fdca26"
             ],
             [
              1,
              "#f0f921"
             ]
            ],
            "type": "surface"
           }
          ],
          "table": [
           {
            "cells": {
             "fill": {
              "color": "#EBF0F8"
             },
             "line": {
              "color": "white"
             }
            },
            "header": {
             "fill": {
              "color": "#C8D4E3"
             },
             "line": {
              "color": "white"
             }
            },
            "type": "table"
           }
          ]
         },
         "layout": {
          "annotationdefaults": {
           "arrowcolor": "#2a3f5f",
           "arrowhead": 0,
           "arrowwidth": 1
          },
          "autotypenumbers": "strict",
          "coloraxis": {
           "colorbar": {
            "outlinewidth": 0,
            "ticks": ""
           }
          },
          "colorscale": {
           "diverging": [
            [
             0,
             "#8e0152"
            ],
            [
             0.1,
             "#c51b7d"
            ],
            [
             0.2,
             "#de77ae"
            ],
            [
             0.3,
             "#f1b6da"
            ],
            [
             0.4,
             "#fde0ef"
            ],
            [
             0.5,
             "#f7f7f7"
            ],
            [
             0.6,
             "#e6f5d0"
            ],
            [
             0.7,
             "#b8e186"
            ],
            [
             0.8,
             "#7fbc41"
            ],
            [
             0.9,
             "#4d9221"
            ],
            [
             1,
             "#276419"
            ]
           ],
           "sequential": [
            [
             0,
             "#0d0887"
            ],
            [
             0.1111111111111111,
             "#46039f"
            ],
            [
             0.2222222222222222,
             "#7201a8"
            ],
            [
             0.3333333333333333,
             "#9c179e"
            ],
            [
             0.4444444444444444,
             "#bd3786"
            ],
            [
             0.5555555555555556,
             "#d8576b"
            ],
            [
             0.6666666666666666,
             "#ed7953"
            ],
            [
             0.7777777777777778,
             "#fb9f3a"
            ],
            [
             0.8888888888888888,
             "#fdca26"
            ],
            [
             1,
             "#f0f921"
            ]
           ],
           "sequentialminus": [
            [
             0,
             "#0d0887"
            ],
            [
             0.1111111111111111,
             "#46039f"
            ],
            [
             0.2222222222222222,
             "#7201a8"
            ],
            [
             0.3333333333333333,
             "#9c179e"
            ],
            [
             0.4444444444444444,
             "#bd3786"
            ],
            [
             0.5555555555555556,
             "#d8576b"
            ],
            [
             0.6666666666666666,
             "#ed7953"
            ],
            [
             0.7777777777777778,
             "#fb9f3a"
            ],
            [
             0.8888888888888888,
             "#fdca26"
            ],
            [
             1,
             "#f0f921"
            ]
           ]
          },
          "colorway": [
           "#636efa",
           "#EF553B",
           "#00cc96",
           "#ab63fa",
           "#FFA15A",
           "#19d3f3",
           "#FF6692",
           "#B6E880",
           "#FF97FF",
           "#FECB52"
          ],
          "font": {
           "color": "#2a3f5f"
          },
          "geo": {
           "bgcolor": "white",
           "lakecolor": "white",
           "landcolor": "#E5ECF6",
           "showlakes": true,
           "showland": true,
           "subunitcolor": "white"
          },
          "hoverlabel": {
           "align": "left"
          },
          "hovermode": "closest",
          "mapbox": {
           "style": "light"
          },
          "paper_bgcolor": "white",
          "plot_bgcolor": "#E5ECF6",
          "polar": {
           "angularaxis": {
            "gridcolor": "white",
            "linecolor": "white",
            "ticks": ""
           },
           "bgcolor": "#E5ECF6",
           "radialaxis": {
            "gridcolor": "white",
            "linecolor": "white",
            "ticks": ""
           }
          },
          "scene": {
           "xaxis": {
            "backgroundcolor": "#E5ECF6",
            "gridcolor": "white",
            "gridwidth": 2,
            "linecolor": "white",
            "showbackground": true,
            "ticks": "",
            "zerolinecolor": "white"
           },
           "yaxis": {
            "backgroundcolor": "#E5ECF6",
            "gridcolor": "white",
            "gridwidth": 2,
            "linecolor": "white",
            "showbackground": true,
            "ticks": "",
            "zerolinecolor": "white"
           },
           "zaxis": {
            "backgroundcolor": "#E5ECF6",
            "gridcolor": "white",
            "gridwidth": 2,
            "linecolor": "white",
            "showbackground": true,
            "ticks": "",
            "zerolinecolor": "white"
           }
          },
          "shapedefaults": {
           "line": {
            "color": "#2a3f5f"
           }
          },
          "ternary": {
           "aaxis": {
            "gridcolor": "white",
            "linecolor": "white",
            "ticks": ""
           },
           "baxis": {
            "gridcolor": "white",
            "linecolor": "white",
            "ticks": ""
           },
           "bgcolor": "#E5ECF6",
           "caxis": {
            "gridcolor": "white",
            "linecolor": "white",
            "ticks": ""
           }
          },
          "title": {
           "x": 0.05
          },
          "xaxis": {
           "automargin": true,
           "gridcolor": "white",
           "linecolor": "white",
           "ticks": "",
           "title": {
            "standoff": 15
           },
           "zerolinecolor": "white",
           "zerolinewidth": 2
          },
          "yaxis": {
           "automargin": true,
           "gridcolor": "white",
           "linecolor": "white",
           "ticks": "",
           "title": {
            "standoff": 15
           },
           "zerolinecolor": "white",
           "zerolinewidth": 2
          }
         }
        },
        "title": {
         "text": "Public Trust vs Events Per Capita vs GDP"
        },
        "width": 1000
       }
      }
     },
     "metadata": {},
     "output_type": "display_data"
    }
   ],
   "source": [
    "import plotly.express as px\n",
    "fig = px.scatter_3d(combined_data, x='public_trust_percentage', y='gdp_per_capita', z='events_per_capita', color='country', title='Public Trust vs Events Per Capita vs GDP', height=500, width=1000)\n",
    "fig.show()"
   ]
  }
 ],
 "metadata": {
  "kernelspec": {
   "display_name": "Python 3 (ipykernel)",
   "language": "python",
   "name": "python3"
  },
  "language_info": {
   "codemirror_mode": {
    "name": "ipython",
    "version": 3
   },
   "file_extension": ".py",
   "mimetype": "text/x-python",
   "name": "python",
   "nbconvert_exporter": "python",
   "pygments_lexer": "ipython3",
   "version": "3.11.9"
  }
 },
 "nbformat": 4,
 "nbformat_minor": 5
}
