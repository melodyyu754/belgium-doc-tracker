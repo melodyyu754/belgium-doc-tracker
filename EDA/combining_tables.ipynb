{
 "cells": [
  {
   "cell_type": "code",
   "execution_count": 4,
   "metadata": {},
   "outputs": [],
   "source": [
    "import pandas as pd\n",
    "import requests"
   ]
  },
  {
   "cell_type": "code",
   "execution_count": 5,
   "metadata": {},
   "outputs": [
    {
     "data": {
      "text/html": [
       "<div>\n",
       "<style scoped>\n",
       "    .dataframe tbody tr th:only-of-type {\n",
       "        vertical-align: middle;\n",
       "    }\n",
       "\n",
       "    .dataframe tbody tr th {\n",
       "        vertical-align: top;\n",
       "    }\n",
       "\n",
       "    .dataframe thead th {\n",
       "        text-align: right;\n",
       "    }\n",
       "</style>\n",
       "<table border=\"1\" class=\"dataframe\">\n",
       "  <thead>\n",
       "    <tr style=\"text-align: right;\">\n",
       "      <th></th>\n",
       "      <th>year</th>\n",
       "      <th>country</th>\n",
       "      <th>counts</th>\n",
       "      <th>population</th>\n",
       "      <th>events_per_capita</th>\n",
       "      <th>gdp_per_capita</th>\n",
       "      <th>public_trust_percentage</th>\n",
       "    </tr>\n",
       "  </thead>\n",
       "  <tbody>\n",
       "    <tr>\n",
       "      <th>0</th>\n",
       "      <td>2021</td>\n",
       "      <td>Australia</td>\n",
       "      <td>681</td>\n",
       "      <td>25685412</td>\n",
       "      <td>2.651310</td>\n",
       "      <td>60697.245436</td>\n",
       "      <td>51.9</td>\n",
       "    </tr>\n",
       "    <tr>\n",
       "      <th>1</th>\n",
       "      <td>2022</td>\n",
       "      <td>Australia</td>\n",
       "      <td>794</td>\n",
       "      <td>26005540</td>\n",
       "      <td>3.053196</td>\n",
       "      <td>65099.845912</td>\n",
       "      <td>49.9</td>\n",
       "    </tr>\n",
       "    <tr>\n",
       "      <th>2</th>\n",
       "      <td>2020</td>\n",
       "      <td>Belgium</td>\n",
       "      <td>784</td>\n",
       "      <td>11538604</td>\n",
       "      <td>6.794583</td>\n",
       "      <td>45609.003494</td>\n",
       "      <td>29.5</td>\n",
       "    </tr>\n",
       "    <tr>\n",
       "      <th>3</th>\n",
       "      <td>2021</td>\n",
       "      <td>Belgium</td>\n",
       "      <td>833</td>\n",
       "      <td>11586195</td>\n",
       "      <td>7.189591</td>\n",
       "      <td>51850.397184</td>\n",
       "      <td>47.3</td>\n",
       "    </tr>\n",
       "    <tr>\n",
       "      <th>4</th>\n",
       "      <td>2022</td>\n",
       "      <td>Belgium</td>\n",
       "      <td>523</td>\n",
       "      <td>11685814</td>\n",
       "      <td>4.475512</td>\n",
       "      <td>49926.825430</td>\n",
       "      <td>57.2</td>\n",
       "    </tr>\n",
       "    <tr>\n",
       "      <th>5</th>\n",
       "      <td>2020</td>\n",
       "      <td>France</td>\n",
       "      <td>5165</td>\n",
       "      <td>67571107</td>\n",
       "      <td>7.643800</td>\n",
       "      <td>39179.744260</td>\n",
       "      <td>41.0</td>\n",
       "    </tr>\n",
       "    <tr>\n",
       "      <th>6</th>\n",
       "      <td>2021</td>\n",
       "      <td>France</td>\n",
       "      <td>8356</td>\n",
       "      <td>67764304</td>\n",
       "      <td>12.330976</td>\n",
       "      <td>43671.308410</td>\n",
       "      <td>43.4</td>\n",
       "    </tr>\n",
       "    <tr>\n",
       "      <th>7</th>\n",
       "      <td>2022</td>\n",
       "      <td>France</td>\n",
       "      <td>6421</td>\n",
       "      <td>67971311</td>\n",
       "      <td>9.446633</td>\n",
       "      <td>40886.253268</td>\n",
       "      <td>43.4</td>\n",
       "    </tr>\n",
       "    <tr>\n",
       "      <th>8</th>\n",
       "      <td>2020</td>\n",
       "      <td>Germany</td>\n",
       "      <td>4292</td>\n",
       "      <td>83160871</td>\n",
       "      <td>5.161081</td>\n",
       "      <td>46749.476228</td>\n",
       "      <td>65.4</td>\n",
       "    </tr>\n",
       "    <tr>\n",
       "      <th>9</th>\n",
       "      <td>2021</td>\n",
       "      <td>Germany</td>\n",
       "      <td>4215</td>\n",
       "      <td>83196078</td>\n",
       "      <td>5.066345</td>\n",
       "      <td>51426.750365</td>\n",
       "      <td>60.5</td>\n",
       "    </tr>\n",
       "    <tr>\n",
       "      <th>10</th>\n",
       "      <td>2022</td>\n",
       "      <td>Germany</td>\n",
       "      <td>4770</td>\n",
       "      <td>83797985</td>\n",
       "      <td>5.692261</td>\n",
       "      <td>48717.991140</td>\n",
       "      <td>60.8</td>\n",
       "    </tr>\n",
       "    <tr>\n",
       "      <th>11</th>\n",
       "      <td>2020</td>\n",
       "      <td>Italy</td>\n",
       "      <td>5488</td>\n",
       "      <td>59438851</td>\n",
       "      <td>9.233018</td>\n",
       "      <td>31922.919163</td>\n",
       "      <td>37.5</td>\n",
       "    </tr>\n",
       "    <tr>\n",
       "      <th>12</th>\n",
       "      <td>2021</td>\n",
       "      <td>Italy</td>\n",
       "      <td>7367</td>\n",
       "      <td>59133173</td>\n",
       "      <td>12.458320</td>\n",
       "      <td>36449.258338</td>\n",
       "      <td>35.4</td>\n",
       "    </tr>\n",
       "    <tr>\n",
       "      <th>13</th>\n",
       "      <td>2022</td>\n",
       "      <td>Italy</td>\n",
       "      <td>4594</td>\n",
       "      <td>58940425</td>\n",
       "      <td>7.794311</td>\n",
       "      <td>34776.423234</td>\n",
       "      <td>35.4</td>\n",
       "    </tr>\n",
       "    <tr>\n",
       "      <th>14</th>\n",
       "      <td>2020</td>\n",
       "      <td>Spain</td>\n",
       "      <td>3348</td>\n",
       "      <td>47365655</td>\n",
       "      <td>7.068413</td>\n",
       "      <td>26984.296277</td>\n",
       "      <td>38.2</td>\n",
       "    </tr>\n",
       "    <tr>\n",
       "      <th>15</th>\n",
       "      <td>2021</td>\n",
       "      <td>Spain</td>\n",
       "      <td>4405</td>\n",
       "      <td>47415794</td>\n",
       "      <td>9.290153</td>\n",
       "      <td>30488.820953</td>\n",
       "      <td>37.2</td>\n",
       "    </tr>\n",
       "    <tr>\n",
       "      <th>16</th>\n",
       "      <td>2022</td>\n",
       "      <td>Spain</td>\n",
       "      <td>3816</td>\n",
       "      <td>47778340</td>\n",
       "      <td>7.986883</td>\n",
       "      <td>29674.544286</td>\n",
       "      <td>37.2</td>\n",
       "    </tr>\n",
       "    <tr>\n",
       "      <th>17</th>\n",
       "      <td>2020</td>\n",
       "      <td>United Kingdom</td>\n",
       "      <td>2196</td>\n",
       "      <td>67081234</td>\n",
       "      <td>3.273643</td>\n",
       "      <td>40217.009012</td>\n",
       "      <td>34.7</td>\n",
       "    </tr>\n",
       "    <tr>\n",
       "      <th>18</th>\n",
       "      <td>2021</td>\n",
       "      <td>United Kingdom</td>\n",
       "      <td>1585</td>\n",
       "      <td>67026292</td>\n",
       "      <td>2.364744</td>\n",
       "      <td>46869.759058</td>\n",
       "      <td>39.5</td>\n",
       "    </tr>\n",
       "    <tr>\n",
       "      <th>19</th>\n",
       "      <td>2022</td>\n",
       "      <td>United Kingdom</td>\n",
       "      <td>1745</td>\n",
       "      <td>66971395</td>\n",
       "      <td>2.605590</td>\n",
       "      <td>46125.255751</td>\n",
       "      <td>39.5</td>\n",
       "    </tr>\n",
       "    <tr>\n",
       "      <th>20</th>\n",
       "      <td>2020</td>\n",
       "      <td>United States</td>\n",
       "      <td>21585</td>\n",
       "      <td>331511512</td>\n",
       "      <td>6.511086</td>\n",
       "      <td>63528.634303</td>\n",
       "      <td>46.5</td>\n",
       "    </tr>\n",
       "    <tr>\n",
       "      <th>21</th>\n",
       "      <td>2021</td>\n",
       "      <td>United States</td>\n",
       "      <td>13147</td>\n",
       "      <td>332031554</td>\n",
       "      <td>3.959563</td>\n",
       "      <td>70219.472454</td>\n",
       "      <td>40.5</td>\n",
       "    </tr>\n",
       "    <tr>\n",
       "      <th>22</th>\n",
       "      <td>2022</td>\n",
       "      <td>United States</td>\n",
       "      <td>12183</td>\n",
       "      <td>333287557</td>\n",
       "      <td>3.655402</td>\n",
       "      <td>76329.582265</td>\n",
       "      <td>31.0</td>\n",
       "    </tr>\n",
       "  </tbody>\n",
       "</table>\n",
       "</div>"
      ],
      "text/plain": [
       "    year         country  counts  population  events_per_capita  \\\n",
       "0   2021       Australia     681    25685412           2.651310   \n",
       "1   2022       Australia     794    26005540           3.053196   \n",
       "2   2020         Belgium     784    11538604           6.794583   \n",
       "3   2021         Belgium     833    11586195           7.189591   \n",
       "4   2022         Belgium     523    11685814           4.475512   \n",
       "5   2020          France    5165    67571107           7.643800   \n",
       "6   2021          France    8356    67764304          12.330976   \n",
       "7   2022          France    6421    67971311           9.446633   \n",
       "8   2020         Germany    4292    83160871           5.161081   \n",
       "9   2021         Germany    4215    83196078           5.066345   \n",
       "10  2022         Germany    4770    83797985           5.692261   \n",
       "11  2020           Italy    5488    59438851           9.233018   \n",
       "12  2021           Italy    7367    59133173          12.458320   \n",
       "13  2022           Italy    4594    58940425           7.794311   \n",
       "14  2020           Spain    3348    47365655           7.068413   \n",
       "15  2021           Spain    4405    47415794           9.290153   \n",
       "16  2022           Spain    3816    47778340           7.986883   \n",
       "17  2020  United Kingdom    2196    67081234           3.273643   \n",
       "18  2021  United Kingdom    1585    67026292           2.364744   \n",
       "19  2022  United Kingdom    1745    66971395           2.605590   \n",
       "20  2020   United States   21585   331511512           6.511086   \n",
       "21  2021   United States   13147   332031554           3.959563   \n",
       "22  2022   United States   12183   333287557           3.655402   \n",
       "\n",
       "    gdp_per_capita  public_trust_percentage  \n",
       "0     60697.245436                     51.9  \n",
       "1     65099.845912                     49.9  \n",
       "2     45609.003494                     29.5  \n",
       "3     51850.397184                     47.3  \n",
       "4     49926.825430                     57.2  \n",
       "5     39179.744260                     41.0  \n",
       "6     43671.308410                     43.4  \n",
       "7     40886.253268                     43.4  \n",
       "8     46749.476228                     65.4  \n",
       "9     51426.750365                     60.5  \n",
       "10    48717.991140                     60.8  \n",
       "11    31922.919163                     37.5  \n",
       "12    36449.258338                     35.4  \n",
       "13    34776.423234                     35.4  \n",
       "14    26984.296277                     38.2  \n",
       "15    30488.820953                     37.2  \n",
       "16    29674.544286                     37.2  \n",
       "17    40217.009012                     34.7  \n",
       "18    46869.759058                     39.5  \n",
       "19    46125.255751                     39.5  \n",
       "20    63528.634303                     46.5  \n",
       "21    70219.472454                     40.5  \n",
       "22    76329.582265                     31.0  "
      ]
     },
     "execution_count": 5,
     "metadata": {},
     "output_type": "execute_result"
    }
   ],
   "source": [
    "gov_trust_df = pd.read_csv('gov_trust.csv')\n",
    "current_combined_df = pd.read_csv('combined_present.csv')\n",
    "current_combined_df.rename(columns={\"event_date\": \"year\"}, inplace=True)\n",
    "combined_data = pd.merge(current_combined_df, gov_trust_df, on=['country', 'year'])\n",
    "combined_data"
   ]
  },
  {
   "cell_type": "code",
   "execution_count": 6,
   "metadata": {},
   "outputs": [
    {
     "data": {
      "image/png": "[encoded data removed]",
      "text/plain": [
       "<Figure size 640x480 with 1 Axes>"
      ]
     },
     "metadata": {},
     "output_type": "display_data"
    }
   ],
   "source": [
    "# creates a scatter plot of the number of events per capita and the gdp per capita\n",
    "# each point should represent a country in a given year, and different countries should be different colors\n",
    "import matplotlib.pyplot as plt\n",
    "\n",
    "colors = {\n",
    "    'Belgium': 'red',\n",
    "    'France': 'blue',\n",
    "    'Germany': 'green',\n",
    "    'Italy': 'purple',\n",
    "    'Spain': 'orange',\n",
    "    'United States': 'black',\n",
    "    'United Kingdom': 'pink',\n",
    "    'Australia': 'brown'\n",
    "}\n",
    "# perhaps make a legend, colors wont be enough without labels\n",
    "plt.scatter(combined_data['public_trust_percentage'], combined_data['events_per_capita'], c=combined_data['country'].apply(lambda x: colors[x]))\n",
    "plt.xlabel('Public Trust of Their Government (% out of 100)')\n",
    "plt.ylabel('Events per Capita')\n",
    "plt.title('Public Trust vs Events Per Capita')\n",
    "# plt.legend(title=\"Country\")\n",
    "plt.show()"
   ]
  },
  {
   "cell_type": "code",
   "execution_count": 27,
   "metadata": {},
   "outputs": [
    {
     "data": {
      "application/vnd.plotly.v1+json": {
       "config": {
        "plotlyServerURL": "https://plot.ly"
       },
       "data": [
        {
         "hovertemplate": "country=Australia<br>Year=%{x}<br>Public Trust of Their Government (% out of 100)=%{y}<extra></extra>",
         "legendgroup": "Australia",
         "marker": {
          "color": "brown",
          "symbol": "circle"
         },
         "mode": "markers",
         "name": "Australia",
         "orientation": "v",
         "showlegend": true,
         "type": "scatter",
         "x": [
          2006,
          2007,
          2008,
          2009,
          2010,
          2011,
          2012,
          2013,
          2014,
          2015,
          2016,
          2017,
          2018,
          2019,
          2020,
          2021,
          2022
         ],
         "xaxis": "x",
         "y": [
          53.2,
          52.7,
          64.5,
          62.75,
          61,
          53.1,
          42,
          45.6,
          46.5,
          47.9,
          45.3,
          45.3,
          46.9,
          46.9,
          44.6,
          51.9,
          49.9
         ],
         "yaxis": "y"
        },
        {
         "hovertemplate": "country=Austria<br>Year=%{x}<br>Public Trust of Their Government (% out of 100)=%{y}<extra></extra>",
         "legendgroup": "Austria",
         "marker": {
          "color": "mediumturquoise",
          "symbol": "circle"
         },
         "mode": "markers",
         "name": "Austria",
         "orientation": "v",
         "showlegend": true,
         "type": "scatter",
         "x": [
          2006,
          2007,
          2008,
          2009,
          2010,
          2011,
          2012,
          2013,
          2014,
          2015,
          2016,
          2017,
          2018,
          2019,
          2020,
          2021,
          2022
         ],
         "xaxis": "x",
         "y": [
          49.7,
          37.7,
          25.7,
          48.1,
          49.2,
          40.7,
          37.7,
          41.7,
          40.8,
          45.5,
          43.3,
          43.6,
          48.9,
          51.2,
          62.6,
          61,
          61
         ],
         "yaxis": "y"
        },
        {
         "hovertemplate": "country=Belgium<br>Year=%{x}<br>Public Trust of Their Government (% out of 100)=%{y}<extra></extra>",
         "legendgroup": "Belgium",
         "marker": {
          "color": "red",
          "symbol": "circle"
         },
         "mode": "markers",
         "name": "Belgium",
         "orientation": "v",
         "showlegend": true,
         "type": "scatter",
         "x": [
          2006,
          2007,
          2008,
          2009,
          2010,
          2011,
          2012,
          2013,
          2014,
          2015,
          2016,
          2017,
          2018,
          2019,
          2020,
          2021,
          2022
         ],
         "xaxis": "x",
         "y": [
          55.2,
          60.2,
          46.3,
          40,
          33.7,
          28.9,
          44,
          55.4,
          46.9,
          45.9,
          41.9,
          45,
          44.2,
          32.8,
          29.5,
          47.3,
          57.2
         ],
         "yaxis": "y"
        },
        {
         "hovertemplate": "country=Brazil<br>Year=%{x}<br>Public Trust of Their Government (% out of 100)=%{y}<extra></extra>",
         "legendgroup": "Brazil",
         "marker": {
          "color": "magenta",
          "symbol": "circle"
         },
         "mode": "markers",
         "name": "Brazil",
         "orientation": "v",
         "showlegend": true,
         "type": "scatter",
         "x": [
          2006,
          2007,
          2008,
          2009,
          2010,
          2011,
          2012,
          2013,
          2014,
          2015,
          2016,
          2017,
          2018,
          2019,
          2020,
          2021,
          2022
         ],
         "xaxis": "x",
         "y": [
          34.1,
          38.3,
          51.1,
          42.7,
          51.1,
          50.3,
          45.6,
          33.4,
          35.5,
          19.9,
          26.4,
          16.5,
          16.8,
          34.1,
          36.2,
          32.7,
          39.2
         ],
         "yaxis": "y"
        },
        {
         "hovertemplate": "country=Canada<br>Year=%{x}<br>Public Trust of Their Government (% out of 100)=%{y}<extra></extra>",
         "legendgroup": "Canada",
         "marker": {
          "color": "salmon",
          "symbol": "circle"
         },
         "mode": "markers",
         "name": "Canada",
         "orientation": "v",
         "showlegend": true,
         "type": "scatter",
         "x": [
          2006,
          2007,
          2008,
          2009,
          2010,
          2011,
          2012,
          2013,
          2014,
          2015,
          2016,
          2017,
          2018,
          2019,
          2020,
          2021,
          2022
         ],
         "xaxis": "x",
         "y": [
          44.3,
          63.8,
          59,
          60.8,
          55.1,
          55.3,
          52.3,
          50.6,
          51.7,
          64.4,
          61.8,
          65.3,
          61,
          54.9,
          60,
          61,
          50.7
         ],
         "yaxis": "y"
        },
        {
         "hovertemplate": "country=Chile<br>Year=%{x}<br>Public Trust of Their Government (% out of 100)=%{y}<extra></extra>",
         "legendgroup": "Chile",
         "marker": {
          "color": "violet",
          "symbol": "circle"
         },
         "mode": "markers",
         "name": "Chile",
         "orientation": "v",
         "showlegend": true,
         "type": "scatter",
         "x": [
          2006,
          2007,
          2008,
          2009,
          2010,
          2011,
          2012,
          2013,
          2014,
          2015,
          2016,
          2017,
          2018,
          2019,
          2020,
          2021,
          2022
         ],
         "xaxis": "x",
         "y": [
          58.1,
          42.6,
          40.5,
          57.5,
          47.9,
          32.3,
          34.3,
          30.7,
          40,
          30,
          20.4,
          26.8,
          33.5,
          15.3,
          17.1,
          23.2,
          28.7
         ],
         "yaxis": "y"
        },
        {
         "hovertemplate": "country=Colombia<br>Year=%{x}<br>Public Trust of Their Government (% out of 100)=%{y}<extra></extra>",
         "legendgroup": "Colombia",
         "marker": {
          "color": "chocolate",
          "symbol": "circle"
         },
         "mode": "markers",
         "name": "Colombia",
         "orientation": "v",
         "showlegend": true,
         "type": "scatter",
         "x": [
          2006,
          2007,
          2008,
          2009,
          2010,
          2011,
          2012,
          2013,
          2014,
          2015,
          2016,
          2017,
          2018,
          2019,
          2020,
          2021,
          2022
         ],
         "xaxis": "x",
         "y": [
          48.1,
          51.2,
          63.5,
          44,
          55.2,
          44.6,
          35.7,
          29.3,
          29.8,
          27.2,
          26.1,
          22.2,
          27.5,
          32.8,
          37.4,
          28.9,
          29.7
         ],
         "yaxis": "y"
        },
        {
         "hovertemplate": "country=Costa Rica<br>Year=%{x}<br>Public Trust of Their Government (% out of 100)=%{y}<extra></extra>",
         "legendgroup": "Costa Rica",
         "marker": {
          "color": "chocolate",
          "symbol": "circle"
         },
         "mode": "markers",
         "name": "Costa Rica",
         "orientation": "v",
         "showlegend": true,
         "type": "scatter",
         "x": [
          2006,
          2007,
          2008,
          2009,
          2010,
          2011,
          2012,
          2013,
          2014,
          2015,
          2016,
          2017,
          2018,
          2019,
          2020,
          2021,
          2022
         ],
         "xaxis": "x",
         "y": [
          37.9,
          44.6,
          36.1,
          52.1,
          53.3,
          32.3,
          28,
          26.2,
          40.4,
          26.1,
          27.9,
          40.7,
          48,
          28.3,
          29.8,
          31.5,
          60
         ],
         "yaxis": "y"
        },
        {
         "hovertemplate": "country=Czechia<br>Year=%{x}<br>Public Trust of Their Government (% out of 100)=%{y}<extra></extra>",
         "legendgroup": "Czechia",
         "marker": {
          "color": "thistle",
          "symbol": "circle"
         },
         "mode": "markers",
         "name": "Czechia",
         "orientation": "v",
         "showlegend": true,
         "type": "scatter",
         "x": [
          2006,
          2007,
          2008,
          2009,
          2010,
          2011,
          2012,
          2013,
          2014,
          2015,
          2016,
          2017,
          2018,
          2019,
          2020,
          2021,
          2022
         ],
         "xaxis": "x",
         "y": [
          28.3,
          26.9,
          31.2,
          35.5,
          31.2,
          20.6,
          17,
          24.3,
          34,
          43.5,
          41.5,
          34.4,
          42.1,
          37,
          31.9,
          28.4,
          34.1
         ],
         "yaxis": "y"
        },
        {
         "hovertemplate": "country=Denmark<br>Year=%{x}<br>Public Trust of Their Government (% out of 100)=%{y}<extra></extra>",
         "legendgroup": "Denmark",
         "marker": {
          "color": "navy",
          "symbol": "circle"
         },
         "mode": "markers",
         "name": "Denmark",
         "orientation": "v",
         "showlegend": true,
         "type": "scatter",
         "x": [
          2006,
          2007,
          2008,
          2009,
          2010,
          2011,
          2012,
          2013,
          2014,
          2015,
          2016,
          2017,
          2018,
          2019,
          2020,
          2021,
          2022
         ],
         "xaxis": "x",
         "y": [
          66.9,
          59.3,
          66.6,
          62.7,
          58.7,
          47.2,
          53.4,
          39.1,
          45.8,
          58,
          46.8,
          57.2,
          63.2,
          63.3,
          71.6,
          65.2,
          63.5
         ],
         "yaxis": "y"
        },
        {
         "hovertemplate": "country=Estonia<br>Year=%{x}<br>Public Trust of Their Government (% out of 100)=%{y}<extra></extra>",
         "legendgroup": "Estonia",
         "marker": {
          "color": "indigo",
          "symbol": "circle"
         },
         "mode": "markers",
         "name": "Estonia",
         "orientation": "v",
         "showlegend": true,
         "type": "scatter",
         "x": [
          2006,
          2007,
          2008,
          2009,
          2010,
          2011,
          2012,
          2013,
          2014,
          2015,
          2016,
          2017,
          2018,
          2019,
          2020,
          2021,
          2022
         ],
         "xaxis": "x",
         "y": [
          44.2,
          42,
          33.1,
          22.4,
          32.099999999999994,
          41.8,
          27.3,
          26.1,
          41.5,
          33.7,
          34,
          40.6,
          42,
          40.3,
          46.5,
          51.9,
          50.8
         ],
         "yaxis": "y"
        },
        {
         "hovertemplate": "country=Finland<br>Year=%{x}<br>Public Trust of Their Government (% out of 100)=%{y}<extra></extra>",
         "legendgroup": "Finland",
         "marker": {
          "color": "mediumseagreen",
          "symbol": "circle"
         },
         "mode": "markers",
         "name": "Finland",
         "orientation": "v",
         "showlegend": true,
         "type": "scatter",
         "x": [
          2006,
          2007,
          2008,
          2009,
          2010,
          2011,
          2012,
          2013,
          2014,
          2015,
          2016,
          2017,
          2018,
          2019,
          2020,
          2021,
          2022
         ],
         "xaxis": "x",
         "y": [
          75.8,
          74.05,
          72.3,
          59.25,
          46.2,
          56.5,
          59.8,
          42.1,
          46.9,
          55.8,
          48.6,
          59.8,
          55.5,
          63.9,
          80.9,
          71.4,
          77.5
         ],
         "yaxis": "y"
        },
        {
         "hovertemplate": "country=France<br>Year=%{x}<br>Public Trust of Their Government (% out of 100)=%{y}<extra></extra>",
         "legendgroup": "France",
         "marker": {
          "color": "blue",
          "symbol": "circle"
         },
         "mode": "markers",
         "name": "France",
         "orientation": "v",
         "showlegend": true,
         "type": "scatter",
         "x": [
          2006,
          2007,
          2008,
          2009,
          2010,
          2011,
          2012,
          2013,
          2014,
          2015,
          2016,
          2017,
          2018,
          2019,
          2020,
          2021,
          2022
         ],
         "xaxis": "x",
         "y": [
          32.5,
          36.1,
          45.3,
          47.4,
          40.1,
          37.5,
          44.1,
          39.5,
          26.4,
          32.8,
          28.4,
          37.5,
          38.1,
          38.2,
          41,
          43.4,
          43.4
         ],
         "yaxis": "y"
        },
        {
         "hovertemplate": "country=Germany<br>Year=%{x}<br>Public Trust of Their Government (% out of 100)=%{y}<extra></extra>",
         "legendgroup": "Germany",
         "marker": {
          "color": "green",
          "symbol": "circle"
         },
         "mode": "markers",
         "name": "Germany",
         "orientation": "v",
         "showlegend": true,
         "type": "scatter",
         "x": [
          2006,
          2007,
          2008,
          2009,
          2010,
          2011,
          2012,
          2013,
          2014,
          2015,
          2016,
          2017,
          2018,
          2019,
          2020,
          2021,
          2022
         ],
         "xaxis": "x",
         "y": [
          32.2,
          35,
          43.2,
          53.3,
          39.5,
          42.5,
          51.7,
          55.8,
          60.1,
          62.8,
          55.3,
          62.3,
          59.3,
          56.8,
          65.4,
          60.5,
          60.8
         ],
         "yaxis": "y"
        },
        {
         "hovertemplate": "country=Greece<br>Year=%{x}<br>Public Trust of Their Government (% out of 100)=%{y}<extra></extra>",
         "legendgroup": "Greece",
         "marker": {
          "color": "cyan",
          "symbol": "circle"
         },
         "mode": "markers",
         "name": "Greece",
         "orientation": "v",
         "showlegend": true,
         "type": "scatter",
         "x": [
          2006,
          2007,
          2008,
          2009,
          2010,
          2011,
          2012,
          2013,
          2014,
          2015,
          2016,
          2017,
          2018,
          2019,
          2020,
          2021,
          2022
         ],
         "xaxis": "x",
         "y": [
          48.8,
          38.1,
          34.85,
          31.6,
          23.7,
          17.5,
          12.6,
          14.4,
          18.8,
          43.7,
          13.2,
          14,
          15.7,
          39.6,
          39.7,
          40.2,
          25.6
         ],
         "yaxis": "y"
        },
        {
         "hovertemplate": "country=Hungary<br>Year=%{x}<br>Public Trust of Their Government (% out of 100)=%{y}<extra></extra>",
         "legendgroup": "Hungary",
         "marker": {
          "color": "sandybrown",
          "symbol": "circle"
         },
         "mode": "markers",
         "name": "Hungary",
         "orientation": "v",
         "showlegend": true,
         "type": "scatter",
         "x": [
          2006,
          2007,
          2008,
          2009,
          2010,
          2011,
          2012,
          2013,
          2014,
          2015,
          2016,
          2017,
          2018,
          2019,
          2020,
          2021,
          2022
         ],
         "xaxis": "x",
         "y": [
          36.1,
          25,
          20,
          22.6,
          25.2,
          36,
          21,
          32.8,
          30.8,
          27.9,
          30.4,
          37.8,
          38.8,
          48.4,
          42.9,
          41.7,
          44.2
         ],
         "yaxis": "y"
        },
        {
         "hovertemplate": "country=Iceland<br>Year=%{x}<br>Public Trust of Their Government (% out of 100)=%{y}<extra></extra>",
         "legendgroup": "Iceland",
         "marker": {
          "color": "ivory",
          "symbol": "circle"
         },
         "mode": "markers",
         "name": "Iceland",
         "orientation": "v",
         "showlegend": true,
         "type": "scatter",
         "x": [
          2006,
          2007,
          2008,
          2009,
          2010,
          2011,
          2012,
          2013,
          2014,
          2015,
          2016,
          2017,
          2018,
          2019,
          2020,
          2021,
          2022
         ],
         "xaxis": "x",
         "y": [
          23.8,
          23.8,
          23.8,
          24.75,
          25.225,
          25.4625,
          25.7,
          45.7,
          44.2,
          42.7,
          36.4,
          36.5,
          44.3,
          52.1,
          59.2,
          63.4,
          51.5
         ],
         "yaxis": "y"
        },
        {
         "hovertemplate": "country=Ireland<br>Year=%{x}<br>Public Trust of Their Government (% out of 100)=%{y}<extra></extra>",
         "legendgroup": "Ireland",
         "marker": {
          "color": "turquoise",
          "symbol": "circle"
         },
         "mode": "markers",
         "name": "Ireland",
         "orientation": "v",
         "showlegend": true,
         "type": "scatter",
         "x": [
          2006,
          2007,
          2008,
          2009,
          2010,
          2011,
          2012,
          2013,
          2014,
          2015,
          2016,
          2017,
          2018,
          2019,
          2020,
          2021,
          2022
         ],
         "xaxis": "x",
         "y": [
          63.3,
          57.349999999999994,
          51.4,
          29.3,
          33.3,
          52.9,
          34.6,
          28.5,
          46,
          57.2,
          57.5,
          60.4,
          61.8,
          58.1,
          58.8,
          62.3,
          62.3
         ],
         "yaxis": "y"
        },
        {
         "hovertemplate": "country=Israel<br>Year=%{x}<br>Public Trust of Their Government (% out of 100)=%{y}<extra></extra>",
         "legendgroup": "Israel",
         "marker": {
          "color": "lavender",
          "symbol": "circle"
         },
         "mode": "markers",
         "name": "Israel",
         "orientation": "v",
         "showlegend": true,
         "type": "scatter",
         "x": [
          2006,
          2007,
          2008,
          2009,
          2010,
          2011,
          2012,
          2013,
          2014,
          2015,
          2016,
          2017,
          2018,
          2019,
          2020,
          2021,
          2022
         ],
         "xaxis": "x",
         "y": [
          34.2,
          21.8,
          18.4,
          40.4,
          44.9,
          27.1,
          34.4,
          45.1,
          44.4,
          40.5,
          43.8,
          38.9,
          42.2,
          49.6,
          38.9,
          44,
          44
         ],
         "yaxis": "y"
        },
        {
         "hovertemplate": "country=Italy<br>Year=%{x}<br>Public Trust of Their Government (% out of 100)=%{y}<extra></extra>",
         "legendgroup": "Italy",
         "marker": {
          "color": "purple",
          "symbol": "circle"
         },
         "mode": "markers",
         "name": "Italy",
         "orientation": "v",
         "showlegend": true,
         "type": "scatter",
         "x": [
          2006,
          2007,
          2008,
          2009,
          2010,
          2011,
          2012,
          2013,
          2014,
          2015,
          2016,
          2017,
          2018,
          2019,
          2020,
          2021,
          2022
         ],
         "xaxis": "x",
         "y": [
          23.9,
          30.3,
          36.3,
          40,
          33.4,
          26,
          28.1,
          14.6,
          30.9,
          26.1,
          23.8,
          23,
          20.7,
          22.2,
          37.5,
          35.4,
          35.4
         ],
         "yaxis": "y"
        },
        {
         "hovertemplate": "country=Japan<br>Year=%{x}<br>Public Trust of Their Government (% out of 100)=%{y}<extra></extra>",
         "legendgroup": "Japan",
         "marker": {
          "color": "slateblue",
          "symbol": "circle"
         },
         "mode": "markers",
         "name": "Japan",
         "orientation": "v",
         "showlegend": true,
         "type": "scatter",
         "x": [
          2006,
          2007,
          2008,
          2009,
          2010,
          2011,
          2012,
          2013,
          2014,
          2015,
          2016,
          2017,
          2018,
          2019,
          2020,
          2021,
          2022
         ],
         "xaxis": "x",
         "y": [
          35,
          24,
          22.1,
          25.2,
          27,
          23.1,
          16.9,
          35.8,
          38,
          35.3,
          36.2,
          41.2,
          38.5,
          41.1,
          42.3,
          29.1,
          43.1
         ],
         "yaxis": "y"
        },
        {
         "hovertemplate": "country=Korea<br>Year=%{x}<br>Public Trust of Their Government (% out of 100)=%{y}<extra></extra>",
         "legendgroup": "Korea",
         "marker": {
          "color": "khaki",
          "symbol": "circle"
         },
         "mode": "markers",
         "name": "Korea",
         "orientation": "v",
         "showlegend": true,
         "type": "scatter",
         "x": [
          2006,
          2007,
          2008,
          2009,
          2010,
          2011,
          2012,
          2013,
          2014,
          2015,
          2016,
          2017,
          2018,
          2019,
          2020,
          2021,
          2022
         ],
         "xaxis": "x",
         "y": [
          22.6,
          23.9,
          27.3,
          27,
          32.4,
          28.3,
          23.1,
          34.9,
          28.4,
          26.5,
          23.7,
          35.9,
          38.9,
          37.7,
          44.8,
          43.4,
          43.4
         ],
         "yaxis": "y"
        },
        {
         "hovertemplate": "country=Latvia<br>Year=%{x}<br>Public Trust of Their Government (% out of 100)=%{y}<extra></extra>",
         "legendgroup": "Latvia",
         "marker": {
          "color": "azure",
          "symbol": "circle"
         },
         "mode": "markers",
         "name": "Latvia",
         "orientation": "v",
         "showlegend": true,
         "type": "scatter",
         "x": [
          2006,
          2007,
          2008,
          2009,
          2010,
          2011,
          2012,
          2013,
          2014,
          2015,
          2016,
          2017,
          2018,
          2019,
          2020,
          2021,
          2022
         ],
         "xaxis": "x",
         "y": [
          29.1,
          28.1,
          19.1,
          10,
          10.35,
          10.7,
          19.1,
          23.4,
          22.9,
          29.9,
          31.5,
          26.4,
          19.7,
          23.9,
          30.7,
          29.5,
          29.5
         ],
         "yaxis": "y"
        },
        {
         "hovertemplate": "country=Lithuania<br>Year=%{x}<br>Public Trust of Their Government (% out of 100)=%{y}<extra></extra>",
         "legendgroup": "Lithuania",
         "marker": {
          "color": "lightgreen",
          "symbol": "circle"
         },
         "mode": "markers",
         "name": "Lithuania",
         "orientation": "v",
         "showlegend": true,
         "type": "scatter",
         "x": [
          2006,
          2007,
          2008,
          2009,
          2010,
          2011,
          2012,
          2013,
          2014,
          2015,
          2016,
          2017,
          2018,
          2019,
          2020,
          2021,
          2022
         ],
         "xaxis": "x",
         "y": [
          20.6,
          26.9,
          16.1,
          12.6,
          11.5,
          18.1,
          14.6,
          38.4,
          34.5,
          36.7,
          28,
          32.1,
          32.4,
          40.7,
          47.4,
          30.4,
          30.4
         ],
         "yaxis": "y"
        },
        {
         "hovertemplate": "country=Luxembourg<br>Year=%{x}<br>Public Trust of Their Government (% out of 100)=%{y}<extra></extra>",
         "legendgroup": "Luxembourg",
         "marker": {
          "color": "teal",
          "symbol": "circle"
         },
         "mode": "markers",
         "name": "Luxembourg",
         "orientation": "v",
         "showlegend": true,
         "type": "scatter",
         "x": [
          2006,
          2007,
          2008,
          2009,
          2010,
          2011,
          2012,
          2013,
          2014,
          2015,
          2016,
          2017,
          2018,
          2019,
          2020,
          2021,
          2022
         ],
         "xaxis": "x",
         "y": [
          82.4,
          82.4,
          82.4,
          79.6,
          76.8,
          77.1,
          74.4,
          73.7,
          66.3,
          69.5,
          67.9,
          73.9,
          75.5,
          78,
          78,
          78,
          78
         ],
         "yaxis": "y"
        },
        {
         "hovertemplate": "country=Mexico<br>Year=%{x}<br>Public Trust of Their Government (% out of 100)=%{y}<extra></extra>",
         "legendgroup": "Mexico",
         "marker": {
          "color": "gold",
          "symbol": "circle"
         },
         "mode": "markers",
         "name": "Mexico",
         "orientation": "v",
         "showlegend": true,
         "type": "scatter",
         "x": [
          2006,
          2007,
          2008,
          2009,
          2010,
          2011,
          2012,
          2013,
          2014,
          2015,
          2016,
          2017,
          2018,
          2019,
          2020,
          2021,
          2022
         ],
         "xaxis": "x",
         "y": [
          42.6,
          41.8,
          41.4,
          44.6,
          37.2,
          38.3,
          36.1,
          39.6,
          32.8,
          25.6,
          27.8,
          25.7,
          29.5,
          49.5,
          45.9,
          48.3,
          52.9
         ],
         "yaxis": "y"
        },
        {
         "hovertemplate": "country=Netherlands<br>Year=%{x}<br>Public Trust of Their Government (% out of 100)=%{y}<extra></extra>",
         "legendgroup": "Netherlands",
         "marker": {
          "color": "plum",
          "symbol": "circle"
         },
         "mode": "markers",
         "name": "Netherlands",
         "orientation": "v",
         "showlegend": true,
         "type": "scatter",
         "x": [
          2006,
          2007,
          2008,
          2009,
          2010,
          2011,
          2012,
          2013,
          2014,
          2015,
          2016,
          2017,
          2018,
          2019,
          2020,
          2021,
          2022
         ],
         "xaxis": "x",
         "y": [
          42.9,
          66.2,
          61.7,
          62.650000000000006,
          63.6,
          60.3,
          57.5,
          54.3,
          52.5,
          58,
          57.2,
          67,
          65.7,
          61.7,
          78.1,
          58.5,
          47.2
         ],
         "yaxis": "y"
        },
        {
         "hovertemplate": "country=New Zealand<br>Year=%{x}<br>Public Trust of Their Government (% out of 100)=%{y}<extra></extra>",
         "legendgroup": "New Zealand",
         "marker": {
          "color": "coral",
          "symbol": "circle"
         },
         "mode": "markers",
         "name": "New Zealand",
         "orientation": "v",
         "showlegend": true,
         "type": "scatter",
         "x": [
          2006,
          2007,
          2008,
          2009,
          2010,
          2011,
          2012,
          2013,
          2014,
          2015,
          2016,
          2017,
          2018,
          2019,
          2020,
          2021,
          2022
         ],
         "xaxis": "x",
         "y": [
          62.6,
          58.6,
          46.5,
          55.2,
          63.9,
          63.5,
          61.5,
          54.4,
          63,
          62.1,
          57,
          60.9,
          64.2,
          67.5,
          62.9,
          63.5,
          51.4
         ],
         "yaxis": "y"
        },
        {
         "hovertemplate": "country=Spain<br>Year=%{x}<br>Public Trust of Their Government (% out of 100)=%{y}<extra></extra>",
         "legendgroup": "Spain",
         "marker": {
          "color": "orange",
          "symbol": "circle"
         },
         "mode": "markers",
         "name": "Spain",
         "orientation": "v",
         "showlegend": true,
         "type": "scatter",
         "x": [
          2006,
          2007,
          2008,
          2009,
          2010,
          2011,
          2012,
          2013,
          2014,
          2015,
          2016,
          2017,
          2018,
          2019,
          2020,
          2021,
          2022
         ],
         "xaxis": "x",
         "y": [
          52.8,
          47.6,
          58,
          42.4,
          30.3,
          30.9,
          33.9,
          18.5,
          21.1,
          27.8,
          30.3,
          27,
          28.5,
          36.8,
          38.2,
          37.2,
          37.2
         ],
         "yaxis": "y"
        },
        {
         "hovertemplate": "country=United Kingdom<br>Year=%{x}<br>Public Trust of Their Government (% out of 100)=%{y}<extra></extra>",
         "legendgroup": "United Kingdom",
         "marker": {
          "color": "pink",
          "symbol": "circle"
         },
         "mode": "markers",
         "name": "United Kingdom",
         "orientation": "v",
         "showlegend": true,
         "type": "scatter",
         "x": [
          2006,
          2007,
          2008,
          2009,
          2010,
          2011,
          2012,
          2013,
          2014,
          2015,
          2016,
          2017,
          2018,
          2019,
          2020,
          2021,
          2022
         ],
         "xaxis": "x",
         "y": [
          49.5,
          36.4,
          32.4,
          38.4,
          50.4,
          46.8,
          42.1,
          37.9,
          42.3,
          45.7,
          40.9,
          44,
          42.1,
          34.1,
          34.7,
          39.5,
          39.5
         ],
         "yaxis": "y"
        },
        {
         "hovertemplate": "country=United States<br>Year=%{x}<br>Public Trust of Their Government (% out of 100)=%{y}<extra></extra>",
         "legendgroup": "United States",
         "marker": {
          "color": "black",
          "symbol": "circle"
         },
         "mode": "markers",
         "name": "United States",
         "orientation": "v",
         "showlegend": true,
         "type": "scatter",
         "x": [
          2006,
          2007,
          2008,
          2009,
          2010,
          2011,
          2012,
          2013,
          2014,
          2015,
          2016,
          2017,
          2018,
          2019,
          2020,
          2021,
          2022
         ],
         "xaxis": "x",
         "y": [
          55.8,
          39.3,
          37.9,
          50.3,
          41.8,
          38.3,
          34.9,
          28.9,
          34.9,
          34.7,
          29.7,
          38.7,
          31.4,
          36.3,
          46.5,
          40.5,
          31
         ],
         "yaxis": "y"
        }
       ],
       "layout": {
        "legend": {
         "title": {
          "text": "country"
         },
         "tracegroupgap": 0
        },
        "template": {
         "data": {
          "bar": [
           {
            "error_x": {
             "color": "#2a3f5f"
            },
            "error_y": {
             "color": "#2a3f5f"
            },
            "marker": {
             "line": {
              "color": "#E5ECF6",
              "width": 0.5
             },
             "pattern": {
              "fillmode": "overlay",
              "size": 10,
              "solidity": 0.2
             }
            },
            "type": "bar"
           }
          ],
          "barpolar": [
           {
            "marker": {
             "line": {
              "color": "#E5ECF6",
              "width": 0.5
             },
             "pattern": {
              "fillmode": "overlay",
              "size": 10,
              "solidity": 0.2
             }
            },
            "type": "barpolar"
           }
          ],
          "carpet": [
           {
            "aaxis": {
             "endlinecolor": "#2a3f5f",
             "gridcolor": "white",
             "linecolor": "white",
             "minorgridcolor": "white",
             "startlinecolor": "#2a3f5f"
            },
            "baxis": {
             "endlinecolor": "#2a3f5f",
             "gridcolor": "white",
             "linecolor": "white",
             "minorgridcolor": "white",
             "startlinecolor": "#2a3f5f"
            },
            "type": "carpet"
           }
          ],
          "choropleth": [
           {
            "colorbar": {
             "outlinewidth": 0,
             "ticks": ""
            },
            "type": "choropleth"
           }
          ],
          "contour": [
           {
            "colorbar": {
             "outlinewidth": 0,
             "ticks": ""
            },
            "colorscale": [
             [
              0,
              "#0d0887"
             ],
             [
              0.1111111111111111,
              "#46039f"
             ],
             [
              0.2222222222222222,
              "#7201a8"
             ],
             [
              0.3333333333333333,
              "#9c179e"
             ],
             [
              0.4444444444444444,
              "#bd3786"
             ],
             [
              0.5555555555555556,
              "#d8576b"
             ],
             [
              0.6666666666666666,
              "#ed7953"
             ],
             [
              0.7777777777777778,
              "#fb9f3a"
             ],
             [
              0.8888888888888888,
              "#fdca26"
             ],
             [
              1,
              "#f0f921"
             ]
            ],
            "type": "contour"
           }
          ],
          "contourcarpet": [
           {
            "colorbar": {
             "outlinewidth": 0,
             "ticks": ""
            },
            "type": "contourcarpet"
           }
          ],
          "heatmap": [
           {
            "colorbar": {
             "outlinewidth": 0,
             "ticks": ""
            },
            "colorscale": [
             [
              0,
              "#0d0887"
             ],
             [
              0.1111111111111111,
              "#46039f"
             ],
             [
              0.2222222222222222,
              "#7201a8"
             ],
             [
              0.3333333333333333,
              "#9c179e"
             ],
             [
              0.4444444444444444,
              "#bd3786"
             ],
             [
              0.5555555555555556,
              "#d8576b"
             ],
             [
              0.6666666666666666,
              "#ed7953"
             ],
             [
              0.7777777777777778,
              "#fb9f3a"
             ],
             [
              0.8888888888888888,
              "#fdca26"
             ],
             [
              1,
              "#f0f921"
             ]
            ],
            "type": "heatmap"
           }
          ],
          "heatmapgl": [
           {
            "colorbar": {
             "outlinewidth": 0,
             "ticks": ""
            },
            "colorscale": [
             [
              0,
              "#0d0887"
             ],
             [
              0.1111111111111111,
              "#46039f"
             ],
             [
              0.2222222222222222,
              "#7201a8"
             ],
             [
              0.3333333333333333,
              "#9c179e"
             ],
             [
              0.4444444444444444,
              "#bd3786"
             ],
             [
              0.5555555555555556,
              "#d8576b"
             ],
             [
              0.6666666666666666,
              "#ed7953"
             ],
             [
              0.7777777777777778,
              "#fb9f3a"
             ],
             [
              0.8888888888888888,
              "#fdca26"
             ],
             [
              1,
              "#f0f921"
             ]
            ],
            "type": "heatmapgl"
           }
          ],
          "histogram": [
           {
            "marker": {
             "pattern": {
              "fillmode": "overlay",
              "size": 10,
              "solidity": 0.2
             }
            },
            "type": "histogram"
           }
          ],
          "histogram2d": [
           {
            "colorbar": {
             "outlinewidth": 0,
             "ticks": ""
            },
            "colorscale": [
             [
              0,
              "#0d0887"
             ],
             [
              0.1111111111111111,
              "#46039f"
             ],
             [
              0.2222222222222222,
              "#7201a8"
             ],
             [
              0.3333333333333333,
              "#9c179e"
             ],
             [
              0.4444444444444444,
              "#bd3786"
             ],
             [
              0.5555555555555556,
              "#d8576b"
             ],
             [
              0.6666666666666666,
              "#ed7953"
             ],
             [
              0.7777777777777778,
              "#fb9f3a"
             ],
             [
              0.8888888888888888,
              "#fdca26"
             ],
             [
              1,
              "#f0f921"
             ]
            ],
            "type": "histogram2d"
           }
          ],
          "histogram2dcontour": [
           {
            "colorbar": {
             "outlinewidth": 0,
             "ticks": ""
            },
            "colorscale": [
             [
              0,
              "#0d0887"
             ],
             [
              0.1111111111111111,
              "#46039f"
             ],
             [
              0.2222222222222222,
              "#7201a8"
             ],
             [
              0.3333333333333333,
              "#9c179e"
             ],
             [
              0.4444444444444444,
              "#bd3786"
             ],
             [
              0.5555555555555556,
              "#d8576b"
             ],
             [
              0.6666666666666666,
              "#ed7953"
             ],
             [
              0.7777777777777778,
              "#fb9f3a"
             ],
             [
              0.8888888888888888,
              "#fdca26"
             ],
             [
              1,
              "#f0f921"
             ]
            ],
            "type": "histogram2dcontour"
           }
          ],
          "mesh3d": [
           {
            "colorbar": {
             "outlinewidth": 0,
             "ticks": ""
            },
            "type": "mesh3d"
           }
          ],
          "parcoords": [
           {
            "line": {
             "colorbar": {
              "outlinewidth": 0,
              "ticks": ""
             }
            },
            "type": "parcoords"
           }
          ],
          "pie": [
           {
            "automargin": true,
            "type": "pie"
           }
          ],
          "scatter": [
           {
            "fillpattern": {
             "fillmode": "overlay",
             "size": 10,
             "solidity": 0.2
            },
            "type": "scatter"
           }
          ],
          "scatter3d": [
           {
            "line": {
             "colorbar": {
              "outlinewidth": 0,
              "ticks": ""
             }
            },
            "marker": {
             "colorbar": {
              "outlinewidth": 0,
              "ticks": ""
             }
            },
            "type": "scatter3d"
           }
          ],
          "scattercarpet": [
           {
            "marker": {
             "colorbar": {
              "outlinewidth": 0,
              "ticks": ""
             }
            },
            "type": "scattercarpet"
           }
          ],
          "scattergeo": [
           {
            "marker": {
             "colorbar": {
              "outlinewidth": 0,
              "ticks": ""
             }
            },
            "type": "scattergeo"
           }
          ],
          "scattergl": [
           {
            "marker": {
             "colorbar": {
              "outlinewidth": 0,
              "ticks": ""
             }
            },
            "type": "scattergl"
           }
          ],
          "scattermapbox": [
           {
            "marker": {
             "colorbar": {
              "outlinewidth": 0,
              "ticks": ""
             }
            },
            "type": "scattermapbox"
           }
          ],
          "scatterpolar": [
           {
            "marker": {
             "colorbar": {
              "outlinewidth": 0,
              "ticks": ""
             }
            },
            "type": "scatterpolar"
           }
          ],
          "scatterpolargl": [
           {
            "marker": {
             "colorbar": {
              "outlinewidth": 0,
              "ticks": ""
             }
            },
            "type": "scatterpolargl"
           }
          ],
          "scatterternary": [
           {
            "marker": {
             "colorbar": {
              "outlinewidth": 0,
              "ticks": ""
             }
            },
            "type": "scatterternary"
           }
          ],
          "surface": [
           {
            "colorbar": {
             "outlinewidth": 0,
             "ticks": ""
            },
            "colorscale": [
             [
              0,
              "#0d0887"
             ],
             [
              0.1111111111111111,
              "#46039f"
             ],
             [
              0.2222222222222222,
              "#7201a8"
             ],
             [
              0.3333333333333333,
              "#9c179e"
             ],
             [
              0.4444444444444444,
              "#bd3786"
             ],
             [
              0.5555555555555556,
              "#d8576b"
             ],
             [
              0.6666666666666666,
              "#ed7953"
             ],
             [
              0.7777777777777778,
              "#fb9f3a"
             ],
             [
              0.8888888888888888,
              "#fdca26"
             ],
             [
              1,
              "#f0f921"
             ]
            ],
            "type": "surface"
           }
          ],
          "table": [
           {
            "cells": {
             "fill": {
              "color": "#EBF0F8"
             },
             "line": {
              "color": "white"
             }
            },
            "header": {
             "fill": {
              "color": "#C8D4E3"
             },
             "line": {
              "color": "white"
             }
            },
            "type": "table"
           }
          ]
         },
         "layout": {
          "annotationdefaults": {
           "arrowcolor": "#2a3f5f",
           "arrowhead": 0,
           "arrowwidth": 1
          },
          "autotypenumbers": "strict",
          "coloraxis": {
           "colorbar": {
            "outlinewidth": 0,
            "ticks": ""
           }
          },
          "colorscale": {
           "diverging": [
            [
             0,
             "#8e0152"
            ],
            [
             0.1,
             "#c51b7d"
            ],
            [
             0.2,
             "#de77ae"
            ],
            [
             0.3,
             "#f1b6da"
            ],
            [
             0.4,
             "#fde0ef"
            ],
            [
             0.5,
             "#f7f7f7"
            ],
            [
             0.6,
             "#e6f5d0"
            ],
            [
             0.7,
             "#b8e186"
            ],
            [
             0.8,
             "#7fbc41"
            ],
            [
             0.9,
             "#4d9221"
            ],
            [
             1,
             "#276419"
            ]
           ],
           "sequential": [
            [
             0,
             "#0d0887"
            ],
            [
             0.1111111111111111,
             "#46039f"
            ],
            [
             0.2222222222222222,
             "#7201a8"
            ],
            [
             0.3333333333333333,
             "#9c179e"
            ],
            [
             0.4444444444444444,
             "#bd3786"
            ],
            [
             0.5555555555555556,
             "#d8576b"
            ],
            [
             0.6666666666666666,
             "#ed7953"
            ],
            [
             0.7777777777777778,
             "#fb9f3a"
            ],
            [
             0.8888888888888888,
             "#fdca26"
            ],
            [
             1,
             "#f0f921"
            ]
           ],
           "sequentialminus": [
            [
             0,
             "#0d0887"
            ],
            [
             0.1111111111111111,
             "#46039f"
            ],
            [
             0.2222222222222222,
             "#7201a8"
            ],
            [
             0.3333333333333333,
             "#9c179e"
            ],
            [
             0.4444444444444444,
             "#bd3786"
            ],
            [
             0.5555555555555556,
             "#d8576b"
            ],
            [
             0.6666666666666666,
             "#ed7953"
            ],
            [
             0.7777777777777778,
             "#fb9f3a"
            ],
            [
             0.8888888888888888,
             "#fdca26"
            ],
            [
             1,
             "#f0f921"
            ]
           ]
          },
          "colorway": [
           "#636efa",
           "#EF553B",
           "#00cc96",
           "#ab63fa",
           "#FFA15A",
           "#19d3f3",
           "#FF6692",
           "#B6E880",
           "#FF97FF",
           "#FECB52"
          ],
          "font": {
           "color": "#2a3f5f"
          },
          "geo": {
           "bgcolor": "white",
           "lakecolor": "white",
           "landcolor": "#E5ECF6",
           "showlakes": true,
           "showland": true,
           "subunitcolor": "white"
          },
          "hoverlabel": {
           "align": "left"
          },
          "hovermode": "closest",
          "mapbox": {
           "style": "light"
          },
          "paper_bgcolor": "white",
          "plot_bgcolor": "#E5ECF6",
          "polar": {
           "angularaxis": {
            "gridcolor": "white",
            "linecolor": "white",
            "ticks": ""
           },
           "bgcolor": "#E5ECF6",
           "radialaxis": {
            "gridcolor": "white",
            "linecolor": "white",
            "ticks": ""
           }
          },
          "scene": {
           "xaxis": {
            "backgroundcolor": "#E5ECF6",
            "gridcolor": "white",
            "gridwidth": 2,
            "linecolor": "white",
            "showbackground": true,
            "ticks": "",
            "zerolinecolor": "white"
           },
           "yaxis": {
            "backgroundcolor": "#E5ECF6",
            "gridcolor": "white",
            "gridwidth": 2,
            "linecolor": "white",
            "showbackground": true,
            "ticks": "",
            "zerolinecolor": "white"
           },
           "zaxis": {
            "backgroundcolor": "#E5ECF6",
            "gridcolor": "white",
            "gridwidth": 2,
            "linecolor": "white",
            "showbackground": true,
            "ticks": "",
            "zerolinecolor": "white"
           }
          },
          "shapedefaults": {
           "line": {
            "color": "#2a3f5f"
           }
          },
          "ternary": {
           "aaxis": {
            "gridcolor": "white",
            "linecolor": "white",
            "ticks": ""
           },
           "baxis": {
            "gridcolor": "white",
            "linecolor": "white",
            "ticks": ""
           },
           "bgcolor": "#E5ECF6",
           "caxis": {
            "gridcolor": "white",
            "linecolor": "white",
            "ticks": ""
           }
          },
          "title": {
           "x": 0.05
          },
          "xaxis": {
           "automargin": true,
           "gridcolor": "white",
           "linecolor": "white",
           "ticks": "",
           "title": {
            "standoff": 15
           },
           "zerolinecolor": "white",
           "zerolinewidth": 2
          },
          "yaxis": {
           "automargin": true,
           "gridcolor": "white",
           "linecolor": "white",
           "ticks": "",
           "title": {
            "standoff": 15
           },
           "zerolinecolor": "white",
           "zerolinewidth": 2
          }
         }
        },
        "title": {
         "text": "Public Trust vs Year"
        },
        "xaxis": {
         "anchor": "y",
         "domain": [
          0,
          1
         ],
         "title": {
          "text": "Year"
         }
        },
        "yaxis": {
         "anchor": "x",
         "domain": [
          0,
          1
         ],
         "title": {
          "text": "Public Trust of Their Government (% out of 100)"
         }
        }
       }
      }
     },
     "metadata": {},
     "output_type": "display_data"
    }
   ],
   "source": [
    "import plotly.express as px\n",
    "\n",
    "colors = {\n",
    "    'Belgium': 'red',\n",
    "    'France': 'blue',\n",
    "    'Germany': 'green',\n",
    "    'Italy': 'purple',\n",
    "    'Spain': 'orange',\n",
    "    'United States': 'black',\n",
    "    'United Kingdom': 'pink',\n",
    "    'Australia': 'brown',\n",
    "    'Austria': 'mediumturquoise', \n",
    "    'Brazil': 'magenta', \n",
    "    'Canada': 'salmon', \n",
    "    'Chile': 'violet', \n",
    "    'Colombia': 'chocolate', \n",
    "    'Costa Rica': 'chocolate', \n",
    "    'Czechia': 'thistle', \n",
    "    'Denmark': 'navy', \n",
    "    'Estonia': 'indigo', \n",
    "    'Finland': 'mediumseagreen',\n",
    "    'Greece': 'cyan',\n",
    "    'Hungary': 'sandybrown', \n",
    "    'Iceland': 'ivory', \n",
    "    'Ireland': 'turquoise', \n",
    "    'Israel': 'lavender', \n",
    "    'Japan': 'slateblue', \n",
    "    'Korea': 'khaki', \n",
    "    'Latvia': 'azure', \n",
    "    'Lithuania': 'lightgreen', \n",
    "    'Luxembourg': 'teal',\n",
    "    'Mexico': 'gold', \n",
    "    'Netherlands': 'plum', \n",
    "    'New Zealand': 'coral'\n",
    "}\n",
    "\n",
    "# Filter the DataFrame to include only rows where the country is in the colors dictionary\n",
    "filtered_df = gov_trust_df[gov_trust_df['country'].isin(colors.keys())]\n",
    "\n",
    "# Create the scatter plot using Plotly Express\n",
    "fig = px.scatter(\n",
    "    filtered_df, \n",
    "    x='year', \n",
    "    y='public_trust_percentage', \n",
    "    color='country',\n",
    "    color_discrete_map=colors,\n",
    "    labels={\n",
    "        'year': 'Year',\n",
    "        'public_trust_percentage': 'Public Trust of Their Government (% out of 100)'\n",
    "    },\n",
    "    title='Public Trust vs Year'\n",
    ")\n",
    "\n",
    "fig.show()\n"
   ]
  },
  {
   "cell_type": "code",
   "execution_count": 28,
   "metadata": {},
   "outputs": [],
   "source": [
    "def get_world_bank_data(indicator):\n",
    "    countrycodes = 'BE;FR;DE;IT;ES;US;GB;AU;CHL;COL;BRA;JPN;KOR;MEX;ZAF'\n",
    "    url = f'http://api.worldbank.org/v2/country/{countrycodes}/indicator/{indicator}?date=2012:2022&format=json'\n",
    "    data = requests.get(url).json()\n",
    "    \n",
    "    # cleans up the data and creates a dataframe\n",
    "    df = pd.DataFrame(data[1])\n",
    "    df = df.drop(columns=['indicator', 'countryiso3code', 'unit', 'obs_status', 'decimal'])\n",
    "    df['country'] = df['country'].apply(lambda x: x['value'])\n",
    "    df = df.rename(columns={'date': 'year'})\n",
    "    df['year'] = df['year'].astype(str)\n",
    "\n",
    "    return df"
   ]
  },
  {
   "cell_type": "code",
   "execution_count": 29,
   "metadata": {},
   "outputs": [
    {
     "data": {
      "text/html": [
       "<div>\n",
       "<style scoped>\n",
       "    .dataframe tbody tr th:only-of-type {\n",
       "        vertical-align: middle;\n",
       "    }\n",
       "\n",
       "    .dataframe tbody tr th {\n",
       "        vertical-align: top;\n",
       "    }\n",
       "\n",
       "    .dataframe thead th {\n",
       "        text-align: right;\n",
       "    }\n",
       "</style>\n",
       "<table border=\"1\" class=\"dataframe\">\n",
       "  <thead>\n",
       "    <tr style=\"text-align: right;\">\n",
       "      <th></th>\n",
       "      <th>country</th>\n",
       "      <th>year</th>\n",
       "      <th>value</th>\n",
       "    </tr>\n",
       "  </thead>\n",
       "  <tbody>\n",
       "    <tr>\n",
       "      <th>0</th>\n",
       "      <td>Australia</td>\n",
       "      <td>2022</td>\n",
       "      <td>65099.845912</td>\n",
       "    </tr>\n",
       "    <tr>\n",
       "      <th>1</th>\n",
       "      <td>Australia</td>\n",
       "      <td>2021</td>\n",
       "      <td>60697.245436</td>\n",
       "    </tr>\n",
       "    <tr>\n",
       "      <th>2</th>\n",
       "      <td>Australia</td>\n",
       "      <td>2020</td>\n",
       "      <td>51868.247557</td>\n",
       "    </tr>\n",
       "    <tr>\n",
       "      <th>3</th>\n",
       "      <td>Australia</td>\n",
       "      <td>2019</td>\n",
       "      <td>55049.571920</td>\n",
       "    </tr>\n",
       "    <tr>\n",
       "      <th>4</th>\n",
       "      <td>Australia</td>\n",
       "      <td>2018</td>\n",
       "      <td>57273.520475</td>\n",
       "    </tr>\n",
       "    <tr>\n",
       "      <th>5</th>\n",
       "      <td>Australia</td>\n",
       "      <td>2017</td>\n",
       "      <td>53954.553495</td>\n",
       "    </tr>\n",
       "    <tr>\n",
       "      <th>6</th>\n",
       "      <td>Australia</td>\n",
       "      <td>2016</td>\n",
       "      <td>49918.793933</td>\n",
       "    </tr>\n",
       "    <tr>\n",
       "      <th>7</th>\n",
       "      <td>Australia</td>\n",
       "      <td>2015</td>\n",
       "      <td>56758.869203</td>\n",
       "    </tr>\n",
       "    <tr>\n",
       "      <th>8</th>\n",
       "      <td>Australia</td>\n",
       "      <td>2014</td>\n",
       "      <td>62558.243879</td>\n",
       "    </tr>\n",
       "    <tr>\n",
       "      <th>9</th>\n",
       "      <td>Australia</td>\n",
       "      <td>2013</td>\n",
       "      <td>68198.419345</td>\n",
       "    </tr>\n",
       "    <tr>\n",
       "      <th>10</th>\n",
       "      <td>Australia</td>\n",
       "      <td>2012</td>\n",
       "      <td>68078.044228</td>\n",
       "    </tr>\n",
       "    <tr>\n",
       "      <th>11</th>\n",
       "      <td>Belgium</td>\n",
       "      <td>2022</td>\n",
       "      <td>49926.825430</td>\n",
       "    </tr>\n",
       "    <tr>\n",
       "      <th>12</th>\n",
       "      <td>Belgium</td>\n",
       "      <td>2021</td>\n",
       "      <td>51850.397184</td>\n",
       "    </tr>\n",
       "    <tr>\n",
       "      <th>13</th>\n",
       "      <td>Belgium</td>\n",
       "      <td>2020</td>\n",
       "      <td>45609.003494</td>\n",
       "    </tr>\n",
       "    <tr>\n",
       "      <th>14</th>\n",
       "      <td>Belgium</td>\n",
       "      <td>2019</td>\n",
       "      <td>46641.721402</td>\n",
       "    </tr>\n",
       "    <tr>\n",
       "      <th>15</th>\n",
       "      <td>Belgium</td>\n",
       "      <td>2018</td>\n",
       "      <td>47544.981147</td>\n",
       "    </tr>\n",
       "    <tr>\n",
       "      <th>16</th>\n",
       "      <td>Belgium</td>\n",
       "      <td>2017</td>\n",
       "      <td>44198.482391</td>\n",
       "    </tr>\n",
       "    <tr>\n",
       "      <th>17</th>\n",
       "      <td>Belgium</td>\n",
       "      <td>2016</td>\n",
       "      <td>42012.622719</td>\n",
       "    </tr>\n",
       "    <tr>\n",
       "      <th>18</th>\n",
       "      <td>Belgium</td>\n",
       "      <td>2015</td>\n",
       "      <td>41008.296719</td>\n",
       "    </tr>\n",
       "    <tr>\n",
       "      <th>19</th>\n",
       "      <td>Belgium</td>\n",
       "      <td>2014</td>\n",
       "      <td>47764.071512</td>\n",
       "    </tr>\n",
       "    <tr>\n",
       "      <th>20</th>\n",
       "      <td>Belgium</td>\n",
       "      <td>2013</td>\n",
       "      <td>46757.951856</td>\n",
       "    </tr>\n",
       "    <tr>\n",
       "      <th>21</th>\n",
       "      <td>Belgium</td>\n",
       "      <td>2012</td>\n",
       "      <td>44670.560685</td>\n",
       "    </tr>\n",
       "    <tr>\n",
       "      <th>22</th>\n",
       "      <td>Brazil</td>\n",
       "      <td>2022</td>\n",
       "      <td>8917.674911</td>\n",
       "    </tr>\n",
       "    <tr>\n",
       "      <th>23</th>\n",
       "      <td>Brazil</td>\n",
       "      <td>2021</td>\n",
       "      <td>7696.784830</td>\n",
       "    </tr>\n",
       "    <tr>\n",
       "      <th>24</th>\n",
       "      <td>Brazil</td>\n",
       "      <td>2020</td>\n",
       "      <td>6923.699912</td>\n",
       "    </tr>\n",
       "    <tr>\n",
       "      <th>25</th>\n",
       "      <td>Brazil</td>\n",
       "      <td>2019</td>\n",
       "      <td>8845.324149</td>\n",
       "    </tr>\n",
       "    <tr>\n",
       "      <th>26</th>\n",
       "      <td>Brazil</td>\n",
       "      <td>2018</td>\n",
       "      <td>9121.020995</td>\n",
       "    </tr>\n",
       "    <tr>\n",
       "      <th>27</th>\n",
       "      <td>Brazil</td>\n",
       "      <td>2017</td>\n",
       "      <td>9896.718895</td>\n",
       "    </tr>\n",
       "    <tr>\n",
       "      <th>28</th>\n",
       "      <td>Brazil</td>\n",
       "      <td>2016</td>\n",
       "      <td>8680.736469</td>\n",
       "    </tr>\n",
       "    <tr>\n",
       "      <th>29</th>\n",
       "      <td>Brazil</td>\n",
       "      <td>2015</td>\n",
       "      <td>8783.215424</td>\n",
       "    </tr>\n",
       "    <tr>\n",
       "      <th>30</th>\n",
       "      <td>Brazil</td>\n",
       "      <td>2014</td>\n",
       "      <td>12071.404464</td>\n",
       "    </tr>\n",
       "    <tr>\n",
       "      <th>31</th>\n",
       "      <td>Brazil</td>\n",
       "      <td>2013</td>\n",
       "      <td>12258.565709</td>\n",
       "    </tr>\n",
       "    <tr>\n",
       "      <th>32</th>\n",
       "      <td>Brazil</td>\n",
       "      <td>2012</td>\n",
       "      <td>12327.513101</td>\n",
       "    </tr>\n",
       "    <tr>\n",
       "      <th>33</th>\n",
       "      <td>Chile</td>\n",
       "      <td>2022</td>\n",
       "      <td>15355.479740</td>\n",
       "    </tr>\n",
       "    <tr>\n",
       "      <th>34</th>\n",
       "      <td>Chile</td>\n",
       "      <td>2021</td>\n",
       "      <td>16240.607776</td>\n",
       "    </tr>\n",
       "    <tr>\n",
       "      <th>35</th>\n",
       "      <td>Chile</td>\n",
       "      <td>2020</td>\n",
       "      <td>13173.784794</td>\n",
       "    </tr>\n",
       "    <tr>\n",
       "      <th>36</th>\n",
       "      <td>Chile</td>\n",
       "      <td>2019</td>\n",
       "      <td>14632.690308</td>\n",
       "    </tr>\n",
       "    <tr>\n",
       "      <th>37</th>\n",
       "      <td>Chile</td>\n",
       "      <td>2018</td>\n",
       "      <td>15820.033357</td>\n",
       "    </tr>\n",
       "    <tr>\n",
       "      <th>38</th>\n",
       "      <td>Chile</td>\n",
       "      <td>2017</td>\n",
       "      <td>15034.058425</td>\n",
       "    </tr>\n",
       "    <tr>\n",
       "      <th>39</th>\n",
       "      <td>Chile</td>\n",
       "      <td>2016</td>\n",
       "      <td>13788.240016</td>\n",
       "    </tr>\n",
       "    <tr>\n",
       "      <th>40</th>\n",
       "      <td>Chile</td>\n",
       "      <td>2015</td>\n",
       "      <td>13567.357217</td>\n",
       "    </tr>\n",
       "    <tr>\n",
       "      <th>41</th>\n",
       "      <td>Chile</td>\n",
       "      <td>2014</td>\n",
       "      <td>14675.150873</td>\n",
       "    </tr>\n",
       "    <tr>\n",
       "      <th>42</th>\n",
       "      <td>Chile</td>\n",
       "      <td>2013</td>\n",
       "      <td>15842.159157</td>\n",
       "    </tr>\n",
       "    <tr>\n",
       "      <th>43</th>\n",
       "      <td>Chile</td>\n",
       "      <td>2012</td>\n",
       "      <td>15397.780460</td>\n",
       "    </tr>\n",
       "    <tr>\n",
       "      <th>44</th>\n",
       "      <td>Colombia</td>\n",
       "      <td>2022</td>\n",
       "      <td>6624.165393</td>\n",
       "    </tr>\n",
       "    <tr>\n",
       "      <th>45</th>\n",
       "      <td>Colombia</td>\n",
       "      <td>2021</td>\n",
       "      <td>6182.707099</td>\n",
       "    </tr>\n",
       "    <tr>\n",
       "      <th>46</th>\n",
       "      <td>Colombia</td>\n",
       "      <td>2020</td>\n",
       "      <td>5304.289129</td>\n",
       "    </tr>\n",
       "    <tr>\n",
       "      <th>47</th>\n",
       "      <td>Colombia</td>\n",
       "      <td>2019</td>\n",
       "      <td>6436.509215</td>\n",
       "    </tr>\n",
       "    <tr>\n",
       "      <th>48</th>\n",
       "      <td>Colombia</td>\n",
       "      <td>2018</td>\n",
       "      <td>6782.037920</td>\n",
       "    </tr>\n",
       "    <tr>\n",
       "      <th>49</th>\n",
       "      <td>Colombia</td>\n",
       "      <td>2017</td>\n",
       "      <td>6449.970987</td>\n",
       "    </tr>\n",
       "  </tbody>\n",
       "</table>\n",
       "</div>"
      ],
      "text/plain": [
       "      country  year         value\n",
       "0   Australia  2022  65099.845912\n",
       "1   Australia  2021  60697.245436\n",
       "2   Australia  2020  51868.247557\n",
       "3   Australia  2019  55049.571920\n",
       "4   Australia  2018  57273.520475\n",
       "5   Australia  2017  53954.553495\n",
       "6   Australia  2016  49918.793933\n",
       "7   Australia  2015  56758.869203\n",
       "8   Australia  2014  62558.243879\n",
       "9   Australia  2013  68198.419345\n",
       "10  Australia  2012  68078.044228\n",
       "11    Belgium  2022  49926.825430\n",
       "12    Belgium  2021  51850.397184\n",
       "13    Belgium  2020  45609.003494\n",
       "14    Belgium  2019  46641.721402\n",
       "15    Belgium  2018  47544.981147\n",
       "16    Belgium  2017  44198.482391\n",
       "17    Belgium  2016  42012.622719\n",
       "18    Belgium  2015  41008.296719\n",
       "19    Belgium  2014  47764.071512\n",
       "20    Belgium  2013  46757.951856\n",
       "21    Belgium  2012  44670.560685\n",
       "22     Brazil  2022   8917.674911\n",
       "23     Brazil  2021   7696.784830\n",
       "24     Brazil  2020   6923.699912\n",
       "25     Brazil  2019   8845.324149\n",
       "26     Brazil  2018   9121.020995\n",
       "27     Brazil  2017   9896.718895\n",
       "28     Brazil  2016   8680.736469\n",
       "29     Brazil  2015   8783.215424\n",
       "30     Brazil  2014  12071.404464\n",
       "31     Brazil  2013  12258.565709\n",
       "32     Brazil  2012  12327.513101\n",
       "33      Chile  2022  15355.479740\n",
       "34      Chile  2021  16240.607776\n",
       "35      Chile  2020  13173.784794\n",
       "36      Chile  2019  14632.690308\n",
       "37      Chile  2018  15820.033357\n",
       "38      Chile  2017  15034.058425\n",
       "39      Chile  2016  13788.240016\n",
       "40      Chile  2015  13567.357217\n",
       "41      Chile  2014  14675.150873\n",
       "42      Chile  2013  15842.159157\n",
       "43      Chile  2012  15397.780460\n",
       "44   Colombia  2022   6624.165393\n",
       "45   Colombia  2021   6182.707099\n",
       "46   Colombia  2020   5304.289129\n",
       "47   Colombia  2019   6436.509215\n",
       "48   Colombia  2018   6782.037920\n",
       "49   Colombia  2017   6449.970987"
      ]
     },
     "execution_count": 29,
     "metadata": {},
     "output_type": "execute_result"
    }
   ],
   "source": [
    "# percentage of the population living on less than $2.15 \n",
    "poverty_df = get_world_bank_data('NY.GDP.PCAP.CD')\n",
    "poverty_df"
   ]
  },
  {
   "cell_type": "code",
   "execution_count": 10,
   "metadata": {},
   "outputs": [
    {
     "data": {
      "text/html": [
       "<div>\n",
       "<style scoped>\n",
       "    .dataframe tbody tr th:only-of-type {\n",
       "        vertical-align: middle;\n",
       "    }\n",
       "\n",
       "    .dataframe tbody tr th {\n",
       "        vertical-align: top;\n",
       "    }\n",
       "\n",
       "    .dataframe thead th {\n",
       "        text-align: right;\n",
       "    }\n",
       "</style>\n",
       "<table border=\"1\" class=\"dataframe\">\n",
       "  <thead>\n",
       "    <tr style=\"text-align: right;\">\n",
       "      <th></th>\n",
       "      <th>country</th>\n",
       "      <th>year</th>\n",
       "      <th>value</th>\n",
       "    </tr>\n",
       "  </thead>\n",
       "  <tbody>\n",
       "    <tr>\n",
       "      <th>0</th>\n",
       "      <td>Australia</td>\n",
       "      <td>2022</td>\n",
       "      <td>NaN</td>\n",
       "    </tr>\n",
       "    <tr>\n",
       "      <th>1</th>\n",
       "      <td>Australia</td>\n",
       "      <td>2021</td>\n",
       "      <td>NaN</td>\n",
       "    </tr>\n",
       "    <tr>\n",
       "      <th>2</th>\n",
       "      <td>Australia</td>\n",
       "      <td>2020</td>\n",
       "      <td>NaN</td>\n",
       "    </tr>\n",
       "    <tr>\n",
       "      <th>3</th>\n",
       "      <td>Australia</td>\n",
       "      <td>2019</td>\n",
       "      <td>NaN</td>\n",
       "    </tr>\n",
       "    <tr>\n",
       "      <th>4</th>\n",
       "      <td>Australia</td>\n",
       "      <td>2018</td>\n",
       "      <td>NaN</td>\n",
       "    </tr>\n",
       "    <tr>\n",
       "      <th>5</th>\n",
       "      <td>Australia</td>\n",
       "      <td>2017</td>\n",
       "      <td>NaN</td>\n",
       "    </tr>\n",
       "    <tr>\n",
       "      <th>6</th>\n",
       "      <td>Australia</td>\n",
       "      <td>2016</td>\n",
       "      <td>NaN</td>\n",
       "    </tr>\n",
       "    <tr>\n",
       "      <th>7</th>\n",
       "      <td>Australia</td>\n",
       "      <td>2015</td>\n",
       "      <td>NaN</td>\n",
       "    </tr>\n",
       "    <tr>\n",
       "      <th>8</th>\n",
       "      <td>Australia</td>\n",
       "      <td>2014</td>\n",
       "      <td>NaN</td>\n",
       "    </tr>\n",
       "    <tr>\n",
       "      <th>9</th>\n",
       "      <td>Australia</td>\n",
       "      <td>2013</td>\n",
       "      <td>NaN</td>\n",
       "    </tr>\n",
       "    <tr>\n",
       "      <th>10</th>\n",
       "      <td>Australia</td>\n",
       "      <td>2012</td>\n",
       "      <td>NaN</td>\n",
       "    </tr>\n",
       "    <tr>\n",
       "      <th>11</th>\n",
       "      <td>Belgium</td>\n",
       "      <td>2022</td>\n",
       "      <td>12.3</td>\n",
       "    </tr>\n",
       "    <tr>\n",
       "      <th>12</th>\n",
       "      <td>Belgium</td>\n",
       "      <td>2021</td>\n",
       "      <td>13.2</td>\n",
       "    </tr>\n",
       "    <tr>\n",
       "      <th>13</th>\n",
       "      <td>Belgium</td>\n",
       "      <td>2020</td>\n",
       "      <td>12.7</td>\n",
       "    </tr>\n",
       "    <tr>\n",
       "      <th>14</th>\n",
       "      <td>Belgium</td>\n",
       "      <td>2019</td>\n",
       "      <td>14.1</td>\n",
       "    </tr>\n",
       "    <tr>\n",
       "      <th>15</th>\n",
       "      <td>Belgium</td>\n",
       "      <td>2018</td>\n",
       "      <td>14.8</td>\n",
       "    </tr>\n",
       "    <tr>\n",
       "      <th>16</th>\n",
       "      <td>Belgium</td>\n",
       "      <td>2017</td>\n",
       "      <td>NaN</td>\n",
       "    </tr>\n",
       "    <tr>\n",
       "      <th>17</th>\n",
       "      <td>Belgium</td>\n",
       "      <td>2016</td>\n",
       "      <td>NaN</td>\n",
       "    </tr>\n",
       "    <tr>\n",
       "      <th>18</th>\n",
       "      <td>Belgium</td>\n",
       "      <td>2015</td>\n",
       "      <td>NaN</td>\n",
       "    </tr>\n",
       "    <tr>\n",
       "      <th>19</th>\n",
       "      <td>Belgium</td>\n",
       "      <td>2014</td>\n",
       "      <td>NaN</td>\n",
       "    </tr>\n",
       "    <tr>\n",
       "      <th>20</th>\n",
       "      <td>Belgium</td>\n",
       "      <td>2013</td>\n",
       "      <td>NaN</td>\n",
       "    </tr>\n",
       "    <tr>\n",
       "      <th>21</th>\n",
       "      <td>Belgium</td>\n",
       "      <td>2012</td>\n",
       "      <td>NaN</td>\n",
       "    </tr>\n",
       "    <tr>\n",
       "      <th>22</th>\n",
       "      <td>Germany</td>\n",
       "      <td>2022</td>\n",
       "      <td>NaN</td>\n",
       "    </tr>\n",
       "    <tr>\n",
       "      <th>23</th>\n",
       "      <td>Germany</td>\n",
       "      <td>2021</td>\n",
       "      <td>14.8</td>\n",
       "    </tr>\n",
       "    <tr>\n",
       "      <th>24</th>\n",
       "      <td>Germany</td>\n",
       "      <td>2020</td>\n",
       "      <td>16.0</td>\n",
       "    </tr>\n",
       "    <tr>\n",
       "      <th>25</th>\n",
       "      <td>Germany</td>\n",
       "      <td>2019</td>\n",
       "      <td>16.1</td>\n",
       "    </tr>\n",
       "    <tr>\n",
       "      <th>26</th>\n",
       "      <td>Germany</td>\n",
       "      <td>2018</td>\n",
       "      <td>NaN</td>\n",
       "    </tr>\n",
       "    <tr>\n",
       "      <th>27</th>\n",
       "      <td>Germany</td>\n",
       "      <td>2017</td>\n",
       "      <td>NaN</td>\n",
       "    </tr>\n",
       "    <tr>\n",
       "      <th>28</th>\n",
       "      <td>Germany</td>\n",
       "      <td>2016</td>\n",
       "      <td>NaN</td>\n",
       "    </tr>\n",
       "    <tr>\n",
       "      <th>29</th>\n",
       "      <td>Germany</td>\n",
       "      <td>2015</td>\n",
       "      <td>NaN</td>\n",
       "    </tr>\n",
       "    <tr>\n",
       "      <th>30</th>\n",
       "      <td>Germany</td>\n",
       "      <td>2014</td>\n",
       "      <td>NaN</td>\n",
       "    </tr>\n",
       "    <tr>\n",
       "      <th>31</th>\n",
       "      <td>Germany</td>\n",
       "      <td>2013</td>\n",
       "      <td>NaN</td>\n",
       "    </tr>\n",
       "    <tr>\n",
       "      <th>32</th>\n",
       "      <td>Germany</td>\n",
       "      <td>2012</td>\n",
       "      <td>NaN</td>\n",
       "    </tr>\n",
       "    <tr>\n",
       "      <th>33</th>\n",
       "      <td>Spain</td>\n",
       "      <td>2022</td>\n",
       "      <td>20.2</td>\n",
       "    </tr>\n",
       "    <tr>\n",
       "      <th>34</th>\n",
       "      <td>Spain</td>\n",
       "      <td>2021</td>\n",
       "      <td>20.4</td>\n",
       "    </tr>\n",
       "    <tr>\n",
       "      <th>35</th>\n",
       "      <td>Spain</td>\n",
       "      <td>2020</td>\n",
       "      <td>21.7</td>\n",
       "    </tr>\n",
       "    <tr>\n",
       "      <th>36</th>\n",
       "      <td>Spain</td>\n",
       "      <td>2019</td>\n",
       "      <td>21.0</td>\n",
       "    </tr>\n",
       "    <tr>\n",
       "      <th>37</th>\n",
       "      <td>Spain</td>\n",
       "      <td>2018</td>\n",
       "      <td>20.7</td>\n",
       "    </tr>\n",
       "    <tr>\n",
       "      <th>38</th>\n",
       "      <td>Spain</td>\n",
       "      <td>2017</td>\n",
       "      <td>21.5</td>\n",
       "    </tr>\n",
       "    <tr>\n",
       "      <th>39</th>\n",
       "      <td>Spain</td>\n",
       "      <td>2016</td>\n",
       "      <td>21.6</td>\n",
       "    </tr>\n",
       "    <tr>\n",
       "      <th>40</th>\n",
       "      <td>Spain</td>\n",
       "      <td>2015</td>\n",
       "      <td>22.3</td>\n",
       "    </tr>\n",
       "    <tr>\n",
       "      <th>41</th>\n",
       "      <td>Spain</td>\n",
       "      <td>2014</td>\n",
       "      <td>22.1</td>\n",
       "    </tr>\n",
       "    <tr>\n",
       "      <th>42</th>\n",
       "      <td>Spain</td>\n",
       "      <td>2013</td>\n",
       "      <td>22.2</td>\n",
       "    </tr>\n",
       "    <tr>\n",
       "      <th>43</th>\n",
       "      <td>Spain</td>\n",
       "      <td>2012</td>\n",
       "      <td>20.4</td>\n",
       "    </tr>\n",
       "    <tr>\n",
       "      <th>44</th>\n",
       "      <td>France</td>\n",
       "      <td>2022</td>\n",
       "      <td>NaN</td>\n",
       "    </tr>\n",
       "    <tr>\n",
       "      <th>45</th>\n",
       "      <td>France</td>\n",
       "      <td>2021</td>\n",
       "      <td>15.6</td>\n",
       "    </tr>\n",
       "    <tr>\n",
       "      <th>46</th>\n",
       "      <td>France</td>\n",
       "      <td>2020</td>\n",
       "      <td>NaN</td>\n",
       "    </tr>\n",
       "    <tr>\n",
       "      <th>47</th>\n",
       "      <td>France</td>\n",
       "      <td>2019</td>\n",
       "      <td>NaN</td>\n",
       "    </tr>\n",
       "    <tr>\n",
       "      <th>48</th>\n",
       "      <td>France</td>\n",
       "      <td>2018</td>\n",
       "      <td>NaN</td>\n",
       "    </tr>\n",
       "    <tr>\n",
       "      <th>49</th>\n",
       "      <td>France</td>\n",
       "      <td>2017</td>\n",
       "      <td>NaN</td>\n",
       "    </tr>\n",
       "  </tbody>\n",
       "</table>\n",
       "</div>"
      ],
      "text/plain": [
       "      country  year  value\n",
       "0   Australia  2022    NaN\n",
       "1   Australia  2021    NaN\n",
       "2   Australia  2020    NaN\n",
       "3   Australia  2019    NaN\n",
       "4   Australia  2018    NaN\n",
       "5   Australia  2017    NaN\n",
       "6   Australia  2016    NaN\n",
       "7   Australia  2015    NaN\n",
       "8   Australia  2014    NaN\n",
       "9   Australia  2013    NaN\n",
       "10  Australia  2012    NaN\n",
       "11    Belgium  2022   12.3\n",
       "12    Belgium  2021   13.2\n",
       "13    Belgium  2020   12.7\n",
       "14    Belgium  2019   14.1\n",
       "15    Belgium  2018   14.8\n",
       "16    Belgium  2017    NaN\n",
       "17    Belgium  2016    NaN\n",
       "18    Belgium  2015    NaN\n",
       "19    Belgium  2014    NaN\n",
       "20    Belgium  2013    NaN\n",
       "21    Belgium  2012    NaN\n",
       "22    Germany  2022    NaN\n",
       "23    Germany  2021   14.8\n",
       "24    Germany  2020   16.0\n",
       "25    Germany  2019   16.1\n",
       "26    Germany  2018    NaN\n",
       "27    Germany  2017    NaN\n",
       "28    Germany  2016    NaN\n",
       "29    Germany  2015    NaN\n",
       "30    Germany  2014    NaN\n",
       "31    Germany  2013    NaN\n",
       "32    Germany  2012    NaN\n",
       "33      Spain  2022   20.2\n",
       "34      Spain  2021   20.4\n",
       "35      Spain  2020   21.7\n",
       "36      Spain  2019   21.0\n",
       "37      Spain  2018   20.7\n",
       "38      Spain  2017   21.5\n",
       "39      Spain  2016   21.6\n",
       "40      Spain  2015   22.3\n",
       "41      Spain  2014   22.1\n",
       "42      Spain  2013   22.2\n",
       "43      Spain  2012   20.4\n",
       "44     France  2022    NaN\n",
       "45     France  2021   15.6\n",
       "46     France  2020    NaN\n",
       "47     France  2019    NaN\n",
       "48     France  2018    NaN\n",
       "49     France  2017    NaN"
      ]
     },
     "execution_count": 10,
     "metadata": {},
     "output_type": "execute_result"
    }
   ],
   "source": [
    "poverty_df = get_world_bank_data('SI.POV.NAHC')\n",
    "poverty_df"
   ]
  },
  {
   "cell_type": "code",
   "execution_count": 11,
   "metadata": {},
   "outputs": [
    {
     "name": "stdout",
     "output_type": "stream",
     "text": [
      "{'status': 'OK', 'data': {'id': 2775555, 'identifier': 'DVN/HTTWYL', 'persistentUrl': 'https://doi.org/10.7910/DVN/HTTWYL', 'protocol': 'doi', 'authority': '10.7910', 'publisher': 'Harvard Dataverse', 'publicationDate': '2016-01-13', 'storageIdentifier': 's3://10.7910/DVN/HTTWYL', 'latestVersion': {'id': 334304, 'datasetId': 2775555, 'datasetPersistentId': 'doi:10.7910/DVN/HTTWYL', 'storageIdentifier': 's3://10.7910/DVN/HTTWYL', 'versionNumber': 5, 'versionMinorNumber': 1, 'versionState': 'RELEASED', 'UNF': 'UNF:6:F/k8KUqKpCa5UssBbL/gzg==', 'lastUpdateTime': '2022-10-10T14:49:06Z', 'releaseTime': '2022-10-10T14:49:06Z', 'createTime': '2022-10-10T14:48:40Z', 'publicationDate': '2016-01-13', 'citationDate': '2016-01-13', 'license': {'name': 'CC0 1.0', 'uri': 'http://creativecommons.org/publicdomain/zero/1.0', 'iconUri': 'https://licensebuttons.net/p/zero/1.0/88x31.png'}, 'fileAccessRequest': False, 'metadataBlocks': {'citation': {'displayName': 'Citation Metadata', 'name': 'citation', 'fields': [{'typeName': 'title', 'multiple': False, 'typeClass': 'primitive', 'value': 'Mass Mobilization Protest Data'}, {'typeName': 'subtitle', 'multiple': False, 'typeClass': 'primitive', 'value': 'Protests against governments'}, {'typeName': 'author', 'multiple': True, 'typeClass': 'compound', 'value': [{'authorName': {'typeName': 'authorName', 'multiple': False, 'typeClass': 'primitive', 'value': 'Clark, David'}, 'authorAffiliation': {'typeName': 'authorAffiliation', 'multiple': False, 'typeClass': 'primitive', 'value': 'Binghamton University'}}, {'authorName': {'typeName': 'authorName', 'multiple': False, 'typeClass': 'primitive', 'value': 'Regan, Patrick'}, 'authorAffiliation': {'typeName': 'authorAffiliation', 'multiple': False, 'typeClass': 'primitive', 'value': 'University of Notre Dame'}}]}, {'typeName': 'datasetContact', 'multiple': True, 'typeClass': 'compound', 'value': [{'datasetContactName': {'typeName': 'datasetContactName', 'multiple': False, 'typeClass': 'primitive', 'value': 'Clark, David'}, 'datasetContactAffiliation': {'typeName': 'datasetContactAffiliation', 'multiple': False, 'typeClass': 'primitive', 'value': 'Binghamton University'}, 'datasetContactEmail': {'typeName': 'datasetContactEmail', 'multiple': False, 'typeClass': 'primitive', 'value': 'dclark@binghamton.edu'}}]}, {'typeName': 'dsDescription', 'multiple': True, 'typeClass': 'compound', 'value': [{'dsDescriptionValue': {'typeName': 'dsDescriptionValue', 'multiple': False, 'typeClass': 'primitive', 'value': 'Mass Mobillization Data project protests against governments, all countries, 1990-2020. Visit the project page at https://massmobilization.github.io'}, 'dsDescriptionDate': {'typeName': 'dsDescriptionDate', 'multiple': False, 'typeClass': 'primitive', 'value': '2019-02-07'}}]}, {'typeName': 'subject', 'multiple': True, 'typeClass': 'controlledVocabulary', 'value': ['Social Sciences']}, {'typeName': 'keyword', 'multiple': True, 'typeClass': 'compound', 'value': [{'keywordValue': {'typeName': 'keywordValue', 'multiple': False, 'typeClass': 'primitive', 'value': 'protests'}}, {'keywordValue': {'typeName': 'keywordValue', 'multiple': False, 'typeClass': 'primitive', 'value': 'demonstrations'}}]}, {'typeName': 'notesText', 'multiple': False, 'typeClass': 'primitive', 'value': 'version 4.0 - 1990-March 31, 2020\\n\\nUpdate includes formerly missing notes for 2700+ cases.'}, {'typeName': 'producer', 'multiple': True, 'typeClass': 'compound', 'value': [{'producerName': {'typeName': 'producerName', 'multiple': False, 'typeClass': 'primitive', 'value': 'David H. Clark'}, 'producerAffiliation': {'typeName': 'producerAffiliation', 'multiple': False, 'typeClass': 'primitive', 'value': 'Binghamton University'}}]}, {'typeName': 'grantNumber', 'multiple': True, 'typeClass': 'compound', 'value': [{'grantNumberAgency': {'typeName': 'grantNumberAgency', 'multiple': False, 'typeClass': 'primitive', 'value': 'Political Instability Task Force / CIA'}}]}, {'typeName': 'depositor', 'multiple': False, 'typeClass': 'primitive', 'value': 'Clark, David'}, {'typeName': 'dateOfDeposit', 'multiple': False, 'typeClass': 'primitive', 'value': '2016-01-13'}, {'typeName': 'timePeriodCovered', 'multiple': True, 'typeClass': 'compound', 'value': [{'timePeriodCoveredStart': {'typeName': 'timePeriodCoveredStart', 'multiple': False, 'typeClass': 'primitive', 'value': '1990-01-01'}, 'timePeriodCoveredEnd': {'typeName': 'timePeriodCoveredEnd', 'multiple': False, 'typeClass': 'primitive', 'value': '2020-03-31'}}]}, {'typeName': 'kindOfData', 'multiple': True, 'typeClass': 'primitive', 'value': ['event']}]}}, 'files': [{'description': '.csv file, 1/1/1990-3/31/2020', 'label': 'mmALL_073120_csv.tab', 'restricted': False, 'version': 1, 'datasetVersionId': 334304, 'dataFile': {'id': 4291456, 'persistentId': '', 'filename': 'mmALL_073120_csv.tab', 'contentType': 'text/tab-separated-values', 'friendlyType': 'Tab-Delimited', 'filesize': 15625100, 'description': '.csv file, 1/1/1990-3/31/2020', 'storageIdentifier': 's3://dvn-cloud:176e7aa657e-abb48a689291', 'originalFileFormat': 'text/csv', 'originalFormatLabel': 'Comma Separated Values', 'originalFileSize': 15058276, 'originalFileName': 'mmALL_073120_csv.csv', 'UNF': 'UNF:6:Le3OAZozkadOWsrtX3Agyg==', 'rootDataFileId': -1, 'md5': 'e6fa8a2e9d120eff0167a788e8a3ea7f', 'checksum': {'type': 'MD5', 'value': 'e6fa8a2e9d120eff0167a788e8a3ea7f'}, 'tabularData': True, 'creationDate': '2021-01-09', 'publicationDate': '2021-01-09', 'fileAccessRequest': False}}, {'description': 'Stata v.16, 1/1/1990-3/31/2020', 'label': 'mmALL_073120_v16.tab', 'restricted': False, 'version': 1, 'datasetVersionId': 334304, 'dataFile': {'id': 4291457, 'persistentId': '', 'filename': 'mmALL_073120_v16.tab', 'contentType': 'text/tab-separated-values', 'friendlyType': 'Tab-Delimited', 'filesize': 15534152, 'description': 'Stata v.16, 1/1/1990-3/31/2020', 'storageIdentifier': 's3://dvn-cloud:176e7aaced9-3e212aa40cf8', 'originalFileFormat': 'application/x-stata-14', 'originalFormatLabel': 'Stata 14 Binary', 'originalFileSize': 30087054, 'originalFileName': 'mmALL_073120_v16.dta', 'UNF': 'UNF:6:JCX2DRzuyu2HdY2MphtajA==', 'rootDataFileId': -1, 'md5': '2dcd24ba46f8c4cd8556354ee75189a7', 'checksum': {'type': 'MD5', 'value': '2dcd24ba46f8c4cd8556354ee75189a7'}, 'tabularData': True, 'creationDate': '2021-01-09', 'publicationDate': '2021-01-09', 'fileAccessRequest': False}}, {'description': 'Codebook', 'label': 'MM_users_manual_0515.pdf', 'restricted': False, 'version': 1, 'datasetVersionId': 334304, 'dataFile': {'id': 2775560, 'persistentId': 'doi:10.7910/DVN/HTTWYL/TJJZNG', 'pidURL': 'https://doi.org/10.7910/DVN/HTTWYL/TJJZNG', 'filename': 'MM_users_manual_0515.pdf', 'contentType': 'application/pdf', 'friendlyType': 'Adobe PDF', 'filesize': 122934, 'description': 'Codebook', 'storageIdentifier': 's3://dvn-cloud:1523be84feb-a282faf51a08', 'rootDataFileId': -1, 'md5': 'efb7ca11ee0eadae9122b2b7cee08560', 'checksum': {'type': 'MD5', 'value': 'efb7ca11ee0eadae9122b2b7cee08560'}, 'tabularData': False, 'creationDate': '2016-01-13', 'publicationDate': '2016-01-13', 'fileAccessRequest': False}}]}}}\n"
     ]
    }
   ],
   "source": [
    "api_key = '4c3b9487-d25c-4fef-af63-1d6593eadc4a'\n",
    "dataset_doi = 'doi:10.7910/DVN/HTTWYL'\n",
    "metadata_url = f'https://dataverse.harvard.edu/api/datasets/:persistentId'\n",
    "params = {\n",
    "    'persistentId': dataset_doi\n",
    "}\n",
    "headers = {\n",
    "    'X-Dataverse-key': api_key\n",
    "}\n",
    "response = requests.get(metadata_url, headers=headers, params=params)\n",
    "print(response.json())"
   ]
  },
  {
   "cell_type": "code",
   "execution_count": null,
   "metadata": {},
   "outputs": [],
   "source": []
  }
 ],
 "metadata": {
  "kernelspec": {
   "display_name": "Python 3 (ipykernel)",
   "language": "python",
   "name": "python3"
  },
  "language_info": {
   "codemirror_mode": {
    "name": "ipython",
    "version": 3
   },
   "file_extension": ".py",
   "mimetype": "text/x-python",
   "name": "python",
   "nbconvert_exporter": "python",
   "pygments_lexer": "ipython3",
   "version": "3.11.9"
  }
 },
 "nbformat": 4,
 "nbformat_minor": 4
}
